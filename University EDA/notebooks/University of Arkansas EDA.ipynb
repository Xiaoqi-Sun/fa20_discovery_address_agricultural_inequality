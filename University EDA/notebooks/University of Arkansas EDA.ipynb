{
 "cells": [
  {
   "cell_type": "code",
   "execution_count": 19,
   "metadata": {},
   "outputs": [],
   "source": [
    "import pandas as pd\n",
    "import numpy as np\n",
    "import matplotlib.pyplot as plt\n",
    "import seaborn as sns\n",
    "%matplotlib inline\n"
   ]
  },
  {
   "cell_type": "code",
   "execution_count": 20,
   "metadata": {
    "scrolled": false
   },
   "outputs": [
    {
     "data": {
      "text/html": [
       "<div>\n",
       "<style scoped>\n",
       "    .dataframe tbody tr th:only-of-type {\n",
       "        vertical-align: middle;\n",
       "    }\n",
       "\n",
       "    .dataframe tbody tr th {\n",
       "        vertical-align: top;\n",
       "    }\n",
       "\n",
       "    .dataframe thead th {\n",
       "        text-align: right;\n",
       "    }\n",
       "</style>\n",
       "<table border=\"1\" class=\"dataframe\">\n",
       "  <thead>\n",
       "    <tr style=\"text-align: right;\">\n",
       "      <th></th>\n",
       "      <th>Department</th>\n",
       "      <th>Course Catalogue Number</th>\n",
       "      <th>Course Number</th>\n",
       "      <th>Description</th>\n",
       "      <th>Graduate/Undergraduate</th>\n",
       "      <th>Lab</th>\n",
       "      <th>Year</th>\n",
       "      <th>Keywords</th>\n",
       "    </tr>\n",
       "  </thead>\n",
       "  <tbody>\n",
       "    <tr>\n",
       "      <th>0</th>\n",
       "      <td>African and African American Studies (AAST)</td>\n",
       "      <td>b'4273'</td>\n",
       "      <td>b'AAST\\xc2\\xa04273  Comparative Slavery'</td>\n",
       "      <td>b'\\nExplores the meaning of slavery around the...</td>\n",
       "      <td>NaN</td>\n",
       "      <td>NaN</td>\n",
       "      <td>2019-2020</td>\n",
       "      <td>[' slavery ']</td>\n",
       "    </tr>\n",
       "    <tr>\n",
       "      <th>1</th>\n",
       "      <td>African and African American Studies (AAST)</td>\n",
       "      <td>b'4813'</td>\n",
       "      <td>b'AAST\\xc2\\xa04813  Africans and Slavery in Co...</td>\n",
       "      <td>b'\\nExplores the diverse experiences of slaves...</td>\n",
       "      <td>NaN</td>\n",
       "      <td>NaN</td>\n",
       "      <td>2019-2020</td>\n",
       "      <td>[' slavery ']</td>\n",
       "    </tr>\n",
       "    <tr>\n",
       "      <th>2</th>\n",
       "      <td>African and African American Studies (AAST)</td>\n",
       "      <td>b'4963'</td>\n",
       "      <td>b'AAST\\xc2\\xa04963  Third World Underdevelopme...</td>\n",
       "      <td>b'\\nExamines key issues related to societal ch...</td>\n",
       "      <td>NaN</td>\n",
       "      <td>NaN</td>\n",
       "      <td>2019-2020</td>\n",
       "      <td>['food']</td>\n",
       "    </tr>\n",
       "    <tr>\n",
       "      <th>3</th>\n",
       "      <td>Agricultural Economics (AGEC)</td>\n",
       "      <td>b'1103'</td>\n",
       "      <td>b'AGEC\\xc2\\xa01103  Principles of Agricultural...</td>\n",
       "      <td>b'\\nIntroduction to agricultural economics, in...</td>\n",
       "      <td>NaN</td>\n",
       "      <td>NaN</td>\n",
       "      <td>2019-2020</td>\n",
       "      <td>['agri']</td>\n",
       "    </tr>\n",
       "    <tr>\n",
       "      <th>4</th>\n",
       "      <td>Agricultural Economics (AGEC)</td>\n",
       "      <td>b'1103H'</td>\n",
       "      <td>b'AGEC\\xc2\\xa01103H  Honors Principles of Agri...</td>\n",
       "      <td>b'\\nIntroduction to agricultural economics, in...</td>\n",
       "      <td>NaN</td>\n",
       "      <td>NaN</td>\n",
       "      <td>2019-2020</td>\n",
       "      <td>['agri']</td>\n",
       "    </tr>\n",
       "    <tr>\n",
       "      <th>...</th>\n",
       "      <td>...</td>\n",
       "      <td>...</td>\n",
       "      <td>...</td>\n",
       "      <td>...</td>\n",
       "      <td>...</td>\n",
       "      <td>...</td>\n",
       "      <td>...</td>\n",
       "      <td>...</td>\n",
       "    </tr>\n",
       "    <tr>\n",
       "      <th>3599</th>\n",
       "      <td>Sustainability (SUST)</td>\n",
       "      <td>b'5303'</td>\n",
       "      <td>b'SUST\\xc2\\xa05303  Sustainable Global Food, E...</td>\n",
       "      <td>b'\\nProvides a detailed review of the existing...</td>\n",
       "      <td>NaN</td>\n",
       "      <td>NaN</td>\n",
       "      <td>2016-2017</td>\n",
       "      <td>['agri', 'food']</td>\n",
       "    </tr>\n",
       "    <tr>\n",
       "      <th>3600</th>\n",
       "      <td>Theatre (THTR)</td>\n",
       "      <td>b'4953'</td>\n",
       "      <td>b'THTR\\xc2\\xa04953  Theatre Study in Britain'</td>\n",
       "      <td>b'\\nStudy of the components of stage productio...</td>\n",
       "      <td>NaN</td>\n",
       "      <td>NaN</td>\n",
       "      <td>2016-2017</td>\n",
       "      <td>['land']</td>\n",
       "    </tr>\n",
       "    <tr>\n",
       "      <th>3601</th>\n",
       "      <td>Theatre (THTR)</td>\n",
       "      <td>b'5953'</td>\n",
       "      <td>b'THTR\\xc2\\xa05953  Theatre Study in Britain'</td>\n",
       "      <td>b'\\n(Formerly THTR\\xc2\\xa04953.) Study of the ...</td>\n",
       "      <td>NaN</td>\n",
       "      <td>NaN</td>\n",
       "      <td>2016-2017</td>\n",
       "      <td>['land']</td>\n",
       "    </tr>\n",
       "    <tr>\n",
       "      <th>3602</th>\n",
       "      <td>Walton College of Business (WCOB)</td>\n",
       "      <td>b'3023'</td>\n",
       "      <td>b'WCOB\\xc2\\xa03023  Sustainability in Business'</td>\n",
       "      <td>b'\\nThe course focuses on theoretical and prac...</td>\n",
       "      <td>NaN</td>\n",
       "      <td>NaN</td>\n",
       "      <td>2016-2017</td>\n",
       "      <td>['land']</td>\n",
       "    </tr>\n",
       "    <tr>\n",
       "      <th>3603</th>\n",
       "      <td>World Languages, Literatures and Cultures (WLLC)</td>\n",
       "      <td>b'3053'</td>\n",
       "      <td>b'WLLC\\xc2\\xa03053  The Colonial French in the...</td>\n",
       "      <td>b'\\nThis course focuses on the French Colonial...</td>\n",
       "      <td>NaN</td>\n",
       "      <td>NaN</td>\n",
       "      <td>2016-2017</td>\n",
       "      <td>[' subsistence ']</td>\n",
       "    </tr>\n",
       "  </tbody>\n",
       "</table>\n",
       "<p>3604 rows × 8 columns</p>\n",
       "</div>"
      ],
      "text/plain": [
       "                                            Department  \\\n",
       "0          African and African American Studies (AAST)   \n",
       "1          African and African American Studies (AAST)   \n",
       "2          African and African American Studies (AAST)   \n",
       "3                        Agricultural Economics (AGEC)   \n",
       "4                        Agricultural Economics (AGEC)   \n",
       "...                                                ...   \n",
       "3599                             Sustainability (SUST)   \n",
       "3600                                    Theatre (THTR)   \n",
       "3601                                    Theatre (THTR)   \n",
       "3602                 Walton College of Business (WCOB)   \n",
       "3603  World Languages, Literatures and Cultures (WLLC)   \n",
       "\n",
       "     Course Catalogue Number  \\\n",
       "0                    b'4273'   \n",
       "1                    b'4813'   \n",
       "2                    b'4963'   \n",
       "3                    b'1103'   \n",
       "4                   b'1103H'   \n",
       "...                      ...   \n",
       "3599                 b'5303'   \n",
       "3600                 b'4953'   \n",
       "3601                 b'5953'   \n",
       "3602                 b'3023'   \n",
       "3603                 b'3053'   \n",
       "\n",
       "                                          Course Number  \\\n",
       "0              b'AAST\\xc2\\xa04273  Comparative Slavery'   \n",
       "1     b'AAST\\xc2\\xa04813  Africans and Slavery in Co...   \n",
       "2     b'AAST\\xc2\\xa04963  Third World Underdevelopme...   \n",
       "3     b'AGEC\\xc2\\xa01103  Principles of Agricultural...   \n",
       "4     b'AGEC\\xc2\\xa01103H  Honors Principles of Agri...   \n",
       "...                                                 ...   \n",
       "3599  b'SUST\\xc2\\xa05303  Sustainable Global Food, E...   \n",
       "3600      b'THTR\\xc2\\xa04953  Theatre Study in Britain'   \n",
       "3601      b'THTR\\xc2\\xa05953  Theatre Study in Britain'   \n",
       "3602    b'WCOB\\xc2\\xa03023  Sustainability in Business'   \n",
       "3603  b'WLLC\\xc2\\xa03053  The Colonial French in the...   \n",
       "\n",
       "                                            Description  \\\n",
       "0     b'\\nExplores the meaning of slavery around the...   \n",
       "1     b'\\nExplores the diverse experiences of slaves...   \n",
       "2     b'\\nExamines key issues related to societal ch...   \n",
       "3     b'\\nIntroduction to agricultural economics, in...   \n",
       "4     b'\\nIntroduction to agricultural economics, in...   \n",
       "...                                                 ...   \n",
       "3599  b'\\nProvides a detailed review of the existing...   \n",
       "3600  b'\\nStudy of the components of stage productio...   \n",
       "3601  b'\\n(Formerly THTR\\xc2\\xa04953.) Study of the ...   \n",
       "3602  b'\\nThe course focuses on theoretical and prac...   \n",
       "3603  b'\\nThis course focuses on the French Colonial...   \n",
       "\n",
       "      Graduate/Undergraduate  Lab       Year           Keywords  \n",
       "0                        NaN  NaN  2019-2020      [' slavery ']  \n",
       "1                        NaN  NaN  2019-2020      [' slavery ']  \n",
       "2                        NaN  NaN  2019-2020           ['food']  \n",
       "3                        NaN  NaN  2019-2020           ['agri']  \n",
       "4                        NaN  NaN  2019-2020           ['agri']  \n",
       "...                      ...  ...        ...                ...  \n",
       "3599                     NaN  NaN  2016-2017   ['agri', 'food']  \n",
       "3600                     NaN  NaN  2016-2017           ['land']  \n",
       "3601                     NaN  NaN  2016-2017           ['land']  \n",
       "3602                     NaN  NaN  2016-2017           ['land']  \n",
       "3603                     NaN  NaN  2016-2017  [' subsistence ']  \n",
       "\n",
       "[3604 rows x 8 columns]"
      ]
     },
     "execution_count": 20,
     "metadata": {},
     "output_type": "execute_result"
    }
   ],
   "source": [
    "data = pd.read_csv('University_of_Arkansas_Courses_2016-2020.csv')\n",
    "data"
   ]
  },
  {
   "cell_type": "code",
   "execution_count": 21,
   "metadata": {},
   "outputs": [],
   "source": [
    "data['Keywords'] = data['Keywords'].apply(lambda x: x[1:-1].split(', '))\n",
    "clean_data = data.explode('Keywords')"
   ]
  },
  {
   "cell_type": "code",
   "execution_count": 22,
   "metadata": {},
   "outputs": [
    {
     "data": {
      "text/html": [
       "<div>\n",
       "<style scoped>\n",
       "    .dataframe tbody tr th:only-of-type {\n",
       "        vertical-align: middle;\n",
       "    }\n",
       "\n",
       "    .dataframe tbody tr th {\n",
       "        vertical-align: top;\n",
       "    }\n",
       "\n",
       "    .dataframe thead th {\n",
       "        text-align: right;\n",
       "    }\n",
       "</style>\n",
       "<table border=\"1\" class=\"dataframe\">\n",
       "  <thead>\n",
       "    <tr style=\"text-align: right;\">\n",
       "      <th></th>\n",
       "      <th>Keywords</th>\n",
       "    </tr>\n",
       "  </thead>\n",
       "  <tbody>\n",
       "    <tr>\n",
       "      <th>'agri'</th>\n",
       "      <td>720</td>\n",
       "    </tr>\n",
       "    <tr>\n",
       "      <th>'land'</th>\n",
       "      <td>604</td>\n",
       "    </tr>\n",
       "    <tr>\n",
       "      <th>'food'</th>\n",
       "      <td>592</td>\n",
       "    </tr>\n",
       "    <tr>\n",
       "      <th>' animal'</th>\n",
       "      <td>464</td>\n",
       "    </tr>\n",
       "    <tr>\n",
       "      <th>' nutri'</th>\n",
       "      <td>343</td>\n",
       "    </tr>\n",
       "  </tbody>\n",
       "</table>\n",
       "</div>"
      ],
      "text/plain": [
       "           Keywords\n",
       "'agri'          720\n",
       "'land'          604\n",
       "'food'          592\n",
       "' animal'       464\n",
       "' nutri'        343"
      ]
     },
     "execution_count": 22,
     "metadata": {},
     "output_type": "execute_result"
    }
   ],
   "source": [
    "# frequency of top 50 keywords\n",
    "frequency_top50 = clean_data['Keywords'].value_counts().to_frame().head(50)\n",
    "frequency_top50.head()"
   ]
  },
  {
   "cell_type": "code",
   "execution_count": 23,
   "metadata": {},
   "outputs": [
    {
     "data": {
      "text/html": [
       "<div>\n",
       "<style scoped>\n",
       "    .dataframe tbody tr th:only-of-type {\n",
       "        vertical-align: middle;\n",
       "    }\n",
       "\n",
       "    .dataframe tbody tr th {\n",
       "        vertical-align: top;\n",
       "    }\n",
       "\n",
       "    .dataframe thead th {\n",
       "        text-align: right;\n",
       "    }\n",
       "</style>\n",
       "<table border=\"1\" class=\"dataframe\">\n",
       "  <thead>\n",
       "    <tr style=\"text-align: right;\">\n",
       "      <th></th>\n",
       "      <th></th>\n",
       "      <th>Count</th>\n",
       "    </tr>\n",
       "    <tr>\n",
       "      <th>Department</th>\n",
       "      <th>Keywords</th>\n",
       "      <th></th>\n",
       "    </tr>\n",
       "  </thead>\n",
       "  <tbody>\n",
       "    <tr>\n",
       "      <th rowspan=\"2\" valign=\"top\">African and African American Studies (AAST)</th>\n",
       "      <th>' slavery '</th>\n",
       "      <td>8</td>\n",
       "    </tr>\n",
       "    <tr>\n",
       "      <th>'food'</th>\n",
       "      <td>4</td>\n",
       "    </tr>\n",
       "    <tr>\n",
       "      <th rowspan=\"3\" valign=\"top\">Agricultural Economics (AGEC)</th>\n",
       "      <th>' animal'</th>\n",
       "      <td>4</td>\n",
       "    </tr>\n",
       "    <tr>\n",
       "      <th>' fiber'</th>\n",
       "      <td>12</td>\n",
       "    </tr>\n",
       "    <tr>\n",
       "      <th>' nutri'</th>\n",
       "      <td>8</td>\n",
       "    </tr>\n",
       "  </tbody>\n",
       "</table>\n",
       "</div>"
      ],
      "text/plain": [
       "                                                         Count\n",
       "Department                                  Keywords          \n",
       "African and African American Studies (AAST) ' slavery '      8\n",
       "                                            'food'           4\n",
       "Agricultural Economics (AGEC)               ' animal'        4\n",
       "                                            ' fiber'        12\n",
       "                                            ' nutri'         8"
      ]
     },
     "execution_count": 23,
     "metadata": {},
     "output_type": "execute_result"
    }
   ],
   "source": [
    "# frequency of top 50 keywords in each department\n",
    "by_department = clean_data[clean_data['Keywords'].isin(frequency_top50.index)].groupby(['Department','Keywords']).count()\n",
    "frequency_in_department = by_department.loc[:,['Course Catalogue Number']].rename(columns={'Course Catalogue Number':'Count'})\n",
    "frequency_in_department.head()"
   ]
  },
  {
   "cell_type": "code",
   "execution_count": 24,
   "metadata": {
    "scrolled": false
   },
   "outputs": [
    {
     "data": {
      "text/html": [
       "<div>\n",
       "<style scoped>\n",
       "    .dataframe tbody tr th:only-of-type {\n",
       "        vertical-align: middle;\n",
       "    }\n",
       "\n",
       "    .dataframe tbody tr th {\n",
       "        vertical-align: top;\n",
       "    }\n",
       "\n",
       "    .dataframe thead th {\n",
       "        text-align: right;\n",
       "    }\n",
       "</style>\n",
       "<table border=\"1\" class=\"dataframe\">\n",
       "  <thead>\n",
       "    <tr style=\"text-align: right;\">\n",
       "      <th></th>\n",
       "      <th>Keywords</th>\n",
       "      <th>Count</th>\n",
       "    </tr>\n",
       "    <tr>\n",
       "      <th>Department</th>\n",
       "      <th></th>\n",
       "      <th></th>\n",
       "    </tr>\n",
       "  </thead>\n",
       "  <tbody>\n",
       "    <tr>\n",
       "      <th>African and African American Studies (AAST)</th>\n",
       "      <td>' slavery '</td>\n",
       "      <td>8</td>\n",
       "    </tr>\n",
       "    <tr>\n",
       "      <th>Agricultural Economics (AGEC)</th>\n",
       "      <td>'agri'</td>\n",
       "      <td>196</td>\n",
       "    </tr>\n",
       "    <tr>\n",
       "      <th>Agricultural Education (AGED)</th>\n",
       "      <td>'agri'</td>\n",
       "      <td>80</td>\n",
       "    </tr>\n",
       "    <tr>\n",
       "      <th>Agricultural Mechanization (AGME)</th>\n",
       "      <td>'agri'</td>\n",
       "      <td>44</td>\n",
       "    </tr>\n",
       "    <tr>\n",
       "      <th>Agricultural Statistics (AGST)</th>\n",
       "      <td>'agri'</td>\n",
       "      <td>20</td>\n",
       "    </tr>\n",
       "    <tr>\n",
       "      <th>...</th>\n",
       "      <td>...</td>\n",
       "      <td>...</td>\n",
       "    </tr>\n",
       "    <tr>\n",
       "      <th>Sociology (SOCI)</th>\n",
       "      <td>'land'</td>\n",
       "      <td>8</td>\n",
       "    </tr>\n",
       "    <tr>\n",
       "      <th>Sustainability (SUST)</th>\n",
       "      <td>'agri'</td>\n",
       "      <td>12</td>\n",
       "    </tr>\n",
       "    <tr>\n",
       "      <th>Theatre (THTR)</th>\n",
       "      <td>'land'</td>\n",
       "      <td>8</td>\n",
       "    </tr>\n",
       "    <tr>\n",
       "      <th>Walton College of Business (WCOB)</th>\n",
       "      <td>'land'</td>\n",
       "      <td>4</td>\n",
       "    </tr>\n",
       "    <tr>\n",
       "      <th>World Languages, Literatures and Cultures (WLLC)</th>\n",
       "      <td>' subsistence '</td>\n",
       "      <td>4</td>\n",
       "    </tr>\n",
       "  </tbody>\n",
       "</table>\n",
       "<p>78 rows × 2 columns</p>\n",
       "</div>"
      ],
      "text/plain": [
       "                                                         Keywords  Count\n",
       "Department                                                              \n",
       "African and African American Studies (AAST)           ' slavery '      8\n",
       "Agricultural Economics (AGEC)                              'agri'    196\n",
       "Agricultural Education (AGED)                              'agri'     80\n",
       "Agricultural Mechanization (AGME)                          'agri'     44\n",
       "Agricultural Statistics (AGST)                             'agri'     20\n",
       "...                                                           ...    ...\n",
       "Sociology (SOCI)                                           'land'      8\n",
       "Sustainability (SUST)                                      'agri'     12\n",
       "Theatre (THTR)                                             'land'      8\n",
       "Walton College of Business (WCOB)                          'land'      4\n",
       "World Languages, Literatures and Cultures (WLLC)  ' subsistence '      4\n",
       "\n",
       "[78 rows x 2 columns]"
      ]
     },
     "execution_count": 24,
     "metadata": {},
     "output_type": "execute_result"
    }
   ],
   "source": [
    "# top keyword in each department\n",
    "by_department_fullkeywords = clean_data.groupby(['Department','Keywords']).count().loc[:,['Course Catalogue Number']].rename(columns={'Course Catalogue Number':'Count'})\n",
    "by_department_fullkeywords_reset = by_department_fullkeywords.reset_index()\n",
    "top_word_in_dept = by_department_fullkeywords_reset.sort_values('Count').groupby('Department').last()\n",
    "top_word_in_dept"
   ]
  },
  {
   "cell_type": "code",
   "execution_count": 25,
   "metadata": {},
   "outputs": [
    {
     "data": {
      "text/html": [
       "<div>\n",
       "<style scoped>\n",
       "    .dataframe tbody tr th:only-of-type {\n",
       "        vertical-align: middle;\n",
       "    }\n",
       "\n",
       "    .dataframe tbody tr th {\n",
       "        vertical-align: top;\n",
       "    }\n",
       "\n",
       "    .dataframe thead th {\n",
       "        text-align: right;\n",
       "    }\n",
       "</style>\n",
       "<table border=\"1\" class=\"dataframe\">\n",
       "  <thead>\n",
       "    <tr style=\"text-align: right;\">\n",
       "      <th></th>\n",
       "      <th>Count</th>\n",
       "    </tr>\n",
       "    <tr>\n",
       "      <th>Department</th>\n",
       "      <th></th>\n",
       "    </tr>\n",
       "  </thead>\n",
       "  <tbody>\n",
       "    <tr>\n",
       "      <th>Animal Science (ANSC)</th>\n",
       "      <td>840</td>\n",
       "    </tr>\n",
       "    <tr>\n",
       "      <th>Horticulture (HORT)</th>\n",
       "      <td>604</td>\n",
       "    </tr>\n",
       "    <tr>\n",
       "      <th>Poultry Science (POSC)</th>\n",
       "      <td>492</td>\n",
       "    </tr>\n",
       "  </tbody>\n",
       "</table>\n",
       "</div>"
      ],
      "text/plain": [
       "                        Count\n",
       "Department                   \n",
       "Animal Science (ANSC)     840\n",
       "Horticulture (HORT)       604\n",
       "Poultry Science (POSC)    492"
      ]
     },
     "execution_count": 25,
     "metadata": {},
     "output_type": "execute_result"
    }
   ],
   "source": [
    "#distribution of top 10 \n",
    "top3_department = by_department_fullkeywords_reset.groupby('Department').sum().sort_values('Count',ascending=False).head(3)\n",
    "top3_department"
   ]
  },
  {
   "cell_type": "code",
   "execution_count": 26,
   "metadata": {},
   "outputs": [
    {
     "data": {
      "text/plain": [
       "Index(['Animal Science (ANSC)', 'Horticulture (HORT)',\n",
       "       'Poultry Science (POSC)'],\n",
       "      dtype='object', name='Department')"
      ]
     },
     "execution_count": 26,
     "metadata": {},
     "output_type": "execute_result"
    }
   ],
   "source": [
    "top3_dept_name = top3_department.index\n",
    "top3_dept_name"
   ]
  },
  {
   "cell_type": "code",
   "execution_count": 28,
   "metadata": {},
   "outputs": [],
   "source": [
    "with pd.ExcelWriter('University_of_Arkansas_EDA.xlsx') as writer:\n",
    "    frequency_top50.to_excel(writer, sheet_name='Top 50 keywords')\n",
    "    frequency_in_department.to_excel(writer, sheet_name='Frequency for each Department')\n",
    "    top_word_in_dept.to_excel(writer, sheet_name='Top keyword in Department')\n",
    "    top3_department.to_excel(writer, sheet_name='Top 3 Departments')"
   ]
  },
  {
   "cell_type": "code",
   "execution_count": 16,
   "metadata": {},
   "outputs": [
    {
     "data": {
      "text/plain": [
       "Text(0.5, 1.0, 'Animal Science (ANSC)')"
      ]
     },
     "execution_count": 16,
     "metadata": {},
     "output_type": "execute_result"
    },
    {
     "data": {
      "image/png": "[encoded data removed]",
      "text/plain": [
       "<Figure size 1440x720 with 1 Axes>"
      ]
     },
     "metadata": {
      "needs_background": "light"
     },
     "output_type": "display_data"
    }
   ],
   "source": [
    "# ANSI\n",
    "plt.figure(figsize=(20,10))\n",
    "ANSI = by_department_fullkeywords_reset[by_department_fullkeywords_reset['Department']==top3_dept_name[0]].sort_values('Count',ascending=False).head(5)\n",
    "sns.barplot(x='Keywords',y='Count' ,data=ANSI)\n",
    "plt.title(top3_dept_name[0])"
   ]
  },
  {
   "cell_type": "code",
   "execution_count": 17,
   "metadata": {},
   "outputs": [
    {
     "data": {
      "text/plain": [
       "Text(0.5, 1.0, 'Horticulture (HORT)')"
      ]
     },
     "execution_count": 17,
     "metadata": {},
     "output_type": "execute_result"
    },
    {
     "data": {
      "image/png": "[encoded data removed]",
      "text/plain": [
       "<Figure size 1440x720 with 1 Axes>"
      ]
     },
     "metadata": {
      "needs_background": "light"
     },
     "output_type": "display_data"
    }
   ],
   "source": [
    "# NSCI\n",
    "plt.figure(figsize=(20,10))\n",
    "ANSI = by_department_fullkeywords_reset[by_department_fullkeywords_reset['Department']==top3_dept_name[1]].sort_values('Count',ascending=False).head(5)\n",
    "sns.barplot(x='Keywords',y='Count' ,data=ANSI)\n",
    "plt.title(top3_dept_name[1])"
   ]
  },
  {
   "cell_type": "code",
   "execution_count": 18,
   "metadata": {},
   "outputs": [
    {
     "data": {
      "text/plain": [
       "Text(0.5, 1.0, 'Poultry Science (POSC)')"
      ]
     },
     "execution_count": 18,
     "metadata": {},
     "output_type": "execute_result"
    },
    {
     "data": {
      "image/png": "[encoded data removed]",
      "text/plain": [
       "<Figure size 1440x720 with 1 Axes>"
      ]
     },
     "metadata": {
      "needs_background": "light"
     },
     "output_type": "display_data"
    }
   ],
   "source": [
    "\n",
    "# NREM\n",
    "plt.figure(figsize=(20,10))\n",
    "ANSI = by_department_fullkeywords_reset[by_department_fullkeywords_reset['Department']==top3_dept_name[2]].sort_values('Count',ascending=False).head(5)\n",
    "sns.barplot(x='Keywords',y='Count' ,data=ANSI)\n",
    "plt.title(top3_dept_name[2])"
   ]
  },
  {
   "cell_type": "code",
   "execution_count": null,
   "metadata": {},
   "outputs": [],
   "source": []
  }
 ],
 "metadata": {
  "history": [
   {
    "code": "import Pandas as pd\nimport Numpy as np",
    "id": "0f56f3c3567f4dc49e9ba9e6e31cba7c",
    "idx": 0,
    "time": "2020-11-14T22:22:10.382Z",
    "type": "execution"
   },
   {
    "id": "0f56f3c3567f4dc49e9ba9e6e31cba7c",
    "time": "2020-11-14T22:22:10.501Z",
    "type": "completion"
   },
   {
    "code": "import pandas as pd\nimport Numpy as np",
    "id": "0f56f3c3567f4dc49e9ba9e6e31cba7c",
    "idx": 0,
    "time": "2020-11-14T22:22:13.384Z",
    "type": "execution"
   },
   {
    "id": "0f56f3c3567f4dc49e9ba9e6e31cba7c",
    "time": "2020-11-14T22:22:13.833Z",
    "type": "completion"
   },
   {
    "code": "import pandas as pd\nimport numpy as np",
    "id": "0f56f3c3567f4dc49e9ba9e6e31cba7c",
    "idx": 0,
    "time": "2020-11-14T22:22:16.714Z",
    "type": "execution"
   },
   {
    "id": "0f56f3c3567f4dc49e9ba9e6e31cba7c",
    "time": "2020-11-14T22:22:16.776Z",
    "type": "completion"
   },
   {
    "code": "pd.read_csv('Oklahoma_State_University Courses 2017-21 Webscraped(with keyword).csv')",
    "id": "5e84dbae4ee44db289e0dee6277ad98e",
    "idx": 1,
    "time": "2020-11-14T22:22:24.831Z",
    "type": "execution"
   },
   {
    "id": "5e84dbae4ee44db289e0dee6277ad98e",
    "time": "2020-11-14T22:22:25.127Z",
    "type": "completion"
   },
   {
    "code": "data = pd.read_csv('Oklahoma_State_University 2017-21 Webscraped.csv')",
    "id": "5e84dbae4ee44db289e0dee6277ad98e",
    "idx": 1,
    "time": "2020-11-14T22:23:49.960Z",
    "type": "execution"
   },
   {
    "id": "5e84dbae4ee44db289e0dee6277ad98e",
    "time": "2020-11-14T22:23:50.072Z",
    "type": "completion"
   },
   {
    "code": "data = pd.read_csv('Oklahoma_State_University 2017-21 Webscraped.csv')\ndata",
    "id": "5e84dbae4ee44db289e0dee6277ad98e",
    "idx": 1,
    "time": "2020-11-14T22:23:52.964Z",
    "type": "execution"
   },
   {
    "id": "5e84dbae4ee44db289e0dee6277ad98e",
    "time": "2020-11-14T22:23:53.101Z",
    "type": "completion"
   },
   {
    "code": "data.explode('Keyword')",
    "id": "a5e7a5439d804d788376e8e70ef2cb7e",
    "idx": 2,
    "time": "2020-11-14T22:24:18.783Z",
    "type": "execution"
   },
   {
    "id": "a5e7a5439d804d788376e8e70ef2cb7e",
    "time": "2020-11-14T22:24:18.949Z",
    "type": "completion"
   },
   {
    "code": "more_than_one = data['Keyword'].apply(lambda x: 1 if len(x))",
    "id": "a74ad49f882c46088fa4efa9834908bb",
    "idx": 2,
    "time": "2020-11-14T22:26:10.928Z",
    "type": "execution"
   },
   {
    "id": "a74ad49f882c46088fa4efa9834908bb",
    "time": "2020-11-14T22:26:11.013Z",
    "type": "completion"
   },
   {
    "code": "more_than_one = data['Keyword'].apply(lambda x: 1 if len(x)>1)",
    "id": "a74ad49f882c46088fa4efa9834908bb",
    "idx": 2,
    "time": "2020-11-14T22:26:30.505Z",
    "type": "execution"
   },
   {
    "id": "a74ad49f882c46088fa4efa9834908bb",
    "time": "2020-11-14T22:26:30.761Z",
    "type": "completion"
   },
   {
    "code": "def f(x):\n    if len(x) > 1:\n        return 1\n    else:\n        return 0\n\n\nmore_than_one = data['Keyword'].apply(f)",
    "id": "a74ad49f882c46088fa4efa9834908bb",
    "idx": 2,
    "time": "2020-11-14T22:27:24.348Z",
    "type": "execution"
   },
   {
    "id": "a74ad49f882c46088fa4efa9834908bb",
    "time": "2020-11-14T22:27:24.424Z",
    "type": "completion"
   },
   {
    "code": "more_than_one",
    "id": "cf48b7362a9c420d88e4a626294190f9",
    "idx": 3,
    "time": "2020-11-14T22:27:28.405Z",
    "type": "execution"
   },
   {
    "id": "cf48b7362a9c420d88e4a626294190f9",
    "time": "2020-11-14T22:27:28.470Z",
    "type": "completion"
   },
   {
    "code": "data['Keyword'].loc[:,'Keyword']",
    "id": "cf48b7362a9c420d88e4a626294190f9",
    "idx": 2,
    "time": "2020-11-14T22:28:49.214Z",
    "type": "execution"
   },
   {
    "id": "cf48b7362a9c420d88e4a626294190f9",
    "time": "2020-11-14T22:28:49.339Z",
    "type": "completion"
   },
   {
    "code": "data.loc[:,'Keyword']",
    "id": "cf48b7362a9c420d88e4a626294190f9",
    "idx": 2,
    "time": "2020-11-14T22:28:57.480Z",
    "type": "execution"
   },
   {
    "id": "cf48b7362a9c420d88e4a626294190f9",
    "time": "2020-11-14T22:28:57.545Z",
    "type": "completion"
   },
   {
    "code": "data.loc[:,'Keyword'][0]",
    "id": "cf48b7362a9c420d88e4a626294190f9",
    "idx": 2,
    "time": "2020-11-14T22:29:05.106Z",
    "type": "execution"
   },
   {
    "id": "cf48b7362a9c420d88e4a626294190f9",
    "time": "2020-11-14T22:29:05.170Z",
    "type": "completion"
   },
   {
    "code": "type(data.loc[:,'Keyword'][0])",
    "id": "cf48b7362a9c420d88e4a626294190f9",
    "idx": 2,
    "time": "2020-11-14T22:29:10.375Z",
    "type": "execution"
   },
   {
    "id": "cf48b7362a9c420d88e4a626294190f9",
    "time": "2020-11-14T22:29:10.452Z",
    "type": "completion"
   },
   {
    "code": "data['Keyword'].apply(str.split(','))",
    "id": "cf48b7362a9c420d88e4a626294190f9",
    "idx": 2,
    "time": "2020-11-14T22:30:09.411Z",
    "type": "execution"
   },
   {
    "id": "cf48b7362a9c420d88e4a626294190f9",
    "time": "2020-11-14T22:30:09.738Z",
    "type": "completion"
   },
   {
    "code": "data['Keyword'].apply(lambda x: x.split(','))",
    "id": "cf48b7362a9c420d88e4a626294190f9",
    "idx": 2,
    "time": "2020-11-14T22:30:34.833Z",
    "type": "execution"
   },
   {
    "id": "cf48b7362a9c420d88e4a626294190f9",
    "time": "2020-11-14T22:30:34.906Z",
    "type": "completion"
   },
   {
    "code": "data['Keyword'].apply(lambda x: x[1:-1])",
    "id": "cf48b7362a9c420d88e4a626294190f9",
    "idx": 2,
    "time": "2020-11-14T22:31:08.472Z",
    "type": "execution"
   },
   {
    "id": "cf48b7362a9c420d88e4a626294190f9",
    "time": "2020-11-14T22:31:08.539Z",
    "type": "completion"
   },
   {
    "code": "data['Keyword'].apply(lambda x: x[1:-1].split(','))",
    "id": "cf48b7362a9c420d88e4a626294190f9",
    "idx": 2,
    "time": "2020-11-14T22:31:17.126Z",
    "type": "execution"
   },
   {
    "id": "cf48b7362a9c420d88e4a626294190f9",
    "time": "2020-11-14T22:31:17.255Z",
    "type": "completion"
   },
   {
    "code": "data['Keyword'] = data['Keyword'].apply(lambda x: x[1:-1].split(','))\ndata",
    "id": "cf48b7362a9c420d88e4a626294190f9",
    "idx": 3,
    "time": "2020-11-14T22:32:26.216Z",
    "type": "execution"
   },
   {
    "id": "cf48b7362a9c420d88e4a626294190f9",
    "time": "2020-11-14T22:32:26.316Z",
    "type": "completion"
   },
   {
    "code": "data.explode('Keyword')",
    "id": "c141f214e226400e956ffd2a3ca64057",
    "idx": 5,
    "time": "2020-11-14T22:32:47.344Z",
    "type": "execution"
   },
   {
    "id": "c141f214e226400e956ffd2a3ca64057",
    "time": "2020-11-14T22:32:47.465Z",
    "type": "completion"
   },
   {
    "code": "clean_data = data.explode('Keyword')",
    "id": "c141f214e226400e956ffd2a3ca64057",
    "idx": 5,
    "time": "2020-11-14T22:33:54.497Z",
    "type": "execution"
   },
   {
    "id": "c141f214e226400e956ffd2a3ca64057",
    "time": "2020-11-14T22:33:54.589Z",
    "type": "completion"
   },
   {
    "code": "clean_data.groupby('Keyword').count()",
    "id": "7d9dcf6a397543fc8859929e65f4ea42",
    "idx": 6,
    "time": "2020-11-14T22:34:27.304Z",
    "type": "execution"
   },
   {
    "id": "7d9dcf6a397543fc8859929e65f4ea42",
    "time": "2020-11-14T22:34:27.395Z",
    "type": "completion"
   },
   {
    "code": "clean_data['Keyword'].value_counts()",
    "id": "04b62fd5347245998e9a7806ef81fed0",
    "idx": 6,
    "time": "2020-11-14T22:35:18.694Z",
    "type": "execution"
   },
   {
    "id": "04b62fd5347245998e9a7806ef81fed0",
    "time": "2020-11-14T22:35:18.837Z",
    "type": "completion"
   },
   {
    "code": "clean_data['Keyword'].value_counts().to_frame()",
    "id": "04b62fd5347245998e9a7806ef81fed0",
    "idx": 6,
    "time": "2020-11-14T22:35:29.030Z",
    "type": "execution"
   },
   {
    "id": "04b62fd5347245998e9a7806ef81fed0",
    "time": "2020-11-14T22:35:29.115Z",
    "type": "completion"
   },
   {
    "code": "clean_data.groupby(['Department Name','Keyword']).count()",
    "id": "7d9dcf6a397543fc8859929e65f4ea42",
    "idx": 7,
    "time": "2020-11-14T22:39:24.600Z",
    "type": "execution"
   },
   {
    "id": "7d9dcf6a397543fc8859929e65f4ea42",
    "time": "2020-11-14T22:39:24.741Z",
    "type": "completion"
   },
   {
    "code": "clean_data[clean_data['Keyword'].isin(frequency_top50.index)].groupby(['Department Name','Keyword']).count()",
    "id": "7d9dcf6a397543fc8859929e65f4ea42",
    "idx": 7,
    "time": "2020-11-14T22:40:12.814Z",
    "type": "execution"
   },
   {
    "id": "7d9dcf6a397543fc8859929e65f4ea42",
    "time": "2020-11-14T22:40:12.941Z",
    "type": "completion"
   },
   {
    "code": "# frequency of top 50 keywords\nfrequency_top50 = clean_data['Keyword'].value_counts().to_frame().head(50)",
    "id": "04b62fd5347245998e9a7806ef81fed0",
    "idx": 6,
    "time": "2020-11-14T22:40:16.427Z",
    "type": "execution"
   },
   {
    "id": "04b62fd5347245998e9a7806ef81fed0",
    "time": "2020-11-14T22:40:16.726Z",
    "type": "completion"
   },
   {
    "code": "clean_data[clean_data['Keyword'].isin(frequency_top50.index)].groupby(['Department Name','Keyword']).count()",
    "id": "7d9dcf6a397543fc8859929e65f4ea42",
    "idx": 7,
    "time": "2020-11-14T22:40:19.742Z",
    "type": "execution"
   },
   {
    "id": "7d9dcf6a397543fc8859929e65f4ea42",
    "time": "2020-11-14T22:40:19.914Z",
    "type": "completion"
   },
   {
    "code": "clean_data[clean_data['Keyword'].isin(frequency_top50.index)]['Course Name'].groupby(['Department Name','Keyword']).count()",
    "id": "7d9dcf6a397543fc8859929e65f4ea42",
    "idx": 7,
    "time": "2020-11-14T22:40:49.128Z",
    "type": "execution"
   },
   {
    "id": "7d9dcf6a397543fc8859929e65f4ea42",
    "time": "2020-11-14T22:40:49.343Z",
    "type": "completion"
   },
   {
    "code": "clean_data[clean_data['Keyword'].isin(frequency_top50.index)].groupby(['Department Name','Keyword']).count().iloc[:,[['Course Name']]]",
    "id": "7d9dcf6a397543fc8859929e65f4ea42",
    "idx": 7,
    "time": "2020-11-14T22:41:12.342Z",
    "type": "execution"
   },
   {
    "id": "7d9dcf6a397543fc8859929e65f4ea42",
    "time": "2020-11-14T22:41:12.486Z",
    "type": "completion"
   },
   {
    "code": "clean_data[clean_data['Keyword'].isin(frequency_top50.index)].groupby(['Department Name','Keyword']).count().loc[:,[['Course Name']]]",
    "id": "7d9dcf6a397543fc8859929e65f4ea42",
    "idx": 7,
    "time": "2020-11-14T22:41:16.939Z",
    "type": "execution"
   },
   {
    "id": "7d9dcf6a397543fc8859929e65f4ea42",
    "time": "2020-11-14T22:41:17.160Z",
    "type": "completion"
   },
   {
    "code": "clean_data[clean_data['Keyword'].isin(frequency_top50.index)].groupby(['Department Name','Keyword']).count()",
    "id": "7d9dcf6a397543fc8859929e65f4ea42",
    "idx": 7,
    "time": "2020-11-14T22:41:27.349Z",
    "type": "execution"
   },
   {
    "id": "7d9dcf6a397543fc8859929e65f4ea42",
    "time": "2020-11-14T22:41:27.467Z",
    "type": "completion"
   },
   {
    "code": "by_department = clean_data[clean_data['Keyword'].isin(frequency_top50.index)].groupby(['Department Name','Keyword']).count()\nby_department.loc[:,['Course Catalogue Number']]",
    "id": "7d9dcf6a397543fc8859929e65f4ea42",
    "idx": 7,
    "time": "2020-11-14T22:42:02.657Z",
    "type": "execution"
   },
   {
    "id": "7d9dcf6a397543fc8859929e65f4ea42",
    "time": "2020-11-14T22:42:02.755Z",
    "type": "completion"
   },
   {
    "code": "# frequency of top 50 keywords in each department\nby_department = clean_data[clean_data['Keyword'].isin(frequency_top50.index)].groupby(['Department Name','Keyword']).count()\nfrequency_in_department = by_department.loc[:,['Course Catalogue Number']].rename(columns={'Course Catalogue Number':'Count'})\nfrequency_in_department",
    "id": "7d9dcf6a397543fc8859929e65f4ea42",
    "idx": 7,
    "time": "2020-11-14T22:43:19.483Z",
    "type": "execution"
   },
   {
    "id": "7d9dcf6a397543fc8859929e65f4ea42",
    "time": "2020-11-14T22:43:19.587Z",
    "type": "completion"
   },
   {
    "code": "frequency_in_department.reset_index()",
    "id": "6592ff246e574c8982fede445b045dc0",
    "idx": 8,
    "time": "2020-11-14T22:44:26.800Z",
    "type": "execution"
   },
   {
    "id": "6592ff246e574c8982fede445b045dc0",
    "time": "2020-11-14T22:44:26.878Z",
    "type": "completion"
   },
   {
    "code": "clean_data.head()",
    "id": "6bdec113fa8c460bb85f390908ca2f87",
    "idx": 8,
    "time": "2020-11-14T22:45:32.325Z",
    "type": "execution"
   },
   {
    "id": "6bdec113fa8c460bb85f390908ca2f87",
    "time": "2020-11-14T22:45:32.404Z",
    "type": "completion"
   },
   {
    "code": "frequency_in_department.head()",
    "id": "6bdec113fa8c460bb85f390908ca2f87",
    "idx": 8,
    "time": "2020-11-14T22:45:58.185Z",
    "type": "execution"
   },
   {
    "id": "6bdec113fa8c460bb85f390908ca2f87",
    "time": "2020-11-14T22:45:58.255Z",
    "type": "completion"
   },
   {
    "code": "# top keywords in each department\nby_department_fullkeywords = clean_data.groupby(['Department Name','Keyword']).count()\n\nby_department_fullkeywords",
    "id": "2c412c383adc4b9b8e8c838c3de2b397",
    "idx": 8,
    "time": "2020-11-14T22:47:19.203Z",
    "type": "execution"
   },
   {
    "id": "2c412c383adc4b9b8e8c838c3de2b397",
    "time": "2020-11-14T22:47:19.329Z",
    "type": "completion"
   },
   {
    "code": "# top keywords in each department\nby_department_fullkeywords = clean_data.groupby(['Department Name','Keyword']).count().loc[:,['Course Catalogue Number']].rename(columns={'Course Catalogue Number':'Count'})\n\nby_department_fullkeywords",
    "id": "2c412c383adc4b9b8e8c838c3de2b397",
    "idx": 8,
    "time": "2020-11-14T22:47:55.376Z",
    "type": "execution"
   },
   {
    "id": "2c412c383adc4b9b8e8c838c3de2b397",
    "time": "2020-11-14T22:47:55.485Z",
    "type": "completion"
   },
   {
    "code": "# top keywords in each department\nby_department_fullkeywords = clean_data.groupby(['Department Name','Keyword']).count().loc[:,['Course Catalogue Number']].rename(columns={'Course Catalogue Number':'Count'})\n\nby_department_fullkeywords.reset_index().groupby('Department Name').max()",
    "id": "2c412c383adc4b9b8e8c838c3de2b397",
    "idx": 8,
    "time": "2020-11-14T22:48:59.655Z",
    "type": "execution"
   },
   {
    "id": "2c412c383adc4b9b8e8c838c3de2b397",
    "time": "2020-11-14T22:48:59.777Z",
    "type": "completion"
   },
   {
    "code": "# top keywords in each department\nby_department_fullkeywords = clean_data.groupby(['Department Name','Keyword']).count().loc[:,['Course Catalogue Number']].rename(columns={'Course Catalogue Number':'Count'})\nby_department_fullkeywords\n#by_department_fullkeywords.reset_index().groupby('Department Name').max()",
    "id": "2c412c383adc4b9b8e8c838c3de2b397",
    "idx": 8,
    "time": "2020-11-14T22:49:59.697Z",
    "type": "execution"
   },
   {
    "id": "2c412c383adc4b9b8e8c838c3de2b397",
    "time": "2020-11-14T22:49:59.796Z",
    "type": "completion"
   },
   {
    "code": "# top keywords in each department\nby_department_fullkeywords = clean_data.groupby(['Department Name','Keyword']).count().loc[:,['Course Catalogue Number']].rename(columns={'Course Catalogue Number':'Count'})\nby_department_fullkeywords.query(\"Department Name== VCS\")\n#by_department_fullkeywords.reset_index().groupby('Department Name').max()",
    "id": "2c412c383adc4b9b8e8c838c3de2b397",
    "idx": 8,
    "time": "2020-11-14T22:50:22.447Z",
    "type": "execution"
   },
   {
    "id": "2c412c383adc4b9b8e8c838c3de2b397",
    "time": "2020-11-14T22:50:22.543Z",
    "type": "completion"
   },
   {
    "code": "# top keywords in each department\nby_department_fullkeywords = clean_data.groupby(['Department Name','Keyword']).count().loc[:,['Course Catalogue Number']].rename(columns={'Course Catalogue Number':'Count'})\nby_department_fullkeywords.query(\"Department Name = VCS\")\n#by_department_fullkeywords.reset_index().groupby('Department Name').max()",
    "id": "2c412c383adc4b9b8e8c838c3de2b397",
    "idx": 8,
    "time": "2020-11-14T22:50:28.004Z",
    "type": "execution"
   },
   {
    "id": "2c412c383adc4b9b8e8c838c3de2b397",
    "time": "2020-11-14T22:50:28.087Z",
    "type": "completion"
   },
   {
    "code": "# top keywords in each department\nby_department_fullkeywords = clean_data.groupby(['Department Name','Keyword']).count().loc[:,['Course Catalogue Number']].rename(columns={'Course Catalogue Number':'Count'})\nby_department_fullkeywords[by_department_fullkeywords['Department Name']=='VCS']\n#by_department_fullkeywords.reset_index().groupby('Department Name').max()",
    "id": "2c412c383adc4b9b8e8c838c3de2b397",
    "idx": 8,
    "time": "2020-11-14T22:50:45.134Z",
    "type": "execution"
   },
   {
    "id": "2c412c383adc4b9b8e8c838c3de2b397",
    "time": "2020-11-14T22:50:45.285Z",
    "type": "completion"
   },
   {
    "code": "# top keywords in each department\nby_department_fullkeywords = clean_data.groupby(['Department Name','Keyword']).count().loc[:,['Course Catalogue Number']].rename(columns={'Course Catalogue Number':'Count'})\nby_department_fullkeywords#[by_department_fullkeywords['Department Name']=='VCS']\n#by_department_fullkeywords.reset_index().groupby('Department Name').max()",
    "id": "2c412c383adc4b9b8e8c838c3de2b397",
    "idx": 8,
    "time": "2020-11-14T22:50:54.836Z",
    "type": "execution"
   },
   {
    "id": "2c412c383adc4b9b8e8c838c3de2b397",
    "time": "2020-11-14T22:50:54.934Z",
    "type": "completion"
   },
   {
    "code": "# top keywords in each department\nby_department_fullkeywords = clean_data.groupby(['Department Name','Keyword']).count().loc[:,['Course Catalogue Number']].rename(columns={'Course Catalogue Number':'Count'})\nby_department_fullkeywords.reset_index()[by_department_fullkeywords['Department Name']=='VCS']\n#by_department_fullkeywords.reset_index().groupby('Department Name').max()",
    "id": "2c412c383adc4b9b8e8c838c3de2b397",
    "idx": 8,
    "time": "2020-11-14T22:51:12.246Z",
    "type": "execution"
   },
   {
    "id": "2c412c383adc4b9b8e8c838c3de2b397",
    "time": "2020-11-14T22:51:12.435Z",
    "type": "completion"
   },
   {
    "code": "# top keywords in each department\nby_department_fullkeywords = clean_data.groupby(['Department Name','Keyword']).count().loc[:,['Course Catalogue Number']].rename(columns={'Course Catalogue Number':'Count'})\nby_department_fullkeywords[by_department_fullkeywords.reset_index()['Department Name']=='VCS']\n#by_department_fullkeywords.reset_index().groupby('Department Name').max()",
    "id": "2c412c383adc4b9b8e8c838c3de2b397",
    "idx": 8,
    "time": "2020-11-14T22:51:24.526Z",
    "type": "execution"
   },
   {
    "id": "2c412c383adc4b9b8e8c838c3de2b397",
    "time": "2020-11-14T22:51:24.668Z",
    "type": "completion"
   },
   {
    "code": "# top keywords in each department\nby_department_fullkeywords = clean_data.groupby(['Department Name','Keyword']).count().loc[:,['Course Catalogue Number']].rename(columns={'Course Catalogue Number':'Count'})\nby_department_fullkeywords_reset = by_department_fullkeywords.reset_index()\nby_department_fullkeywords_reset[by_department_fullkeywords_reset['Department Name']=='VCS']\n#by_department_fullkeywords.reset_index().groupby('Department Name').max()",
    "id": "2c412c383adc4b9b8e8c838c3de2b397",
    "idx": 8,
    "time": "2020-11-14T22:52:01.699Z",
    "type": "execution"
   },
   {
    "id": "2c412c383adc4b9b8e8c838c3de2b397",
    "time": "2020-11-14T22:52:01.797Z",
    "type": "completion"
   },
   {
    "code": "# top keywords in each department\nby_department_fullkeywords = clean_data.groupby(['Department Name','Keyword']).count().loc[:,['Course Catalogue Number']].rename(columns={'Course Catalogue Number':'Count'})\nby_department_fullkeywords_reset = by_department_fullkeywords.reset_index()\nby_department_fullkeywords_reset.sort_value('Count').groupby('Department Name').last()",
    "id": "2c412c383adc4b9b8e8c838c3de2b397",
    "idx": 8,
    "time": "2020-11-14T22:53:30.196Z",
    "type": "execution"
   },
   {
    "id": "2c412c383adc4b9b8e8c838c3de2b397",
    "time": "2020-11-14T22:53:30.318Z",
    "type": "completion"
   },
   {
    "code": "# top keywords in each department\nby_department_fullkeywords = clean_data.groupby(['Department Name','Keyword']).count().loc[:,['Course Catalogue Number']].rename(columns={'Course Catalogue Number':'Count'})\nby_department_fullkeywords_reset = by_department_fullkeywords.reset_index()\nby_department_fullkeywords_reset.sort_values('Count').groupby('Department Name').last()",
    "id": "2c412c383adc4b9b8e8c838c3de2b397",
    "idx": 8,
    "time": "2020-11-14T22:53:33.470Z",
    "type": "execution"
   },
   {
    "id": "2c412c383adc4b9b8e8c838c3de2b397",
    "time": "2020-11-14T22:53:33.603Z",
    "type": "completion"
   },
   {
    "code": "by_department_fullkeywords_reset",
    "id": "f74ad37e590747cc8dd3e42a84530975",
    "idx": 9,
    "time": "2020-11-14T22:53:53.163Z",
    "type": "execution"
   },
   {
    "id": "f74ad37e590747cc8dd3e42a84530975",
    "time": "2020-11-14T22:53:53.245Z",
    "type": "completion"
   },
   {
    "code": "by_department_fullkeywords_reset[by_department_fullkeywords_reset['Department Name']=='VBSC']",
    "id": "f74ad37e590747cc8dd3e42a84530975",
    "idx": 9,
    "time": "2020-11-14T22:54:27.395Z",
    "type": "execution"
   },
   {
    "id": "f74ad37e590747cc8dd3e42a84530975",
    "time": "2020-11-14T22:54:27.474Z",
    "type": "completion"
   },
   {
    "code": "clean_data.head(1)",
    "id": "3d225de3c86e4b30826fc99fa51fbb98",
    "idx": 9,
    "time": "2020-11-14T22:59:36.674Z",
    "type": "execution"
   },
   {
    "id": "3d225de3c86e4b30826fc99fa51fbb98",
    "time": "2020-11-14T22:59:36.771Z",
    "type": "completion"
   },
   {
    "code": "by_department_fullkeywords_reset.head(1)",
    "id": "3d225de3c86e4b30826fc99fa51fbb98",
    "idx": 9,
    "time": "2020-11-14T22:59:47.763Z",
    "type": "execution"
   },
   {
    "id": "3d225de3c86e4b30826fc99fa51fbb98",
    "time": "2020-11-14T22:59:47.836Z",
    "type": "completion"
   },
   {
    "code": "#distribution of top 10 \nby_department_fullkeywords_reset.groupby('Department Name').sum()",
    "id": "97ecc06c396a445380a69b7b0f8809a0",
    "idx": 10,
    "time": "2020-11-14T23:00:15.176Z",
    "type": "execution"
   },
   {
    "id": "97ecc06c396a445380a69b7b0f8809a0",
    "time": "2020-11-14T23:00:15.256Z",
    "type": "completion"
   },
   {
    "code": "#distribution of top 10 \ntop3_department = by_department_fullkeywords_reset.groupby('Department Name').sum().sort_values('Count').last(3)\ntop3_department",
    "id": "97ecc06c396a445380a69b7b0f8809a0",
    "idx": 10,
    "time": "2020-11-14T23:00:47.188Z",
    "type": "execution"
   },
   {
    "id": "97ecc06c396a445380a69b7b0f8809a0",
    "time": "2020-11-14T23:00:47.266Z",
    "type": "completion"
   },
   {
    "code": "#distribution of top 10 \ntop3_department = by_department_fullkeywords_reset.groupby('Department Name').sum().sort_values('Count')\ntop3_department",
    "id": "97ecc06c396a445380a69b7b0f8809a0",
    "idx": 10,
    "time": "2020-11-14T23:00:58.806Z",
    "type": "execution"
   },
   {
    "id": "97ecc06c396a445380a69b7b0f8809a0",
    "time": "2020-11-14T23:00:58.878Z",
    "type": "completion"
   },
   {
    "code": "#distribution of top 10 \ntop3_department = by_department_fullkeywords_reset.groupby('Department Name').sum().sort_values('Count').tail(3)\ntop3_department",
    "id": "97ecc06c396a445380a69b7b0f8809a0",
    "idx": 10,
    "time": "2020-11-14T23:01:04.943Z",
    "type": "execution"
   },
   {
    "id": "97ecc06c396a445380a69b7b0f8809a0",
    "time": "2020-11-14T23:01:05.019Z",
    "type": "completion"
   },
   {
    "code": "#distribution of top 10 \ntop3_department = by_department_fullkeywords_reset.groupby('Department Name').sum().sort_values('Count',Ascending=False).head(3)\ntop3_department",
    "id": "97ecc06c396a445380a69b7b0f8809a0",
    "idx": 10,
    "time": "2020-11-14T23:01:20.420Z",
    "type": "execution"
   },
   {
    "id": "97ecc06c396a445380a69b7b0f8809a0",
    "time": "2020-11-14T23:01:20.493Z",
    "type": "completion"
   },
   {
    "code": "#distribution of top 10 \ntop3_department = by_department_fullkeywords_reset.groupby('Department Name').sum().sort_values('Count',ascending=False).head(3)\ntop3_department",
    "id": "97ecc06c396a445380a69b7b0f8809a0",
    "idx": 10,
    "time": "2020-11-14T23:01:26.152Z",
    "type": "execution"
   },
   {
    "id": "97ecc06c396a445380a69b7b0f8809a0",
    "time": "2020-11-14T23:01:26.225Z",
    "type": "completion"
   },
   {
    "code": "by_department_fullkeywords_reset.head()",
    "id": "3d225de3c86e4b30826fc99fa51fbb98",
    "idx": 9,
    "time": "2020-11-14T23:02:09.345Z",
    "type": "execution"
   },
   {
    "id": "3d225de3c86e4b30826fc99fa51fbb98",
    "time": "2020-11-14T23:02:09.420Z",
    "type": "completion"
   },
   {
    "code": "by_department_fullkeywords_reset.head(10)",
    "id": "3d225de3c86e4b30826fc99fa51fbb98",
    "idx": 9,
    "time": "2020-11-14T23:02:24.628Z",
    "type": "execution"
   },
   {
    "id": "3d225de3c86e4b30826fc99fa51fbb98",
    "time": "2020-11-14T23:02:24.715Z",
    "type": "completion"
   },
   {
    "code": "import pandas as pd\nimport numpy as np\nimport matplotlib.pyplot as plt\nimport seaborn as sns\n%matplotlib inline\n\n",
    "id": "0f56f3c3567f4dc49e9ba9e6e31cba7c",
    "idx": 0,
    "time": "2020-11-14T23:04:03.491Z",
    "type": "execution"
   },
   {
    "id": "0f56f3c3567f4dc49e9ba9e6e31cba7c",
    "time": "2020-11-14T23:04:04.406Z",
    "type": "completion"
   },
   {
    "code": "#distribution of top 10 \ntop3_department = by_department_fullkeywords_reset.groupby('Department Name').sum().sort_values('Count',ascending=False).head(3)\ntop3_department\n\n# ANSI\nANSI = by_department_fullkeywords_reset[by_department_fullkeywords_reset['Department Name']='ANSI']\nsns.barplot(ANSI)\n# NSCI\n\n\n# NREM",
    "id": "97ecc06c396a445380a69b7b0f8809a0",
    "idx": 10,
    "time": "2020-11-14T23:04:21.265Z",
    "type": "execution"
   },
   {
    "id": "97ecc06c396a445380a69b7b0f8809a0",
    "time": "2020-11-14T23:04:21.338Z",
    "type": "completion"
   },
   {
    "code": "#distribution of top 10 \ntop3_department = by_department_fullkeywords_reset.groupby('Department Name').sum().sort_values('Count',ascending=False).head(3)\ntop3_department\n\n# ANSI\nANSI = by_department_fullkeywords_reset[by_department_fullkeywords_reset['Department Name']=='ANSI']\nsns.barplot(ANSI)\n# NSCI\n\n\n# NREM",
    "id": "97ecc06c396a445380a69b7b0f8809a0",
    "idx": 10,
    "time": "2020-11-14T23:04:25.275Z",
    "type": "execution"
   },
   {
    "id": "97ecc06c396a445380a69b7b0f8809a0",
    "time": "2020-11-14T23:04:25.445Z",
    "type": "completion"
   },
   {
    "code": "#distribution of top 10 \ntop3_department = by_department_fullkeywords_reset.groupby('Department Name').sum().sort_values('Count',ascending=False).head(3)\ntop3_department\n\n# ANSI\nANSI = by_department_fullkeywords_reset[by_department_fullkeywords_reset['Department Name']=='ANSI']\nsns.barplot(x='Keyword',y='Count' ,data=ANSI)\n# NSCI\n\n\n# NREM",
    "id": "97ecc06c396a445380a69b7b0f8809a0",
    "idx": 10,
    "time": "2020-11-14T23:05:51.652Z",
    "type": "execution"
   },
   {
    "id": "97ecc06c396a445380a69b7b0f8809a0",
    "time": "2020-11-14T23:05:52.775Z",
    "type": "completion"
   },
   {
    "code": "#distribution of top 10 \ntop3_department = by_department_fullkeywords_reset.groupby('Department Name').sum().sort_values('Count',ascending=False).head(3)\ntop3_department\n\n# ANSI\nANSI = by_department_fullkeywords_reset[by_department_fullkeywords_reset['Department Name']=='ANSI']\nsns.barplot(x='Keyword',y='Count' ,data=ANSI)\nplt.xtick(rot=90)\n# NSCI\n\n\n# NREM",
    "id": "97ecc06c396a445380a69b7b0f8809a0",
    "idx": 10,
    "time": "2020-11-14T23:07:09.120Z",
    "type": "execution"
   },
   {
    "id": "97ecc06c396a445380a69b7b0f8809a0",
    "time": "2020-11-14T23:07:10.297Z",
    "type": "completion"
   },
   {
    "code": "#distribution of top 10 \ntop3_department = by_department_fullkeywords_reset.groupby('Department Name').sum().sort_values('Count',ascending=False).head(3)\ntop3_department\n\n# ANSI\nANSI = by_department_fullkeywords_reset[by_department_fullkeywords_reset['Department Name']=='ANSI']\nsns.barplot(x='Keyword',y='Count' ,data=ANSI)\nplt.xticks(rot=90)\n# NSCI\n\n\n# NREM",
    "id": "97ecc06c396a445380a69b7b0f8809a0",
    "idx": 10,
    "time": "2020-11-14T23:07:45.788Z",
    "type": "execution"
   },
   {
    "id": "97ecc06c396a445380a69b7b0f8809a0",
    "time": "2020-11-14T23:07:47.010Z",
    "type": "completion"
   },
   {
    "code": "#distribution of top 10 \ntop3_department = by_department_fullkeywords_reset.groupby('Department Name').sum().sort_values('Count',ascending=False).head(3)\ntop3_department\n\n# ANSI\nANSI = by_department_fullkeywords_reset[by_department_fullkeywords_reset['Department Name']=='ANSI']\nsns.barplot(x='Keyword',y='Count' ,data=ANSI)\nplt.xticks(rotation=90)\n# NSCI\n\n\n# NREM",
    "id": "97ecc06c396a445380a69b7b0f8809a0",
    "idx": 10,
    "time": "2020-11-14T23:07:57.259Z",
    "type": "execution"
   },
   {
    "id": "97ecc06c396a445380a69b7b0f8809a0",
    "time": "2020-11-14T23:07:58.488Z",
    "type": "completion"
   },
   {
    "code": "#distribution of top 10 \ntop3_department = by_department_fullkeywords_reset.groupby('Department Name').sum().sort_values('Count',ascending=False).head(3)\ntop3_department\n\n# ANSI\nplt.figure(10,10)\nANSI = by_department_fullkeywords_reset[by_department_fullkeywords_reset['Department Name']=='ANSI']\nsns.barplot(x='Keyword',y='Count' ,data=ANSI)\nplt.xticks(rotation=90);\n# NSCI\n\n\n# NREM",
    "id": "97ecc06c396a445380a69b7b0f8809a0",
    "idx": 10,
    "time": "2020-11-14T23:08:38.695Z",
    "type": "execution"
   },
   {
    "id": "97ecc06c396a445380a69b7b0f8809a0",
    "time": "2020-11-14T23:08:38.819Z",
    "type": "completion"
   },
   {
    "code": "#distribution of top 10 \ntop3_department = by_department_fullkeywords_reset.groupby('Department Name').sum().sort_values('Count',ascending=False).head(3)\ntop3_department\n\n# ANSI\nplt.figure(figsize=(20,10))\nANSI = by_department_fullkeywords_reset[by_department_fullkeywords_reset['Department Name']=='ANSI']\nsns.barplot(x='Keyword',y='Count' ,data=ANSI)\nplt.xticks(rotation=90);\n# NSCI\n\n\n# NREM",
    "id": "97ecc06c396a445380a69b7b0f8809a0",
    "idx": 10,
    "time": "2020-11-14T23:09:01.117Z",
    "type": "execution"
   },
   {
    "id": "97ecc06c396a445380a69b7b0f8809a0",
    "time": "2020-11-14T23:09:02.531Z",
    "type": "completion"
   },
   {
    "code": "#distribution of top 10 \ntop3_department = by_department_fullkeywords_reset.groupby('Department Name').sum().sort_values('Count',ascending=False).head(3)\ntop3_department\n\n# ANSI\nplt.figure(figsize=(20,10))\nANSI = by_department_fullkeywords_reset[by_department_fullkeywords_reset['Department Name']=='ANSI'].sort_values('Count',ascending=False).head(5)\nsns.barplot(x='Keyword',y='Count' ,data=ANSI)\nplt.xticks(rotation=90);\n# NSCI\n\n\n# NREM",
    "id": "97ecc06c396a445380a69b7b0f8809a0",
    "idx": 10,
    "time": "2020-11-14T23:10:38.967Z",
    "type": "execution"
   },
   {
    "id": "97ecc06c396a445380a69b7b0f8809a0",
    "time": "2020-11-14T23:10:39.437Z",
    "type": "completion"
   },
   {
    "code": "#distribution of top 10 \ntop3_department = by_department_fullkeywords_reset.groupby('Department Name').sum().sort_values('Count',ascending=False).head(3)\ntop3_department\n\n# ANSI\nplt.figure(figsize=(20,10))\nANSI = by_department_fullkeywords_reset[by_department_fullkeywords_reset['Department Name']=='ANSI'].sort_values('Count',ascending=False).head(10)\nsns.barplot(x='Keyword',y='Count' ,data=ANSI)\nplt.xticks(rotation=90);\n# NSCI\n\n\n# NREM",
    "id": "97ecc06c396a445380a69b7b0f8809a0",
    "idx": 10,
    "time": "2020-11-14T23:10:48.689Z",
    "type": "execution"
   },
   {
    "id": "97ecc06c396a445380a69b7b0f8809a0",
    "time": "2020-11-14T23:10:49.209Z",
    "type": "completion"
   },
   {
    "code": "#distribution of top 10 \ntop3_department = by_department_fullkeywords_reset.groupby('Department Name').sum().sort_values('Count',ascending=False).head(3)\ntop3_department\n\n# ANSI\nplt.figure(figsize=(20,10))\nANSI = by_department_fullkeywords_reset[by_department_fullkeywords_reset['Department Name']=='ANSI'].sort_values('Count',ascending=False).head(5)\nsns.barplot(x='Keyword',y='Count' ,data=ANSI)\nplt.xticks(rotation=90);\n# NSCI\n\n\n# NREM",
    "id": "97ecc06c396a445380a69b7b0f8809a0",
    "idx": 10,
    "time": "2020-11-14T23:11:39.470Z",
    "type": "execution"
   },
   {
    "id": "97ecc06c396a445380a69b7b0f8809a0",
    "time": "2020-11-14T23:11:39.966Z",
    "type": "completion"
   },
   {
    "code": "#distribution of top 10 \ntop3_department = by_department_fullkeywords_reset.groupby('Department Name').sum().sort_values('Count',ascending=False).head(3)\ntop3_department\n\n# ANSI\nplt.figure(figsize=(20,10))\nANSI = by_department_fullkeywords_reset[by_department_fullkeywords_reset['Department Name']=='ANSI'].sort_values('Count',ascending=False).head(5)\nsns.barplot(x='Keyword',y='Count' ,data=ANSI)\nplt.xticks(rotation=60);\n# NSCI\n\n\n# NREM",
    "id": "97ecc06c396a445380a69b7b0f8809a0",
    "idx": 10,
    "time": "2020-11-14T23:11:51.618Z",
    "type": "execution"
   },
   {
    "id": "97ecc06c396a445380a69b7b0f8809a0",
    "time": "2020-11-14T23:11:52.231Z",
    "type": "completion"
   },
   {
    "code": "#distribution of top 10 \ntop3_department = by_department_fullkeywords_reset.groupby('Department Name').sum().sort_values('Count',ascending=False).head(3)\ntop3_department\n\n# ANSI\nplt.figure(figsize=(20,10))\nANSI = by_department_fullkeywords_reset[by_department_fullkeywords_reset['Department Name']=='ANSI'].sort_values('Count',ascending=False).head(5)\nsns.barplot(x='Keyword',y='Count' ,data=ANSI)\nplt.xticks(rotation=45);\n\n# NSCI\n\n\n# NREM",
    "id": "97ecc06c396a445380a69b7b0f8809a0",
    "idx": 10,
    "time": "2020-11-14T23:12:01.633Z",
    "type": "execution"
   },
   {
    "id": "97ecc06c396a445380a69b7b0f8809a0",
    "time": "2020-11-14T23:12:02.256Z",
    "type": "completion"
   },
   {
    "code": "#distribution of top 10 \ntop3_department = by_department_fullkeywords_reset.groupby('Department Name').sum().sort_values('Count',ascending=False).head(3)\ntop3_department\n\n# ANSI\nplt.figure(figsize=(20,10))\nANSI = by_department_fullkeywords_reset[by_department_fullkeywords_reset['Department Name']=='ANSI'].sort_values('Count',ascending=False).head(5)\nsns.barplot(x='Keyword',y='Count' ,data=ANSI)\nplt.xticks(rotation=0);\n\n# NSCI\n\n\n# NREM",
    "id": "97ecc06c396a445380a69b7b0f8809a0",
    "idx": 10,
    "time": "2020-11-14T23:12:09.210Z",
    "type": "execution"
   },
   {
    "id": "97ecc06c396a445380a69b7b0f8809a0",
    "time": "2020-11-14T23:12:09.786Z",
    "type": "completion"
   },
   {
    "code": "#distribution of top 10 \ntop3_department = by_department_fullkeywords_reset.groupby('Department Name').sum().sort_values('Count',ascending=False).head(3)\ntop3_department\n\n# ANSI\nplt.figure(figsize=(20,10))\nANSI = by_department_fullkeywords_reset[by_department_fullkeywords_reset['Department Name']=='ANSI'].sort_values('Count',ascending=False).head(5)\nsns.barplot(x='Keyword',y='Count' ,data=ANSI)\nplt.xticks(rotation=0);\n\n# NSCI\nplt.figure(figsize=(20,10))\nNSCI = by_department_fullkeywords_reset[by_department_fullkeywords_reset['Department Name']=='NSCI'].sort_values('Count',ascending=False).head(5)\nsns.barplot(x='Keyword',y='Count' ,data=NSCI)\nplt.xticks(rotation=0);\n\n# NREM\nplt.figure(figsize=(20,10))\nNREM = by_department_fullkeywords_reset[by_department_fullkeywords_reset['Department Name']=='NREM'].sort_values('Count',ascending=False).head(5)\nsns.barplot(x='Keyword',y='Count' ,data=NREM)\nplt.xticks(rotation=0);",
    "id": "97ecc06c396a445380a69b7b0f8809a0",
    "idx": 10,
    "time": "2020-11-14T23:12:55.217Z",
    "type": "execution"
   },
   {
    "id": "97ecc06c396a445380a69b7b0f8809a0",
    "time": "2020-11-14T23:12:56.399Z",
    "type": "completion"
   },
   {
    "code": "\n# NREM\nplt.figure(figsize=(20,10))\nNREM = by_department_fullkeywords_reset[by_department_fullkeywords_reset['Department Name']=='NREM'].sort_values('Count',ascending=False).head(5)\nsns.barplot(x='Keyword',y='Count' ,data=NREM)\nplt.title('NREM')\nplt.xticks(rotation=0);",
    "id": "ca97227b4b7e4e8c822532b938e4fbca",
    "idx": 12,
    "time": "2020-11-14T23:14:08.410Z",
    "type": "execution"
   },
   {
    "id": "ca97227b4b7e4e8c822532b938e4fbca",
    "time": "2020-11-14T23:14:08.876Z",
    "type": "completion"
   },
   {
    "code": "NREM",
    "id": "13265a55e90c4ebb8bbc2475c904b548",
    "idx": 13,
    "time": "2020-11-14T23:14:13.521Z",
    "type": "execution"
   },
   {
    "id": "13265a55e90c4ebb8bbc2475c904b548",
    "time": "2020-11-14T23:14:13.608Z",
    "type": "completion"
   },
   {
    "code": "by_department_fullkeywords_reset[by_department_fullkeywords_reset['Department Name']=='NREM']",
    "id": "f7a9fbaa2a6a412898fd9e4b754b2d4d",
    "idx": 14,
    "time": "2020-11-14T23:14:54.068Z",
    "type": "execution"
   },
   {
    "id": "f7a9fbaa2a6a412898fd9e4b754b2d4d",
    "time": "2020-11-14T23:14:54.158Z",
    "type": "completion"
   },
   {
    "code": "clean_data",
    "id": "1b69d6c15a7744ff841178411d8c4d3c",
    "idx": 14,
    "time": "2020-11-14T23:17:05.207Z",
    "type": "execution"
   },
   {
    "id": "1b69d6c15a7744ff841178411d8c4d3c",
    "time": "2020-11-14T23:17:05.336Z",
    "type": "completion"
   },
   {
    "code": "clean_data.head()",
    "id": "1b69d6c15a7744ff841178411d8c4d3c",
    "idx": 14,
    "time": "2020-11-14T23:17:11.966Z",
    "type": "execution"
   },
   {
    "id": "1b69d6c15a7744ff841178411d8c4d3c",
    "time": "2020-11-14T23:17:12.044Z",
    "type": "completion"
   },
   {
    "code": "clean_data[clean_data['Department Name']=='NREM']",
    "id": "f7a9fbaa2a6a412898fd9e4b754b2d4d",
    "idx": 15,
    "time": "2020-11-14T23:17:21.111Z",
    "type": "execution"
   },
   {
    "id": "f7a9fbaa2a6a412898fd9e4b754b2d4d",
    "time": "2020-11-14T23:17:21.233Z",
    "type": "completion"
   },
   {
    "code": "clean_data[clean_data['Department Name']=='NREM']['Keyword'].value_counts()",
    "id": "f7a9fbaa2a6a412898fd9e4b754b2d4d",
    "idx": 15,
    "time": "2020-11-14T23:17:42.868Z",
    "type": "execution"
   },
   {
    "id": "f7a9fbaa2a6a412898fd9e4b754b2d4d",
    "time": "2020-11-14T23:17:42.959Z",
    "type": "completion"
   },
   {
    "code": "data['Keyword'] = data['Keyword'].apply(lambda x: x[1:-1].split(', '))\ndata",
    "id": "cf48b7362a9c420d88e4a626294190f9",
    "idx": 2,
    "time": "2020-11-14T23:18:41.822Z",
    "type": "execution"
   },
   {
    "id": "cf48b7362a9c420d88e4a626294190f9",
    "time": "2020-11-14T23:18:41.947Z",
    "type": "completion"
   },
   {
    "code": "data = pd.read_csv('Oklahoma_State_University 2017-21 Webscraped.csv')\ndata",
    "id": "5e84dbae4ee44db289e0dee6277ad98e",
    "idx": 1,
    "time": "2020-11-14T23:19:00.907Z",
    "type": "execution"
   },
   {
    "id": "5e84dbae4ee44db289e0dee6277ad98e",
    "time": "2020-11-14T23:19:01.092Z",
    "type": "completion"
   },
   {
    "code": "data['Keyword'] = data['Keyword'].apply(lambda x: x[1:-1].split(', '))\ndata",
    "id": "cf48b7362a9c420d88e4a626294190f9",
    "idx": 2,
    "time": "2020-11-14T23:19:01.689Z",
    "type": "execution"
   },
   {
    "id": "cf48b7362a9c420d88e4a626294190f9",
    "time": "2020-11-14T23:19:01.802Z",
    "type": "completion"
   },
   {
    "code": "clean_data = data.explode('Keyword')",
    "id": "c141f214e226400e956ffd2a3ca64057",
    "idx": 3,
    "time": "2020-11-14T23:19:03.527Z",
    "type": "execution"
   },
   {
    "id": "c141f214e226400e956ffd2a3ca64057",
    "time": "2020-11-14T23:19:03.615Z",
    "type": "completion"
   },
   {
    "code": "# frequency of top 50 keywords\nfrequency_top50 = clean_data['Keyword'].value_counts().to_frame().head(50)",
    "id": "04b62fd5347245998e9a7806ef81fed0",
    "idx": 4,
    "time": "2020-11-14T23:19:03.720Z",
    "type": "execution"
   },
   {
    "id": "04b62fd5347245998e9a7806ef81fed0",
    "time": "2020-11-14T23:19:03.787Z",
    "type": "completion"
   },
   {
    "code": "# frequency of top 50 keywords in each department\nby_department = clean_data[clean_data['Keyword'].isin(frequency_top50.index)].groupby(['Department Name','Keyword']).count()\nfrequency_in_department = by_department.loc[:,['Course Catalogue Number']].rename(columns={'Course Catalogue Number':'Count'})\nfrequency_in_department",
    "id": "7d9dcf6a397543fc8859929e65f4ea42",
    "idx": 5,
    "time": "2020-11-14T23:19:03.897Z",
    "type": "execution"
   },
   {
    "id": "7d9dcf6a397543fc8859929e65f4ea42",
    "time": "2020-11-14T23:19:04.008Z",
    "type": "completion"
   },
   {
    "code": "# top keyword in each department\nby_department_fullkeywords = clean_data.groupby(['Department Name','Keyword']).count().loc[:,['Course Catalogue Number']].rename(columns={'Course Catalogue Number':'Count'})\nby_department_fullkeywords_reset = by_department_fullkeywords.reset_index()\nby_department_fullkeywords_reset.sort_values('Count').groupby('Department Name').last()",
    "id": "2c412c383adc4b9b8e8c838c3de2b397",
    "idx": 6,
    "time": "2020-11-14T23:19:04.083Z",
    "type": "execution"
   },
   {
    "id": "2c412c383adc4b9b8e8c838c3de2b397",
    "time": "2020-11-14T23:19:04.213Z",
    "type": "completion"
   },
   {
    "code": "by_department_fullkeywords_reset.head(10)",
    "id": "3d225de3c86e4b30826fc99fa51fbb98",
    "idx": 7,
    "time": "2020-11-14T23:19:04.272Z",
    "type": "execution"
   },
   {
    "id": "3d225de3c86e4b30826fc99fa51fbb98",
    "time": "2020-11-14T23:19:04.346Z",
    "type": "completion"
   },
   {
    "code": "#distribution of top 10 \ntop3_department = by_department_fullkeywords_reset.groupby('Department Name').sum().sort_values('Count',ascending=False).head(3)\ntop3_department\n\n# ANSI\nplt.figure(figsize=(20,10))\nANSI = by_department_fullkeywords_reset[by_department_fullkeywords_reset['Department Name']=='ANSI'].sort_values('Count',ascending=False).head(5)\nsns.barplot(x='Keyword',y='Count' ,data=ANSI)\nplt.title('ANSI')\nplt.xticks(rotation=0);\n",
    "id": "97ecc06c396a445380a69b7b0f8809a0",
    "idx": 8,
    "time": "2020-11-14T23:19:04.449Z",
    "type": "execution"
   },
   {
    "code": "\n# NSCI\nplt.figure(figsize=(20,10))\nNSCI = by_department_fullkeywords_reset[by_department_fullkeywords_reset['Department Name']=='NSCI'].sort_values('Count',ascending=False).head(5)\nsns.barplot(x='Keyword',y='Count' ,data=NSCI)\nplt.title('NSCI')\nplt.xticks(rotation=0);\n",
    "id": "15b019ee6a3f435ebe656a2df87fe1a9",
    "idx": 9,
    "time": "2020-11-14T23:19:04.645Z",
    "type": "execution"
   },
   {
    "id": "97ecc06c396a445380a69b7b0f8809a0",
    "time": "2020-11-14T23:19:04.938Z",
    "type": "completion"
   },
   {
    "code": "\n# NREM\nplt.figure(figsize=(20,10))\nNREM = by_department_fullkeywords_reset[by_department_fullkeywords_reset['Department Name']=='NREM'].sort_values('Count',ascending=False).head(5)\nsns.barplot(x='Keyword',y='Count' ,data=NREM)\nplt.title('NREM')\nplt.xticks(rotation=0);",
    "id": "ca97227b4b7e4e8c822532b938e4fbca",
    "idx": 10,
    "time": "2020-11-14T23:19:05.286Z",
    "type": "execution"
   },
   {
    "id": "15b019ee6a3f435ebe656a2df87fe1a9",
    "time": "2020-11-14T23:19:05.331Z",
    "type": "completion"
   },
   {
    "id": "ca97227b4b7e4e8c822532b938e4fbca",
    "time": "2020-11-14T23:19:05.761Z",
    "type": "completion"
   },
   {
    "code": "NREM",
    "id": "13265a55e90c4ebb8bbc2475c904b548",
    "idx": 11,
    "time": "2020-11-14T23:19:07.448Z",
    "type": "execution"
   },
   {
    "id": "13265a55e90c4ebb8bbc2475c904b548",
    "time": "2020-11-14T23:19:07.518Z",
    "type": "completion"
   },
   {
    "code": "clean_data.head()",
    "id": "1b69d6c15a7744ff841178411d8c4d3c",
    "idx": 12,
    "time": "2020-11-14T23:19:08.033Z",
    "type": "execution"
   },
   {
    "id": "1b69d6c15a7744ff841178411d8c4d3c",
    "time": "2020-11-14T23:19:08.124Z",
    "type": "completion"
   },
   {
    "code": "clean_data[clean_data['Department Name']=='NREM']['Keyword'].value_counts()",
    "id": "f7a9fbaa2a6a412898fd9e4b754b2d4d",
    "idx": 13,
    "time": "2020-11-14T23:19:08.986Z",
    "type": "execution"
   },
   {
    "id": "f7a9fbaa2a6a412898fd9e4b754b2d4d",
    "time": "2020-11-14T23:19:09.053Z",
    "type": "completion"
   },
   {
    "code": "data = pd.read_csv('Oklahoma_State_University 2017-21 Webscraped.csv')",
    "id": "5e84dbae4ee44db289e0dee6277ad98e",
    "idx": 1,
    "time": "2020-11-14T23:20:03.717Z",
    "type": "execution"
   },
   {
    "id": "5e84dbae4ee44db289e0dee6277ad98e",
    "time": "2020-11-14T23:20:03.848Z",
    "type": "completion"
   },
   {
    "code": "# top keyword in each department\nby_department_fullkeywords = clean_data.groupby(['Department Name','Keyword']).count().loc[:,['Course Catalogue Number']].rename(columns={'Course Catalogue Number':'Count'})\nby_department_fullkeywords_reset = by_department_fullkeywords.reset_index()\nby_department_fullkeywords_reset.sort_values('Count').groupby('Department Name').last()",
    "id": "2c412c383adc4b9b8e8c838c3de2b397",
    "idx": 4,
    "time": "2020-11-14T23:39:48.200Z",
    "type": "execution"
   },
   {
    "id": "2c412c383adc4b9b8e8c838c3de2b397",
    "time": "2020-11-14T23:39:48.353Z",
    "type": "completion"
   },
   {
    "code": "# frequency of top 50 keywords\nfrequency_top50 = clean_data['Keyword'].value_counts().to_frame().head(50)\nfrequency_top50",
    "id": "04b62fd5347245998e9a7806ef81fed0",
    "idx": 2,
    "time": "2020-11-14T23:40:13.594Z",
    "type": "execution"
   },
   {
    "id": "04b62fd5347245998e9a7806ef81fed0",
    "time": "2020-11-14T23:40:13.725Z",
    "type": "completion"
   },
   {
    "code": "# frequency of top 50 keywords\nfrequency_top50 = clean_data['Keyword'].value_counts().to_frame().head(50)\nfrequency_top50.head()",
    "id": "04b62fd5347245998e9a7806ef81fed0",
    "idx": 2,
    "time": "2020-11-14T23:41:07.374Z",
    "type": "execution"
   },
   {
    "id": "04b62fd5347245998e9a7806ef81fed0",
    "time": "2020-11-14T23:41:07.456Z",
    "type": "completion"
   },
   {
    "code": "# frequency of top 50 keywords in each department\nby_department = clean_data[clean_data['Keyword'].isin(frequency_top50.index)].groupby(['Department Name','Keyword']).count()\nfrequency_in_department = by_department.loc[:,['Course Catalogue Number']].rename(columns={'Course Catalogue Number':'Count'})\nfrequency_in_department.head()",
    "id": "7d9dcf6a397543fc8859929e65f4ea42",
    "idx": 3,
    "time": "2020-11-14T23:41:15.302Z",
    "type": "execution"
   },
   {
    "id": "7d9dcf6a397543fc8859929e65f4ea42",
    "time": "2020-11-14T23:41:15.395Z",
    "type": "completion"
   },
   {
    "code": "#distribution of top 10 \ntop3_department = by_department_fullkeywords_reset.groupby('Department Name').sum().sort_values('Count',ascending=False).head(3)\ntop3_department\n\n# ANSI\nplt.figure\nANSI = by_department_fullkeywords_reset[by_department_fullkeywords_reset['Department Name']=='ANSI'].sort_values('Count',ascending=False).head(5)\nsns.barplot(x='Keyword',y='Count' ,data=ANSI)\nplt.title('ANSI')\nplt.xticks(rotation=0);\n",
    "id": "97ecc06c396a445380a69b7b0f8809a0",
    "idx": 5,
    "time": "2020-11-14T23:41:55.565Z",
    "type": "execution"
   },
   {
    "id": "97ecc06c396a445380a69b7b0f8809a0",
    "time": "2020-11-14T23:41:55.853Z",
    "type": "completion"
   },
   {
    "code": "\n# NSCI\nplt.figure(figsize=(20,10))\nNSCI = by_department_fullkeywords_reset[by_department_fullkeywords_reset['Department Name']=='NSCI'].sort_values('Count',ascending=False).head(5)\nsns.barplot(x='Keyword',y='Count' ,data=NSCI)\nplt.title('NSCI')\nplt.xticks(rotation=0);\n",
    "id": "15b019ee6a3f435ebe656a2df87fe1a9",
    "idx": 6,
    "time": "2020-11-14T23:41:59.373Z",
    "type": "execution"
   },
   {
    "id": "15b019ee6a3f435ebe656a2df87fe1a9",
    "time": "2020-11-14T23:41:59.964Z",
    "type": "completion"
   },
   {
    "code": "\n# NREM\nplt.figure(figsize=(20,10))\nNREM = by_department_fullkeywords_reset[by_department_fullkeywords_reset['Department Name']=='NREM'].sort_values('Count',ascending=False).head(5)\nsns.barplot(x='Keyword',y='Count' ,data=NREM)\nplt.title('NREM')\nplt.xticks(rotation=0);",
    "id": "ca97227b4b7e4e8c822532b938e4fbca",
    "idx": 7,
    "time": "2020-11-14T23:41:59.973Z",
    "type": "execution"
   },
   {
    "id": "ca97227b4b7e4e8c822532b938e4fbca",
    "time": "2020-11-14T23:42:00.579Z",
    "type": "completion"
   },
   {
    "code": "\n# NSCI\nplt.figure\nNSCI = by_department_fullkeywords_reset[by_department_fullkeywords_reset['Department Name']=='NSCI'].sort_values('Count',ascending=False).head(5)\nsns.barplot(x='Keyword',y='Count' ,data=NSCI)\nplt.title('NSCI')\nplt.xticks(rotation=0);\n",
    "id": "15b019ee6a3f435ebe656a2df87fe1a9",
    "idx": 6,
    "time": "2020-11-14T23:42:11.351Z",
    "type": "execution"
   },
   {
    "id": "15b019ee6a3f435ebe656a2df87fe1a9",
    "time": "2020-11-14T23:42:11.592Z",
    "type": "completion"
   },
   {
    "code": "\n# NREM\nplt.figure\nNREM = by_department_fullkeywords_reset[by_department_fullkeywords_reset['Department Name']=='NREM'].sort_values('Count',ascending=False).head(5)\nsns.barplot(x='Keyword',y='Count' ,data=NREM)\nplt.title('NREM')\nplt.xticks(rotation=0);",
    "id": "ca97227b4b7e4e8c822532b938e4fbca",
    "idx": 7,
    "time": "2020-11-14T23:42:12.092Z",
    "type": "execution"
   },
   {
    "id": "ca97227b4b7e4e8c822532b938e4fbca",
    "time": "2020-11-14T23:42:12.328Z",
    "type": "completion"
   }
  ],
  "kernelspec": {
   "display_name": "Python 3",
   "language": "python",
   "name": "python3"
  },
  "language_info": {
   "codemirror_mode": {
    "name": "ipython",
    "version": 3
   },
   "file_extension": ".py",
   "mimetype": "text/x-python",
   "name": "python",
   "nbconvert_exporter": "python",
   "pygments_lexer": "ipython3",
   "version": "3.7.7"
  }
 },
 "nbformat": 4,
 "nbformat_minor": 4
}
