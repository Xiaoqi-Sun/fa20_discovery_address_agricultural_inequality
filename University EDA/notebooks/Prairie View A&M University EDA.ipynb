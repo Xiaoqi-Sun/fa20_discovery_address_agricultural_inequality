{
 "cells": [
  {
   "cell_type": "code",
   "execution_count": 1,
   "metadata": {},
   "outputs": [],
   "source": [
    "import pandas as pd\n",
    "import numpy as np\n",
    "import matplotlib.pyplot as plt\n",
    "import seaborn as sns\n",
    "%matplotlib inline\n"
   ]
  },
  {
   "cell_type": "code",
   "execution_count": 15,
   "metadata": {},
   "outputs": [],
   "source": [
    "# data = pd.read_csv('/Users/xiaoqisun/Desktop/Seven/Discovery Progam/Prairie_View_A&M_University 2016-20 Webscraped.csv')\n",
    "# data= data.rename(columns={'key':'Keyword'}).merge(right=depart, how='left',left_on='Department Name', right_on='Acronym')\n",
    "# data = data[['Course Catalogue Number','Department Name_y','Course Name','Course Description','Graduate/Undergraduate','Format','Lab','Academic Catalogue Year','Food Systems','Food Justice/Equity','Critical Pedagogy','Keyword']].rename(columns={'Department Name_y':'Department Name'})\n",
    "# data.to_csv('Praire combined to upload')"
   ]
  },
  {
   "cell_type": "code",
   "execution_count": 2,
   "metadata": {
    "scrolled": false
   },
   "outputs": [],
   "source": [
    "data = pd.read_csv('/Users/xiaoqisun/Desktop/Seven/Discovery Progam/Prairie_View_A&M_University 2016-20 Webscraped.csv').rename(columns={'key':'Keyword'})\n",
    "data['Keyword'] = data['Keyword'].apply(lambda x: x[1:-1].split(', '))\n",
    "clean_data = data.explode('Keyword')"
   ]
  },
  {
   "cell_type": "code",
   "execution_count": 3,
   "metadata": {},
   "outputs": [
    {
     "data": {
      "text/html": [
       "<div>\n",
       "<style scoped>\n",
       "    .dataframe tbody tr th:only-of-type {\n",
       "        vertical-align: middle;\n",
       "    }\n",
       "\n",
       "    .dataframe tbody tr th {\n",
       "        vertical-align: top;\n",
       "    }\n",
       "\n",
       "    .dataframe thead th {\n",
       "        text-align: right;\n",
       "    }\n",
       "</style>\n",
       "<table border=\"1\" class=\"dataframe\">\n",
       "  <thead>\n",
       "    <tr style=\"text-align: right;\">\n",
       "      <th></th>\n",
       "      <th>Keyword</th>\n",
       "    </tr>\n",
       "  </thead>\n",
       "  <tbody>\n",
       "    <tr>\n",
       "      <th>'agri'</th>\n",
       "      <td>173</td>\n",
       "    </tr>\n",
       "    <tr>\n",
       "      <th>'food'</th>\n",
       "      <td>160</td>\n",
       "    </tr>\n",
       "    <tr>\n",
       "      <th>' nutri'</th>\n",
       "      <td>122</td>\n",
       "    </tr>\n",
       "    <tr>\n",
       "      <th>'land'</th>\n",
       "      <td>93</td>\n",
       "    </tr>\n",
       "    <tr>\n",
       "      <th>'agro'</th>\n",
       "      <td>92</td>\n",
       "    </tr>\n",
       "    <tr>\n",
       "      <th>' animal'</th>\n",
       "      <td>77</td>\n",
       "    </tr>\n",
       "    <tr>\n",
       "      <th>'crop'</th>\n",
       "      <td>72</td>\n",
       "    </tr>\n",
       "    <tr>\n",
       "      <th>' soil'</th>\n",
       "      <td>71</td>\n",
       "    </tr>\n",
       "    <tr>\n",
       "      <th>'farm'</th>\n",
       "      <td>46</td>\n",
       "    </tr>\n",
       "    <tr>\n",
       "      <th>' metaboli'</th>\n",
       "      <td>43</td>\n",
       "    </tr>\n",
       "    <tr>\n",
       "      <th>' diet'</th>\n",
       "      <td>37</td>\n",
       "    </tr>\n",
       "    <tr>\n",
       "      <th>' rural '</th>\n",
       "      <td>35</td>\n",
       "    </tr>\n",
       "    <tr>\n",
       "      <th>' fiber'</th>\n",
       "      <td>32</td>\n",
       "    </tr>\n",
       "    <tr>\n",
       "      <th>' pest'</th>\n",
       "      <td>24</td>\n",
       "    </tr>\n",
       "    <tr>\n",
       "      <th>' cattle'</th>\n",
       "      <td>24</td>\n",
       "    </tr>\n",
       "    <tr>\n",
       "      <th>' sow'</th>\n",
       "      <td>22</td>\n",
       "    </tr>\n",
       "    <tr>\n",
       "      <th>' goat'</th>\n",
       "      <td>20</td>\n",
       "    </tr>\n",
       "    <tr>\n",
       "      <th>'breed'</th>\n",
       "      <td>18</td>\n",
       "    </tr>\n",
       "    <tr>\n",
       "      <th>' apple'</th>\n",
       "      <td>17</td>\n",
       "    </tr>\n",
       "    <tr>\n",
       "      <th>'alcohol'</th>\n",
       "      <td>17</td>\n",
       "    </tr>\n",
       "    <tr>\n",
       "      <th>' dairy '</th>\n",
       "      <td>17</td>\n",
       "    </tr>\n",
       "    <tr>\n",
       "      <th>' beef'</th>\n",
       "      <td>16</td>\n",
       "    </tr>\n",
       "    <tr>\n",
       "      <th>' carbohydrate'</th>\n",
       "      <td>16</td>\n",
       "    </tr>\n",
       "    <tr>\n",
       "      <th>' adult health '</th>\n",
       "      <td>16</td>\n",
       "    </tr>\n",
       "    <tr>\n",
       "      <th>' protein'</th>\n",
       "      <td>16</td>\n",
       "    </tr>\n",
       "    <tr>\n",
       "      <th>' ranch'</th>\n",
       "      <td>12</td>\n",
       "    </tr>\n",
       "    <tr>\n",
       "      <th>' amendment'</th>\n",
       "      <td>12</td>\n",
       "    </tr>\n",
       "    <tr>\n",
       "      <th>'bioremed'</th>\n",
       "      <td>12</td>\n",
       "    </tr>\n",
       "    <tr>\n",
       "      <th>' fertilize'</th>\n",
       "      <td>12</td>\n",
       "    </tr>\n",
       "    <tr>\n",
       "      <th>' distill'</th>\n",
       "      <td>12</td>\n",
       "    </tr>\n",
       "    <tr>\n",
       "      <th>' contaminant'</th>\n",
       "      <td>12</td>\n",
       "    </tr>\n",
       "    <tr>\n",
       "      <th>'harvest'</th>\n",
       "      <td>9</td>\n",
       "    </tr>\n",
       "    <tr>\n",
       "      <th>'botany'</th>\n",
       "      <td>8</td>\n",
       "    </tr>\n",
       "    <tr>\n",
       "      <th>' poultry '</th>\n",
       "      <td>8</td>\n",
       "    </tr>\n",
       "    <tr>\n",
       "      <th>' lipid'</th>\n",
       "      <td>8</td>\n",
       "    </tr>\n",
       "    <tr>\n",
       "      <th>'forage'</th>\n",
       "      <td>8</td>\n",
       "    </tr>\n",
       "    <tr>\n",
       "      <th>' productivity '</th>\n",
       "      <td>8</td>\n",
       "    </tr>\n",
       "    <tr>\n",
       "      <th>'geospatial'</th>\n",
       "      <td>7</td>\n",
       "    </tr>\n",
       "    <tr>\n",
       "      <th>' cultivation '</th>\n",
       "      <td>6</td>\n",
       "    </tr>\n",
       "    <tr>\n",
       "      <th>' till'</th>\n",
       "      <td>6</td>\n",
       "    </tr>\n",
       "    <tr>\n",
       "      <th>' vegetable'</th>\n",
       "      <td>5</td>\n",
       "    </tr>\n",
       "    <tr>\n",
       "      <th>' pig'</th>\n",
       "      <td>5</td>\n",
       "    </tr>\n",
       "    <tr>\n",
       "      <th>' refrigerat'</th>\n",
       "      <td>5</td>\n",
       "    </tr>\n",
       "    <tr>\n",
       "      <th>' greenhouse'</th>\n",
       "      <td>4</td>\n",
       "    </tr>\n",
       "    <tr>\n",
       "      <th>'digestion'</th>\n",
       "      <td>4</td>\n",
       "    </tr>\n",
       "    <tr>\n",
       "      <th>' weed'</th>\n",
       "      <td>4</td>\n",
       "    </tr>\n",
       "    <tr>\n",
       "      <th>' hunt'</th>\n",
       "      <td>4</td>\n",
       "    </tr>\n",
       "    <tr>\n",
       "      <th>' iron '</th>\n",
       "      <td>4</td>\n",
       "    </tr>\n",
       "    <tr>\n",
       "      <th>' rumina'</th>\n",
       "      <td>4</td>\n",
       "    </tr>\n",
       "    <tr>\n",
       "      <th>' poison'</th>\n",
       "      <td>4</td>\n",
       "    </tr>\n",
       "  </tbody>\n",
       "</table>\n",
       "</div>"
      ],
      "text/plain": [
       "                  Keyword\n",
       "'agri'                173\n",
       "'food'                160\n",
       "' nutri'              122\n",
       "'land'                 93\n",
       "'agro'                 92\n",
       "' animal'              77\n",
       "'crop'                 72\n",
       "' soil'                71\n",
       "'farm'                 46\n",
       "' metaboli'            43\n",
       "' diet'                37\n",
       "' rural '              35\n",
       "' fiber'               32\n",
       "' pest'                24\n",
       "' cattle'              24\n",
       "' sow'                 22\n",
       "' goat'                20\n",
       "'breed'                18\n",
       "' apple'               17\n",
       "'alcohol'              17\n",
       "' dairy '              17\n",
       "' beef'                16\n",
       "' carbohydrate'        16\n",
       "' adult health '       16\n",
       "' protein'             16\n",
       "' ranch'               12\n",
       "' amendment'           12\n",
       "'bioremed'             12\n",
       "' fertilize'           12\n",
       "' distill'             12\n",
       "' contaminant'         12\n",
       "'harvest'               9\n",
       "'botany'                8\n",
       "' poultry '             8\n",
       "' lipid'                8\n",
       "'forage'                8\n",
       "' productivity '        8\n",
       "'geospatial'            7\n",
       "' cultivation '         6\n",
       "' till'                 6\n",
       "' vegetable'            5\n",
       "' pig'                  5\n",
       "' refrigerat'           5\n",
       "' greenhouse'           4\n",
       "'digestion'             4\n",
       "' weed'                 4\n",
       "' hunt'                 4\n",
       "' iron '                4\n",
       "' rumina'               4\n",
       "' poison'               4"
      ]
     },
     "execution_count": 3,
     "metadata": {},
     "output_type": "execute_result"
    }
   ],
   "source": [
    "# frequency of top 50 keywords\n",
    "frequency_top50 = clean_data['Keyword'].value_counts().to_frame().head(50)\n",
    "frequency_top50"
   ]
  },
  {
   "cell_type": "code",
   "execution_count": 4,
   "metadata": {},
   "outputs": [
    {
     "data": {
      "text/html": [
       "<div>\n",
       "<style scoped>\n",
       "    .dataframe tbody tr th:only-of-type {\n",
       "        vertical-align: middle;\n",
       "    }\n",
       "\n",
       "    .dataframe tbody tr th {\n",
       "        vertical-align: top;\n",
       "    }\n",
       "\n",
       "    .dataframe thead th {\n",
       "        text-align: right;\n",
       "    }\n",
       "</style>\n",
       "<table border=\"1\" class=\"dataframe\">\n",
       "  <thead>\n",
       "    <tr style=\"text-align: right;\">\n",
       "      <th></th>\n",
       "      <th></th>\n",
       "      <th>Count</th>\n",
       "    </tr>\n",
       "    <tr>\n",
       "      <th>Department Name</th>\n",
       "      <th>Keyword</th>\n",
       "      <th></th>\n",
       "    </tr>\n",
       "  </thead>\n",
       "  <tbody>\n",
       "    <tr>\n",
       "      <th rowspan=\"4\" valign=\"top\">Ag and Human Resources (AGHR)</th>\n",
       "      <th>' rural '</th>\n",
       "      <td>4</td>\n",
       "    </tr>\n",
       "    <tr>\n",
       "      <th>'agri'</th>\n",
       "      <td>58</td>\n",
       "    </tr>\n",
       "    <tr>\n",
       "      <th>'food'</th>\n",
       "      <td>42</td>\n",
       "    </tr>\n",
       "    <tr>\n",
       "      <th>'land'</th>\n",
       "      <td>4</td>\n",
       "    </tr>\n",
       "    <tr>\n",
       "      <th>Agricultural Economics (AGEC)</th>\n",
       "      <th>' fiber'</th>\n",
       "      <td>8</td>\n",
       "    </tr>\n",
       "  </tbody>\n",
       "</table>\n",
       "</div>"
      ],
      "text/plain": [
       "                                         Count\n",
       "Department Name               Keyword         \n",
       "Ag and Human Resources (AGHR) ' rural '      4\n",
       "                              'agri'        58\n",
       "                              'food'        42\n",
       "                              'land'         4\n",
       "Agricultural Economics (AGEC) ' fiber'       8"
      ]
     },
     "execution_count": 4,
     "metadata": {},
     "output_type": "execute_result"
    }
   ],
   "source": [
    "# frequency of top 50 keywords in each department\n",
    "by_department = clean_data[clean_data['Keyword'].isin(frequency_top50.index)].groupby(['Department Name','Keyword']).count()\n",
    "frequency_in_department = by_department.loc[:,['Course Catalogue Number']].rename(columns={'Course Catalogue Number':'Count'})\n",
    "frequency_in_department.head()"
   ]
  },
  {
   "cell_type": "code",
   "execution_count": 5,
   "metadata": {
    "scrolled": false
   },
   "outputs": [
    {
     "data": {
      "text/html": [
       "<div>\n",
       "<style scoped>\n",
       "    .dataframe tbody tr th:only-of-type {\n",
       "        vertical-align: middle;\n",
       "    }\n",
       "\n",
       "    .dataframe tbody tr th {\n",
       "        vertical-align: top;\n",
       "    }\n",
       "\n",
       "    .dataframe thead th {\n",
       "        text-align: right;\n",
       "    }\n",
       "</style>\n",
       "<table border=\"1\" class=\"dataframe\">\n",
       "  <thead>\n",
       "    <tr style=\"text-align: right;\">\n",
       "      <th></th>\n",
       "      <th>Keyword</th>\n",
       "      <th>Count</th>\n",
       "    </tr>\n",
       "    <tr>\n",
       "      <th>Department Name</th>\n",
       "      <th></th>\n",
       "      <th></th>\n",
       "    </tr>\n",
       "  </thead>\n",
       "  <tbody>\n",
       "    <tr>\n",
       "      <th>1</th>\n",
       "      <td></td>\n",
       "      <td>1</td>\n",
       "    </tr>\n",
       "    <tr>\n",
       "      <th>Ag and Human Resources (AGHR)</th>\n",
       "      <td>'agri'</td>\n",
       "      <td>58</td>\n",
       "    </tr>\n",
       "    <tr>\n",
       "      <th>Agricultural Economics (AGEC)</th>\n",
       "      <td>'agri'</td>\n",
       "      <td>57</td>\n",
       "    </tr>\n",
       "    <tr>\n",
       "      <th>Agricultural Engineering (AGEG)</th>\n",
       "      <td>'agri'</td>\n",
       "      <td>8</td>\n",
       "    </tr>\n",
       "    <tr>\n",
       "      <th>Agronomy (AGRO)</th>\n",
       "      <td>'agro'</td>\n",
       "      <td>92</td>\n",
       "    </tr>\n",
       "    <tr>\n",
       "      <th>Animal Science (ANSC)</th>\n",
       "      <td>' animal'</td>\n",
       "      <td>33</td>\n",
       "    </tr>\n",
       "    <tr>\n",
       "      <th>Architecture (ARCH)</th>\n",
       "      <td>'land'</td>\n",
       "      <td>8</td>\n",
       "    </tr>\n",
       "    <tr>\n",
       "      <th>Army ROTC (ARMY)</th>\n",
       "      <td>'land'</td>\n",
       "      <td>19</td>\n",
       "    </tr>\n",
       "    <tr>\n",
       "      <th>Art (ARTS)</th>\n",
       "      <td>' fiber'</td>\n",
       "      <td>4</td>\n",
       "    </tr>\n",
       "    <tr>\n",
       "      <th>Biology (BIOL)</th>\n",
       "      <td>' animal'</td>\n",
       "      <td>20</td>\n",
       "    </tr>\n",
       "    <tr>\n",
       "      <th>Chemical Engineering (CHEG)</th>\n",
       "      <td>' distill'</td>\n",
       "      <td>12</td>\n",
       "    </tr>\n",
       "    <tr>\n",
       "      <th>Chemistry (CHEM)</th>\n",
       "      <td>' lipid'</td>\n",
       "      <td>8</td>\n",
       "    </tr>\n",
       "    <tr>\n",
       "      <th>Civil Engineering (CVEG)</th>\n",
       "      <td>' soil'</td>\n",
       "      <td>12</td>\n",
       "    </tr>\n",
       "    <tr>\n",
       "      <th>Clinical Psychology (CPSY)</th>\n",
       "      <td>' animal'</td>\n",
       "      <td>4</td>\n",
       "    </tr>\n",
       "    <tr>\n",
       "      <th>Communications (COMM)</th>\n",
       "      <td>' amendment'</td>\n",
       "      <td>4</td>\n",
       "    </tr>\n",
       "    <tr>\n",
       "      <th>Community Development (CODE)</th>\n",
       "      <td>'land'</td>\n",
       "      <td>8</td>\n",
       "    </tr>\n",
       "    <tr>\n",
       "      <th>Computer Engineering Tech (CPET)</th>\n",
       "      <td>'crop'</td>\n",
       "      <td>36</td>\n",
       "    </tr>\n",
       "    <tr>\n",
       "      <th>Computer Information Systems (CINS)</th>\n",
       "      <td>' apple'</td>\n",
       "      <td>4</td>\n",
       "    </tr>\n",
       "    <tr>\n",
       "      <th>Computer Science (COMP)</th>\n",
       "      <td>' apple'</td>\n",
       "      <td>13</td>\n",
       "    </tr>\n",
       "    <tr>\n",
       "      <th>Construction Science (CONS)</th>\n",
       "      <td>' soil'</td>\n",
       "      <td>7</td>\n",
       "    </tr>\n",
       "    <tr>\n",
       "      <th>Criminal Justice (CRJS)</th>\n",
       "      <td>'land'</td>\n",
       "      <td>5</td>\n",
       "    </tr>\n",
       "    <tr>\n",
       "      <th>Design (DESN)</th>\n",
       "      <td>' pig'</td>\n",
       "      <td>1</td>\n",
       "    </tr>\n",
       "    <tr>\n",
       "      <th>Electrical Engineering (ELEG)</th>\n",
       "      <td>'crop'</td>\n",
       "      <td>16</td>\n",
       "    </tr>\n",
       "    <tr>\n",
       "      <th>Electrical Engineering Tech (ELET)</th>\n",
       "      <td>' fiber'</td>\n",
       "      <td>4</td>\n",
       "    </tr>\n",
       "    <tr>\n",
       "      <th>Entrepreneurship (ENTR)</th>\n",
       "      <td>'harvest'</td>\n",
       "      <td>4</td>\n",
       "    </tr>\n",
       "    <tr>\n",
       "      <th>Food Science (FDSC)</th>\n",
       "      <td>'food'</td>\n",
       "      <td>12</td>\n",
       "    </tr>\n",
       "    <tr>\n",
       "      <th>Geography (GEOG)</th>\n",
       "      <td>'land'</td>\n",
       "      <td>4</td>\n",
       "    </tr>\n",
       "    <tr>\n",
       "      <th>Health (HLTH)</th>\n",
       "      <td>' nutri'</td>\n",
       "      <td>12</td>\n",
       "    </tr>\n",
       "    <tr>\n",
       "      <th>History (HIST)</th>\n",
       "      <td>'agri'</td>\n",
       "      <td>4</td>\n",
       "    </tr>\n",
       "    <tr>\n",
       "      <th>Human Development &amp; Family (HDFM)</th>\n",
       "      <td>'alcohol'</td>\n",
       "      <td>8</td>\n",
       "    </tr>\n",
       "    <tr>\n",
       "      <th>Human Nutrition &amp; Food (HUNF)</th>\n",
       "      <td>' nutri'</td>\n",
       "      <td>57</td>\n",
       "    </tr>\n",
       "    <tr>\n",
       "      <th>Human Science (HUSC)</th>\n",
       "      <td>' nutri'</td>\n",
       "      <td>24</td>\n",
       "    </tr>\n",
       "    <tr>\n",
       "      <th>Juvenile Justice (JJUS)</th>\n",
       "      <td>' malt'</td>\n",
       "      <td>4</td>\n",
       "    </tr>\n",
       "    <tr>\n",
       "      <th>Mechanical Engineering (MCEG)</th>\n",
       "      <td>' refrigerat'</td>\n",
       "      <td>4</td>\n",
       "    </tr>\n",
       "    <tr>\n",
       "      <th>Music (MUSC)</th>\n",
       "      <td>' beet'</td>\n",
       "      <td>4</td>\n",
       "    </tr>\n",
       "    <tr>\n",
       "      <th>Nursing (NURS)</th>\n",
       "      <td>' rural '</td>\n",
       "      <td>19</td>\n",
       "    </tr>\n",
       "    <tr>\n",
       "      <th>Physics (PHYS)</th>\n",
       "      <td>' recipe'</td>\n",
       "      <td>4</td>\n",
       "    </tr>\n",
       "    <tr>\n",
       "      <th>Political Science (POSC)</th>\n",
       "      <td>' amendment'</td>\n",
       "      <td>4</td>\n",
       "    </tr>\n",
       "    <tr>\n",
       "      <th>Psychology (PSYC)</th>\n",
       "      <td>' animal'</td>\n",
       "      <td>4</td>\n",
       "    </tr>\n",
       "    <tr>\n",
       "      <th>Social Work (SOWK)</th>\n",
       "      <td>' sow'</td>\n",
       "      <td>22</td>\n",
       "    </tr>\n",
       "    <tr>\n",
       "      <th>Sociology (SOCG)</th>\n",
       "      <td>' animal'</td>\n",
       "      <td>4</td>\n",
       "    </tr>\n",
       "    <tr>\n",
       "      <th>Technology (TECH)</th>\n",
       "      <td>'land'</td>\n",
       "      <td>1</td>\n",
       "    </tr>\n",
       "  </tbody>\n",
       "</table>\n",
       "</div>"
      ],
      "text/plain": [
       "                                           Keyword  Count\n",
       "Department Name                                          \n",
       "1                                                       1\n",
       "Ag and Human Resources (AGHR)               'agri'     58\n",
       "Agricultural Economics (AGEC)               'agri'     57\n",
       "Agricultural Engineering (AGEG)             'agri'      8\n",
       "Agronomy (AGRO)                             'agro'     92\n",
       "Animal Science (ANSC)                    ' animal'     33\n",
       "Architecture (ARCH)                         'land'      8\n",
       "Army ROTC (ARMY)                            'land'     19\n",
       "Art (ARTS)                                ' fiber'      4\n",
       "Biology (BIOL)                           ' animal'     20\n",
       "Chemical Engineering (CHEG)             ' distill'     12\n",
       "Chemistry (CHEM)                          ' lipid'      8\n",
       "Civil Engineering (CVEG)                   ' soil'     12\n",
       "Clinical Psychology (CPSY)               ' animal'      4\n",
       "Communications (COMM)                 ' amendment'      4\n",
       "Community Development (CODE)                'land'      8\n",
       "Computer Engineering Tech (CPET)            'crop'     36\n",
       "Computer Information Systems (CINS)       ' apple'      4\n",
       "Computer Science (COMP)                   ' apple'     13\n",
       "Construction Science (CONS)                ' soil'      7\n",
       "Criminal Justice (CRJS)                     'land'      5\n",
       "Design (DESN)                               ' pig'      1\n",
       "Electrical Engineering (ELEG)               'crop'     16\n",
       "Electrical Engineering Tech (ELET)        ' fiber'      4\n",
       "Entrepreneurship (ENTR)                  'harvest'      4\n",
       "Food Science (FDSC)                         'food'     12\n",
       "Geography (GEOG)                            'land'      4\n",
       "Health (HLTH)                             ' nutri'     12\n",
       "History (HIST)                              'agri'      4\n",
       "Human Development & Family (HDFM)        'alcohol'      8\n",
       "Human Nutrition & Food (HUNF)             ' nutri'     57\n",
       "Human Science (HUSC)                      ' nutri'     24\n",
       "Juvenile Justice (JJUS)                    ' malt'      4\n",
       "Mechanical Engineering (MCEG)        ' refrigerat'      4\n",
       "Music (MUSC)                               ' beet'      4\n",
       "Nursing (NURS)                           ' rural '     19\n",
       "Physics (PHYS)                           ' recipe'      4\n",
       "Political Science (POSC)              ' amendment'      4\n",
       "Psychology (PSYC)                        ' animal'      4\n",
       "Social Work (SOWK)                          ' sow'     22\n",
       "Sociology (SOCG)                         ' animal'      4\n",
       "Technology (TECH)                           'land'      1"
      ]
     },
     "execution_count": 5,
     "metadata": {},
     "output_type": "execute_result"
    }
   ],
   "source": [
    "# top keyword in each department\n",
    "by_department_fullkeywords = clean_data.groupby(['Department Name','Keyword']).count().loc[:,['Course Catalogue Number']].rename(columns={'Course Catalogue Number':'Count'})\n",
    "by_department_fullkeywords_reset = by_department_fullkeywords.reset_index()\n",
    "top_key_dep=by_department_fullkeywords_reset.sort_values('Count').groupby('Department Name').last()\n",
    "top_key_dep"
   ]
  },
  {
   "cell_type": "code",
   "execution_count": 6,
   "metadata": {},
   "outputs": [
    {
     "data": {
      "text/html": [
       "<div>\n",
       "<style scoped>\n",
       "    .dataframe tbody tr th:only-of-type {\n",
       "        vertical-align: middle;\n",
       "    }\n",
       "\n",
       "    .dataframe tbody tr th {\n",
       "        vertical-align: top;\n",
       "    }\n",
       "\n",
       "    .dataframe thead th {\n",
       "        text-align: right;\n",
       "    }\n",
       "</style>\n",
       "<table border=\"1\" class=\"dataframe\">\n",
       "  <thead>\n",
       "    <tr style=\"text-align: right;\">\n",
       "      <th></th>\n",
       "      <th>Count</th>\n",
       "    </tr>\n",
       "    <tr>\n",
       "      <th>Department Name</th>\n",
       "      <th></th>\n",
       "    </tr>\n",
       "  </thead>\n",
       "  <tbody>\n",
       "    <tr>\n",
       "      <th>Agronomy (AGRO)</th>\n",
       "      <td>364</td>\n",
       "    </tr>\n",
       "    <tr>\n",
       "      <th>Animal Science (ANSC)</th>\n",
       "      <td>221</td>\n",
       "    </tr>\n",
       "    <tr>\n",
       "      <th>Human Nutrition &amp; Food (HUNF)</th>\n",
       "      <td>156</td>\n",
       "    </tr>\n",
       "  </tbody>\n",
       "</table>\n",
       "</div>"
      ],
      "text/plain": [
       "                               Count\n",
       "Department Name                     \n",
       "Agronomy (AGRO)                  364\n",
       "Animal Science (ANSC)            221\n",
       "Human Nutrition & Food (HUNF)    156"
      ]
     },
     "execution_count": 6,
     "metadata": {},
     "output_type": "execute_result"
    }
   ],
   "source": [
    "#distribution of top 10 \n",
    "top3_department = by_department_fullkeywords_reset.groupby('Department Name').sum().sort_values('Count',ascending=False).head(3)\n",
    "top3_department\n"
   ]
  },
  {
   "cell_type": "code",
   "execution_count": 8,
   "metadata": {},
   "outputs": [
    {
     "data": {
      "image/png": "[encoded data removed]",
      "text/plain": [
       "<Figure size 432x288 with 1 Axes>"
      ]
     },
     "metadata": {
      "needs_background": "light"
     },
     "output_type": "display_data"
    }
   ],
   "source": [
    "# Argo\n",
    "plt.figure\n",
    "ARGO = by_department_fullkeywords_reset[by_department_fullkeywords_reset['Department Name']=='Agronomy (AGRO)'].sort_values('Count',ascending=False).head(5)\n",
    "sns.barplot(x='Keyword',y='Count' ,data=ARGO)\n",
    "plt.title('Agronomy (AGRO)');\n"
   ]
  },
  {
   "cell_type": "code",
   "execution_count": 9,
   "metadata": {},
   "outputs": [
    {
     "data": {
      "image/png": "[encoded data removed]",
      "text/plain": [
       "<Figure size 432x288 with 1 Axes>"
      ]
     },
     "metadata": {
      "needs_background": "light"
     },
     "output_type": "display_data"
    }
   ],
   "source": [
    "# ANSC\n",
    "plt.figure\n",
    "ANSC = by_department_fullkeywords_reset[by_department_fullkeywords_reset['Department Name']=='Animal Science (ANSC)'].sort_values('Count',ascending=False).head(5)\n",
    "sns.barplot(x='Keyword',y='Count' ,data=ANSC)\n",
    "plt.title('Animal Science (ANSC)');\n"
   ]
  },
  {
   "cell_type": "code",
   "execution_count": 10,
   "metadata": {},
   "outputs": [
    {
     "data": {
      "image/png": "[encoded data removed]",
      "text/plain": [
       "<Figure size 432x288 with 1 Axes>"
      ]
     },
     "metadata": {
      "needs_background": "light"
     },
     "output_type": "display_data"
    }
   ],
   "source": [
    "\n",
    "# HUNF\n",
    "plt.figure\n",
    "HUNF = by_department_fullkeywords_reset[by_department_fullkeywords_reset['Department Name']=='Human Nutrition & Food (HUNF)'].sort_values('Count',ascending=False).head(5)\n",
    "sns.barplot(x='Keyword',y='Count' ,data=HUNF)\n",
    "plt.title('Human Nutrition & Food (HUNF)');\n"
   ]
  },
  {
   "cell_type": "code",
   "execution_count": 11,
   "metadata": {},
   "outputs": [],
   "source": [
    "# export\n",
    "writer = pd.ExcelWriter('/Users/xiaoqisun/Desktop/Seven/Discovery Progam/EDA/Prairie View A&M University EDA result.xlsx', engine='xlsxwriter')\n",
    "\n",
    "frequency_top50.to_excel(writer, sheet_name='top 50 keywords')\n",
    "frequency_in_department.to_excel(writer, sheet_name='keywords in dep')\n",
    "top_key_dep.to_excel(writer, sheet_name='top keyword in dep')\n",
    "\n",
    "writer.save()"
   ]
  },
  {
   "cell_type": "code",
   "execution_count": null,
   "metadata": {},
   "outputs": [],
   "source": []
  }
 ],
 "metadata": {
  "history": [
   {
    "code": "import Pandas as pd\nimport Numpy as np",
    "id": "0f56f3c3567f4dc49e9ba9e6e31cba7c",
    "idx": 0,
    "time": "2020-11-14T22:22:10.382Z",
    "type": "execution"
   },
   {
    "id": "0f56f3c3567f4dc49e9ba9e6e31cba7c",
    "time": "2020-11-14T22:22:10.501Z",
    "type": "completion"
   },
   {
    "code": "import pandas as pd\nimport Numpy as np",
    "id": "0f56f3c3567f4dc49e9ba9e6e31cba7c",
    "idx": 0,
    "time": "2020-11-14T22:22:13.384Z",
    "type": "execution"
   },
   {
    "id": "0f56f3c3567f4dc49e9ba9e6e31cba7c",
    "time": "2020-11-14T22:22:13.833Z",
    "type": "completion"
   },
   {
    "code": "import pandas as pd\nimport numpy as np",
    "id": "0f56f3c3567f4dc49e9ba9e6e31cba7c",
    "idx": 0,
    "time": "2020-11-14T22:22:16.714Z",
    "type": "execution"
   },
   {
    "id": "0f56f3c3567f4dc49e9ba9e6e31cba7c",
    "time": "2020-11-14T22:22:16.776Z",
    "type": "completion"
   },
   {
    "code": "pd.read_csv('Oklahoma_State_University Courses 2017-21 Webscraped(with keyword).csv')",
    "id": "5e84dbae4ee44db289e0dee6277ad98e",
    "idx": 1,
    "time": "2020-11-14T22:22:24.831Z",
    "type": "execution"
   },
   {
    "id": "5e84dbae4ee44db289e0dee6277ad98e",
    "time": "2020-11-14T22:22:25.127Z",
    "type": "completion"
   },
   {
    "code": "data = pd.read_csv('Oklahoma_State_University 2017-21 Webscraped.csv')",
    "id": "5e84dbae4ee44db289e0dee6277ad98e",
    "idx": 1,
    "time": "2020-11-14T22:23:49.960Z",
    "type": "execution"
   },
   {
    "id": "5e84dbae4ee44db289e0dee6277ad98e",
    "time": "2020-11-14T22:23:50.072Z",
    "type": "completion"
   },
   {
    "code": "data = pd.read_csv('Oklahoma_State_University 2017-21 Webscraped.csv')\ndata",
    "id": "5e84dbae4ee44db289e0dee6277ad98e",
    "idx": 1,
    "time": "2020-11-14T22:23:52.964Z",
    "type": "execution"
   },
   {
    "id": "5e84dbae4ee44db289e0dee6277ad98e",
    "time": "2020-11-14T22:23:53.101Z",
    "type": "completion"
   },
   {
    "code": "data.explode('Keyword')",
    "id": "a5e7a5439d804d788376e8e70ef2cb7e",
    "idx": 2,
    "time": "2020-11-14T22:24:18.783Z",
    "type": "execution"
   },
   {
    "id": "a5e7a5439d804d788376e8e70ef2cb7e",
    "time": "2020-11-14T22:24:18.949Z",
    "type": "completion"
   },
   {
    "code": "more_than_one = data['Keyword'].apply(lambda x: 1 if len(x))",
    "id": "a74ad49f882c46088fa4efa9834908bb",
    "idx": 2,
    "time": "2020-11-14T22:26:10.928Z",
    "type": "execution"
   },
   {
    "id": "a74ad49f882c46088fa4efa9834908bb",
    "time": "2020-11-14T22:26:11.013Z",
    "type": "completion"
   },
   {
    "code": "more_than_one = data['Keyword'].apply(lambda x: 1 if len(x)>1)",
    "id": "a74ad49f882c46088fa4efa9834908bb",
    "idx": 2,
    "time": "2020-11-14T22:26:30.505Z",
    "type": "execution"
   },
   {
    "id": "a74ad49f882c46088fa4efa9834908bb",
    "time": "2020-11-14T22:26:30.761Z",
    "type": "completion"
   },
   {
    "code": "def f(x):\n    if len(x) > 1:\n        return 1\n    else:\n        return 0\n\n\nmore_than_one = data['Keyword'].apply(f)",
    "id": "a74ad49f882c46088fa4efa9834908bb",
    "idx": 2,
    "time": "2020-11-14T22:27:24.348Z",
    "type": "execution"
   },
   {
    "id": "a74ad49f882c46088fa4efa9834908bb",
    "time": "2020-11-14T22:27:24.424Z",
    "type": "completion"
   },
   {
    "code": "more_than_one",
    "id": "cf48b7362a9c420d88e4a626294190f9",
    "idx": 3,
    "time": "2020-11-14T22:27:28.405Z",
    "type": "execution"
   },
   {
    "id": "cf48b7362a9c420d88e4a626294190f9",
    "time": "2020-11-14T22:27:28.470Z",
    "type": "completion"
   },
   {
    "code": "data['Keyword'].loc[:,'Keyword']",
    "id": "cf48b7362a9c420d88e4a626294190f9",
    "idx": 2,
    "time": "2020-11-14T22:28:49.214Z",
    "type": "execution"
   },
   {
    "id": "cf48b7362a9c420d88e4a626294190f9",
    "time": "2020-11-14T22:28:49.339Z",
    "type": "completion"
   },
   {
    "code": "data.loc[:,'Keyword']",
    "id": "cf48b7362a9c420d88e4a626294190f9",
    "idx": 2,
    "time": "2020-11-14T22:28:57.480Z",
    "type": "execution"
   },
   {
    "id": "cf48b7362a9c420d88e4a626294190f9",
    "time": "2020-11-14T22:28:57.545Z",
    "type": "completion"
   },
   {
    "code": "data.loc[:,'Keyword'][0]",
    "id": "cf48b7362a9c420d88e4a626294190f9",
    "idx": 2,
    "time": "2020-11-14T22:29:05.106Z",
    "type": "execution"
   },
   {
    "id": "cf48b7362a9c420d88e4a626294190f9",
    "time": "2020-11-14T22:29:05.170Z",
    "type": "completion"
   },
   {
    "code": "type(data.loc[:,'Keyword'][0])",
    "id": "cf48b7362a9c420d88e4a626294190f9",
    "idx": 2,
    "time": "2020-11-14T22:29:10.375Z",
    "type": "execution"
   },
   {
    "id": "cf48b7362a9c420d88e4a626294190f9",
    "time": "2020-11-14T22:29:10.452Z",
    "type": "completion"
   },
   {
    "code": "data['Keyword'].apply(str.split(','))",
    "id": "cf48b7362a9c420d88e4a626294190f9",
    "idx": 2,
    "time": "2020-11-14T22:30:09.411Z",
    "type": "execution"
   },
   {
    "id": "cf48b7362a9c420d88e4a626294190f9",
    "time": "2020-11-14T22:30:09.738Z",
    "type": "completion"
   },
   {
    "code": "data['Keyword'].apply(lambda x: x.split(','))",
    "id": "cf48b7362a9c420d88e4a626294190f9",
    "idx": 2,
    "time": "2020-11-14T22:30:34.833Z",
    "type": "execution"
   },
   {
    "id": "cf48b7362a9c420d88e4a626294190f9",
    "time": "2020-11-14T22:30:34.906Z",
    "type": "completion"
   },
   {
    "code": "data['Keyword'].apply(lambda x: x[1:-1])",
    "id": "cf48b7362a9c420d88e4a626294190f9",
    "idx": 2,
    "time": "2020-11-14T22:31:08.472Z",
    "type": "execution"
   },
   {
    "id": "cf48b7362a9c420d88e4a626294190f9",
    "time": "2020-11-14T22:31:08.539Z",
    "type": "completion"
   },
   {
    "code": "data['Keyword'].apply(lambda x: x[1:-1].split(','))",
    "id": "cf48b7362a9c420d88e4a626294190f9",
    "idx": 2,
    "time": "2020-11-14T22:31:17.126Z",
    "type": "execution"
   },
   {
    "id": "cf48b7362a9c420d88e4a626294190f9",
    "time": "2020-11-14T22:31:17.255Z",
    "type": "completion"
   },
   {
    "code": "data['Keyword'] = data['Keyword'].apply(lambda x: x[1:-1].split(','))\ndata",
    "id": "cf48b7362a9c420d88e4a626294190f9",
    "idx": 3,
    "time": "2020-11-14T22:32:26.216Z",
    "type": "execution"
   },
   {
    "id": "cf48b7362a9c420d88e4a626294190f9",
    "time": "2020-11-14T22:32:26.316Z",
    "type": "completion"
   },
   {
    "code": "data.explode('Keyword')",
    "id": "c141f214e226400e956ffd2a3ca64057",
    "idx": 5,
    "time": "2020-11-14T22:32:47.344Z",
    "type": "execution"
   },
   {
    "id": "c141f214e226400e956ffd2a3ca64057",
    "time": "2020-11-14T22:32:47.465Z",
    "type": "completion"
   },
   {
    "code": "clean_data = data.explode('Keyword')",
    "id": "c141f214e226400e956ffd2a3ca64057",
    "idx": 5,
    "time": "2020-11-14T22:33:54.497Z",
    "type": "execution"
   },
   {
    "id": "c141f214e226400e956ffd2a3ca64057",
    "time": "2020-11-14T22:33:54.589Z",
    "type": "completion"
   },
   {
    "code": "clean_data.groupby('Keyword').count()",
    "id": "7d9dcf6a397543fc8859929e65f4ea42",
    "idx": 6,
    "time": "2020-11-14T22:34:27.304Z",
    "type": "execution"
   },
   {
    "id": "7d9dcf6a397543fc8859929e65f4ea42",
    "time": "2020-11-14T22:34:27.395Z",
    "type": "completion"
   },
   {
    "code": "clean_data['Keyword'].value_counts()",
    "id": "04b62fd5347245998e9a7806ef81fed0",
    "idx": 6,
    "time": "2020-11-14T22:35:18.694Z",
    "type": "execution"
   },
   {
    "id": "04b62fd5347245998e9a7806ef81fed0",
    "time": "2020-11-14T22:35:18.837Z",
    "type": "completion"
   },
   {
    "code": "clean_data['Keyword'].value_counts().to_frame()",
    "id": "04b62fd5347245998e9a7806ef81fed0",
    "idx": 6,
    "time": "2020-11-14T22:35:29.030Z",
    "type": "execution"
   },
   {
    "id": "04b62fd5347245998e9a7806ef81fed0",
    "time": "2020-11-14T22:35:29.115Z",
    "type": "completion"
   },
   {
    "code": "clean_data.groupby(['Department Name','Keyword']).count()",
    "id": "7d9dcf6a397543fc8859929e65f4ea42",
    "idx": 7,
    "time": "2020-11-14T22:39:24.600Z",
    "type": "execution"
   },
   {
    "id": "7d9dcf6a397543fc8859929e65f4ea42",
    "time": "2020-11-14T22:39:24.741Z",
    "type": "completion"
   },
   {
    "code": "clean_data[clean_data['Keyword'].isin(frequency_top50.index)].groupby(['Department Name','Keyword']).count()",
    "id": "7d9dcf6a397543fc8859929e65f4ea42",
    "idx": 7,
    "time": "2020-11-14T22:40:12.814Z",
    "type": "execution"
   },
   {
    "id": "7d9dcf6a397543fc8859929e65f4ea42",
    "time": "2020-11-14T22:40:12.941Z",
    "type": "completion"
   },
   {
    "code": "# frequency of top 50 keywords\nfrequency_top50 = clean_data['Keyword'].value_counts().to_frame().head(50)",
    "id": "04b62fd5347245998e9a7806ef81fed0",
    "idx": 6,
    "time": "2020-11-14T22:40:16.427Z",
    "type": "execution"
   },
   {
    "id": "04b62fd5347245998e9a7806ef81fed0",
    "time": "2020-11-14T22:40:16.726Z",
    "type": "completion"
   },
   {
    "code": "clean_data[clean_data['Keyword'].isin(frequency_top50.index)].groupby(['Department Name','Keyword']).count()",
    "id": "7d9dcf6a397543fc8859929e65f4ea42",
    "idx": 7,
    "time": "2020-11-14T22:40:19.742Z",
    "type": "execution"
   },
   {
    "id": "7d9dcf6a397543fc8859929e65f4ea42",
    "time": "2020-11-14T22:40:19.914Z",
    "type": "completion"
   },
   {
    "code": "clean_data[clean_data['Keyword'].isin(frequency_top50.index)]['Course Name'].groupby(['Department Name','Keyword']).count()",
    "id": "7d9dcf6a397543fc8859929e65f4ea42",
    "idx": 7,
    "time": "2020-11-14T22:40:49.128Z",
    "type": "execution"
   },
   {
    "id": "7d9dcf6a397543fc8859929e65f4ea42",
    "time": "2020-11-14T22:40:49.343Z",
    "type": "completion"
   },
   {
    "code": "clean_data[clean_data['Keyword'].isin(frequency_top50.index)].groupby(['Department Name','Keyword']).count().iloc[:,[['Course Name']]]",
    "id": "7d9dcf6a397543fc8859929e65f4ea42",
    "idx": 7,
    "time": "2020-11-14T22:41:12.342Z",
    "type": "execution"
   },
   {
    "id": "7d9dcf6a397543fc8859929e65f4ea42",
    "time": "2020-11-14T22:41:12.486Z",
    "type": "completion"
   },
   {
    "code": "clean_data[clean_data['Keyword'].isin(frequency_top50.index)].groupby(['Department Name','Keyword']).count().loc[:,[['Course Name']]]",
    "id": "7d9dcf6a397543fc8859929e65f4ea42",
    "idx": 7,
    "time": "2020-11-14T22:41:16.939Z",
    "type": "execution"
   },
   {
    "id": "7d9dcf6a397543fc8859929e65f4ea42",
    "time": "2020-11-14T22:41:17.160Z",
    "type": "completion"
   },
   {
    "code": "clean_data[clean_data['Keyword'].isin(frequency_top50.index)].groupby(['Department Name','Keyword']).count()",
    "id": "7d9dcf6a397543fc8859929e65f4ea42",
    "idx": 7,
    "time": "2020-11-14T22:41:27.349Z",
    "type": "execution"
   },
   {
    "id": "7d9dcf6a397543fc8859929e65f4ea42",
    "time": "2020-11-14T22:41:27.467Z",
    "type": "completion"
   },
   {
    "code": "by_department = clean_data[clean_data['Keyword'].isin(frequency_top50.index)].groupby(['Department Name','Keyword']).count()\nby_department.loc[:,['Course Catalogue Number']]",
    "id": "7d9dcf6a397543fc8859929e65f4ea42",
    "idx": 7,
    "time": "2020-11-14T22:42:02.657Z",
    "type": "execution"
   },
   {
    "id": "7d9dcf6a397543fc8859929e65f4ea42",
    "time": "2020-11-14T22:42:02.755Z",
    "type": "completion"
   },
   {
    "code": "# frequency of top 50 keywords in each department\nby_department = clean_data[clean_data['Keyword'].isin(frequency_top50.index)].groupby(['Department Name','Keyword']).count()\nfrequency_in_department = by_department.loc[:,['Course Catalogue Number']].rename(columns={'Course Catalogue Number':'Count'})\nfrequency_in_department",
    "id": "7d9dcf6a397543fc8859929e65f4ea42",
    "idx": 7,
    "time": "2020-11-14T22:43:19.483Z",
    "type": "execution"
   },
   {
    "id": "7d9dcf6a397543fc8859929e65f4ea42",
    "time": "2020-11-14T22:43:19.587Z",
    "type": "completion"
   },
   {
    "code": "frequency_in_department.reset_index()",
    "id": "6592ff246e574c8982fede445b045dc0",
    "idx": 8,
    "time": "2020-11-14T22:44:26.800Z",
    "type": "execution"
   },
   {
    "id": "6592ff246e574c8982fede445b045dc0",
    "time": "2020-11-14T22:44:26.878Z",
    "type": "completion"
   },
   {
    "code": "clean_data.head()",
    "id": "6bdec113fa8c460bb85f390908ca2f87",
    "idx": 8,
    "time": "2020-11-14T22:45:32.325Z",
    "type": "execution"
   },
   {
    "id": "6bdec113fa8c460bb85f390908ca2f87",
    "time": "2020-11-14T22:45:32.404Z",
    "type": "completion"
   },
   {
    "code": "frequency_in_department.head()",
    "id": "6bdec113fa8c460bb85f390908ca2f87",
    "idx": 8,
    "time": "2020-11-14T22:45:58.185Z",
    "type": "execution"
   },
   {
    "id": "6bdec113fa8c460bb85f390908ca2f87",
    "time": "2020-11-14T22:45:58.255Z",
    "type": "completion"
   },
   {
    "code": "# top keywords in each department\nby_department_fullkeywords = clean_data.groupby(['Department Name','Keyword']).count()\n\nby_department_fullkeywords",
    "id": "2c412c383adc4b9b8e8c838c3de2b397",
    "idx": 8,
    "time": "2020-11-14T22:47:19.203Z",
    "type": "execution"
   },
   {
    "id": "2c412c383adc4b9b8e8c838c3de2b397",
    "time": "2020-11-14T22:47:19.329Z",
    "type": "completion"
   },
   {
    "code": "# top keywords in each department\nby_department_fullkeywords = clean_data.groupby(['Department Name','Keyword']).count().loc[:,['Course Catalogue Number']].rename(columns={'Course Catalogue Number':'Count'})\n\nby_department_fullkeywords",
    "id": "2c412c383adc4b9b8e8c838c3de2b397",
    "idx": 8,
    "time": "2020-11-14T22:47:55.376Z",
    "type": "execution"
   },
   {
    "id": "2c412c383adc4b9b8e8c838c3de2b397",
    "time": "2020-11-14T22:47:55.485Z",
    "type": "completion"
   },
   {
    "code": "# top keywords in each department\nby_department_fullkeywords = clean_data.groupby(['Department Name','Keyword']).count().loc[:,['Course Catalogue Number']].rename(columns={'Course Catalogue Number':'Count'})\n\nby_department_fullkeywords.reset_index().groupby('Department Name').max()",
    "id": "2c412c383adc4b9b8e8c838c3de2b397",
    "idx": 8,
    "time": "2020-11-14T22:48:59.655Z",
    "type": "execution"
   },
   {
    "id": "2c412c383adc4b9b8e8c838c3de2b397",
    "time": "2020-11-14T22:48:59.777Z",
    "type": "completion"
   },
   {
    "code": "# top keywords in each department\nby_department_fullkeywords = clean_data.groupby(['Department Name','Keyword']).count().loc[:,['Course Catalogue Number']].rename(columns={'Course Catalogue Number':'Count'})\nby_department_fullkeywords\n#by_department_fullkeywords.reset_index().groupby('Department Name').max()",
    "id": "2c412c383adc4b9b8e8c838c3de2b397",
    "idx": 8,
    "time": "2020-11-14T22:49:59.697Z",
    "type": "execution"
   },
   {
    "id": "2c412c383adc4b9b8e8c838c3de2b397",
    "time": "2020-11-14T22:49:59.796Z",
    "type": "completion"
   },
   {
    "code": "# top keywords in each department\nby_department_fullkeywords = clean_data.groupby(['Department Name','Keyword']).count().loc[:,['Course Catalogue Number']].rename(columns={'Course Catalogue Number':'Count'})\nby_department_fullkeywords.query(\"Department Name== VCS\")\n#by_department_fullkeywords.reset_index().groupby('Department Name').max()",
    "id": "2c412c383adc4b9b8e8c838c3de2b397",
    "idx": 8,
    "time": "2020-11-14T22:50:22.447Z",
    "type": "execution"
   },
   {
    "id": "2c412c383adc4b9b8e8c838c3de2b397",
    "time": "2020-11-14T22:50:22.543Z",
    "type": "completion"
   },
   {
    "code": "# top keywords in each department\nby_department_fullkeywords = clean_data.groupby(['Department Name','Keyword']).count().loc[:,['Course Catalogue Number']].rename(columns={'Course Catalogue Number':'Count'})\nby_department_fullkeywords.query(\"Department Name = VCS\")\n#by_department_fullkeywords.reset_index().groupby('Department Name').max()",
    "id": "2c412c383adc4b9b8e8c838c3de2b397",
    "idx": 8,
    "time": "2020-11-14T22:50:28.004Z",
    "type": "execution"
   },
   {
    "id": "2c412c383adc4b9b8e8c838c3de2b397",
    "time": "2020-11-14T22:50:28.087Z",
    "type": "completion"
   },
   {
    "code": "# top keywords in each department\nby_department_fullkeywords = clean_data.groupby(['Department Name','Keyword']).count().loc[:,['Course Catalogue Number']].rename(columns={'Course Catalogue Number':'Count'})\nby_department_fullkeywords[by_department_fullkeywords['Department Name']=='VCS']\n#by_department_fullkeywords.reset_index().groupby('Department Name').max()",
    "id": "2c412c383adc4b9b8e8c838c3de2b397",
    "idx": 8,
    "time": "2020-11-14T22:50:45.134Z",
    "type": "execution"
   },
   {
    "id": "2c412c383adc4b9b8e8c838c3de2b397",
    "time": "2020-11-14T22:50:45.285Z",
    "type": "completion"
   },
   {
    "code": "# top keywords in each department\nby_department_fullkeywords = clean_data.groupby(['Department Name','Keyword']).count().loc[:,['Course Catalogue Number']].rename(columns={'Course Catalogue Number':'Count'})\nby_department_fullkeywords#[by_department_fullkeywords['Department Name']=='VCS']\n#by_department_fullkeywords.reset_index().groupby('Department Name').max()",
    "id": "2c412c383adc4b9b8e8c838c3de2b397",
    "idx": 8,
    "time": "2020-11-14T22:50:54.836Z",
    "type": "execution"
   },
   {
    "id": "2c412c383adc4b9b8e8c838c3de2b397",
    "time": "2020-11-14T22:50:54.934Z",
    "type": "completion"
   },
   {
    "code": "# top keywords in each department\nby_department_fullkeywords = clean_data.groupby(['Department Name','Keyword']).count().loc[:,['Course Catalogue Number']].rename(columns={'Course Catalogue Number':'Count'})\nby_department_fullkeywords.reset_index()[by_department_fullkeywords['Department Name']=='VCS']\n#by_department_fullkeywords.reset_index().groupby('Department Name').max()",
    "id": "2c412c383adc4b9b8e8c838c3de2b397",
    "idx": 8,
    "time": "2020-11-14T22:51:12.246Z",
    "type": "execution"
   },
   {
    "id": "2c412c383adc4b9b8e8c838c3de2b397",
    "time": "2020-11-14T22:51:12.435Z",
    "type": "completion"
   },
   {
    "code": "# top keywords in each department\nby_department_fullkeywords = clean_data.groupby(['Department Name','Keyword']).count().loc[:,['Course Catalogue Number']].rename(columns={'Course Catalogue Number':'Count'})\nby_department_fullkeywords[by_department_fullkeywords.reset_index()['Department Name']=='VCS']\n#by_department_fullkeywords.reset_index().groupby('Department Name').max()",
    "id": "2c412c383adc4b9b8e8c838c3de2b397",
    "idx": 8,
    "time": "2020-11-14T22:51:24.526Z",
    "type": "execution"
   },
   {
    "id": "2c412c383adc4b9b8e8c838c3de2b397",
    "time": "2020-11-14T22:51:24.668Z",
    "type": "completion"
   },
   {
    "code": "# top keywords in each department\nby_department_fullkeywords = clean_data.groupby(['Department Name','Keyword']).count().loc[:,['Course Catalogue Number']].rename(columns={'Course Catalogue Number':'Count'})\nby_department_fullkeywords_reset = by_department_fullkeywords.reset_index()\nby_department_fullkeywords_reset[by_department_fullkeywords_reset['Department Name']=='VCS']\n#by_department_fullkeywords.reset_index().groupby('Department Name').max()",
    "id": "2c412c383adc4b9b8e8c838c3de2b397",
    "idx": 8,
    "time": "2020-11-14T22:52:01.699Z",
    "type": "execution"
   },
   {
    "id": "2c412c383adc4b9b8e8c838c3de2b397",
    "time": "2020-11-14T22:52:01.797Z",
    "type": "completion"
   },
   {
    "code": "# top keywords in each department\nby_department_fullkeywords = clean_data.groupby(['Department Name','Keyword']).count().loc[:,['Course Catalogue Number']].rename(columns={'Course Catalogue Number':'Count'})\nby_department_fullkeywords_reset = by_department_fullkeywords.reset_index()\nby_department_fullkeywords_reset.sort_value('Count').groupby('Department Name').last()",
    "id": "2c412c383adc4b9b8e8c838c3de2b397",
    "idx": 8,
    "time": "2020-11-14T22:53:30.196Z",
    "type": "execution"
   },
   {
    "id": "2c412c383adc4b9b8e8c838c3de2b397",
    "time": "2020-11-14T22:53:30.318Z",
    "type": "completion"
   },
   {
    "code": "# top keywords in each department\nby_department_fullkeywords = clean_data.groupby(['Department Name','Keyword']).count().loc[:,['Course Catalogue Number']].rename(columns={'Course Catalogue Number':'Count'})\nby_department_fullkeywords_reset = by_department_fullkeywords.reset_index()\nby_department_fullkeywords_reset.sort_values('Count').groupby('Department Name').last()",
    "id": "2c412c383adc4b9b8e8c838c3de2b397",
    "idx": 8,
    "time": "2020-11-14T22:53:33.470Z",
    "type": "execution"
   },
   {
    "id": "2c412c383adc4b9b8e8c838c3de2b397",
    "time": "2020-11-14T22:53:33.603Z",
    "type": "completion"
   },
   {
    "code": "by_department_fullkeywords_reset",
    "id": "f74ad37e590747cc8dd3e42a84530975",
    "idx": 9,
    "time": "2020-11-14T22:53:53.163Z",
    "type": "execution"
   },
   {
    "id": "f74ad37e590747cc8dd3e42a84530975",
    "time": "2020-11-14T22:53:53.245Z",
    "type": "completion"
   },
   {
    "code": "by_department_fullkeywords_reset[by_department_fullkeywords_reset['Department Name']=='VBSC']",
    "id": "f74ad37e590747cc8dd3e42a84530975",
    "idx": 9,
    "time": "2020-11-14T22:54:27.395Z",
    "type": "execution"
   },
   {
    "id": "f74ad37e590747cc8dd3e42a84530975",
    "time": "2020-11-14T22:54:27.474Z",
    "type": "completion"
   },
   {
    "code": "clean_data.head(1)",
    "id": "3d225de3c86e4b30826fc99fa51fbb98",
    "idx": 9,
    "time": "2020-11-14T22:59:36.674Z",
    "type": "execution"
   },
   {
    "id": "3d225de3c86e4b30826fc99fa51fbb98",
    "time": "2020-11-14T22:59:36.771Z",
    "type": "completion"
   },
   {
    "code": "by_department_fullkeywords_reset.head(1)",
    "id": "3d225de3c86e4b30826fc99fa51fbb98",
    "idx": 9,
    "time": "2020-11-14T22:59:47.763Z",
    "type": "execution"
   },
   {
    "id": "3d225de3c86e4b30826fc99fa51fbb98",
    "time": "2020-11-14T22:59:47.836Z",
    "type": "completion"
   },
   {
    "code": "#distribution of top 10 \nby_department_fullkeywords_reset.groupby('Department Name').sum()",
    "id": "97ecc06c396a445380a69b7b0f8809a0",
    "idx": 10,
    "time": "2020-11-14T23:00:15.176Z",
    "type": "execution"
   },
   {
    "id": "97ecc06c396a445380a69b7b0f8809a0",
    "time": "2020-11-14T23:00:15.256Z",
    "type": "completion"
   },
   {
    "code": "#distribution of top 10 \ntop3_department = by_department_fullkeywords_reset.groupby('Department Name').sum().sort_values('Count').last(3)\ntop3_department",
    "id": "97ecc06c396a445380a69b7b0f8809a0",
    "idx": 10,
    "time": "2020-11-14T23:00:47.188Z",
    "type": "execution"
   },
   {
    "id": "97ecc06c396a445380a69b7b0f8809a0",
    "time": "2020-11-14T23:00:47.266Z",
    "type": "completion"
   },
   {
    "code": "#distribution of top 10 \ntop3_department = by_department_fullkeywords_reset.groupby('Department Name').sum().sort_values('Count')\ntop3_department",
    "id": "97ecc06c396a445380a69b7b0f8809a0",
    "idx": 10,
    "time": "2020-11-14T23:00:58.806Z",
    "type": "execution"
   },
   {
    "id": "97ecc06c396a445380a69b7b0f8809a0",
    "time": "2020-11-14T23:00:58.878Z",
    "type": "completion"
   },
   {
    "code": "#distribution of top 10 \ntop3_department = by_department_fullkeywords_reset.groupby('Department Name').sum().sort_values('Count').tail(3)\ntop3_department",
    "id": "97ecc06c396a445380a69b7b0f8809a0",
    "idx": 10,
    "time": "2020-11-14T23:01:04.943Z",
    "type": "execution"
   },
   {
    "id": "97ecc06c396a445380a69b7b0f8809a0",
    "time": "2020-11-14T23:01:05.019Z",
    "type": "completion"
   },
   {
    "code": "#distribution of top 10 \ntop3_department = by_department_fullkeywords_reset.groupby('Department Name').sum().sort_values('Count',Ascending=False).head(3)\ntop3_department",
    "id": "97ecc06c396a445380a69b7b0f8809a0",
    "idx": 10,
    "time": "2020-11-14T23:01:20.420Z",
    "type": "execution"
   },
   {
    "id": "97ecc06c396a445380a69b7b0f8809a0",
    "time": "2020-11-14T23:01:20.493Z",
    "type": "completion"
   },
   {
    "code": "#distribution of top 10 \ntop3_department = by_department_fullkeywords_reset.groupby('Department Name').sum().sort_values('Count',ascending=False).head(3)\ntop3_department",
    "id": "97ecc06c396a445380a69b7b0f8809a0",
    "idx": 10,
    "time": "2020-11-14T23:01:26.152Z",
    "type": "execution"
   },
   {
    "id": "97ecc06c396a445380a69b7b0f8809a0",
    "time": "2020-11-14T23:01:26.225Z",
    "type": "completion"
   },
   {
    "code": "by_department_fullkeywords_reset.head()",
    "id": "3d225de3c86e4b30826fc99fa51fbb98",
    "idx": 9,
    "time": "2020-11-14T23:02:09.345Z",
    "type": "execution"
   },
   {
    "id": "3d225de3c86e4b30826fc99fa51fbb98",
    "time": "2020-11-14T23:02:09.420Z",
    "type": "completion"
   },
   {
    "code": "by_department_fullkeywords_reset.head(10)",
    "id": "3d225de3c86e4b30826fc99fa51fbb98",
    "idx": 9,
    "time": "2020-11-14T23:02:24.628Z",
    "type": "execution"
   },
   {
    "id": "3d225de3c86e4b30826fc99fa51fbb98",
    "time": "2020-11-14T23:02:24.715Z",
    "type": "completion"
   },
   {
    "code": "import pandas as pd\nimport numpy as np\nimport matplotlib.pyplot as plt\nimport seaborn as sns\n%matplotlib inline\n\n",
    "id": "0f56f3c3567f4dc49e9ba9e6e31cba7c",
    "idx": 0,
    "time": "2020-11-14T23:04:03.491Z",
    "type": "execution"
   },
   {
    "id": "0f56f3c3567f4dc49e9ba9e6e31cba7c",
    "time": "2020-11-14T23:04:04.406Z",
    "type": "completion"
   },
   {
    "code": "#distribution of top 10 \ntop3_department = by_department_fullkeywords_reset.groupby('Department Name').sum().sort_values('Count',ascending=False).head(3)\ntop3_department\n\n# ANSI\nANSI = by_department_fullkeywords_reset[by_department_fullkeywords_reset['Department Name']='ANSI']\nsns.barplot(ANSI)\n# NSCI\n\n\n# NREM",
    "id": "97ecc06c396a445380a69b7b0f8809a0",
    "idx": 10,
    "time": "2020-11-14T23:04:21.265Z",
    "type": "execution"
   },
   {
    "id": "97ecc06c396a445380a69b7b0f8809a0",
    "time": "2020-11-14T23:04:21.338Z",
    "type": "completion"
   },
   {
    "code": "#distribution of top 10 \ntop3_department = by_department_fullkeywords_reset.groupby('Department Name').sum().sort_values('Count',ascending=False).head(3)\ntop3_department\n\n# ANSI\nANSI = by_department_fullkeywords_reset[by_department_fullkeywords_reset['Department Name']=='ANSI']\nsns.barplot(ANSI)\n# NSCI\n\n\n# NREM",
    "id": "97ecc06c396a445380a69b7b0f8809a0",
    "idx": 10,
    "time": "2020-11-14T23:04:25.275Z",
    "type": "execution"
   },
   {
    "id": "97ecc06c396a445380a69b7b0f8809a0",
    "time": "2020-11-14T23:04:25.445Z",
    "type": "completion"
   },
   {
    "code": "#distribution of top 10 \ntop3_department = by_department_fullkeywords_reset.groupby('Department Name').sum().sort_values('Count',ascending=False).head(3)\ntop3_department\n\n# ANSI\nANSI = by_department_fullkeywords_reset[by_department_fullkeywords_reset['Department Name']=='ANSI']\nsns.barplot(x='Keyword',y='Count' ,data=ANSI)\n# NSCI\n\n\n# NREM",
    "id": "97ecc06c396a445380a69b7b0f8809a0",
    "idx": 10,
    "time": "2020-11-14T23:05:51.652Z",
    "type": "execution"
   },
   {
    "id": "97ecc06c396a445380a69b7b0f8809a0",
    "time": "2020-11-14T23:05:52.775Z",
    "type": "completion"
   },
   {
    "code": "#distribution of top 10 \ntop3_department = by_department_fullkeywords_reset.groupby('Department Name').sum().sort_values('Count',ascending=False).head(3)\ntop3_department\n\n# ANSI\nANSI = by_department_fullkeywords_reset[by_department_fullkeywords_reset['Department Name']=='ANSI']\nsns.barplot(x='Keyword',y='Count' ,data=ANSI)\nplt.xtick(rot=90)\n# NSCI\n\n\n# NREM",
    "id": "97ecc06c396a445380a69b7b0f8809a0",
    "idx": 10,
    "time": "2020-11-14T23:07:09.120Z",
    "type": "execution"
   },
   {
    "id": "97ecc06c396a445380a69b7b0f8809a0",
    "time": "2020-11-14T23:07:10.297Z",
    "type": "completion"
   },
   {
    "code": "#distribution of top 10 \ntop3_department = by_department_fullkeywords_reset.groupby('Department Name').sum().sort_values('Count',ascending=False).head(3)\ntop3_department\n\n# ANSI\nANSI = by_department_fullkeywords_reset[by_department_fullkeywords_reset['Department Name']=='ANSI']\nsns.barplot(x='Keyword',y='Count' ,data=ANSI)\nplt.xticks(rot=90)\n# NSCI\n\n\n# NREM",
    "id": "97ecc06c396a445380a69b7b0f8809a0",
    "idx": 10,
    "time": "2020-11-14T23:07:45.788Z",
    "type": "execution"
   },
   {
    "id": "97ecc06c396a445380a69b7b0f8809a0",
    "time": "2020-11-14T23:07:47.010Z",
    "type": "completion"
   },
   {
    "code": "#distribution of top 10 \ntop3_department = by_department_fullkeywords_reset.groupby('Department Name').sum().sort_values('Count',ascending=False).head(3)\ntop3_department\n\n# ANSI\nANSI = by_department_fullkeywords_reset[by_department_fullkeywords_reset['Department Name']=='ANSI']\nsns.barplot(x='Keyword',y='Count' ,data=ANSI)\nplt.xticks(rotation=90)\n# NSCI\n\n\n# NREM",
    "id": "97ecc06c396a445380a69b7b0f8809a0",
    "idx": 10,
    "time": "2020-11-14T23:07:57.259Z",
    "type": "execution"
   },
   {
    "id": "97ecc06c396a445380a69b7b0f8809a0",
    "time": "2020-11-14T23:07:58.488Z",
    "type": "completion"
   },
   {
    "code": "#distribution of top 10 \ntop3_department = by_department_fullkeywords_reset.groupby('Department Name').sum().sort_values('Count',ascending=False).head(3)\ntop3_department\n\n# ANSI\nplt.figure(10,10)\nANSI = by_department_fullkeywords_reset[by_department_fullkeywords_reset['Department Name']=='ANSI']\nsns.barplot(x='Keyword',y='Count' ,data=ANSI)\nplt.xticks(rotation=90);\n# NSCI\n\n\n# NREM",
    "id": "97ecc06c396a445380a69b7b0f8809a0",
    "idx": 10,
    "time": "2020-11-14T23:08:38.695Z",
    "type": "execution"
   },
   {
    "id": "97ecc06c396a445380a69b7b0f8809a0",
    "time": "2020-11-14T23:08:38.819Z",
    "type": "completion"
   },
   {
    "code": "#distribution of top 10 \ntop3_department = by_department_fullkeywords_reset.groupby('Department Name').sum().sort_values('Count',ascending=False).head(3)\ntop3_department\n\n# ANSI\nplt.figure(figsize=(20,10))\nANSI = by_department_fullkeywords_reset[by_department_fullkeywords_reset['Department Name']=='ANSI']\nsns.barplot(x='Keyword',y='Count' ,data=ANSI)\nplt.xticks(rotation=90);\n# NSCI\n\n\n# NREM",
    "id": "97ecc06c396a445380a69b7b0f8809a0",
    "idx": 10,
    "time": "2020-11-14T23:09:01.117Z",
    "type": "execution"
   },
   {
    "id": "97ecc06c396a445380a69b7b0f8809a0",
    "time": "2020-11-14T23:09:02.531Z",
    "type": "completion"
   },
   {
    "code": "#distribution of top 10 \ntop3_department = by_department_fullkeywords_reset.groupby('Department Name').sum().sort_values('Count',ascending=False).head(3)\ntop3_department\n\n# ANSI\nplt.figure(figsize=(20,10))\nANSI = by_department_fullkeywords_reset[by_department_fullkeywords_reset['Department Name']=='ANSI'].sort_values('Count',ascending=False).head(5)\nsns.barplot(x='Keyword',y='Count' ,data=ANSI)\nplt.xticks(rotation=90);\n# NSCI\n\n\n# NREM",
    "id": "97ecc06c396a445380a69b7b0f8809a0",
    "idx": 10,
    "time": "2020-11-14T23:10:38.967Z",
    "type": "execution"
   },
   {
    "id": "97ecc06c396a445380a69b7b0f8809a0",
    "time": "2020-11-14T23:10:39.437Z",
    "type": "completion"
   },
   {
    "code": "#distribution of top 10 \ntop3_department = by_department_fullkeywords_reset.groupby('Department Name').sum().sort_values('Count',ascending=False).head(3)\ntop3_department\n\n# ANSI\nplt.figure(figsize=(20,10))\nANSI = by_department_fullkeywords_reset[by_department_fullkeywords_reset['Department Name']=='ANSI'].sort_values('Count',ascending=False).head(10)\nsns.barplot(x='Keyword',y='Count' ,data=ANSI)\nplt.xticks(rotation=90);\n# NSCI\n\n\n# NREM",
    "id": "97ecc06c396a445380a69b7b0f8809a0",
    "idx": 10,
    "time": "2020-11-14T23:10:48.689Z",
    "type": "execution"
   },
   {
    "id": "97ecc06c396a445380a69b7b0f8809a0",
    "time": "2020-11-14T23:10:49.209Z",
    "type": "completion"
   },
   {
    "code": "#distribution of top 10 \ntop3_department = by_department_fullkeywords_reset.groupby('Department Name').sum().sort_values('Count',ascending=False).head(3)\ntop3_department\n\n# ANSI\nplt.figure(figsize=(20,10))\nANSI = by_department_fullkeywords_reset[by_department_fullkeywords_reset['Department Name']=='ANSI'].sort_values('Count',ascending=False).head(5)\nsns.barplot(x='Keyword',y='Count' ,data=ANSI)\nplt.xticks(rotation=90);\n# NSCI\n\n\n# NREM",
    "id": "97ecc06c396a445380a69b7b0f8809a0",
    "idx": 10,
    "time": "2020-11-14T23:11:39.470Z",
    "type": "execution"
   },
   {
    "id": "97ecc06c396a445380a69b7b0f8809a0",
    "time": "2020-11-14T23:11:39.966Z",
    "type": "completion"
   },
   {
    "code": "#distribution of top 10 \ntop3_department = by_department_fullkeywords_reset.groupby('Department Name').sum().sort_values('Count',ascending=False).head(3)\ntop3_department\n\n# ANSI\nplt.figure(figsize=(20,10))\nANSI = by_department_fullkeywords_reset[by_department_fullkeywords_reset['Department Name']=='ANSI'].sort_values('Count',ascending=False).head(5)\nsns.barplot(x='Keyword',y='Count' ,data=ANSI)\nplt.xticks(rotation=60);\n# NSCI\n\n\n# NREM",
    "id": "97ecc06c396a445380a69b7b0f8809a0",
    "idx": 10,
    "time": "2020-11-14T23:11:51.618Z",
    "type": "execution"
   },
   {
    "id": "97ecc06c396a445380a69b7b0f8809a0",
    "time": "2020-11-14T23:11:52.231Z",
    "type": "completion"
   },
   {
    "code": "#distribution of top 10 \ntop3_department = by_department_fullkeywords_reset.groupby('Department Name').sum().sort_values('Count',ascending=False).head(3)\ntop3_department\n\n# ANSI\nplt.figure(figsize=(20,10))\nANSI = by_department_fullkeywords_reset[by_department_fullkeywords_reset['Department Name']=='ANSI'].sort_values('Count',ascending=False).head(5)\nsns.barplot(x='Keyword',y='Count' ,data=ANSI)\nplt.xticks(rotation=45);\n\n# NSCI\n\n\n# NREM",
    "id": "97ecc06c396a445380a69b7b0f8809a0",
    "idx": 10,
    "time": "2020-11-14T23:12:01.633Z",
    "type": "execution"
   },
   {
    "id": "97ecc06c396a445380a69b7b0f8809a0",
    "time": "2020-11-14T23:12:02.256Z",
    "type": "completion"
   },
   {
    "code": "#distribution of top 10 \ntop3_department = by_department_fullkeywords_reset.groupby('Department Name').sum().sort_values('Count',ascending=False).head(3)\ntop3_department\n\n# ANSI\nplt.figure(figsize=(20,10))\nANSI = by_department_fullkeywords_reset[by_department_fullkeywords_reset['Department Name']=='ANSI'].sort_values('Count',ascending=False).head(5)\nsns.barplot(x='Keyword',y='Count' ,data=ANSI)\nplt.xticks(rotation=0);\n\n# NSCI\n\n\n# NREM",
    "id": "97ecc06c396a445380a69b7b0f8809a0",
    "idx": 10,
    "time": "2020-11-14T23:12:09.210Z",
    "type": "execution"
   },
   {
    "id": "97ecc06c396a445380a69b7b0f8809a0",
    "time": "2020-11-14T23:12:09.786Z",
    "type": "completion"
   },
   {
    "code": "#distribution of top 10 \ntop3_department = by_department_fullkeywords_reset.groupby('Department Name').sum().sort_values('Count',ascending=False).head(3)\ntop3_department\n\n# ANSI\nplt.figure(figsize=(20,10))\nANSI = by_department_fullkeywords_reset[by_department_fullkeywords_reset['Department Name']=='ANSI'].sort_values('Count',ascending=False).head(5)\nsns.barplot(x='Keyword',y='Count' ,data=ANSI)\nplt.xticks(rotation=0);\n\n# NSCI\nplt.figure(figsize=(20,10))\nNSCI = by_department_fullkeywords_reset[by_department_fullkeywords_reset['Department Name']=='NSCI'].sort_values('Count',ascending=False).head(5)\nsns.barplot(x='Keyword',y='Count' ,data=NSCI)\nplt.xticks(rotation=0);\n\n# NREM\nplt.figure(figsize=(20,10))\nNREM = by_department_fullkeywords_reset[by_department_fullkeywords_reset['Department Name']=='NREM'].sort_values('Count',ascending=False).head(5)\nsns.barplot(x='Keyword',y='Count' ,data=NREM)\nplt.xticks(rotation=0);",
    "id": "97ecc06c396a445380a69b7b0f8809a0",
    "idx": 10,
    "time": "2020-11-14T23:12:55.217Z",
    "type": "execution"
   },
   {
    "id": "97ecc06c396a445380a69b7b0f8809a0",
    "time": "2020-11-14T23:12:56.399Z",
    "type": "completion"
   },
   {
    "code": "\n# NREM\nplt.figure(figsize=(20,10))\nNREM = by_department_fullkeywords_reset[by_department_fullkeywords_reset['Department Name']=='NREM'].sort_values('Count',ascending=False).head(5)\nsns.barplot(x='Keyword',y='Count' ,data=NREM)\nplt.title('NREM')\nplt.xticks(rotation=0);",
    "id": "ca97227b4b7e4e8c822532b938e4fbca",
    "idx": 12,
    "time": "2020-11-14T23:14:08.410Z",
    "type": "execution"
   },
   {
    "id": "ca97227b4b7e4e8c822532b938e4fbca",
    "time": "2020-11-14T23:14:08.876Z",
    "type": "completion"
   },
   {
    "code": "NREM",
    "id": "13265a55e90c4ebb8bbc2475c904b548",
    "idx": 13,
    "time": "2020-11-14T23:14:13.521Z",
    "type": "execution"
   },
   {
    "id": "13265a55e90c4ebb8bbc2475c904b548",
    "time": "2020-11-14T23:14:13.608Z",
    "type": "completion"
   },
   {
    "code": "by_department_fullkeywords_reset[by_department_fullkeywords_reset['Department Name']=='NREM']",
    "id": "f7a9fbaa2a6a412898fd9e4b754b2d4d",
    "idx": 14,
    "time": "2020-11-14T23:14:54.068Z",
    "type": "execution"
   },
   {
    "id": "f7a9fbaa2a6a412898fd9e4b754b2d4d",
    "time": "2020-11-14T23:14:54.158Z",
    "type": "completion"
   },
   {
    "code": "clean_data",
    "id": "1b69d6c15a7744ff841178411d8c4d3c",
    "idx": 14,
    "time": "2020-11-14T23:17:05.207Z",
    "type": "execution"
   },
   {
    "id": "1b69d6c15a7744ff841178411d8c4d3c",
    "time": "2020-11-14T23:17:05.336Z",
    "type": "completion"
   },
   {
    "code": "clean_data.head()",
    "id": "1b69d6c15a7744ff841178411d8c4d3c",
    "idx": 14,
    "time": "2020-11-14T23:17:11.966Z",
    "type": "execution"
   },
   {
    "id": "1b69d6c15a7744ff841178411d8c4d3c",
    "time": "2020-11-14T23:17:12.044Z",
    "type": "completion"
   },
   {
    "code": "clean_data[clean_data['Department Name']=='NREM']",
    "id": "f7a9fbaa2a6a412898fd9e4b754b2d4d",
    "idx": 15,
    "time": "2020-11-14T23:17:21.111Z",
    "type": "execution"
   },
   {
    "id": "f7a9fbaa2a6a412898fd9e4b754b2d4d",
    "time": "2020-11-14T23:17:21.233Z",
    "type": "completion"
   },
   {
    "code": "clean_data[clean_data['Department Name']=='NREM']['Keyword'].value_counts()",
    "id": "f7a9fbaa2a6a412898fd9e4b754b2d4d",
    "idx": 15,
    "time": "2020-11-14T23:17:42.868Z",
    "type": "execution"
   },
   {
    "id": "f7a9fbaa2a6a412898fd9e4b754b2d4d",
    "time": "2020-11-14T23:17:42.959Z",
    "type": "completion"
   },
   {
    "code": "data['Keyword'] = data['Keyword'].apply(lambda x: x[1:-1].split(', '))\ndata",
    "id": "cf48b7362a9c420d88e4a626294190f9",
    "idx": 2,
    "time": "2020-11-14T23:18:41.822Z",
    "type": "execution"
   },
   {
    "id": "cf48b7362a9c420d88e4a626294190f9",
    "time": "2020-11-14T23:18:41.947Z",
    "type": "completion"
   },
   {
    "code": "data = pd.read_csv('Oklahoma_State_University 2017-21 Webscraped.csv')\ndata",
    "id": "5e84dbae4ee44db289e0dee6277ad98e",
    "idx": 1,
    "time": "2020-11-14T23:19:00.907Z",
    "type": "execution"
   },
   {
    "id": "5e84dbae4ee44db289e0dee6277ad98e",
    "time": "2020-11-14T23:19:01.092Z",
    "type": "completion"
   },
   {
    "code": "data['Keyword'] = data['Keyword'].apply(lambda x: x[1:-1].split(', '))\ndata",
    "id": "cf48b7362a9c420d88e4a626294190f9",
    "idx": 2,
    "time": "2020-11-14T23:19:01.689Z",
    "type": "execution"
   },
   {
    "id": "cf48b7362a9c420d88e4a626294190f9",
    "time": "2020-11-14T23:19:01.802Z",
    "type": "completion"
   },
   {
    "code": "clean_data = data.explode('Keyword')",
    "id": "c141f214e226400e956ffd2a3ca64057",
    "idx": 3,
    "time": "2020-11-14T23:19:03.527Z",
    "type": "execution"
   },
   {
    "id": "c141f214e226400e956ffd2a3ca64057",
    "time": "2020-11-14T23:19:03.615Z",
    "type": "completion"
   },
   {
    "code": "# frequency of top 50 keywords\nfrequency_top50 = clean_data['Keyword'].value_counts().to_frame().head(50)",
    "id": "04b62fd5347245998e9a7806ef81fed0",
    "idx": 4,
    "time": "2020-11-14T23:19:03.720Z",
    "type": "execution"
   },
   {
    "id": "04b62fd5347245998e9a7806ef81fed0",
    "time": "2020-11-14T23:19:03.787Z",
    "type": "completion"
   },
   {
    "code": "# frequency of top 50 keywords in each department\nby_department = clean_data[clean_data['Keyword'].isin(frequency_top50.index)].groupby(['Department Name','Keyword']).count()\nfrequency_in_department = by_department.loc[:,['Course Catalogue Number']].rename(columns={'Course Catalogue Number':'Count'})\nfrequency_in_department",
    "id": "7d9dcf6a397543fc8859929e65f4ea42",
    "idx": 5,
    "time": "2020-11-14T23:19:03.897Z",
    "type": "execution"
   },
   {
    "id": "7d9dcf6a397543fc8859929e65f4ea42",
    "time": "2020-11-14T23:19:04.008Z",
    "type": "completion"
   },
   {
    "code": "# top keyword in each department\nby_department_fullkeywords = clean_data.groupby(['Department Name','Keyword']).count().loc[:,['Course Catalogue Number']].rename(columns={'Course Catalogue Number':'Count'})\nby_department_fullkeywords_reset = by_department_fullkeywords.reset_index()\nby_department_fullkeywords_reset.sort_values('Count').groupby('Department Name').last()",
    "id": "2c412c383adc4b9b8e8c838c3de2b397",
    "idx": 6,
    "time": "2020-11-14T23:19:04.083Z",
    "type": "execution"
   },
   {
    "id": "2c412c383adc4b9b8e8c838c3de2b397",
    "time": "2020-11-14T23:19:04.213Z",
    "type": "completion"
   },
   {
    "code": "by_department_fullkeywords_reset.head(10)",
    "id": "3d225de3c86e4b30826fc99fa51fbb98",
    "idx": 7,
    "time": "2020-11-14T23:19:04.272Z",
    "type": "execution"
   },
   {
    "id": "3d225de3c86e4b30826fc99fa51fbb98",
    "time": "2020-11-14T23:19:04.346Z",
    "type": "completion"
   },
   {
    "code": "#distribution of top 10 \ntop3_department = by_department_fullkeywords_reset.groupby('Department Name').sum().sort_values('Count',ascending=False).head(3)\ntop3_department\n\n# ANSI\nplt.figure(figsize=(20,10))\nANSI = by_department_fullkeywords_reset[by_department_fullkeywords_reset['Department Name']=='ANSI'].sort_values('Count',ascending=False).head(5)\nsns.barplot(x='Keyword',y='Count' ,data=ANSI)\nplt.title('ANSI')\nplt.xticks(rotation=0);\n",
    "id": "97ecc06c396a445380a69b7b0f8809a0",
    "idx": 8,
    "time": "2020-11-14T23:19:04.449Z",
    "type": "execution"
   },
   {
    "code": "\n# NSCI\nplt.figure(figsize=(20,10))\nNSCI = by_department_fullkeywords_reset[by_department_fullkeywords_reset['Department Name']=='NSCI'].sort_values('Count',ascending=False).head(5)\nsns.barplot(x='Keyword',y='Count' ,data=NSCI)\nplt.title('NSCI')\nplt.xticks(rotation=0);\n",
    "id": "15b019ee6a3f435ebe656a2df87fe1a9",
    "idx": 9,
    "time": "2020-11-14T23:19:04.645Z",
    "type": "execution"
   },
   {
    "id": "97ecc06c396a445380a69b7b0f8809a0",
    "time": "2020-11-14T23:19:04.938Z",
    "type": "completion"
   },
   {
    "code": "\n# NREM\nplt.figure(figsize=(20,10))\nNREM = by_department_fullkeywords_reset[by_department_fullkeywords_reset['Department Name']=='NREM'].sort_values('Count',ascending=False).head(5)\nsns.barplot(x='Keyword',y='Count' ,data=NREM)\nplt.title('NREM')\nplt.xticks(rotation=0);",
    "id": "ca97227b4b7e4e8c822532b938e4fbca",
    "idx": 10,
    "time": "2020-11-14T23:19:05.286Z",
    "type": "execution"
   },
   {
    "id": "15b019ee6a3f435ebe656a2df87fe1a9",
    "time": "2020-11-14T23:19:05.331Z",
    "type": "completion"
   },
   {
    "id": "ca97227b4b7e4e8c822532b938e4fbca",
    "time": "2020-11-14T23:19:05.761Z",
    "type": "completion"
   },
   {
    "code": "NREM",
    "id": "13265a55e90c4ebb8bbc2475c904b548",
    "idx": 11,
    "time": "2020-11-14T23:19:07.448Z",
    "type": "execution"
   },
   {
    "id": "13265a55e90c4ebb8bbc2475c904b548",
    "time": "2020-11-14T23:19:07.518Z",
    "type": "completion"
   },
   {
    "code": "clean_data.head()",
    "id": "1b69d6c15a7744ff841178411d8c4d3c",
    "idx": 12,
    "time": "2020-11-14T23:19:08.033Z",
    "type": "execution"
   },
   {
    "id": "1b69d6c15a7744ff841178411d8c4d3c",
    "time": "2020-11-14T23:19:08.124Z",
    "type": "completion"
   },
   {
    "code": "clean_data[clean_data['Department Name']=='NREM']['Keyword'].value_counts()",
    "id": "f7a9fbaa2a6a412898fd9e4b754b2d4d",
    "idx": 13,
    "time": "2020-11-14T23:19:08.986Z",
    "type": "execution"
   },
   {
    "id": "f7a9fbaa2a6a412898fd9e4b754b2d4d",
    "time": "2020-11-14T23:19:09.053Z",
    "type": "completion"
   },
   {
    "code": "data = pd.read_csv('Oklahoma_State_University 2017-21 Webscraped.csv')",
    "id": "5e84dbae4ee44db289e0dee6277ad98e",
    "idx": 1,
    "time": "2020-11-14T23:20:03.717Z",
    "type": "execution"
   },
   {
    "id": "5e84dbae4ee44db289e0dee6277ad98e",
    "time": "2020-11-14T23:20:03.848Z",
    "type": "completion"
   },
   {
    "code": "# top keyword in each department\nby_department_fullkeywords = clean_data.groupby(['Department Name','Keyword']).count().loc[:,['Course Catalogue Number']].rename(columns={'Course Catalogue Number':'Count'})\nby_department_fullkeywords_reset = by_department_fullkeywords.reset_index()\nby_department_fullkeywords_reset.sort_values('Count').groupby('Department Name').last()",
    "id": "2c412c383adc4b9b8e8c838c3de2b397",
    "idx": 4,
    "time": "2020-11-14T23:39:48.200Z",
    "type": "execution"
   },
   {
    "id": "2c412c383adc4b9b8e8c838c3de2b397",
    "time": "2020-11-14T23:39:48.353Z",
    "type": "completion"
   },
   {
    "code": "# frequency of top 50 keywords\nfrequency_top50 = clean_data['Keyword'].value_counts().to_frame().head(50)\nfrequency_top50",
    "id": "04b62fd5347245998e9a7806ef81fed0",
    "idx": 2,
    "time": "2020-11-14T23:40:13.594Z",
    "type": "execution"
   },
   {
    "id": "04b62fd5347245998e9a7806ef81fed0",
    "time": "2020-11-14T23:40:13.725Z",
    "type": "completion"
   },
   {
    "code": "# frequency of top 50 keywords\nfrequency_top50 = clean_data['Keyword'].value_counts().to_frame().head(50)\nfrequency_top50.head()",
    "id": "04b62fd5347245998e9a7806ef81fed0",
    "idx": 2,
    "time": "2020-11-14T23:41:07.374Z",
    "type": "execution"
   },
   {
    "id": "04b62fd5347245998e9a7806ef81fed0",
    "time": "2020-11-14T23:41:07.456Z",
    "type": "completion"
   },
   {
    "code": "# frequency of top 50 keywords in each department\nby_department = clean_data[clean_data['Keyword'].isin(frequency_top50.index)].groupby(['Department Name','Keyword']).count()\nfrequency_in_department = by_department.loc[:,['Course Catalogue Number']].rename(columns={'Course Catalogue Number':'Count'})\nfrequency_in_department.head()",
    "id": "7d9dcf6a397543fc8859929e65f4ea42",
    "idx": 3,
    "time": "2020-11-14T23:41:15.302Z",
    "type": "execution"
   },
   {
    "id": "7d9dcf6a397543fc8859929e65f4ea42",
    "time": "2020-11-14T23:41:15.395Z",
    "type": "completion"
   },
   {
    "code": "#distribution of top 10 \ntop3_department = by_department_fullkeywords_reset.groupby('Department Name').sum().sort_values('Count',ascending=False).head(3)\ntop3_department\n\n# ANSI\nplt.figure\nANSI = by_department_fullkeywords_reset[by_department_fullkeywords_reset['Department Name']=='ANSI'].sort_values('Count',ascending=False).head(5)\nsns.barplot(x='Keyword',y='Count' ,data=ANSI)\nplt.title('ANSI')\nplt.xticks(rotation=0);\n",
    "id": "97ecc06c396a445380a69b7b0f8809a0",
    "idx": 5,
    "time": "2020-11-14T23:41:55.565Z",
    "type": "execution"
   },
   {
    "id": "97ecc06c396a445380a69b7b0f8809a0",
    "time": "2020-11-14T23:41:55.853Z",
    "type": "completion"
   },
   {
    "code": "\n# NSCI\nplt.figure(figsize=(20,10))\nNSCI = by_department_fullkeywords_reset[by_department_fullkeywords_reset['Department Name']=='NSCI'].sort_values('Count',ascending=False).head(5)\nsns.barplot(x='Keyword',y='Count' ,data=NSCI)\nplt.title('NSCI')\nplt.xticks(rotation=0);\n",
    "id": "15b019ee6a3f435ebe656a2df87fe1a9",
    "idx": 6,
    "time": "2020-11-14T23:41:59.373Z",
    "type": "execution"
   },
   {
    "id": "15b019ee6a3f435ebe656a2df87fe1a9",
    "time": "2020-11-14T23:41:59.964Z",
    "type": "completion"
   },
   {
    "code": "\n# NREM\nplt.figure(figsize=(20,10))\nNREM = by_department_fullkeywords_reset[by_department_fullkeywords_reset['Department Name']=='NREM'].sort_values('Count',ascending=False).head(5)\nsns.barplot(x='Keyword',y='Count' ,data=NREM)\nplt.title('NREM')\nplt.xticks(rotation=0);",
    "id": "ca97227b4b7e4e8c822532b938e4fbca",
    "idx": 7,
    "time": "2020-11-14T23:41:59.973Z",
    "type": "execution"
   },
   {
    "id": "ca97227b4b7e4e8c822532b938e4fbca",
    "time": "2020-11-14T23:42:00.579Z",
    "type": "completion"
   },
   {
    "code": "\n# NSCI\nplt.figure\nNSCI = by_department_fullkeywords_reset[by_department_fullkeywords_reset['Department Name']=='NSCI'].sort_values('Count',ascending=False).head(5)\nsns.barplot(x='Keyword',y='Count' ,data=NSCI)\nplt.title('NSCI')\nplt.xticks(rotation=0);\n",
    "id": "15b019ee6a3f435ebe656a2df87fe1a9",
    "idx": 6,
    "time": "2020-11-14T23:42:11.351Z",
    "type": "execution"
   },
   {
    "id": "15b019ee6a3f435ebe656a2df87fe1a9",
    "time": "2020-11-14T23:42:11.592Z",
    "type": "completion"
   },
   {
    "code": "\n# NREM\nplt.figure\nNREM = by_department_fullkeywords_reset[by_department_fullkeywords_reset['Department Name']=='NREM'].sort_values('Count',ascending=False).head(5)\nsns.barplot(x='Keyword',y='Count' ,data=NREM)\nplt.title('NREM')\nplt.xticks(rotation=0);",
    "id": "ca97227b4b7e4e8c822532b938e4fbca",
    "idx": 7,
    "time": "2020-11-14T23:42:12.092Z",
    "type": "execution"
   },
   {
    "id": "ca97227b4b7e4e8c822532b938e4fbca",
    "time": "2020-11-14T23:42:12.328Z",
    "type": "completion"
   },
   {
    "code": "data = pd.read_csv('Prairie View A&M University 2016-20 Webscraped.csv')\ndata['Keyword'] = data['Keyword'].apply(lambda x: x[1:-1].split(', '))\nclean_data = data.explode('Keyword')",
    "id": "77dcd1b3829347288d0a9d99d6f74d8c",
    "idx": 1,
    "time": "2020-11-17T20:32:16.964Z",
    "type": "execution"
   },
   {
    "id": "77dcd1b3829347288d0a9d99d6f74d8c",
    "time": "2020-11-17T20:32:17.085Z",
    "type": "completion"
   },
   {
    "code": "import pandas as pd\nimport numpy as np\nimport matplotlib.pyplot as plt\nimport seaborn as sns\n%matplotlib inline\n",
    "id": "e668fdd1720544a5936b37a4c8671f97",
    "idx": 0,
    "time": "2020-11-17T20:32:19.309Z",
    "type": "execution"
   },
   {
    "id": "e668fdd1720544a5936b37a4c8671f97",
    "time": "2020-11-17T20:32:20.408Z",
    "type": "completion"
   },
   {
    "code": "data = pd.read_csv('Prairie View A&M University 2016-20 Webscraped.csv')\ndata['Keyword'] = data['Keyword'].apply(lambda x: x[1:-1].split(', '))\nclean_data = data.explode('Keyword')",
    "id": "77dcd1b3829347288d0a9d99d6f74d8c",
    "idx": 1,
    "time": "2020-11-17T20:32:20.954Z",
    "type": "execution"
   },
   {
    "id": "77dcd1b3829347288d0a9d99d6f74d8c",
    "time": "2020-11-17T20:32:21.232Z",
    "type": "completion"
   },
   {
    "code": "data",
    "id": "91101fe73a85411d87dd4c18bd54090d",
    "idx": 1,
    "time": "2020-11-17T20:32:27.561Z",
    "type": "execution"
   },
   {
    "id": "91101fe73a85411d87dd4c18bd54090d",
    "time": "2020-11-17T20:32:27.678Z",
    "type": "completion"
   },
   {
    "code": "data = pd.read_csv('Prairie View A&M University 2016-20 Webscraped.csv').rename(columns=\"\")\ndata['Keyword'] = data['Keyword'].apply(lambda x: x[1:-1].split(', '))\nclean_data = data.explode('Keyword')",
    "id": "77dcd1b3829347288d0a9d99d6f74d8c",
    "idx": 2,
    "time": "2020-11-17T20:32:46.900Z",
    "type": "execution"
   },
   {
    "id": "77dcd1b3829347288d0a9d99d6f74d8c",
    "time": "2020-11-17T20:32:47.066Z",
    "type": "completion"
   },
   {
    "code": "data = pd.read_csv('Prairie View A&M University 2016-20 Webscraped.csv').rename(columns={'key':'Keyword'})\ndata['Keyword'] = data['Keyword'].apply(lambda x: x[1:-1].split(', '))\nclean_data = data.explode('Keyword')",
    "id": "77dcd1b3829347288d0a9d99d6f74d8c",
    "idx": 2,
    "time": "2020-11-17T20:32:56.344Z",
    "type": "execution"
   },
   {
    "id": "77dcd1b3829347288d0a9d99d6f74d8c",
    "time": "2020-11-17T20:32:56.439Z",
    "type": "completion"
   },
   {
    "code": "# frequency of top 50 keywords\nfrequency_top50 = clean_data['Keyword'].value_counts().to_frame().head(50)\nfrequency_top50.head()",
    "id": "c5cb69dbe535407c8cf3cd927b7b0594",
    "idx": 3,
    "time": "2020-11-17T20:32:57.698Z",
    "type": "execution"
   },
   {
    "id": "c5cb69dbe535407c8cf3cd927b7b0594",
    "time": "2020-11-17T20:32:57.783Z",
    "type": "completion"
   },
   {
    "code": "# frequency of top 50 keywords in each department\nby_department = clean_data[clean_data['Keyword'].isin(frequency_top50.index)].groupby(['Department Name','Keyword']).count()\nfrequency_in_department = by_department.loc[:,['Course Catalogue Number']].rename(columns={'Course Catalogue Number':'Count'})\nfrequency_in_department.head()",
    "id": "a92e0e4b04194c0dba19556d367e60a8",
    "idx": 4,
    "time": "2020-11-17T20:33:05.870Z",
    "type": "execution"
   },
   {
    "id": "a92e0e4b04194c0dba19556d367e60a8",
    "time": "2020-11-17T20:33:05.952Z",
    "type": "completion"
   },
   {
    "code": "# top keyword in each department\nby_department_fullkeywords = clean_data.groupby(['Department Name','Keyword']).count().loc[:,['Course Catalogue Number']].rename(columns={'Course Catalogue Number':'Count'})\nby_department_fullkeywords_reset = by_department_fullkeywords.reset_index()\nby_department_fullkeywords_reset.sort_values('Count').groupby('Department Name').last()",
    "id": "19ca6f240c494b688978dbdba8500f47",
    "idx": 5,
    "time": "2020-11-17T20:33:15.575Z",
    "type": "execution"
   },
   {
    "id": "19ca6f240c494b688978dbdba8500f47",
    "time": "2020-11-17T20:33:15.666Z",
    "type": "completion"
   },
   {
    "code": "#distribution of top 10 \ntop3_department = by_department_fullkeywords_reset.groupby('Department Name').sum().sort_values('Count',ascending=False).head(3)\ntop3_department\n",
    "id": "29e3348368c14bb48089f24cbd4ad384",
    "idx": 6,
    "time": "2020-11-17T20:33:38.348Z",
    "type": "execution"
   },
   {
    "id": "29e3348368c14bb48089f24cbd4ad384",
    "time": "2020-11-17T20:33:38.438Z",
    "type": "completion"
   },
   {
    "code": "# ANSI\nplt.figure\n#ANSI = by_department_fullkeywords_reset[by_department_fullkeywords_reset['Department Name']=='AGRO'].sort_values('Count',ascending=False).head(5)\nARGO = by_department_fullkeywords_reset.query('Department Name == AGRO').sort_values('Count',ascending=False).head(5)\nsns.barplot(x='Keyword',y='Count' ,data=ARGO)\nplt.title('ARGO')",
    "id": "0e064b9d69b94796907af82b4b8d47c6",
    "idx": 7,
    "time": "2020-11-17T20:36:48.137Z",
    "type": "execution"
   },
   {
    "id": "0e064b9d69b94796907af82b4b8d47c6",
    "time": "2020-11-17T20:36:48.218Z",
    "type": "completion"
   },
   {
    "code": "# ANSI\nplt.figure\n#ANSI = by_department_fullkeywords_reset[by_department_fullkeywords_reset['Department Name']=='AGRO'].sort_values('Count',ascending=False).head(5)\nARGO = by_department_fullkeywords_reset.query(\"Department Name = AGRO\").sort_values('Count',ascending=False).head(5)\nsns.barplot(x='Keyword',y='Count' ,data=ARGO)\nplt.title('ARGO')",
    "id": "0e064b9d69b94796907af82b4b8d47c6",
    "idx": 7,
    "time": "2020-11-17T20:37:11.557Z",
    "type": "execution"
   },
   {
    "id": "0e064b9d69b94796907af82b4b8d47c6",
    "time": "2020-11-17T20:37:11.632Z",
    "type": "completion"
   },
   {
    "code": "# ANSI\nplt.figure\n#ANSI = by_department_fullkeywords_reset[by_department_fullkeywords_reset['Department Name']=='AGRO'].sort_values('Count',ascending=False).head(5)\nARGO = by_department_fullkeywords_reset.query(\"'Department Name' = 'AGRO'\").sort_values('Count',ascending=False).head(5)\nsns.barplot(x='Keyword',y='Count' ,data=ARGO)\nplt.title('ARGO')",
    "id": "0e064b9d69b94796907af82b4b8d47c6",
    "idx": 7,
    "time": "2020-11-17T20:37:22.998Z",
    "type": "execution"
   },
   {
    "id": "0e064b9d69b94796907af82b4b8d47c6",
    "time": "2020-11-17T20:37:23.077Z",
    "type": "completion"
   },
   {
    "code": "# ANSI\nplt.figure\n#ANSI = by_department_fullkeywords_reset[by_department_fullkeywords_reset['Department Name']=='AGRO'].sort_values('Count',ascending=False).head(5)\nARGO = by_department_fullkeywords_reset.query('Department Name == \"ARGO\"').sort_values('Count',ascending=False).head(5)\nsns.barplot(x='Keyword',y='Count' ,data=ARGO)\nplt.title('ARGO')",
    "id": "0e064b9d69b94796907af82b4b8d47c6",
    "idx": 7,
    "time": "2020-11-17T20:38:12.775Z",
    "type": "execution"
   },
   {
    "id": "0e064b9d69b94796907af82b4b8d47c6",
    "time": "2020-11-17T20:38:12.858Z",
    "type": "completion"
   },
   {
    "code": "# ANSI\nplt.figure\n#ANSI = by_department_fullkeywords_reset[by_department_fullkeywords_reset['Department Name']=='AGRO'].sort_values('Count',ascending=False).head(5)\nARGO = by_department_fullkeywords_reset.query('\"Department Name\" == \"ARGO\"').sort_values('Count',ascending=False).head(5)\nsns.barplot(x='Keyword',y='Count' ,data=ARGO)\nplt.title('ARGO')",
    "id": "0e064b9d69b94796907af82b4b8d47c6",
    "idx": 7,
    "time": "2020-11-17T20:38:23.577Z",
    "type": "execution"
   },
   {
    "id": "0e064b9d69b94796907af82b4b8d47c6",
    "time": "2020-11-17T20:38:23.722Z",
    "type": "completion"
   },
   {
    "code": "# ANSI\nplt.figure\nARGO = by_department_fullkeywords_reset[by_department_fullkeywords_reset['Department Name']=='AGRO'].sort_values('Count',ascending=False).head(5)\nsns.barplot(x='Keyword',y='Count' ,data=ARGO)\nplt.title('ARGO')\n",
    "id": "0e064b9d69b94796907af82b4b8d47c6",
    "idx": 7,
    "time": "2020-11-17T20:38:45.216Z",
    "type": "execution"
   },
   {
    "id": "0e064b9d69b94796907af82b4b8d47c6",
    "time": "2020-11-17T20:38:45.457Z",
    "type": "completion"
   },
   {
    "code": "# NSCI\nplt.figure\nANSC = by_department_fullkeywords_reset[by_department_fullkeywords_reset['Department Name']=='ANSC'].sort_values('Count',ascending=False).head(5)\nsns.barplot(x='Keyword',y='Count' ,data=ANSC)\nplt.title('ANSC')\n",
    "id": "7ca374d8233e485b8053a3441c5daeaa",
    "idx": 8,
    "time": "2020-11-17T20:39:12.610Z",
    "type": "execution"
   },
   {
    "id": "7ca374d8233e485b8053a3441c5daeaa",
    "time": "2020-11-17T20:39:12.851Z",
    "type": "completion"
   },
   {
    "code": "\n# NREM\nplt.figure\nHUNF = by_department_fullkeywords_reset[by_department_fullkeywords_reset['Department Name']=='HUNF'].sort_values('Count',ascending=False).head(5)\nsns.barplot(x='Keyword',y='Count' ,data=HUNF)\nplt.title('HUNF')\n",
    "id": "ceadd7aecdce4cf995481d3c2c83c62b",
    "idx": 9,
    "time": "2020-11-17T20:39:31.562Z",
    "type": "execution"
   },
   {
    "id": "ceadd7aecdce4cf995481d3c2c83c62b",
    "time": "2020-11-17T20:39:31.795Z",
    "type": "completion"
   },
   {
    "code": "\n# NREM\nplt.figure\nHUNF = by_department_fullkeywords_reset[by_department_fullkeywords_reset['Department Name']=='HUNF'].sort_values('Count',ascending=False).head(5)\nsns.barplot(x='Keyword',y='Count' ,data=HUNF)\nplt.title('HUNF');\n",
    "id": "ceadd7aecdce4cf995481d3c2c83c62b",
    "idx": 9,
    "time": "2020-11-17T20:52:33.019Z",
    "type": "execution"
   },
   {
    "id": "ceadd7aecdce4cf995481d3c2c83c62b",
    "time": "2020-11-17T20:52:33.263Z",
    "type": "completion"
   }
  ],
  "kernelspec": {
   "display_name": "Python 3",
   "language": "python",
   "name": "python3"
  },
  "language_info": {
   "codemirror_mode": {
    "name": "ipython",
    "version": 3
   },
   "file_extension": ".py",
   "mimetype": "text/x-python",
   "name": "python",
   "nbconvert_exporter": "python",
   "pygments_lexer": "ipython3",
   "version": "3.7.6"
  }
 },
 "nbformat": 4,
 "nbformat_minor": 4
}
