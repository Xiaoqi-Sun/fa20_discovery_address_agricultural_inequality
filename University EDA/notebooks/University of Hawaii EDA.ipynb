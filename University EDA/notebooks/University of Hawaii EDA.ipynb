{
 "cells": [
  {
   "cell_type": "code",
   "execution_count": 29,
   "metadata": {},
   "outputs": [],
   "source": [
    "import pandas as pd\n",
    "import numpy as np\n",
    "import matplotlib.pyplot as plt\n",
    "import seaborn as sns\n",
    "%matplotlib inline\n"
   ]
  },
  {
   "cell_type": "code",
   "execution_count": 30,
   "metadata": {
    "scrolled": false
   },
   "outputs": [
    {
     "data": {
      "text/html": [
       "<div>\n",
       "<style scoped>\n",
       "    .dataframe tbody tr th:only-of-type {\n",
       "        vertical-align: middle;\n",
       "    }\n",
       "\n",
       "    .dataframe tbody tr th {\n",
       "        vertical-align: top;\n",
       "    }\n",
       "\n",
       "    .dataframe thead th {\n",
       "        text-align: right;\n",
       "    }\n",
       "</style>\n",
       "<table border=\"1\" class=\"dataframe\">\n",
       "  <thead>\n",
       "    <tr style=\"text-align: right;\">\n",
       "      <th></th>\n",
       "      <th>Department</th>\n",
       "      <th>Course Catalogue Number</th>\n",
       "      <th>Course Name</th>\n",
       "      <th>Description</th>\n",
       "      <th>Graduate/Undergraduate</th>\n",
       "      <th>Lab</th>\n",
       "      <th>Year</th>\n",
       "      <th>Keywords</th>\n",
       "    </tr>\n",
       "  </thead>\n",
       "  <tbody>\n",
       "    <tr>\n",
       "      <th>0</th>\n",
       "      <td>Administration of Justice (AJ) Courses</td>\n",
       "      <td>AJ180</td>\n",
       "      <td>Intro to Homeland Security</td>\n",
       "      <td>An examination of the history of terrorism, f...</td>\n",
       "      <td>Undergraduate</td>\n",
       "      <td>False</td>\n",
       "      <td>2019-2020</td>\n",
       "      <td>['land']</td>\n",
       "    </tr>\n",
       "    <tr>\n",
       "      <th>1</th>\n",
       "      <td>Aeronautical Sciences (AERS) Courses</td>\n",
       "      <td>AERS102</td>\n",
       "      <td>Elem Private Pilot Ops II</td>\n",
       "      <td>Introduction to the basic rules, regulations,...</td>\n",
       "      <td>Undergraduate</td>\n",
       "      <td>False</td>\n",
       "      <td>2019-2020</td>\n",
       "      <td>['land']</td>\n",
       "    </tr>\n",
       "    <tr>\n",
       "      <th>2</th>\n",
       "      <td>Aeronautical Sciences (AERS) Courses</td>\n",
       "      <td>AERS201</td>\n",
       "      <td>Private Pilot License Pre Solo</td>\n",
       "      <td>Introduces the airplane to entry-level studen...</td>\n",
       "      <td>Undergraduate</td>\n",
       "      <td>False</td>\n",
       "      <td>2019-2020</td>\n",
       "      <td>['land']</td>\n",
       "    </tr>\n",
       "    <tr>\n",
       "      <th>3</th>\n",
       "      <td>Aeronautical Sciences (AERS) Courses</td>\n",
       "      <td>AERS202</td>\n",
       "      <td>Private Pilot Solo &amp;amp; Checkride</td>\n",
       "      <td>Introduces cross-country navigation, emergenc...</td>\n",
       "      <td>Undergraduate</td>\n",
       "      <td>False</td>\n",
       "      <td>2019-2020</td>\n",
       "      <td>['land']</td>\n",
       "    </tr>\n",
       "    <tr>\n",
       "      <th>4</th>\n",
       "      <td>Aeronautical Sciences (AERS) Courses</td>\n",
       "      <td>AERS221</td>\n",
       "      <td>Elem Multi-Eng Ops II</td>\n",
       "      <td>This course focuses on elementary commercial ...</td>\n",
       "      <td>Undergraduate</td>\n",
       "      <td>False</td>\n",
       "      <td>2019-2020</td>\n",
       "      <td>['land']</td>\n",
       "    </tr>\n",
       "    <tr>\n",
       "      <th>...</th>\n",
       "      <td>...</td>\n",
       "      <td>...</td>\n",
       "      <td>...</td>\n",
       "      <td>...</td>\n",
       "      <td>...</td>\n",
       "      <td>...</td>\n",
       "      <td>...</td>\n",
       "      <td>...</td>\n",
       "    </tr>\n",
       "    <tr>\n",
       "      <th>899</th>\n",
       "      <td>Spanish (SPAN) Courses</td>\n",
       "      <td>SPAN306</td>\n",
       "      <td>Medical Spanish</td>\n",
       "      <td>This class will develop students linguistical...</td>\n",
       "      <td>Undergraduate</td>\n",
       "      <td>False</td>\n",
       "      <td>2016-2017</td>\n",
       "      <td>[' diabetes ']</td>\n",
       "    </tr>\n",
       "    <tr>\n",
       "      <th>900</th>\n",
       "      <td>Tourism (TOUR) Courses</td>\n",
       "      <td>TOUR317</td>\n",
       "      <td>Mkt &amp;amp; Mgt Of Travel &amp;amp; Tourism</td>\n",
       "      <td>Principles of marketing and management applie...</td>\n",
       "      <td>Undergraduate</td>\n",
       "      <td>False</td>\n",
       "      <td>2016-2017</td>\n",
       "      <td>[' restaurant']</td>\n",
       "    </tr>\n",
       "    <tr>\n",
       "      <th>901</th>\n",
       "      <td>Tourism (TOUR) Courses</td>\n",
       "      <td>TOUR350</td>\n",
       "      <td>Intro to Sustainable Tourism</td>\n",
       "      <td>Management and marketing issues faced by comm...</td>\n",
       "      <td>Undergraduate</td>\n",
       "      <td>False</td>\n",
       "      <td>2016-2017</td>\n",
       "      <td>['land']</td>\n",
       "    </tr>\n",
       "    <tr>\n",
       "      <th>902</th>\n",
       "      <td>Gender and Womens Studies (WS) Courses</td>\n",
       "      <td>WS305B</td>\n",
       "      <td>Themes in Regnl Geog: Mid East</td>\n",
       "      <td>Surveys regional landscapes of the Middle Eas...</td>\n",
       "      <td>Undergraduate</td>\n",
       "      <td>False</td>\n",
       "      <td>2016-2017</td>\n",
       "      <td>['land']</td>\n",
       "    </tr>\n",
       "    <tr>\n",
       "      <th>903</th>\n",
       "      <td>Gender and Womens Studies (WS) Courses</td>\n",
       "      <td>WS408</td>\n",
       "      <td>Island Feminism</td>\n",
       "      <td>The course considers the specific geographica...</td>\n",
       "      <td>Undergraduate</td>\n",
       "      <td>False</td>\n",
       "      <td>2016-2017</td>\n",
       "      <td>['land']</td>\n",
       "    </tr>\n",
       "  </tbody>\n",
       "</table>\n",
       "<p>904 rows × 8 columns</p>\n",
       "</div>"
      ],
      "text/plain": [
       "                                 Department Course Catalogue Number  \\\n",
       "0    Administration of Justice (AJ) Courses                   AJ180   \n",
       "1      Aeronautical Sciences (AERS) Courses                 AERS102   \n",
       "2      Aeronautical Sciences (AERS) Courses                 AERS201   \n",
       "3      Aeronautical Sciences (AERS) Courses                 AERS202   \n",
       "4      Aeronautical Sciences (AERS) Courses                 AERS221   \n",
       "..                                      ...                     ...   \n",
       "899                  Spanish (SPAN) Courses                 SPAN306   \n",
       "900                  Tourism (TOUR) Courses                 TOUR317   \n",
       "901                  Tourism (TOUR) Courses                 TOUR350   \n",
       "902  Gender and Womens Studies (WS) Courses                  WS305B   \n",
       "903  Gender and Womens Studies (WS) Courses                   WS408   \n",
       "\n",
       "                                 Course Name  \\\n",
       "0                Intro to Homeland Security    \n",
       "1                 Elem Private Pilot Ops II    \n",
       "2            Private Pilot License Pre Solo    \n",
       "3        Private Pilot Solo &amp; Checkride    \n",
       "4                     Elem Multi-Eng Ops II    \n",
       "..                                       ...   \n",
       "899                         Medical Spanish    \n",
       "900   Mkt &amp; Mgt Of Travel &amp; Tourism    \n",
       "901            Intro to Sustainable Tourism    \n",
       "902          Themes in Regnl Geog: Mid East    \n",
       "903                         Island Feminism    \n",
       "\n",
       "                                           Description Graduate/Undergraduate  \\\n",
       "0     An examination of the history of terrorism, f...          Undergraduate   \n",
       "1     Introduction to the basic rules, regulations,...          Undergraduate   \n",
       "2     Introduces the airplane to entry-level studen...          Undergraduate   \n",
       "3     Introduces cross-country navigation, emergenc...          Undergraduate   \n",
       "4     This course focuses on elementary commercial ...          Undergraduate   \n",
       "..                                                 ...                    ...   \n",
       "899   This class will develop students linguistical...          Undergraduate   \n",
       "900   Principles of marketing and management applie...          Undergraduate   \n",
       "901   Management and marketing issues faced by comm...          Undergraduate   \n",
       "902   Surveys regional landscapes of the Middle Eas...          Undergraduate   \n",
       "903   The course considers the specific geographica...          Undergraduate   \n",
       "\n",
       "       Lab       Year         Keywords  \n",
       "0    False  2019-2020         ['land']  \n",
       "1    False  2019-2020         ['land']  \n",
       "2    False  2019-2020         ['land']  \n",
       "3    False  2019-2020         ['land']  \n",
       "4    False  2019-2020         ['land']  \n",
       "..     ...        ...              ...  \n",
       "899  False  2016-2017   [' diabetes ']  \n",
       "900  False  2016-2017  [' restaurant']  \n",
       "901  False  2016-2017         ['land']  \n",
       "902  False  2016-2017         ['land']  \n",
       "903  False  2016-2017         ['land']  \n",
       "\n",
       "[904 rows x 8 columns]"
      ]
     },
     "execution_count": 30,
     "metadata": {},
     "output_type": "execute_result"
    }
   ],
   "source": [
    "data = pd.read_csv('University_of_Hawaii_Courses_2016-2020.csv')\n",
    "data"
   ]
  },
  {
   "cell_type": "code",
   "execution_count": 31,
   "metadata": {},
   "outputs": [],
   "source": [
    "data['Keywords'] = data['Keywords'].apply(lambda x: x[1:-1].split(', '))\n",
    "clean_data = data.explode('Keywords')"
   ]
  },
  {
   "cell_type": "code",
   "execution_count": 32,
   "metadata": {},
   "outputs": [
    {
     "data": {
      "text/html": [
       "<div>\n",
       "<style scoped>\n",
       "    .dataframe tbody tr th:only-of-type {\n",
       "        vertical-align: middle;\n",
       "    }\n",
       "\n",
       "    .dataframe tbody tr th {\n",
       "        vertical-align: top;\n",
       "    }\n",
       "\n",
       "    .dataframe thead th {\n",
       "        text-align: right;\n",
       "    }\n",
       "</style>\n",
       "<table border=\"1\" class=\"dataframe\">\n",
       "  <thead>\n",
       "    <tr style=\"text-align: right;\">\n",
       "      <th></th>\n",
       "      <th>Keywords</th>\n",
       "    </tr>\n",
       "  </thead>\n",
       "  <tbody>\n",
       "    <tr>\n",
       "      <th>'land'</th>\n",
       "      <td>321</td>\n",
       "    </tr>\n",
       "    <tr>\n",
       "      <th>' animal'</th>\n",
       "      <td>101</td>\n",
       "    </tr>\n",
       "    <tr>\n",
       "      <th>'agri'</th>\n",
       "      <td>92</td>\n",
       "    </tr>\n",
       "    <tr>\n",
       "      <th>' fish'</th>\n",
       "      <td>69</td>\n",
       "    </tr>\n",
       "    <tr>\n",
       "      <th>' nutri'</th>\n",
       "      <td>54</td>\n",
       "    </tr>\n",
       "  </tbody>\n",
       "</table>\n",
       "</div>"
      ],
      "text/plain": [
       "           Keywords\n",
       "'land'          321\n",
       "' animal'       101\n",
       "'agri'           92\n",
       "' fish'          69\n",
       "' nutri'         54"
      ]
     },
     "execution_count": 32,
     "metadata": {},
     "output_type": "execute_result"
    }
   ],
   "source": [
    "# frequency of top 50 keywords\n",
    "frequency_top50 = clean_data['Keywords'].value_counts().to_frame().head(50)\n",
    "frequency_top50.to_excel(\"University_of_Hawaii_EDA.xlsx\") \n",
    "frequency_top50.head()"
   ]
  },
  {
   "cell_type": "code",
   "execution_count": 33,
   "metadata": {},
   "outputs": [
    {
     "data": {
      "text/html": [
       "<div>\n",
       "<style scoped>\n",
       "    .dataframe tbody tr th:only-of-type {\n",
       "        vertical-align: middle;\n",
       "    }\n",
       "\n",
       "    .dataframe tbody tr th {\n",
       "        vertical-align: top;\n",
       "    }\n",
       "\n",
       "    .dataframe thead th {\n",
       "        text-align: right;\n",
       "    }\n",
       "</style>\n",
       "<table border=\"1\" class=\"dataframe\">\n",
       "  <thead>\n",
       "    <tr style=\"text-align: right;\">\n",
       "      <th></th>\n",
       "      <th></th>\n",
       "      <th>Count</th>\n",
       "    </tr>\n",
       "    <tr>\n",
       "      <th>Department</th>\n",
       "      <th>Keywords</th>\n",
       "      <th></th>\n",
       "    </tr>\n",
       "  </thead>\n",
       "  <tbody>\n",
       "    <tr>\n",
       "      <th>Administration of Justice (AJ) Courses</th>\n",
       "      <th>'land'</th>\n",
       "      <td>4</td>\n",
       "    </tr>\n",
       "    <tr>\n",
       "      <th>Aeronautical Sciences (AERS) Courses</th>\n",
       "      <th>'land'</th>\n",
       "      <td>4</td>\n",
       "    </tr>\n",
       "    <tr>\n",
       "      <th rowspan=\"3\" valign=\"top\">Agribusiness (AGBU) Courses</th>\n",
       "      <th>'agri'</th>\n",
       "      <td>16</td>\n",
       "    </tr>\n",
       "    <tr>\n",
       "      <th>'agro'</th>\n",
       "      <td>1</td>\n",
       "    </tr>\n",
       "    <tr>\n",
       "      <th>'crop'</th>\n",
       "      <td>4</td>\n",
       "    </tr>\n",
       "  </tbody>\n",
       "</table>\n",
       "</div>"
      ],
      "text/plain": [
       "                                                 Count\n",
       "Department                             Keywords       \n",
       "Administration of Justice (AJ) Courses 'land'        4\n",
       "Aeronautical Sciences (AERS) Courses   'land'        4\n",
       "Agribusiness (AGBU) Courses            'agri'       16\n",
       "                                       'agro'        1\n",
       "                                       'crop'        4"
      ]
     },
     "execution_count": 33,
     "metadata": {},
     "output_type": "execute_result"
    }
   ],
   "source": [
    "# frequency of top 50 keywords in each department\n",
    "by_department = clean_data[clean_data['Keywords'].isin(frequency_top50.index)].groupby(['Department','Keywords']).count()\n",
    "frequency_in_department = by_department.loc[:,['Course Catalogue Number']].rename(columns={'Course Catalogue Number':'Count'})\n",
    "frequency_in_department.head()"
   ]
  },
  {
   "cell_type": "code",
   "execution_count": 39,
   "metadata": {
    "scrolled": false
   },
   "outputs": [
    {
     "data": {
      "text/html": [
       "<div>\n",
       "<style scoped>\n",
       "    .dataframe tbody tr th:only-of-type {\n",
       "        vertical-align: middle;\n",
       "    }\n",
       "\n",
       "    .dataframe tbody tr th {\n",
       "        vertical-align: top;\n",
       "    }\n",
       "\n",
       "    .dataframe thead th {\n",
       "        text-align: right;\n",
       "    }\n",
       "</style>\n",
       "<table border=\"1\" class=\"dataframe\">\n",
       "  <thead>\n",
       "    <tr style=\"text-align: right;\">\n",
       "      <th></th>\n",
       "      <th>Keywords</th>\n",
       "      <th>Count</th>\n",
       "    </tr>\n",
       "    <tr>\n",
       "      <th>Department</th>\n",
       "      <th></th>\n",
       "      <th></th>\n",
       "    </tr>\n",
       "  </thead>\n",
       "  <tbody>\n",
       "    <tr>\n",
       "      <th>Administration of Justice (AJ) Courses</th>\n",
       "      <td>'land'</td>\n",
       "      <td>4</td>\n",
       "    </tr>\n",
       "    <tr>\n",
       "      <th>Aeronautical Sciences (AERS) Courses</th>\n",
       "      <td>'land'</td>\n",
       "      <td>4</td>\n",
       "    </tr>\n",
       "    <tr>\n",
       "      <th>Agribusiness (AGBU) Courses</th>\n",
       "      <td>'agri'</td>\n",
       "      <td>16</td>\n",
       "    </tr>\n",
       "    <tr>\n",
       "      <th>Agricultural Economics (AGEC) Courses</th>\n",
       "      <td>'farm'</td>\n",
       "      <td>12</td>\n",
       "    </tr>\n",
       "    <tr>\n",
       "      <th>Agricultural Engineering (AGEN) Courses</th>\n",
       "      <td>'farm'</td>\n",
       "      <td>12</td>\n",
       "    </tr>\n",
       "    <tr>\n",
       "      <th>Agriculture (AG) Courses</th>\n",
       "      <td>'agri'</td>\n",
       "      <td>29</td>\n",
       "    </tr>\n",
       "    <tr>\n",
       "      <th>Agronomy (AGRN) Courses</th>\n",
       "      <td>' herba'</td>\n",
       "      <td>4</td>\n",
       "    </tr>\n",
       "    <tr>\n",
       "      <th>Animal Science (ANSC) Courses</th>\n",
       "      <td>' animal'</td>\n",
       "      <td>28</td>\n",
       "    </tr>\n",
       "    <tr>\n",
       "      <th>Anthropology (ANTH) Courses</th>\n",
       "      <td>'botany'</td>\n",
       "      <td>10</td>\n",
       "    </tr>\n",
       "    <tr>\n",
       "      <th>Aquaculture (AQUA) Courses</th>\n",
       "      <td>' aquaculture'</td>\n",
       "      <td>16</td>\n",
       "    </tr>\n",
       "    <tr>\n",
       "      <th>Art (ART) Courses</th>\n",
       "      <td>'land'</td>\n",
       "      <td>4</td>\n",
       "    </tr>\n",
       "    <tr>\n",
       "      <th>Astronomy (ASTR) Courses</th>\n",
       "      <td>'land'</td>\n",
       "      <td>8</td>\n",
       "    </tr>\n",
       "    <tr>\n",
       "      <th>Biology (BIOL) Courses</th>\n",
       "      <td>'land'</td>\n",
       "      <td>36</td>\n",
       "    </tr>\n",
       "    <tr>\n",
       "      <th>Chemistry (CHEM) Courses</th>\n",
       "      <td>' protein'</td>\n",
       "      <td>4</td>\n",
       "    </tr>\n",
       "    <tr>\n",
       "      <th>Chinese (CHNS) Courses</th>\n",
       "      <td>'land'</td>\n",
       "      <td>4</td>\n",
       "    </tr>\n",
       "    <tr>\n",
       "      <th>Computer Science (CS) Courses</th>\n",
       "      <td>'crop'</td>\n",
       "      <td>4</td>\n",
       "    </tr>\n",
       "    <tr>\n",
       "      <th>Drama (DRAM) Courses</th>\n",
       "      <td>'land'</td>\n",
       "      <td>1</td>\n",
       "    </tr>\n",
       "    <tr>\n",
       "      <th>Economics (ECON) Courses</th>\n",
       "      <td>'land'</td>\n",
       "      <td>8</td>\n",
       "    </tr>\n",
       "    <tr>\n",
       "      <th>Engineering (ENGR) Courses</th>\n",
       "      <td>'digestion'</td>\n",
       "      <td>4</td>\n",
       "    </tr>\n",
       "    <tr>\n",
       "      <th>English (ENG) Courses</th>\n",
       "      <td>'land'</td>\n",
       "      <td>12</td>\n",
       "    </tr>\n",
       "    <tr>\n",
       "      <th>English as a Second Language (ESL) Courses</th>\n",
       "      <td>' animal'</td>\n",
       "      <td>4</td>\n",
       "    </tr>\n",
       "    <tr>\n",
       "      <th>Entomology (ENTO) Courses</th>\n",
       "      <td>'honey'</td>\n",
       "      <td>4</td>\n",
       "    </tr>\n",
       "    <tr>\n",
       "      <th>Environmental Studies/Science (ENSC) Courses</th>\n",
       "      <td>'land'</td>\n",
       "      <td>12</td>\n",
       "    </tr>\n",
       "    <tr>\n",
       "      <th>Forestry (FOR) Courses</th>\n",
       "      <td>' soil'</td>\n",
       "      <td>8</td>\n",
       "    </tr>\n",
       "    <tr>\n",
       "      <th>Gender and Womens Studies (WS) Courses</th>\n",
       "      <td>'land'</td>\n",
       "      <td>4</td>\n",
       "    </tr>\n",
       "    <tr>\n",
       "      <th>Gender and Women’s Studies (WS) Courses</th>\n",
       "      <td>'land'</td>\n",
       "      <td>5</td>\n",
       "    </tr>\n",
       "    <tr>\n",
       "      <th>Geography (GEOG) Courses</th>\n",
       "      <td>'land'</td>\n",
       "      <td>62</td>\n",
       "    </tr>\n",
       "    <tr>\n",
       "      <th>Geology (GEOL) Courses</th>\n",
       "      <td>'land'</td>\n",
       "      <td>8</td>\n",
       "    </tr>\n",
       "    <tr>\n",
       "      <th>Hawaiian Studies (HWST) Courses</th>\n",
       "      <td>'land'</td>\n",
       "      <td>8</td>\n",
       "    </tr>\n",
       "    <tr>\n",
       "      <th>History (HIST) Courses</th>\n",
       "      <td>'land'</td>\n",
       "      <td>36</td>\n",
       "    </tr>\n",
       "    <tr>\n",
       "      <th>Horticulture (HORT) Courses</th>\n",
       "      <td>' horticult'</td>\n",
       "      <td>12</td>\n",
       "    </tr>\n",
       "    <tr>\n",
       "      <th>Interdisciplinary Studies (IS) Courses</th>\n",
       "      <td>'land'</td>\n",
       "      <td>4</td>\n",
       "    </tr>\n",
       "    <tr>\n",
       "      <th>Japanese Studies (JPST) Courses</th>\n",
       "      <td>' rural '</td>\n",
       "      <td>4</td>\n",
       "    </tr>\n",
       "    <tr>\n",
       "      <th>Keʻelikōlani Hawaiian Studies (KHWS) Courses</th>\n",
       "      <td>'land'</td>\n",
       "      <td>6</td>\n",
       "    </tr>\n",
       "    <tr>\n",
       "      <th>Kinesiology and Exercise Sciences (KES) Courses</th>\n",
       "      <td>' nutri'</td>\n",
       "      <td>18</td>\n",
       "    </tr>\n",
       "    <tr>\n",
       "      <th>Linguistics (LING) Courses</th>\n",
       "      <td>'land'</td>\n",
       "      <td>4</td>\n",
       "    </tr>\n",
       "    <tr>\n",
       "      <th>Marine Science (MARE) Courses</th>\n",
       "      <td>'land'</td>\n",
       "      <td>28</td>\n",
       "    </tr>\n",
       "    <tr>\n",
       "      <th>Music (MUS) Courses</th>\n",
       "      <td>'land'</td>\n",
       "      <td>8</td>\n",
       "    </tr>\n",
       "    <tr>\n",
       "      <th>Natural Resources (NRES) Courses</th>\n",
       "      <td>' soil'</td>\n",
       "      <td>12</td>\n",
       "    </tr>\n",
       "    <tr>\n",
       "      <th>Nursing (NURS) Courses</th>\n",
       "      <td>' feeding '</td>\n",
       "      <td>4</td>\n",
       "    </tr>\n",
       "    <tr>\n",
       "      <th>Philosophy (PHIL) Courses</th>\n",
       "      <td>' animal'</td>\n",
       "      <td>4</td>\n",
       "    </tr>\n",
       "    <tr>\n",
       "      <th>Physics (PHYS) Courses</th>\n",
       "      <td>'land'</td>\n",
       "      <td>4</td>\n",
       "    </tr>\n",
       "    <tr>\n",
       "      <th>Plant Pathology (PPTH) Courses</th>\n",
       "      <td>'plant path'</td>\n",
       "      <td>4</td>\n",
       "    </tr>\n",
       "    <tr>\n",
       "      <th>Plant Physiology (PPHY) Courses</th>\n",
       "      <td>' nutri'</td>\n",
       "      <td>4</td>\n",
       "    </tr>\n",
       "    <tr>\n",
       "      <th>Political Science (POLS) Courses</th>\n",
       "      <td>'land'</td>\n",
       "      <td>4</td>\n",
       "    </tr>\n",
       "    <tr>\n",
       "      <th>Psychology (PSY) Courses</th>\n",
       "      <td>' animal'</td>\n",
       "      <td>12</td>\n",
       "    </tr>\n",
       "    <tr>\n",
       "      <th>Sociology (SOC) Courses</th>\n",
       "      <td>'land'</td>\n",
       "      <td>8</td>\n",
       "    </tr>\n",
       "    <tr>\n",
       "      <th>Soil Science (SOIL) Courses</th>\n",
       "      <td>' soil'</td>\n",
       "      <td>8</td>\n",
       "    </tr>\n",
       "    <tr>\n",
       "      <th>Spanish (SPAN) Courses</th>\n",
       "      <td>' diabetes '</td>\n",
       "      <td>4</td>\n",
       "    </tr>\n",
       "    <tr>\n",
       "      <th>Tourism (TOUR) Courses</th>\n",
       "      <td>'land'</td>\n",
       "      <td>4</td>\n",
       "    </tr>\n",
       "  </tbody>\n",
       "</table>\n",
       "</div>"
      ],
      "text/plain": [
       "                                                       Keywords  Count\n",
       "Department                                                            \n",
       "Administration of Justice (AJ) Courses                   'land'      4\n",
       "Aeronautical Sciences (AERS) Courses                     'land'      4\n",
       "Agribusiness (AGBU) Courses                              'agri'     16\n",
       "Agricultural Economics (AGEC) Courses                    'farm'     12\n",
       "Agricultural Engineering (AGEN) Courses                  'farm'     12\n",
       "Agriculture (AG) Courses                                 'agri'     29\n",
       "Agronomy (AGRN) Courses                                ' herba'      4\n",
       "Animal Science (ANSC) Courses                         ' animal'     28\n",
       "Anthropology (ANTH) Courses                            'botany'     10\n",
       "Aquaculture (AQUA) Courses                       ' aquaculture'     16\n",
       "Art (ART) Courses                                        'land'      4\n",
       "Astronomy (ASTR) Courses                                 'land'      8\n",
       "Biology (BIOL) Courses                                   'land'     36\n",
       "Chemistry (CHEM) Courses                             ' protein'      4\n",
       "Chinese (CHNS) Courses                                   'land'      4\n",
       "Computer Science (CS) Courses                            'crop'      4\n",
       "Drama (DRAM) Courses                                     'land'      1\n",
       "Economics (ECON) Courses                                 'land'      8\n",
       "Engineering (ENGR) Courses                          'digestion'      4\n",
       "English (ENG) Courses                                    'land'     12\n",
       "English as a Second Language (ESL) Courses            ' animal'      4\n",
       "Entomology (ENTO) Courses                               'honey'      4\n",
       "Environmental Studies/Science (ENSC) Courses             'land'     12\n",
       "Forestry (FOR) Courses                                  ' soil'      8\n",
       "Gender and Womens Studies (WS) Courses                   'land'      4\n",
       "Gender and Women’s Studies (WS) Courses                  'land'      5\n",
       "Geography (GEOG) Courses                                 'land'     62\n",
       "Geology (GEOL) Courses                                   'land'      8\n",
       "Hawaiian Studies (HWST) Courses                          'land'      8\n",
       "History (HIST) Courses                                   'land'     36\n",
       "Horticulture (HORT) Courses                        ' horticult'     12\n",
       "Interdisciplinary Studies (IS) Courses                   'land'      4\n",
       "Japanese Studies (JPST) Courses                       ' rural '      4\n",
       "Keʻelikōlani Hawaiian Studies (KHWS) Courses             'land'      6\n",
       "Kinesiology and Exercise Sciences (KES) Courses        ' nutri'     18\n",
       "Linguistics (LING) Courses                               'land'      4\n",
       "Marine Science (MARE) Courses                            'land'     28\n",
       "Music (MUS) Courses                                      'land'      8\n",
       "Natural Resources (NRES) Courses                        ' soil'     12\n",
       "Nursing (NURS) Courses                              ' feeding '      4\n",
       "Philosophy (PHIL) Courses                             ' animal'      4\n",
       "Physics (PHYS) Courses                                   'land'      4\n",
       "Plant Pathology (PPTH) Courses                     'plant path'      4\n",
       "Plant Physiology (PPHY) Courses                        ' nutri'      4\n",
       "Political Science (POLS) Courses                         'land'      4\n",
       "Psychology (PSY) Courses                              ' animal'     12\n",
       "Sociology (SOC) Courses                                  'land'      8\n",
       "Soil Science (SOIL) Courses                             ' soil'      8\n",
       "Spanish (SPAN) Courses                             ' diabetes '      4\n",
       "Tourism (TOUR) Courses                                   'land'      4"
      ]
     },
     "execution_count": 39,
     "metadata": {},
     "output_type": "execute_result"
    }
   ],
   "source": [
    "# top keyword in each department\n",
    "by_department_fullkeywords = clean_data.groupby(['Department','Keywords']).count().loc[:,['Course Catalogue Number']].rename(columns={'Course Catalogue Number':'Count'})\n",
    "by_department_fullkeywords_reset = by_department_fullkeywords.reset_index()\n",
    "top_word_in_dept = by_department_fullkeywords_reset.sort_values('Count').groupby('Department').last()\n",
    "top_word_in_dept"
   ]
  },
  {
   "cell_type": "code",
   "execution_count": 35,
   "metadata": {},
   "outputs": [
    {
     "data": {
      "text/html": [
       "<div>\n",
       "<style scoped>\n",
       "    .dataframe tbody tr th:only-of-type {\n",
       "        vertical-align: middle;\n",
       "    }\n",
       "\n",
       "    .dataframe tbody tr th {\n",
       "        vertical-align: top;\n",
       "    }\n",
       "\n",
       "    .dataframe thead th {\n",
       "        text-align: right;\n",
       "    }\n",
       "</style>\n",
       "<table border=\"1\" class=\"dataframe\">\n",
       "  <thead>\n",
       "    <tr style=\"text-align: right;\">\n",
       "      <th></th>\n",
       "      <th>Count</th>\n",
       "    </tr>\n",
       "    <tr>\n",
       "      <th>Department</th>\n",
       "      <th></th>\n",
       "    </tr>\n",
       "  </thead>\n",
       "  <tbody>\n",
       "    <tr>\n",
       "      <th>Biology (BIOL) Courses</th>\n",
       "      <td>165</td>\n",
       "    </tr>\n",
       "    <tr>\n",
       "      <th>Animal Science (ANSC) Courses</th>\n",
       "      <td>128</td>\n",
       "    </tr>\n",
       "    <tr>\n",
       "      <th>Horticulture (HORT) Courses</th>\n",
       "      <td>119</td>\n",
       "    </tr>\n",
       "  </tbody>\n",
       "</table>\n",
       "</div>"
      ],
      "text/plain": [
       "                               Count\n",
       "Department                          \n",
       "Biology (BIOL) Courses           165\n",
       "Animal Science (ANSC) Courses    128\n",
       "Horticulture (HORT) Courses      119"
      ]
     },
     "execution_count": 35,
     "metadata": {},
     "output_type": "execute_result"
    }
   ],
   "source": [
    "#distribution of top 10 \n",
    "top3_department = by_department_fullkeywords_reset.groupby('Department').sum().sort_values('Count',ascending=False).head(3)\n",
    "top3_department"
   ]
  },
  {
   "cell_type": "code",
   "execution_count": 36,
   "metadata": {},
   "outputs": [
    {
     "data": {
      "text/plain": [
       "Index(['Biology (BIOL) Courses', 'Animal Science (ANSC) Courses',\n",
       "       'Horticulture (HORT) Courses'],\n",
       "      dtype='object', name='Department')"
      ]
     },
     "execution_count": 36,
     "metadata": {},
     "output_type": "execute_result"
    }
   ],
   "source": [
    "top3_dept_name = top3_department.index\n",
    "top3_dept_name"
   ]
  },
  {
   "cell_type": "code",
   "execution_count": 40,
   "metadata": {},
   "outputs": [],
   "source": [
    "with pd.ExcelWriter('University_of_Hawaii_EDA.xlsx') as writer:\n",
    "    frequency_top50.to_excel(writer, sheet_name='Top 50 keywords')\n",
    "    frequency_in_department.to_excel(writer, sheet_name='Frequency for each Department')\n",
    "    top_word_in_dept.to_excel(writer, sheet_name='Top keyword in Department')\n",
    "    top3_department.to_excel(writer, sheet_name='Top 3 Departments')"
   ]
  },
  {
   "cell_type": "code",
   "execution_count": 41,
   "metadata": {},
   "outputs": [
    {
     "data": {
      "text/plain": [
       "Text(0.5, 1.0, 'Biology (BIOL) Courses')"
      ]
     },
     "execution_count": 41,
     "metadata": {},
     "output_type": "execute_result"
    },
    {
     "data": {
      "image/png": "[encoded data removed]",
      "text/plain": [
       "<Figure size 1440x720 with 1 Axes>"
      ]
     },
     "metadata": {
      "needs_background": "light"
     },
     "output_type": "display_data"
    }
   ],
   "source": [
    "# ANSI\n",
    "plt.figure(figsize=(20,10))\n",
    "ANSI = by_department_fullkeywords_reset[by_department_fullkeywords_reset['Department']==top3_dept_name[0]].sort_values('Count',ascending=False).head(5)\n",
    "sns.barplot(x='Keywords',y='Count' ,data=ANSI)\n",
    "plt.title(top3_dept_name[0])"
   ]
  },
  {
   "cell_type": "code",
   "execution_count": 42,
   "metadata": {},
   "outputs": [
    {
     "data": {
      "text/plain": [
       "Text(0.5, 1.0, 'Animal Science (ANSC) Courses')"
      ]
     },
     "execution_count": 42,
     "metadata": {},
     "output_type": "execute_result"
    },
    {
     "data": {
      "image/png": "[encoded data removed]",
      "text/plain": [
       "<Figure size 1440x720 with 1 Axes>"
      ]
     },
     "metadata": {
      "needs_background": "light"
     },
     "output_type": "display_data"
    }
   ],
   "source": [
    "# NSCI\n",
    "plt.figure(figsize=(20,10))\n",
    "ANSI = by_department_fullkeywords_reset[by_department_fullkeywords_reset['Department']==top3_dept_name[1]].sort_values('Count',ascending=False).head(5)\n",
    "sns.barplot(x='Keywords',y='Count' ,data=ANSI)\n",
    "plt.title(top3_dept_name[1])"
   ]
  },
  {
   "cell_type": "code",
   "execution_count": 43,
   "metadata": {},
   "outputs": [
    {
     "data": {
      "text/plain": [
       "Text(0.5, 1.0, 'Horticulture (HORT) Courses')"
      ]
     },
     "execution_count": 43,
     "metadata": {},
     "output_type": "execute_result"
    },
    {
     "data": {
      "image/png": "[encoded data removed]",
      "text/plain": [
       "<Figure size 1440x720 with 1 Axes>"
      ]
     },
     "metadata": {
      "needs_background": "light"
     },
     "output_type": "display_data"
    }
   ],
   "source": [
    "\n",
    "# NREM\n",
    "plt.figure(figsize=(20,10))\n",
    "ANSI = by_department_fullkeywords_reset[by_department_fullkeywords_reset['Department']==top3_dept_name[2]].sort_values('Count',ascending=False).head(5)\n",
    "sns.barplot(x='Keywords',y='Count' ,data=ANSI)\n",
    "plt.title(top3_dept_name[2])"
   ]
  },
  {
   "cell_type": "code",
   "execution_count": null,
   "metadata": {},
   "outputs": [],
   "source": []
  }
 ],
 "metadata": {
  "history": [
   {
    "code": "import Pandas as pd\nimport Numpy as np",
    "id": "0f56f3c3567f4dc49e9ba9e6e31cba7c",
    "idx": 0,
    "time": "2020-11-14T22:22:10.382Z",
    "type": "execution"
   },
   {
    "id": "0f56f3c3567f4dc49e9ba9e6e31cba7c",
    "time": "2020-11-14T22:22:10.501Z",
    "type": "completion"
   },
   {
    "code": "import pandas as pd\nimport Numpy as np",
    "id": "0f56f3c3567f4dc49e9ba9e6e31cba7c",
    "idx": 0,
    "time": "2020-11-14T22:22:13.384Z",
    "type": "execution"
   },
   {
    "id": "0f56f3c3567f4dc49e9ba9e6e31cba7c",
    "time": "2020-11-14T22:22:13.833Z",
    "type": "completion"
   },
   {
    "code": "import pandas as pd\nimport numpy as np",
    "id": "0f56f3c3567f4dc49e9ba9e6e31cba7c",
    "idx": 0,
    "time": "2020-11-14T22:22:16.714Z",
    "type": "execution"
   },
   {
    "id": "0f56f3c3567f4dc49e9ba9e6e31cba7c",
    "time": "2020-11-14T22:22:16.776Z",
    "type": "completion"
   },
   {
    "code": "pd.read_csv('Oklahoma_State_University Courses 2017-21 Webscraped(with keyword).csv')",
    "id": "5e84dbae4ee44db289e0dee6277ad98e",
    "idx": 1,
    "time": "2020-11-14T22:22:24.831Z",
    "type": "execution"
   },
   {
    "id": "5e84dbae4ee44db289e0dee6277ad98e",
    "time": "2020-11-14T22:22:25.127Z",
    "type": "completion"
   },
   {
    "code": "data = pd.read_csv('Oklahoma_State_University 2017-21 Webscraped.csv')",
    "id": "5e84dbae4ee44db289e0dee6277ad98e",
    "idx": 1,
    "time": "2020-11-14T22:23:49.960Z",
    "type": "execution"
   },
   {
    "id": "5e84dbae4ee44db289e0dee6277ad98e",
    "time": "2020-11-14T22:23:50.072Z",
    "type": "completion"
   },
   {
    "code": "data = pd.read_csv('Oklahoma_State_University 2017-21 Webscraped.csv')\ndata",
    "id": "5e84dbae4ee44db289e0dee6277ad98e",
    "idx": 1,
    "time": "2020-11-14T22:23:52.964Z",
    "type": "execution"
   },
   {
    "id": "5e84dbae4ee44db289e0dee6277ad98e",
    "time": "2020-11-14T22:23:53.101Z",
    "type": "completion"
   },
   {
    "code": "data.explode('Keyword')",
    "id": "a5e7a5439d804d788376e8e70ef2cb7e",
    "idx": 2,
    "time": "2020-11-14T22:24:18.783Z",
    "type": "execution"
   },
   {
    "id": "a5e7a5439d804d788376e8e70ef2cb7e",
    "time": "2020-11-14T22:24:18.949Z",
    "type": "completion"
   },
   {
    "code": "more_than_one = data['Keyword'].apply(lambda x: 1 if len(x))",
    "id": "a74ad49f882c46088fa4efa9834908bb",
    "idx": 2,
    "time": "2020-11-14T22:26:10.928Z",
    "type": "execution"
   },
   {
    "id": "a74ad49f882c46088fa4efa9834908bb",
    "time": "2020-11-14T22:26:11.013Z",
    "type": "completion"
   },
   {
    "code": "more_than_one = data['Keyword'].apply(lambda x: 1 if len(x)>1)",
    "id": "a74ad49f882c46088fa4efa9834908bb",
    "idx": 2,
    "time": "2020-11-14T22:26:30.505Z",
    "type": "execution"
   },
   {
    "id": "a74ad49f882c46088fa4efa9834908bb",
    "time": "2020-11-14T22:26:30.761Z",
    "type": "completion"
   },
   {
    "code": "def f(x):\n    if len(x) > 1:\n        return 1\n    else:\n        return 0\n\n\nmore_than_one = data['Keyword'].apply(f)",
    "id": "a74ad49f882c46088fa4efa9834908bb",
    "idx": 2,
    "time": "2020-11-14T22:27:24.348Z",
    "type": "execution"
   },
   {
    "id": "a74ad49f882c46088fa4efa9834908bb",
    "time": "2020-11-14T22:27:24.424Z",
    "type": "completion"
   },
   {
    "code": "more_than_one",
    "id": "cf48b7362a9c420d88e4a626294190f9",
    "idx": 3,
    "time": "2020-11-14T22:27:28.405Z",
    "type": "execution"
   },
   {
    "id": "cf48b7362a9c420d88e4a626294190f9",
    "time": "2020-11-14T22:27:28.470Z",
    "type": "completion"
   },
   {
    "code": "data['Keyword'].loc[:,'Keyword']",
    "id": "cf48b7362a9c420d88e4a626294190f9",
    "idx": 2,
    "time": "2020-11-14T22:28:49.214Z",
    "type": "execution"
   },
   {
    "id": "cf48b7362a9c420d88e4a626294190f9",
    "time": "2020-11-14T22:28:49.339Z",
    "type": "completion"
   },
   {
    "code": "data.loc[:,'Keyword']",
    "id": "cf48b7362a9c420d88e4a626294190f9",
    "idx": 2,
    "time": "2020-11-14T22:28:57.480Z",
    "type": "execution"
   },
   {
    "id": "cf48b7362a9c420d88e4a626294190f9",
    "time": "2020-11-14T22:28:57.545Z",
    "type": "completion"
   },
   {
    "code": "data.loc[:,'Keyword'][0]",
    "id": "cf48b7362a9c420d88e4a626294190f9",
    "idx": 2,
    "time": "2020-11-14T22:29:05.106Z",
    "type": "execution"
   },
   {
    "id": "cf48b7362a9c420d88e4a626294190f9",
    "time": "2020-11-14T22:29:05.170Z",
    "type": "completion"
   },
   {
    "code": "type(data.loc[:,'Keyword'][0])",
    "id": "cf48b7362a9c420d88e4a626294190f9",
    "idx": 2,
    "time": "2020-11-14T22:29:10.375Z",
    "type": "execution"
   },
   {
    "id": "cf48b7362a9c420d88e4a626294190f9",
    "time": "2020-11-14T22:29:10.452Z",
    "type": "completion"
   },
   {
    "code": "data['Keyword'].apply(str.split(','))",
    "id": "cf48b7362a9c420d88e4a626294190f9",
    "idx": 2,
    "time": "2020-11-14T22:30:09.411Z",
    "type": "execution"
   },
   {
    "id": "cf48b7362a9c420d88e4a626294190f9",
    "time": "2020-11-14T22:30:09.738Z",
    "type": "completion"
   },
   {
    "code": "data['Keyword'].apply(lambda x: x.split(','))",
    "id": "cf48b7362a9c420d88e4a626294190f9",
    "idx": 2,
    "time": "2020-11-14T22:30:34.833Z",
    "type": "execution"
   },
   {
    "id": "cf48b7362a9c420d88e4a626294190f9",
    "time": "2020-11-14T22:30:34.906Z",
    "type": "completion"
   },
   {
    "code": "data['Keyword'].apply(lambda x: x[1:-1])",
    "id": "cf48b7362a9c420d88e4a626294190f9",
    "idx": 2,
    "time": "2020-11-14T22:31:08.472Z",
    "type": "execution"
   },
   {
    "id": "cf48b7362a9c420d88e4a626294190f9",
    "time": "2020-11-14T22:31:08.539Z",
    "type": "completion"
   },
   {
    "code": "data['Keyword'].apply(lambda x: x[1:-1].split(','))",
    "id": "cf48b7362a9c420d88e4a626294190f9",
    "idx": 2,
    "time": "2020-11-14T22:31:17.126Z",
    "type": "execution"
   },
   {
    "id": "cf48b7362a9c420d88e4a626294190f9",
    "time": "2020-11-14T22:31:17.255Z",
    "type": "completion"
   },
   {
    "code": "data['Keyword'] = data['Keyword'].apply(lambda x: x[1:-1].split(','))\ndata",
    "id": "cf48b7362a9c420d88e4a626294190f9",
    "idx": 3,
    "time": "2020-11-14T22:32:26.216Z",
    "type": "execution"
   },
   {
    "id": "cf48b7362a9c420d88e4a626294190f9",
    "time": "2020-11-14T22:32:26.316Z",
    "type": "completion"
   },
   {
    "code": "data.explode('Keyword')",
    "id": "c141f214e226400e956ffd2a3ca64057",
    "idx": 5,
    "time": "2020-11-14T22:32:47.344Z",
    "type": "execution"
   },
   {
    "id": "c141f214e226400e956ffd2a3ca64057",
    "time": "2020-11-14T22:32:47.465Z",
    "type": "completion"
   },
   {
    "code": "clean_data = data.explode('Keyword')",
    "id": "c141f214e226400e956ffd2a3ca64057",
    "idx": 5,
    "time": "2020-11-14T22:33:54.497Z",
    "type": "execution"
   },
   {
    "id": "c141f214e226400e956ffd2a3ca64057",
    "time": "2020-11-14T22:33:54.589Z",
    "type": "completion"
   },
   {
    "code": "clean_data.groupby('Keyword').count()",
    "id": "7d9dcf6a397543fc8859929e65f4ea42",
    "idx": 6,
    "time": "2020-11-14T22:34:27.304Z",
    "type": "execution"
   },
   {
    "id": "7d9dcf6a397543fc8859929e65f4ea42",
    "time": "2020-11-14T22:34:27.395Z",
    "type": "completion"
   },
   {
    "code": "clean_data['Keyword'].value_counts()",
    "id": "04b62fd5347245998e9a7806ef81fed0",
    "idx": 6,
    "time": "2020-11-14T22:35:18.694Z",
    "type": "execution"
   },
   {
    "id": "04b62fd5347245998e9a7806ef81fed0",
    "time": "2020-11-14T22:35:18.837Z",
    "type": "completion"
   },
   {
    "code": "clean_data['Keyword'].value_counts().to_frame()",
    "id": "04b62fd5347245998e9a7806ef81fed0",
    "idx": 6,
    "time": "2020-11-14T22:35:29.030Z",
    "type": "execution"
   },
   {
    "id": "04b62fd5347245998e9a7806ef81fed0",
    "time": "2020-11-14T22:35:29.115Z",
    "type": "completion"
   },
   {
    "code": "clean_data.groupby(['Department Name','Keyword']).count()",
    "id": "7d9dcf6a397543fc8859929e65f4ea42",
    "idx": 7,
    "time": "2020-11-14T22:39:24.600Z",
    "type": "execution"
   },
   {
    "id": "7d9dcf6a397543fc8859929e65f4ea42",
    "time": "2020-11-14T22:39:24.741Z",
    "type": "completion"
   },
   {
    "code": "clean_data[clean_data['Keyword'].isin(frequency_top50.index)].groupby(['Department Name','Keyword']).count()",
    "id": "7d9dcf6a397543fc8859929e65f4ea42",
    "idx": 7,
    "time": "2020-11-14T22:40:12.814Z",
    "type": "execution"
   },
   {
    "id": "7d9dcf6a397543fc8859929e65f4ea42",
    "time": "2020-11-14T22:40:12.941Z",
    "type": "completion"
   },
   {
    "code": "# frequency of top 50 keywords\nfrequency_top50 = clean_data['Keyword'].value_counts().to_frame().head(50)",
    "id": "04b62fd5347245998e9a7806ef81fed0",
    "idx": 6,
    "time": "2020-11-14T22:40:16.427Z",
    "type": "execution"
   },
   {
    "id": "04b62fd5347245998e9a7806ef81fed0",
    "time": "2020-11-14T22:40:16.726Z",
    "type": "completion"
   },
   {
    "code": "clean_data[clean_data['Keyword'].isin(frequency_top50.index)].groupby(['Department Name','Keyword']).count()",
    "id": "7d9dcf6a397543fc8859929e65f4ea42",
    "idx": 7,
    "time": "2020-11-14T22:40:19.742Z",
    "type": "execution"
   },
   {
    "id": "7d9dcf6a397543fc8859929e65f4ea42",
    "time": "2020-11-14T22:40:19.914Z",
    "type": "completion"
   },
   {
    "code": "clean_data[clean_data['Keyword'].isin(frequency_top50.index)]['Course Name'].groupby(['Department Name','Keyword']).count()",
    "id": "7d9dcf6a397543fc8859929e65f4ea42",
    "idx": 7,
    "time": "2020-11-14T22:40:49.128Z",
    "type": "execution"
   },
   {
    "id": "7d9dcf6a397543fc8859929e65f4ea42",
    "time": "2020-11-14T22:40:49.343Z",
    "type": "completion"
   },
   {
    "code": "clean_data[clean_data['Keyword'].isin(frequency_top50.index)].groupby(['Department Name','Keyword']).count().iloc[:,[['Course Name']]]",
    "id": "7d9dcf6a397543fc8859929e65f4ea42",
    "idx": 7,
    "time": "2020-11-14T22:41:12.342Z",
    "type": "execution"
   },
   {
    "id": "7d9dcf6a397543fc8859929e65f4ea42",
    "time": "2020-11-14T22:41:12.486Z",
    "type": "completion"
   },
   {
    "code": "clean_data[clean_data['Keyword'].isin(frequency_top50.index)].groupby(['Department Name','Keyword']).count().loc[:,[['Course Name']]]",
    "id": "7d9dcf6a397543fc8859929e65f4ea42",
    "idx": 7,
    "time": "2020-11-14T22:41:16.939Z",
    "type": "execution"
   },
   {
    "id": "7d9dcf6a397543fc8859929e65f4ea42",
    "time": "2020-11-14T22:41:17.160Z",
    "type": "completion"
   },
   {
    "code": "clean_data[clean_data['Keyword'].isin(frequency_top50.index)].groupby(['Department Name','Keyword']).count()",
    "id": "7d9dcf6a397543fc8859929e65f4ea42",
    "idx": 7,
    "time": "2020-11-14T22:41:27.349Z",
    "type": "execution"
   },
   {
    "id": "7d9dcf6a397543fc8859929e65f4ea42",
    "time": "2020-11-14T22:41:27.467Z",
    "type": "completion"
   },
   {
    "code": "by_department = clean_data[clean_data['Keyword'].isin(frequency_top50.index)].groupby(['Department Name','Keyword']).count()\nby_department.loc[:,['Course Catalogue Number']]",
    "id": "7d9dcf6a397543fc8859929e65f4ea42",
    "idx": 7,
    "time": "2020-11-14T22:42:02.657Z",
    "type": "execution"
   },
   {
    "id": "7d9dcf6a397543fc8859929e65f4ea42",
    "time": "2020-11-14T22:42:02.755Z",
    "type": "completion"
   },
   {
    "code": "# frequency of top 50 keywords in each department\nby_department = clean_data[clean_data['Keyword'].isin(frequency_top50.index)].groupby(['Department Name','Keyword']).count()\nfrequency_in_department = by_department.loc[:,['Course Catalogue Number']].rename(columns={'Course Catalogue Number':'Count'})\nfrequency_in_department",
    "id": "7d9dcf6a397543fc8859929e65f4ea42",
    "idx": 7,
    "time": "2020-11-14T22:43:19.483Z",
    "type": "execution"
   },
   {
    "id": "7d9dcf6a397543fc8859929e65f4ea42",
    "time": "2020-11-14T22:43:19.587Z",
    "type": "completion"
   },
   {
    "code": "frequency_in_department.reset_index()",
    "id": "6592ff246e574c8982fede445b045dc0",
    "idx": 8,
    "time": "2020-11-14T22:44:26.800Z",
    "type": "execution"
   },
   {
    "id": "6592ff246e574c8982fede445b045dc0",
    "time": "2020-11-14T22:44:26.878Z",
    "type": "completion"
   },
   {
    "code": "clean_data.head()",
    "id": "6bdec113fa8c460bb85f390908ca2f87",
    "idx": 8,
    "time": "2020-11-14T22:45:32.325Z",
    "type": "execution"
   },
   {
    "id": "6bdec113fa8c460bb85f390908ca2f87",
    "time": "2020-11-14T22:45:32.404Z",
    "type": "completion"
   },
   {
    "code": "frequency_in_department.head()",
    "id": "6bdec113fa8c460bb85f390908ca2f87",
    "idx": 8,
    "time": "2020-11-14T22:45:58.185Z",
    "type": "execution"
   },
   {
    "id": "6bdec113fa8c460bb85f390908ca2f87",
    "time": "2020-11-14T22:45:58.255Z",
    "type": "completion"
   },
   {
    "code": "# top keywords in each department\nby_department_fullkeywords = clean_data.groupby(['Department Name','Keyword']).count()\n\nby_department_fullkeywords",
    "id": "2c412c383adc4b9b8e8c838c3de2b397",
    "idx": 8,
    "time": "2020-11-14T22:47:19.203Z",
    "type": "execution"
   },
   {
    "id": "2c412c383adc4b9b8e8c838c3de2b397",
    "time": "2020-11-14T22:47:19.329Z",
    "type": "completion"
   },
   {
    "code": "# top keywords in each department\nby_department_fullkeywords = clean_data.groupby(['Department Name','Keyword']).count().loc[:,['Course Catalogue Number']].rename(columns={'Course Catalogue Number':'Count'})\n\nby_department_fullkeywords",
    "id": "2c412c383adc4b9b8e8c838c3de2b397",
    "idx": 8,
    "time": "2020-11-14T22:47:55.376Z",
    "type": "execution"
   },
   {
    "id": "2c412c383adc4b9b8e8c838c3de2b397",
    "time": "2020-11-14T22:47:55.485Z",
    "type": "completion"
   },
   {
    "code": "# top keywords in each department\nby_department_fullkeywords = clean_data.groupby(['Department Name','Keyword']).count().loc[:,['Course Catalogue Number']].rename(columns={'Course Catalogue Number':'Count'})\n\nby_department_fullkeywords.reset_index().groupby('Department Name').max()",
    "id": "2c412c383adc4b9b8e8c838c3de2b397",
    "idx": 8,
    "time": "2020-11-14T22:48:59.655Z",
    "type": "execution"
   },
   {
    "id": "2c412c383adc4b9b8e8c838c3de2b397",
    "time": "2020-11-14T22:48:59.777Z",
    "type": "completion"
   },
   {
    "code": "# top keywords in each department\nby_department_fullkeywords = clean_data.groupby(['Department Name','Keyword']).count().loc[:,['Course Catalogue Number']].rename(columns={'Course Catalogue Number':'Count'})\nby_department_fullkeywords\n#by_department_fullkeywords.reset_index().groupby('Department Name').max()",
    "id": "2c412c383adc4b9b8e8c838c3de2b397",
    "idx": 8,
    "time": "2020-11-14T22:49:59.697Z",
    "type": "execution"
   },
   {
    "id": "2c412c383adc4b9b8e8c838c3de2b397",
    "time": "2020-11-14T22:49:59.796Z",
    "type": "completion"
   },
   {
    "code": "# top keywords in each department\nby_department_fullkeywords = clean_data.groupby(['Department Name','Keyword']).count().loc[:,['Course Catalogue Number']].rename(columns={'Course Catalogue Number':'Count'})\nby_department_fullkeywords.query(\"Department Name== VCS\")\n#by_department_fullkeywords.reset_index().groupby('Department Name').max()",
    "id": "2c412c383adc4b9b8e8c838c3de2b397",
    "idx": 8,
    "time": "2020-11-14T22:50:22.447Z",
    "type": "execution"
   },
   {
    "id": "2c412c383adc4b9b8e8c838c3de2b397",
    "time": "2020-11-14T22:50:22.543Z",
    "type": "completion"
   },
   {
    "code": "# top keywords in each department\nby_department_fullkeywords = clean_data.groupby(['Department Name','Keyword']).count().loc[:,['Course Catalogue Number']].rename(columns={'Course Catalogue Number':'Count'})\nby_department_fullkeywords.query(\"Department Name = VCS\")\n#by_department_fullkeywords.reset_index().groupby('Department Name').max()",
    "id": "2c412c383adc4b9b8e8c838c3de2b397",
    "idx": 8,
    "time": "2020-11-14T22:50:28.004Z",
    "type": "execution"
   },
   {
    "id": "2c412c383adc4b9b8e8c838c3de2b397",
    "time": "2020-11-14T22:50:28.087Z",
    "type": "completion"
   },
   {
    "code": "# top keywords in each department\nby_department_fullkeywords = clean_data.groupby(['Department Name','Keyword']).count().loc[:,['Course Catalogue Number']].rename(columns={'Course Catalogue Number':'Count'})\nby_department_fullkeywords[by_department_fullkeywords['Department Name']=='VCS']\n#by_department_fullkeywords.reset_index().groupby('Department Name').max()",
    "id": "2c412c383adc4b9b8e8c838c3de2b397",
    "idx": 8,
    "time": "2020-11-14T22:50:45.134Z",
    "type": "execution"
   },
   {
    "id": "2c412c383adc4b9b8e8c838c3de2b397",
    "time": "2020-11-14T22:50:45.285Z",
    "type": "completion"
   },
   {
    "code": "# top keywords in each department\nby_department_fullkeywords = clean_data.groupby(['Department Name','Keyword']).count().loc[:,['Course Catalogue Number']].rename(columns={'Course Catalogue Number':'Count'})\nby_department_fullkeywords#[by_department_fullkeywords['Department Name']=='VCS']\n#by_department_fullkeywords.reset_index().groupby('Department Name').max()",
    "id": "2c412c383adc4b9b8e8c838c3de2b397",
    "idx": 8,
    "time": "2020-11-14T22:50:54.836Z",
    "type": "execution"
   },
   {
    "id": "2c412c383adc4b9b8e8c838c3de2b397",
    "time": "2020-11-14T22:50:54.934Z",
    "type": "completion"
   },
   {
    "code": "# top keywords in each department\nby_department_fullkeywords = clean_data.groupby(['Department Name','Keyword']).count().loc[:,['Course Catalogue Number']].rename(columns={'Course Catalogue Number':'Count'})\nby_department_fullkeywords.reset_index()[by_department_fullkeywords['Department Name']=='VCS']\n#by_department_fullkeywords.reset_index().groupby('Department Name').max()",
    "id": "2c412c383adc4b9b8e8c838c3de2b397",
    "idx": 8,
    "time": "2020-11-14T22:51:12.246Z",
    "type": "execution"
   },
   {
    "id": "2c412c383adc4b9b8e8c838c3de2b397",
    "time": "2020-11-14T22:51:12.435Z",
    "type": "completion"
   },
   {
    "code": "# top keywords in each department\nby_department_fullkeywords = clean_data.groupby(['Department Name','Keyword']).count().loc[:,['Course Catalogue Number']].rename(columns={'Course Catalogue Number':'Count'})\nby_department_fullkeywords[by_department_fullkeywords.reset_index()['Department Name']=='VCS']\n#by_department_fullkeywords.reset_index().groupby('Department Name').max()",
    "id": "2c412c383adc4b9b8e8c838c3de2b397",
    "idx": 8,
    "time": "2020-11-14T22:51:24.526Z",
    "type": "execution"
   },
   {
    "id": "2c412c383adc4b9b8e8c838c3de2b397",
    "time": "2020-11-14T22:51:24.668Z",
    "type": "completion"
   },
   {
    "code": "# top keywords in each department\nby_department_fullkeywords = clean_data.groupby(['Department Name','Keyword']).count().loc[:,['Course Catalogue Number']].rename(columns={'Course Catalogue Number':'Count'})\nby_department_fullkeywords_reset = by_department_fullkeywords.reset_index()\nby_department_fullkeywords_reset[by_department_fullkeywords_reset['Department Name']=='VCS']\n#by_department_fullkeywords.reset_index().groupby('Department Name').max()",
    "id": "2c412c383adc4b9b8e8c838c3de2b397",
    "idx": 8,
    "time": "2020-11-14T22:52:01.699Z",
    "type": "execution"
   },
   {
    "id": "2c412c383adc4b9b8e8c838c3de2b397",
    "time": "2020-11-14T22:52:01.797Z",
    "type": "completion"
   },
   {
    "code": "# top keywords in each department\nby_department_fullkeywords = clean_data.groupby(['Department Name','Keyword']).count().loc[:,['Course Catalogue Number']].rename(columns={'Course Catalogue Number':'Count'})\nby_department_fullkeywords_reset = by_department_fullkeywords.reset_index()\nby_department_fullkeywords_reset.sort_value('Count').groupby('Department Name').last()",
    "id": "2c412c383adc4b9b8e8c838c3de2b397",
    "idx": 8,
    "time": "2020-11-14T22:53:30.196Z",
    "type": "execution"
   },
   {
    "id": "2c412c383adc4b9b8e8c838c3de2b397",
    "time": "2020-11-14T22:53:30.318Z",
    "type": "completion"
   },
   {
    "code": "# top keywords in each department\nby_department_fullkeywords = clean_data.groupby(['Department Name','Keyword']).count().loc[:,['Course Catalogue Number']].rename(columns={'Course Catalogue Number':'Count'})\nby_department_fullkeywords_reset = by_department_fullkeywords.reset_index()\nby_department_fullkeywords_reset.sort_values('Count').groupby('Department Name').last()",
    "id": "2c412c383adc4b9b8e8c838c3de2b397",
    "idx": 8,
    "time": "2020-11-14T22:53:33.470Z",
    "type": "execution"
   },
   {
    "id": "2c412c383adc4b9b8e8c838c3de2b397",
    "time": "2020-11-14T22:53:33.603Z",
    "type": "completion"
   },
   {
    "code": "by_department_fullkeywords_reset",
    "id": "f74ad37e590747cc8dd3e42a84530975",
    "idx": 9,
    "time": "2020-11-14T22:53:53.163Z",
    "type": "execution"
   },
   {
    "id": "f74ad37e590747cc8dd3e42a84530975",
    "time": "2020-11-14T22:53:53.245Z",
    "type": "completion"
   },
   {
    "code": "by_department_fullkeywords_reset[by_department_fullkeywords_reset['Department Name']=='VBSC']",
    "id": "f74ad37e590747cc8dd3e42a84530975",
    "idx": 9,
    "time": "2020-11-14T22:54:27.395Z",
    "type": "execution"
   },
   {
    "id": "f74ad37e590747cc8dd3e42a84530975",
    "time": "2020-11-14T22:54:27.474Z",
    "type": "completion"
   },
   {
    "code": "clean_data.head(1)",
    "id": "3d225de3c86e4b30826fc99fa51fbb98",
    "idx": 9,
    "time": "2020-11-14T22:59:36.674Z",
    "type": "execution"
   },
   {
    "id": "3d225de3c86e4b30826fc99fa51fbb98",
    "time": "2020-11-14T22:59:36.771Z",
    "type": "completion"
   },
   {
    "code": "by_department_fullkeywords_reset.head(1)",
    "id": "3d225de3c86e4b30826fc99fa51fbb98",
    "idx": 9,
    "time": "2020-11-14T22:59:47.763Z",
    "type": "execution"
   },
   {
    "id": "3d225de3c86e4b30826fc99fa51fbb98",
    "time": "2020-11-14T22:59:47.836Z",
    "type": "completion"
   },
   {
    "code": "#distribution of top 10 \nby_department_fullkeywords_reset.groupby('Department Name').sum()",
    "id": "97ecc06c396a445380a69b7b0f8809a0",
    "idx": 10,
    "time": "2020-11-14T23:00:15.176Z",
    "type": "execution"
   },
   {
    "id": "97ecc06c396a445380a69b7b0f8809a0",
    "time": "2020-11-14T23:00:15.256Z",
    "type": "completion"
   },
   {
    "code": "#distribution of top 10 \ntop3_department = by_department_fullkeywords_reset.groupby('Department Name').sum().sort_values('Count').last(3)\ntop3_department",
    "id": "97ecc06c396a445380a69b7b0f8809a0",
    "idx": 10,
    "time": "2020-11-14T23:00:47.188Z",
    "type": "execution"
   },
   {
    "id": "97ecc06c396a445380a69b7b0f8809a0",
    "time": "2020-11-14T23:00:47.266Z",
    "type": "completion"
   },
   {
    "code": "#distribution of top 10 \ntop3_department = by_department_fullkeywords_reset.groupby('Department Name').sum().sort_values('Count')\ntop3_department",
    "id": "97ecc06c396a445380a69b7b0f8809a0",
    "idx": 10,
    "time": "2020-11-14T23:00:58.806Z",
    "type": "execution"
   },
   {
    "id": "97ecc06c396a445380a69b7b0f8809a0",
    "time": "2020-11-14T23:00:58.878Z",
    "type": "completion"
   },
   {
    "code": "#distribution of top 10 \ntop3_department = by_department_fullkeywords_reset.groupby('Department Name').sum().sort_values('Count').tail(3)\ntop3_department",
    "id": "97ecc06c396a445380a69b7b0f8809a0",
    "idx": 10,
    "time": "2020-11-14T23:01:04.943Z",
    "type": "execution"
   },
   {
    "id": "97ecc06c396a445380a69b7b0f8809a0",
    "time": "2020-11-14T23:01:05.019Z",
    "type": "completion"
   },
   {
    "code": "#distribution of top 10 \ntop3_department = by_department_fullkeywords_reset.groupby('Department Name').sum().sort_values('Count',Ascending=False).head(3)\ntop3_department",
    "id": "97ecc06c396a445380a69b7b0f8809a0",
    "idx": 10,
    "time": "2020-11-14T23:01:20.420Z",
    "type": "execution"
   },
   {
    "id": "97ecc06c396a445380a69b7b0f8809a0",
    "time": "2020-11-14T23:01:20.493Z",
    "type": "completion"
   },
   {
    "code": "#distribution of top 10 \ntop3_department = by_department_fullkeywords_reset.groupby('Department Name').sum().sort_values('Count',ascending=False).head(3)\ntop3_department",
    "id": "97ecc06c396a445380a69b7b0f8809a0",
    "idx": 10,
    "time": "2020-11-14T23:01:26.152Z",
    "type": "execution"
   },
   {
    "id": "97ecc06c396a445380a69b7b0f8809a0",
    "time": "2020-11-14T23:01:26.225Z",
    "type": "completion"
   },
   {
    "code": "by_department_fullkeywords_reset.head()",
    "id": "3d225de3c86e4b30826fc99fa51fbb98",
    "idx": 9,
    "time": "2020-11-14T23:02:09.345Z",
    "type": "execution"
   },
   {
    "id": "3d225de3c86e4b30826fc99fa51fbb98",
    "time": "2020-11-14T23:02:09.420Z",
    "type": "completion"
   },
   {
    "code": "by_department_fullkeywords_reset.head(10)",
    "id": "3d225de3c86e4b30826fc99fa51fbb98",
    "idx": 9,
    "time": "2020-11-14T23:02:24.628Z",
    "type": "execution"
   },
   {
    "id": "3d225de3c86e4b30826fc99fa51fbb98",
    "time": "2020-11-14T23:02:24.715Z",
    "type": "completion"
   },
   {
    "code": "import pandas as pd\nimport numpy as np\nimport matplotlib.pyplot as plt\nimport seaborn as sns\n%matplotlib inline\n\n",
    "id": "0f56f3c3567f4dc49e9ba9e6e31cba7c",
    "idx": 0,
    "time": "2020-11-14T23:04:03.491Z",
    "type": "execution"
   },
   {
    "id": "0f56f3c3567f4dc49e9ba9e6e31cba7c",
    "time": "2020-11-14T23:04:04.406Z",
    "type": "completion"
   },
   {
    "code": "#distribution of top 10 \ntop3_department = by_department_fullkeywords_reset.groupby('Department Name').sum().sort_values('Count',ascending=False).head(3)\ntop3_department\n\n# ANSI\nANSI = by_department_fullkeywords_reset[by_department_fullkeywords_reset['Department Name']='ANSI']\nsns.barplot(ANSI)\n# NSCI\n\n\n# NREM",
    "id": "97ecc06c396a445380a69b7b0f8809a0",
    "idx": 10,
    "time": "2020-11-14T23:04:21.265Z",
    "type": "execution"
   },
   {
    "id": "97ecc06c396a445380a69b7b0f8809a0",
    "time": "2020-11-14T23:04:21.338Z",
    "type": "completion"
   },
   {
    "code": "#distribution of top 10 \ntop3_department = by_department_fullkeywords_reset.groupby('Department Name').sum().sort_values('Count',ascending=False).head(3)\ntop3_department\n\n# ANSI\nANSI = by_department_fullkeywords_reset[by_department_fullkeywords_reset['Department Name']=='ANSI']\nsns.barplot(ANSI)\n# NSCI\n\n\n# NREM",
    "id": "97ecc06c396a445380a69b7b0f8809a0",
    "idx": 10,
    "time": "2020-11-14T23:04:25.275Z",
    "type": "execution"
   },
   {
    "id": "97ecc06c396a445380a69b7b0f8809a0",
    "time": "2020-11-14T23:04:25.445Z",
    "type": "completion"
   },
   {
    "code": "#distribution of top 10 \ntop3_department = by_department_fullkeywords_reset.groupby('Department Name').sum().sort_values('Count',ascending=False).head(3)\ntop3_department\n\n# ANSI\nANSI = by_department_fullkeywords_reset[by_department_fullkeywords_reset['Department Name']=='ANSI']\nsns.barplot(x='Keyword',y='Count' ,data=ANSI)\n# NSCI\n\n\n# NREM",
    "id": "97ecc06c396a445380a69b7b0f8809a0",
    "idx": 10,
    "time": "2020-11-14T23:05:51.652Z",
    "type": "execution"
   },
   {
    "id": "97ecc06c396a445380a69b7b0f8809a0",
    "time": "2020-11-14T23:05:52.775Z",
    "type": "completion"
   },
   {
    "code": "#distribution of top 10 \ntop3_department = by_department_fullkeywords_reset.groupby('Department Name').sum().sort_values('Count',ascending=False).head(3)\ntop3_department\n\n# ANSI\nANSI = by_department_fullkeywords_reset[by_department_fullkeywords_reset['Department Name']=='ANSI']\nsns.barplot(x='Keyword',y='Count' ,data=ANSI)\nplt.xtick(rot=90)\n# NSCI\n\n\n# NREM",
    "id": "97ecc06c396a445380a69b7b0f8809a0",
    "idx": 10,
    "time": "2020-11-14T23:07:09.120Z",
    "type": "execution"
   },
   {
    "id": "97ecc06c396a445380a69b7b0f8809a0",
    "time": "2020-11-14T23:07:10.297Z",
    "type": "completion"
   },
   {
    "code": "#distribution of top 10 \ntop3_department = by_department_fullkeywords_reset.groupby('Department Name').sum().sort_values('Count',ascending=False).head(3)\ntop3_department\n\n# ANSI\nANSI = by_department_fullkeywords_reset[by_department_fullkeywords_reset['Department Name']=='ANSI']\nsns.barplot(x='Keyword',y='Count' ,data=ANSI)\nplt.xticks(rot=90)\n# NSCI\n\n\n# NREM",
    "id": "97ecc06c396a445380a69b7b0f8809a0",
    "idx": 10,
    "time": "2020-11-14T23:07:45.788Z",
    "type": "execution"
   },
   {
    "id": "97ecc06c396a445380a69b7b0f8809a0",
    "time": "2020-11-14T23:07:47.010Z",
    "type": "completion"
   },
   {
    "code": "#distribution of top 10 \ntop3_department = by_department_fullkeywords_reset.groupby('Department Name').sum().sort_values('Count',ascending=False).head(3)\ntop3_department\n\n# ANSI\nANSI = by_department_fullkeywords_reset[by_department_fullkeywords_reset['Department Name']=='ANSI']\nsns.barplot(x='Keyword',y='Count' ,data=ANSI)\nplt.xticks(rotation=90)\n# NSCI\n\n\n# NREM",
    "id": "97ecc06c396a445380a69b7b0f8809a0",
    "idx": 10,
    "time": "2020-11-14T23:07:57.259Z",
    "type": "execution"
   },
   {
    "id": "97ecc06c396a445380a69b7b0f8809a0",
    "time": "2020-11-14T23:07:58.488Z",
    "type": "completion"
   },
   {
    "code": "#distribution of top 10 \ntop3_department = by_department_fullkeywords_reset.groupby('Department Name').sum().sort_values('Count',ascending=False).head(3)\ntop3_department\n\n# ANSI\nplt.figure(10,10)\nANSI = by_department_fullkeywords_reset[by_department_fullkeywords_reset['Department Name']=='ANSI']\nsns.barplot(x='Keyword',y='Count' ,data=ANSI)\nplt.xticks(rotation=90);\n# NSCI\n\n\n# NREM",
    "id": "97ecc06c396a445380a69b7b0f8809a0",
    "idx": 10,
    "time": "2020-11-14T23:08:38.695Z",
    "type": "execution"
   },
   {
    "id": "97ecc06c396a445380a69b7b0f8809a0",
    "time": "2020-11-14T23:08:38.819Z",
    "type": "completion"
   },
   {
    "code": "#distribution of top 10 \ntop3_department = by_department_fullkeywords_reset.groupby('Department Name').sum().sort_values('Count',ascending=False).head(3)\ntop3_department\n\n# ANSI\nplt.figure(figsize=(20,10))\nANSI = by_department_fullkeywords_reset[by_department_fullkeywords_reset['Department Name']=='ANSI']\nsns.barplot(x='Keyword',y='Count' ,data=ANSI)\nplt.xticks(rotation=90);\n# NSCI\n\n\n# NREM",
    "id": "97ecc06c396a445380a69b7b0f8809a0",
    "idx": 10,
    "time": "2020-11-14T23:09:01.117Z",
    "type": "execution"
   },
   {
    "id": "97ecc06c396a445380a69b7b0f8809a0",
    "time": "2020-11-14T23:09:02.531Z",
    "type": "completion"
   },
   {
    "code": "#distribution of top 10 \ntop3_department = by_department_fullkeywords_reset.groupby('Department Name').sum().sort_values('Count',ascending=False).head(3)\ntop3_department\n\n# ANSI\nplt.figure(figsize=(20,10))\nANSI = by_department_fullkeywords_reset[by_department_fullkeywords_reset['Department Name']=='ANSI'].sort_values('Count',ascending=False).head(5)\nsns.barplot(x='Keyword',y='Count' ,data=ANSI)\nplt.xticks(rotation=90);\n# NSCI\n\n\n# NREM",
    "id": "97ecc06c396a445380a69b7b0f8809a0",
    "idx": 10,
    "time": "2020-11-14T23:10:38.967Z",
    "type": "execution"
   },
   {
    "id": "97ecc06c396a445380a69b7b0f8809a0",
    "time": "2020-11-14T23:10:39.437Z",
    "type": "completion"
   },
   {
    "code": "#distribution of top 10 \ntop3_department = by_department_fullkeywords_reset.groupby('Department Name').sum().sort_values('Count',ascending=False).head(3)\ntop3_department\n\n# ANSI\nplt.figure(figsize=(20,10))\nANSI = by_department_fullkeywords_reset[by_department_fullkeywords_reset['Department Name']=='ANSI'].sort_values('Count',ascending=False).head(10)\nsns.barplot(x='Keyword',y='Count' ,data=ANSI)\nplt.xticks(rotation=90);\n# NSCI\n\n\n# NREM",
    "id": "97ecc06c396a445380a69b7b0f8809a0",
    "idx": 10,
    "time": "2020-11-14T23:10:48.689Z",
    "type": "execution"
   },
   {
    "id": "97ecc06c396a445380a69b7b0f8809a0",
    "time": "2020-11-14T23:10:49.209Z",
    "type": "completion"
   },
   {
    "code": "#distribution of top 10 \ntop3_department = by_department_fullkeywords_reset.groupby('Department Name').sum().sort_values('Count',ascending=False).head(3)\ntop3_department\n\n# ANSI\nplt.figure(figsize=(20,10))\nANSI = by_department_fullkeywords_reset[by_department_fullkeywords_reset['Department Name']=='ANSI'].sort_values('Count',ascending=False).head(5)\nsns.barplot(x='Keyword',y='Count' ,data=ANSI)\nplt.xticks(rotation=90);\n# NSCI\n\n\n# NREM",
    "id": "97ecc06c396a445380a69b7b0f8809a0",
    "idx": 10,
    "time": "2020-11-14T23:11:39.470Z",
    "type": "execution"
   },
   {
    "id": "97ecc06c396a445380a69b7b0f8809a0",
    "time": "2020-11-14T23:11:39.966Z",
    "type": "completion"
   },
   {
    "code": "#distribution of top 10 \ntop3_department = by_department_fullkeywords_reset.groupby('Department Name').sum().sort_values('Count',ascending=False).head(3)\ntop3_department\n\n# ANSI\nplt.figure(figsize=(20,10))\nANSI = by_department_fullkeywords_reset[by_department_fullkeywords_reset['Department Name']=='ANSI'].sort_values('Count',ascending=False).head(5)\nsns.barplot(x='Keyword',y='Count' ,data=ANSI)\nplt.xticks(rotation=60);\n# NSCI\n\n\n# NREM",
    "id": "97ecc06c396a445380a69b7b0f8809a0",
    "idx": 10,
    "time": "2020-11-14T23:11:51.618Z",
    "type": "execution"
   },
   {
    "id": "97ecc06c396a445380a69b7b0f8809a0",
    "time": "2020-11-14T23:11:52.231Z",
    "type": "completion"
   },
   {
    "code": "#distribution of top 10 \ntop3_department = by_department_fullkeywords_reset.groupby('Department Name').sum().sort_values('Count',ascending=False).head(3)\ntop3_department\n\n# ANSI\nplt.figure(figsize=(20,10))\nANSI = by_department_fullkeywords_reset[by_department_fullkeywords_reset['Department Name']=='ANSI'].sort_values('Count',ascending=False).head(5)\nsns.barplot(x='Keyword',y='Count' ,data=ANSI)\nplt.xticks(rotation=45);\n\n# NSCI\n\n\n# NREM",
    "id": "97ecc06c396a445380a69b7b0f8809a0",
    "idx": 10,
    "time": "2020-11-14T23:12:01.633Z",
    "type": "execution"
   },
   {
    "id": "97ecc06c396a445380a69b7b0f8809a0",
    "time": "2020-11-14T23:12:02.256Z",
    "type": "completion"
   },
   {
    "code": "#distribution of top 10 \ntop3_department = by_department_fullkeywords_reset.groupby('Department Name').sum().sort_values('Count',ascending=False).head(3)\ntop3_department\n\n# ANSI\nplt.figure(figsize=(20,10))\nANSI = by_department_fullkeywords_reset[by_department_fullkeywords_reset['Department Name']=='ANSI'].sort_values('Count',ascending=False).head(5)\nsns.barplot(x='Keyword',y='Count' ,data=ANSI)\nplt.xticks(rotation=0);\n\n# NSCI\n\n\n# NREM",
    "id": "97ecc06c396a445380a69b7b0f8809a0",
    "idx": 10,
    "time": "2020-11-14T23:12:09.210Z",
    "type": "execution"
   },
   {
    "id": "97ecc06c396a445380a69b7b0f8809a0",
    "time": "2020-11-14T23:12:09.786Z",
    "type": "completion"
   },
   {
    "code": "#distribution of top 10 \ntop3_department = by_department_fullkeywords_reset.groupby('Department Name').sum().sort_values('Count',ascending=False).head(3)\ntop3_department\n\n# ANSI\nplt.figure(figsize=(20,10))\nANSI = by_department_fullkeywords_reset[by_department_fullkeywords_reset['Department Name']=='ANSI'].sort_values('Count',ascending=False).head(5)\nsns.barplot(x='Keyword',y='Count' ,data=ANSI)\nplt.xticks(rotation=0);\n\n# NSCI\nplt.figure(figsize=(20,10))\nNSCI = by_department_fullkeywords_reset[by_department_fullkeywords_reset['Department Name']=='NSCI'].sort_values('Count',ascending=False).head(5)\nsns.barplot(x='Keyword',y='Count' ,data=NSCI)\nplt.xticks(rotation=0);\n\n# NREM\nplt.figure(figsize=(20,10))\nNREM = by_department_fullkeywords_reset[by_department_fullkeywords_reset['Department Name']=='NREM'].sort_values('Count',ascending=False).head(5)\nsns.barplot(x='Keyword',y='Count' ,data=NREM)\nplt.xticks(rotation=0);",
    "id": "97ecc06c396a445380a69b7b0f8809a0",
    "idx": 10,
    "time": "2020-11-14T23:12:55.217Z",
    "type": "execution"
   },
   {
    "id": "97ecc06c396a445380a69b7b0f8809a0",
    "time": "2020-11-14T23:12:56.399Z",
    "type": "completion"
   },
   {
    "code": "\n# NREM\nplt.figure(figsize=(20,10))\nNREM = by_department_fullkeywords_reset[by_department_fullkeywords_reset['Department Name']=='NREM'].sort_values('Count',ascending=False).head(5)\nsns.barplot(x='Keyword',y='Count' ,data=NREM)\nplt.title('NREM')\nplt.xticks(rotation=0);",
    "id": "ca97227b4b7e4e8c822532b938e4fbca",
    "idx": 12,
    "time": "2020-11-14T23:14:08.410Z",
    "type": "execution"
   },
   {
    "id": "ca97227b4b7e4e8c822532b938e4fbca",
    "time": "2020-11-14T23:14:08.876Z",
    "type": "completion"
   },
   {
    "code": "NREM",
    "id": "13265a55e90c4ebb8bbc2475c904b548",
    "idx": 13,
    "time": "2020-11-14T23:14:13.521Z",
    "type": "execution"
   },
   {
    "id": "13265a55e90c4ebb8bbc2475c904b548",
    "time": "2020-11-14T23:14:13.608Z",
    "type": "completion"
   },
   {
    "code": "by_department_fullkeywords_reset[by_department_fullkeywords_reset['Department Name']=='NREM']",
    "id": "f7a9fbaa2a6a412898fd9e4b754b2d4d",
    "idx": 14,
    "time": "2020-11-14T23:14:54.068Z",
    "type": "execution"
   },
   {
    "id": "f7a9fbaa2a6a412898fd9e4b754b2d4d",
    "time": "2020-11-14T23:14:54.158Z",
    "type": "completion"
   },
   {
    "code": "clean_data",
    "id": "1b69d6c15a7744ff841178411d8c4d3c",
    "idx": 14,
    "time": "2020-11-14T23:17:05.207Z",
    "type": "execution"
   },
   {
    "id": "1b69d6c15a7744ff841178411d8c4d3c",
    "time": "2020-11-14T23:17:05.336Z",
    "type": "completion"
   },
   {
    "code": "clean_data.head()",
    "id": "1b69d6c15a7744ff841178411d8c4d3c",
    "idx": 14,
    "time": "2020-11-14T23:17:11.966Z",
    "type": "execution"
   },
   {
    "id": "1b69d6c15a7744ff841178411d8c4d3c",
    "time": "2020-11-14T23:17:12.044Z",
    "type": "completion"
   },
   {
    "code": "clean_data[clean_data['Department Name']=='NREM']",
    "id": "f7a9fbaa2a6a412898fd9e4b754b2d4d",
    "idx": 15,
    "time": "2020-11-14T23:17:21.111Z",
    "type": "execution"
   },
   {
    "id": "f7a9fbaa2a6a412898fd9e4b754b2d4d",
    "time": "2020-11-14T23:17:21.233Z",
    "type": "completion"
   },
   {
    "code": "clean_data[clean_data['Department Name']=='NREM']['Keyword'].value_counts()",
    "id": "f7a9fbaa2a6a412898fd9e4b754b2d4d",
    "idx": 15,
    "time": "2020-11-14T23:17:42.868Z",
    "type": "execution"
   },
   {
    "id": "f7a9fbaa2a6a412898fd9e4b754b2d4d",
    "time": "2020-11-14T23:17:42.959Z",
    "type": "completion"
   },
   {
    "code": "data['Keyword'] = data['Keyword'].apply(lambda x: x[1:-1].split(', '))\ndata",
    "id": "cf48b7362a9c420d88e4a626294190f9",
    "idx": 2,
    "time": "2020-11-14T23:18:41.822Z",
    "type": "execution"
   },
   {
    "id": "cf48b7362a9c420d88e4a626294190f9",
    "time": "2020-11-14T23:18:41.947Z",
    "type": "completion"
   },
   {
    "code": "data = pd.read_csv('Oklahoma_State_University 2017-21 Webscraped.csv')\ndata",
    "id": "5e84dbae4ee44db289e0dee6277ad98e",
    "idx": 1,
    "time": "2020-11-14T23:19:00.907Z",
    "type": "execution"
   },
   {
    "id": "5e84dbae4ee44db289e0dee6277ad98e",
    "time": "2020-11-14T23:19:01.092Z",
    "type": "completion"
   },
   {
    "code": "data['Keyword'] = data['Keyword'].apply(lambda x: x[1:-1].split(', '))\ndata",
    "id": "cf48b7362a9c420d88e4a626294190f9",
    "idx": 2,
    "time": "2020-11-14T23:19:01.689Z",
    "type": "execution"
   },
   {
    "id": "cf48b7362a9c420d88e4a626294190f9",
    "time": "2020-11-14T23:19:01.802Z",
    "type": "completion"
   },
   {
    "code": "clean_data = data.explode('Keyword')",
    "id": "c141f214e226400e956ffd2a3ca64057",
    "idx": 3,
    "time": "2020-11-14T23:19:03.527Z",
    "type": "execution"
   },
   {
    "id": "c141f214e226400e956ffd2a3ca64057",
    "time": "2020-11-14T23:19:03.615Z",
    "type": "completion"
   },
   {
    "code": "# frequency of top 50 keywords\nfrequency_top50 = clean_data['Keyword'].value_counts().to_frame().head(50)",
    "id": "04b62fd5347245998e9a7806ef81fed0",
    "idx": 4,
    "time": "2020-11-14T23:19:03.720Z",
    "type": "execution"
   },
   {
    "id": "04b62fd5347245998e9a7806ef81fed0",
    "time": "2020-11-14T23:19:03.787Z",
    "type": "completion"
   },
   {
    "code": "# frequency of top 50 keywords in each department\nby_department = clean_data[clean_data['Keyword'].isin(frequency_top50.index)].groupby(['Department Name','Keyword']).count()\nfrequency_in_department = by_department.loc[:,['Course Catalogue Number']].rename(columns={'Course Catalogue Number':'Count'})\nfrequency_in_department",
    "id": "7d9dcf6a397543fc8859929e65f4ea42",
    "idx": 5,
    "time": "2020-11-14T23:19:03.897Z",
    "type": "execution"
   },
   {
    "id": "7d9dcf6a397543fc8859929e65f4ea42",
    "time": "2020-11-14T23:19:04.008Z",
    "type": "completion"
   },
   {
    "code": "# top keyword in each department\nby_department_fullkeywords = clean_data.groupby(['Department Name','Keyword']).count().loc[:,['Course Catalogue Number']].rename(columns={'Course Catalogue Number':'Count'})\nby_department_fullkeywords_reset = by_department_fullkeywords.reset_index()\nby_department_fullkeywords_reset.sort_values('Count').groupby('Department Name').last()",
    "id": "2c412c383adc4b9b8e8c838c3de2b397",
    "idx": 6,
    "time": "2020-11-14T23:19:04.083Z",
    "type": "execution"
   },
   {
    "id": "2c412c383adc4b9b8e8c838c3de2b397",
    "time": "2020-11-14T23:19:04.213Z",
    "type": "completion"
   },
   {
    "code": "by_department_fullkeywords_reset.head(10)",
    "id": "3d225de3c86e4b30826fc99fa51fbb98",
    "idx": 7,
    "time": "2020-11-14T23:19:04.272Z",
    "type": "execution"
   },
   {
    "id": "3d225de3c86e4b30826fc99fa51fbb98",
    "time": "2020-11-14T23:19:04.346Z",
    "type": "completion"
   },
   {
    "code": "#distribution of top 10 \ntop3_department = by_department_fullkeywords_reset.groupby('Department Name').sum().sort_values('Count',ascending=False).head(3)\ntop3_department\n\n# ANSI\nplt.figure(figsize=(20,10))\nANSI = by_department_fullkeywords_reset[by_department_fullkeywords_reset['Department Name']=='ANSI'].sort_values('Count',ascending=False).head(5)\nsns.barplot(x='Keyword',y='Count' ,data=ANSI)\nplt.title('ANSI')\nplt.xticks(rotation=0);\n",
    "id": "97ecc06c396a445380a69b7b0f8809a0",
    "idx": 8,
    "time": "2020-11-14T23:19:04.449Z",
    "type": "execution"
   },
   {
    "code": "\n# NSCI\nplt.figure(figsize=(20,10))\nNSCI = by_department_fullkeywords_reset[by_department_fullkeywords_reset['Department Name']=='NSCI'].sort_values('Count',ascending=False).head(5)\nsns.barplot(x='Keyword',y='Count' ,data=NSCI)\nplt.title('NSCI')\nplt.xticks(rotation=0);\n",
    "id": "15b019ee6a3f435ebe656a2df87fe1a9",
    "idx": 9,
    "time": "2020-11-14T23:19:04.645Z",
    "type": "execution"
   },
   {
    "id": "97ecc06c396a445380a69b7b0f8809a0",
    "time": "2020-11-14T23:19:04.938Z",
    "type": "completion"
   },
   {
    "code": "\n# NREM\nplt.figure(figsize=(20,10))\nNREM = by_department_fullkeywords_reset[by_department_fullkeywords_reset['Department Name']=='NREM'].sort_values('Count',ascending=False).head(5)\nsns.barplot(x='Keyword',y='Count' ,data=NREM)\nplt.title('NREM')\nplt.xticks(rotation=0);",
    "id": "ca97227b4b7e4e8c822532b938e4fbca",
    "idx": 10,
    "time": "2020-11-14T23:19:05.286Z",
    "type": "execution"
   },
   {
    "id": "15b019ee6a3f435ebe656a2df87fe1a9",
    "time": "2020-11-14T23:19:05.331Z",
    "type": "completion"
   },
   {
    "id": "ca97227b4b7e4e8c822532b938e4fbca",
    "time": "2020-11-14T23:19:05.761Z",
    "type": "completion"
   },
   {
    "code": "NREM",
    "id": "13265a55e90c4ebb8bbc2475c904b548",
    "idx": 11,
    "time": "2020-11-14T23:19:07.448Z",
    "type": "execution"
   },
   {
    "id": "13265a55e90c4ebb8bbc2475c904b548",
    "time": "2020-11-14T23:19:07.518Z",
    "type": "completion"
   },
   {
    "code": "clean_data.head()",
    "id": "1b69d6c15a7744ff841178411d8c4d3c",
    "idx": 12,
    "time": "2020-11-14T23:19:08.033Z",
    "type": "execution"
   },
   {
    "id": "1b69d6c15a7744ff841178411d8c4d3c",
    "time": "2020-11-14T23:19:08.124Z",
    "type": "completion"
   },
   {
    "code": "clean_data[clean_data['Department Name']=='NREM']['Keyword'].value_counts()",
    "id": "f7a9fbaa2a6a412898fd9e4b754b2d4d",
    "idx": 13,
    "time": "2020-11-14T23:19:08.986Z",
    "type": "execution"
   },
   {
    "id": "f7a9fbaa2a6a412898fd9e4b754b2d4d",
    "time": "2020-11-14T23:19:09.053Z",
    "type": "completion"
   },
   {
    "code": "data = pd.read_csv('Oklahoma_State_University 2017-21 Webscraped.csv')",
    "id": "5e84dbae4ee44db289e0dee6277ad98e",
    "idx": 1,
    "time": "2020-11-14T23:20:03.717Z",
    "type": "execution"
   },
   {
    "id": "5e84dbae4ee44db289e0dee6277ad98e",
    "time": "2020-11-14T23:20:03.848Z",
    "type": "completion"
   },
   {
    "code": "# top keyword in each department\nby_department_fullkeywords = clean_data.groupby(['Department Name','Keyword']).count().loc[:,['Course Catalogue Number']].rename(columns={'Course Catalogue Number':'Count'})\nby_department_fullkeywords_reset = by_department_fullkeywords.reset_index()\nby_department_fullkeywords_reset.sort_values('Count').groupby('Department Name').last()",
    "id": "2c412c383adc4b9b8e8c838c3de2b397",
    "idx": 4,
    "time": "2020-11-14T23:39:48.200Z",
    "type": "execution"
   },
   {
    "id": "2c412c383adc4b9b8e8c838c3de2b397",
    "time": "2020-11-14T23:39:48.353Z",
    "type": "completion"
   },
   {
    "code": "# frequency of top 50 keywords\nfrequency_top50 = clean_data['Keyword'].value_counts().to_frame().head(50)\nfrequency_top50",
    "id": "04b62fd5347245998e9a7806ef81fed0",
    "idx": 2,
    "time": "2020-11-14T23:40:13.594Z",
    "type": "execution"
   },
   {
    "id": "04b62fd5347245998e9a7806ef81fed0",
    "time": "2020-11-14T23:40:13.725Z",
    "type": "completion"
   },
   {
    "code": "# frequency of top 50 keywords\nfrequency_top50 = clean_data['Keyword'].value_counts().to_frame().head(50)\nfrequency_top50.head()",
    "id": "04b62fd5347245998e9a7806ef81fed0",
    "idx": 2,
    "time": "2020-11-14T23:41:07.374Z",
    "type": "execution"
   },
   {
    "id": "04b62fd5347245998e9a7806ef81fed0",
    "time": "2020-11-14T23:41:07.456Z",
    "type": "completion"
   },
   {
    "code": "# frequency of top 50 keywords in each department\nby_department = clean_data[clean_data['Keyword'].isin(frequency_top50.index)].groupby(['Department Name','Keyword']).count()\nfrequency_in_department = by_department.loc[:,['Course Catalogue Number']].rename(columns={'Course Catalogue Number':'Count'})\nfrequency_in_department.head()",
    "id": "7d9dcf6a397543fc8859929e65f4ea42",
    "idx": 3,
    "time": "2020-11-14T23:41:15.302Z",
    "type": "execution"
   },
   {
    "id": "7d9dcf6a397543fc8859929e65f4ea42",
    "time": "2020-11-14T23:41:15.395Z",
    "type": "completion"
   },
   {
    "code": "#distribution of top 10 \ntop3_department = by_department_fullkeywords_reset.groupby('Department Name').sum().sort_values('Count',ascending=False).head(3)\ntop3_department\n\n# ANSI\nplt.figure\nANSI = by_department_fullkeywords_reset[by_department_fullkeywords_reset['Department Name']=='ANSI'].sort_values('Count',ascending=False).head(5)\nsns.barplot(x='Keyword',y='Count' ,data=ANSI)\nplt.title('ANSI')\nplt.xticks(rotation=0);\n",
    "id": "97ecc06c396a445380a69b7b0f8809a0",
    "idx": 5,
    "time": "2020-11-14T23:41:55.565Z",
    "type": "execution"
   },
   {
    "id": "97ecc06c396a445380a69b7b0f8809a0",
    "time": "2020-11-14T23:41:55.853Z",
    "type": "completion"
   },
   {
    "code": "\n# NSCI\nplt.figure(figsize=(20,10))\nNSCI = by_department_fullkeywords_reset[by_department_fullkeywords_reset['Department Name']=='NSCI'].sort_values('Count',ascending=False).head(5)\nsns.barplot(x='Keyword',y='Count' ,data=NSCI)\nplt.title('NSCI')\nplt.xticks(rotation=0);\n",
    "id": "15b019ee6a3f435ebe656a2df87fe1a9",
    "idx": 6,
    "time": "2020-11-14T23:41:59.373Z",
    "type": "execution"
   },
   {
    "id": "15b019ee6a3f435ebe656a2df87fe1a9",
    "time": "2020-11-14T23:41:59.964Z",
    "type": "completion"
   },
   {
    "code": "\n# NREM\nplt.figure(figsize=(20,10))\nNREM = by_department_fullkeywords_reset[by_department_fullkeywords_reset['Department Name']=='NREM'].sort_values('Count',ascending=False).head(5)\nsns.barplot(x='Keyword',y='Count' ,data=NREM)\nplt.title('NREM')\nplt.xticks(rotation=0);",
    "id": "ca97227b4b7e4e8c822532b938e4fbca",
    "idx": 7,
    "time": "2020-11-14T23:41:59.973Z",
    "type": "execution"
   },
   {
    "id": "ca97227b4b7e4e8c822532b938e4fbca",
    "time": "2020-11-14T23:42:00.579Z",
    "type": "completion"
   },
   {
    "code": "\n# NSCI\nplt.figure\nNSCI = by_department_fullkeywords_reset[by_department_fullkeywords_reset['Department Name']=='NSCI'].sort_values('Count',ascending=False).head(5)\nsns.barplot(x='Keyword',y='Count' ,data=NSCI)\nplt.title('NSCI')\nplt.xticks(rotation=0);\n",
    "id": "15b019ee6a3f435ebe656a2df87fe1a9",
    "idx": 6,
    "time": "2020-11-14T23:42:11.351Z",
    "type": "execution"
   },
   {
    "id": "15b019ee6a3f435ebe656a2df87fe1a9",
    "time": "2020-11-14T23:42:11.592Z",
    "type": "completion"
   },
   {
    "code": "\n# NREM\nplt.figure\nNREM = by_department_fullkeywords_reset[by_department_fullkeywords_reset['Department Name']=='NREM'].sort_values('Count',ascending=False).head(5)\nsns.barplot(x='Keyword',y='Count' ,data=NREM)\nplt.title('NREM')\nplt.xticks(rotation=0);",
    "id": "ca97227b4b7e4e8c822532b938e4fbca",
    "idx": 7,
    "time": "2020-11-14T23:42:12.092Z",
    "type": "execution"
   },
   {
    "id": "ca97227b4b7e4e8c822532b938e4fbca",
    "time": "2020-11-14T23:42:12.328Z",
    "type": "completion"
   }
  ],
  "kernelspec": {
   "display_name": "Python 3",
   "language": "python",
   "name": "python3"
  },
  "language_info": {
   "codemirror_mode": {
    "name": "ipython",
    "version": 3
   },
   "file_extension": ".py",
   "mimetype": "text/x-python",
   "name": "python",
   "nbconvert_exporter": "python",
   "pygments_lexer": "ipython3",
   "version": "3.7.7"
  }
 },
 "nbformat": 4,
 "nbformat_minor": 4
}
