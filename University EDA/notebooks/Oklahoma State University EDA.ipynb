{
 "cells": [
  {
   "cell_type": "code",
   "execution_count": 1,
   "metadata": {},
   "outputs": [],
   "source": [
    "import pandas as pd\n",
    "import numpy as np\n",
    "import matplotlib.pyplot as plt\n",
    "import seaborn as sns\n",
    "%matplotlib inline\n"
   ]
  },
  {
   "cell_type": "code",
   "execution_count": 4,
   "metadata": {},
   "outputs": [],
   "source": [
    "# depart = pd.read_csv('/Users/xiaoqisun/Desktop/Seven/Discovery Progam/Oklahoma key_new.csv',names=['Department Name','Acronym'])\n",
    "# data = pd.read_csv('/Users/xiaoqisun/Desktop/Seven/Discovery Progam/final finished/Oklahoma_State_University Courses 2017-21 Webscraped.csv').merge(right=depart, how='left',left_on='Department Name', right_on='Acronym')\n",
    "# data = data[['Course Catalogue Number','Department Name_y','Course Name','Course Description','Graduate/Undergraduate','Format','Lab','Academic Catalogue Year','Food Systems','Food Justice/Equity','Critical Pedagogy','Keyword']].rename(columns={'Department Name_y':'Department Name'})\n",
    "# data.to_csv('Oklahoma combined to upload.csv')\n"
   ]
  },
  {
   "cell_type": "code",
   "execution_count": 5,
   "metadata": {
    "scrolled": true
   },
   "outputs": [],
   "source": [
    "data = pd.read_csv('/Users/xiaoqisun/Desktop/Seven/Discovery Progam/Oklahoma_State_University Courses 2017-21 Webscraped.csv')\n",
    "data['Keyword'] = data['Keyword'].apply(lambda x: x[1:-1].split(', '))\n",
    "clean_data = data.explode('Keyword')"
   ]
  },
  {
   "cell_type": "code",
   "execution_count": 6,
   "metadata": {},
   "outputs": [
    {
     "data": {
      "text/html": [
       "<div>\n",
       "<style scoped>\n",
       "    .dataframe tbody tr th:only-of-type {\n",
       "        vertical-align: middle;\n",
       "    }\n",
       "\n",
       "    .dataframe tbody tr th {\n",
       "        vertical-align: top;\n",
       "    }\n",
       "\n",
       "    .dataframe thead th {\n",
       "        text-align: right;\n",
       "    }\n",
       "</style>\n",
       "<table border=\"1\" class=\"dataframe\">\n",
       "  <thead>\n",
       "    <tr style=\"text-align: right;\">\n",
       "      <th></th>\n",
       "      <th>Course Catalogue Number</th>\n",
       "      <th>Department Name</th>\n",
       "      <th>Course Name</th>\n",
       "      <th>Course Description</th>\n",
       "      <th>Graduate/Undergraduate</th>\n",
       "      <th>Format</th>\n",
       "      <th>Lab</th>\n",
       "      <th>Academic Catalogue Year</th>\n",
       "      <th>Food Systems</th>\n",
       "      <th>Food Justice/Equity</th>\n",
       "      <th>Critical Pedagogy</th>\n",
       "      <th>Keyword</th>\n",
       "    </tr>\n",
       "  </thead>\n",
       "  <tbody>\n",
       "    <tr>\n",
       "      <th>0</th>\n",
       "      <td>AFAM 4453</td>\n",
       "      <td>African American Studies (AFAM)</td>\n",
       "      <td>Black Geographies &amp; Memorialization in the Lan...</td>\n",
       "      <td>How and why have African American people sough...</td>\n",
       "      <td>Undergraduate</td>\n",
       "      <td>Lecture</td>\n",
       "      <td>False</td>\n",
       "      <td>2020-2021</td>\n",
       "      <td>NaN</td>\n",
       "      <td>NaN</td>\n",
       "      <td>NaN</td>\n",
       "      <td>'land'</td>\n",
       "    </tr>\n",
       "    <tr>\n",
       "      <th>1</th>\n",
       "      <td>AGIN 5000</td>\n",
       "      <td>Ag International (AGIN)</td>\n",
       "      <td>Master's Thesis/Report in International Agricu...</td>\n",
       "      <td>For students working on a masters degree in In...</td>\n",
       "      <td>Graduate</td>\n",
       "      <td>Independent Study</td>\n",
       "      <td>False</td>\n",
       "      <td>2020-2021</td>\n",
       "      <td>NaN</td>\n",
       "      <td>NaN</td>\n",
       "      <td>NaN</td>\n",
       "      <td>'agri'</td>\n",
       "    </tr>\n",
       "    <tr>\n",
       "      <th>2</th>\n",
       "      <td>AGIN 5113</td>\n",
       "      <td>Ag International (AGIN)</td>\n",
       "      <td>Global Agricultural Development Communications</td>\n",
       "      <td>Role of Information Communication Technologies...</td>\n",
       "      <td>Graduate</td>\n",
       "      <td>Lecture</td>\n",
       "      <td>False</td>\n",
       "      <td>2020-2021</td>\n",
       "      <td>NaN</td>\n",
       "      <td>NaN</td>\n",
       "      <td>NaN</td>\n",
       "      <td>'agri'</td>\n",
       "    </tr>\n",
       "    <tr>\n",
       "      <th>3</th>\n",
       "      <td>AGIN 5213</td>\n",
       "      <td>Ag International (AGIN)</td>\n",
       "      <td>Global Agricultural Entrepreneurship</td>\n",
       "      <td>Use of entrepreneurship principles to develop ...</td>\n",
       "      <td>Graduate</td>\n",
       "      <td>Lecture</td>\n",
       "      <td>False</td>\n",
       "      <td>2020-2021</td>\n",
       "      <td>NaN</td>\n",
       "      <td>NaN</td>\n",
       "      <td>NaN</td>\n",
       "      <td>'agri'</td>\n",
       "    </tr>\n",
       "    <tr>\n",
       "      <th>4</th>\n",
       "      <td>AGIN 5312</td>\n",
       "      <td>Ag International (AGIN)</td>\n",
       "      <td>Applied Issues in International Agriculture an...</td>\n",
       "      <td>Applied global issues in international agricul...</td>\n",
       "      <td>Graduate</td>\n",
       "      <td>Lecture</td>\n",
       "      <td>False</td>\n",
       "      <td>2020-2021</td>\n",
       "      <td>NaN</td>\n",
       "      <td>NaN</td>\n",
       "      <td>NaN</td>\n",
       "      <td>' ag '</td>\n",
       "    </tr>\n",
       "    <tr>\n",
       "      <th>...</th>\n",
       "      <td>...</td>\n",
       "      <td>...</td>\n",
       "      <td>...</td>\n",
       "      <td>...</td>\n",
       "      <td>...</td>\n",
       "      <td>...</td>\n",
       "      <td>...</td>\n",
       "      <td>...</td>\n",
       "      <td>...</td>\n",
       "      <td>...</td>\n",
       "      <td>...</td>\n",
       "      <td>...</td>\n",
       "    </tr>\n",
       "    <tr>\n",
       "      <th>8456</th>\n",
       "      <td>VMED 7871</td>\n",
       "      <td>Veterinary Medicine (VMED)</td>\n",
       "      <td>Advanced Equine Reproduction</td>\n",
       "      <td>application of recent research in the breedin...</td>\n",
       "      <td>NaN</td>\n",
       "      <td>NaN</td>\n",
       "      <td>False</td>\n",
       "      <td>2017-2018</td>\n",
       "      <td>NaN</td>\n",
       "      <td>NaN</td>\n",
       "      <td>NaN</td>\n",
       "      <td>'breed'</td>\n",
       "    </tr>\n",
       "    <tr>\n",
       "      <th>8457</th>\n",
       "      <td>VMED 7872</td>\n",
       "      <td>Veterinary Medicine (VMED)</td>\n",
       "      <td>Special Surgical Problems and Techniques, Ad...</td>\n",
       "      <td>surgical management of small animal orthopedi...</td>\n",
       "      <td>NaN</td>\n",
       "      <td>NaN</td>\n",
       "      <td>False</td>\n",
       "      <td>2017-2018</td>\n",
       "      <td>NaN</td>\n",
       "      <td>NaN</td>\n",
       "      <td>NaN</td>\n",
       "      <td>' animal'</td>\n",
       "    </tr>\n",
       "    <tr>\n",
       "      <th>8458</th>\n",
       "      <td>VMED 7891</td>\n",
       "      <td>Veterinary Medicine (VMED)</td>\n",
       "      <td>Equine Surgical Laboratory</td>\n",
       "      <td>niques directly supervised by the instructor. ...</td>\n",
       "      <td>NaN</td>\n",
       "      <td>NaN</td>\n",
       "      <td>False</td>\n",
       "      <td>2017-2018</td>\n",
       "      <td>NaN</td>\n",
       "      <td>NaN</td>\n",
       "      <td>NaN</td>\n",
       "      <td>' animal'</td>\n",
       "    </tr>\n",
       "    <tr>\n",
       "      <th>8459</th>\n",
       "      <td>VMED 7933</td>\n",
       "      <td>Veterinary Medicine (VMED)</td>\n",
       "      <td>Diagnostics</td>\n",
       "      <td>in animal necropsy, clinical pathology, clini...</td>\n",
       "      <td>NaN</td>\n",
       "      <td>NaN</td>\n",
       "      <td>False</td>\n",
       "      <td>2017-2018</td>\n",
       "      <td>NaN</td>\n",
       "      <td>NaN</td>\n",
       "      <td>NaN</td>\n",
       "      <td>' animal'</td>\n",
       "    </tr>\n",
       "    <tr>\n",
       "      <th>8459</th>\n",
       "      <td>VMED 7933</td>\n",
       "      <td>Veterinary Medicine (VMED)</td>\n",
       "      <td>Diagnostics</td>\n",
       "      <td>in animal necropsy, clinical pathology, clini...</td>\n",
       "      <td>NaN</td>\n",
       "      <td>NaN</td>\n",
       "      <td>False</td>\n",
       "      <td>2017-2018</td>\n",
       "      <td>NaN</td>\n",
       "      <td>NaN</td>\n",
       "      <td>NaN</td>\n",
       "      <td>'crop'</td>\n",
       "    </tr>\n",
       "  </tbody>\n",
       "</table>\n",
       "<p>14336 rows × 12 columns</p>\n",
       "</div>"
      ],
      "text/plain": [
       "     Course Catalogue Number                  Department Name  \\\n",
       "0                  AFAM 4453  African American Studies (AFAM)   \n",
       "1                  AGIN 5000          Ag International (AGIN)   \n",
       "2                  AGIN 5113          Ag International (AGIN)   \n",
       "3                  AGIN 5213          Ag International (AGIN)   \n",
       "4                  AGIN 5312          Ag International (AGIN)   \n",
       "...                      ...                              ...   \n",
       "8456               VMED 7871       Veterinary Medicine (VMED)   \n",
       "8457               VMED 7872       Veterinary Medicine (VMED)   \n",
       "8458               VMED 7891       Veterinary Medicine (VMED)   \n",
       "8459               VMED 7933       Veterinary Medicine (VMED)   \n",
       "8459               VMED 7933       Veterinary Medicine (VMED)   \n",
       "\n",
       "                                            Course Name  \\\n",
       "0     Black Geographies & Memorialization in the Lan...   \n",
       "1     Master's Thesis/Report in International Agricu...   \n",
       "2        Global Agricultural Development Communications   \n",
       "3                  Global Agricultural Entrepreneurship   \n",
       "4     Applied Issues in International Agriculture an...   \n",
       "...                                                 ...   \n",
       "8456                       Advanced Equine Reproduction   \n",
       "8457    Special Surgical Problems and Techniques, Ad...   \n",
       "8458                         Equine Surgical Laboratory   \n",
       "8459                                        Diagnostics   \n",
       "8459                                        Diagnostics   \n",
       "\n",
       "                                     Course Description  \\\n",
       "0     How and why have African American people sough...   \n",
       "1     For students working on a masters degree in In...   \n",
       "2     Role of Information Communication Technologies...   \n",
       "3     Use of entrepreneurship principles to develop ...   \n",
       "4     Applied global issues in international agricul...   \n",
       "...                                                 ...   \n",
       "8456   application of recent research in the breedin...   \n",
       "8457   surgical management of small animal orthopedi...   \n",
       "8458  niques directly supervised by the instructor. ...   \n",
       "8459   in animal necropsy, clinical pathology, clini...   \n",
       "8459   in animal necropsy, clinical pathology, clini...   \n",
       "\n",
       "     Graduate/Undergraduate             Format    Lab Academic Catalogue Year  \\\n",
       "0             Undergraduate            Lecture  False               2020-2021   \n",
       "1                  Graduate  Independent Study  False               2020-2021   \n",
       "2                  Graduate            Lecture  False               2020-2021   \n",
       "3                  Graduate            Lecture  False               2020-2021   \n",
       "4                  Graduate            Lecture  False               2020-2021   \n",
       "...                     ...                ...    ...                     ...   \n",
       "8456                    NaN                NaN  False               2017-2018   \n",
       "8457                    NaN                NaN  False               2017-2018   \n",
       "8458                    NaN                NaN  False               2017-2018   \n",
       "8459                    NaN                NaN  False               2017-2018   \n",
       "8459                    NaN                NaN  False               2017-2018   \n",
       "\n",
       "      Food Systems  Food Justice/Equity  Critical Pedagogy    Keyword  \n",
       "0              NaN                  NaN                NaN     'land'  \n",
       "1              NaN                  NaN                NaN     'agri'  \n",
       "2              NaN                  NaN                NaN     'agri'  \n",
       "3              NaN                  NaN                NaN     'agri'  \n",
       "4              NaN                  NaN                NaN     ' ag '  \n",
       "...            ...                  ...                ...        ...  \n",
       "8456           NaN                  NaN                NaN    'breed'  \n",
       "8457           NaN                  NaN                NaN  ' animal'  \n",
       "8458           NaN                  NaN                NaN  ' animal'  \n",
       "8459           NaN                  NaN                NaN  ' animal'  \n",
       "8459           NaN                  NaN                NaN     'crop'  \n",
       "\n",
       "[14336 rows x 12 columns]"
      ]
     },
     "execution_count": 6,
     "metadata": {},
     "output_type": "execute_result"
    }
   ],
   "source": [
    "clean_data"
   ]
  },
  {
   "cell_type": "code",
   "execution_count": 7,
   "metadata": {},
   "outputs": [
    {
     "data": {
      "text/html": [
       "<div>\n",
       "<style scoped>\n",
       "    .dataframe tbody tr th:only-of-type {\n",
       "        vertical-align: middle;\n",
       "    }\n",
       "\n",
       "    .dataframe tbody tr th {\n",
       "        vertical-align: top;\n",
       "    }\n",
       "\n",
       "    .dataframe thead th {\n",
       "        text-align: right;\n",
       "    }\n",
       "</style>\n",
       "<table border=\"1\" class=\"dataframe\">\n",
       "  <thead>\n",
       "    <tr style=\"text-align: right;\">\n",
       "      <th></th>\n",
       "      <th>Keyword</th>\n",
       "    </tr>\n",
       "  </thead>\n",
       "  <tbody>\n",
       "    <tr>\n",
       "      <th>'agri'</th>\n",
       "      <td>1710</td>\n",
       "    </tr>\n",
       "    <tr>\n",
       "      <th>'land'</th>\n",
       "      <td>1310</td>\n",
       "    </tr>\n",
       "    <tr>\n",
       "      <th>' animal'</th>\n",
       "      <td>1248</td>\n",
       "    </tr>\n",
       "    <tr>\n",
       "      <th>'food'</th>\n",
       "      <td>944</td>\n",
       "    </tr>\n",
       "    <tr>\n",
       "      <th>' nutri'</th>\n",
       "      <td>858</td>\n",
       "    </tr>\n",
       "    <tr>\n",
       "      <th>' soil'</th>\n",
       "      <td>588</td>\n",
       "    </tr>\n",
       "    <tr>\n",
       "      <th>' metaboli'</th>\n",
       "      <td>386</td>\n",
       "    </tr>\n",
       "    <tr>\n",
       "      <th>'crop'</th>\n",
       "      <td>368</td>\n",
       "    </tr>\n",
       "    <tr>\n",
       "      <th>' hospitality '</th>\n",
       "      <td>308</td>\n",
       "    </tr>\n",
       "    <tr>\n",
       "      <th>' diet'</th>\n",
       "      <td>244</td>\n",
       "    </tr>\n",
       "    <tr>\n",
       "      <th>' protein'</th>\n",
       "      <td>228</td>\n",
       "    </tr>\n",
       "    <tr>\n",
       "      <th>'farm'</th>\n",
       "      <td>184</td>\n",
       "    </tr>\n",
       "    <tr>\n",
       "      <th>'breed'</th>\n",
       "      <td>174</td>\n",
       "    </tr>\n",
       "    <tr>\n",
       "      <th>' horticult'</th>\n",
       "      <td>166</td>\n",
       "    </tr>\n",
       "    <tr>\n",
       "      <th>' contaminant'</th>\n",
       "      <td>150</td>\n",
       "    </tr>\n",
       "    <tr>\n",
       "      <th>' meat'</th>\n",
       "      <td>150</td>\n",
       "    </tr>\n",
       "    <tr>\n",
       "      <th>' productivity '</th>\n",
       "      <td>134</td>\n",
       "    </tr>\n",
       "    <tr>\n",
       "      <th>' cattle'</th>\n",
       "      <td>130</td>\n",
       "    </tr>\n",
       "    <tr>\n",
       "      <th>'management practice'</th>\n",
       "      <td>126</td>\n",
       "    </tr>\n",
       "    <tr>\n",
       "      <th>' pest'</th>\n",
       "      <td>122</td>\n",
       "    </tr>\n",
       "    <tr>\n",
       "      <th>' rangeland'</th>\n",
       "      <td>120</td>\n",
       "    </tr>\n",
       "    <tr>\n",
       "      <th>'geospatial'</th>\n",
       "      <td>116</td>\n",
       "    </tr>\n",
       "    <tr>\n",
       "      <th>' fish'</th>\n",
       "      <td>114</td>\n",
       "    </tr>\n",
       "    <tr>\n",
       "      <th>'plant path'</th>\n",
       "      <td>110</td>\n",
       "    </tr>\n",
       "    <tr>\n",
       "      <th>' rural '</th>\n",
       "      <td>96</td>\n",
       "    </tr>\n",
       "    <tr>\n",
       "      <th>' groundwater '</th>\n",
       "      <td>96</td>\n",
       "    </tr>\n",
       "    <tr>\n",
       "      <th>' livestock '</th>\n",
       "      <td>94</td>\n",
       "    </tr>\n",
       "    <tr>\n",
       "      <th>' beef'</th>\n",
       "      <td>94</td>\n",
       "    </tr>\n",
       "    <tr>\n",
       "      <th>' fiber'</th>\n",
       "      <td>94</td>\n",
       "    </tr>\n",
       "    <tr>\n",
       "      <th>' weed'</th>\n",
       "      <td>92</td>\n",
       "    </tr>\n",
       "    <tr>\n",
       "      <th>' herb'</th>\n",
       "      <td>84</td>\n",
       "    </tr>\n",
       "    <tr>\n",
       "      <th>'fungi'</th>\n",
       "      <td>82</td>\n",
       "    </tr>\n",
       "    <tr>\n",
       "      <th>' ranch'</th>\n",
       "      <td>82</td>\n",
       "    </tr>\n",
       "    <tr>\n",
       "      <th>' refrigerat'</th>\n",
       "      <td>78</td>\n",
       "    </tr>\n",
       "    <tr>\n",
       "      <th>'biosystem'</th>\n",
       "      <td>72</td>\n",
       "    </tr>\n",
       "    <tr>\n",
       "      <th>'agro'</th>\n",
       "      <td>68</td>\n",
       "    </tr>\n",
       "    <tr>\n",
       "      <th>'digestion'</th>\n",
       "      <td>60</td>\n",
       "    </tr>\n",
       "    <tr>\n",
       "      <th>' pig'</th>\n",
       "      <td>60</td>\n",
       "    </tr>\n",
       "    <tr>\n",
       "      <th>'freez'</th>\n",
       "      <td>60</td>\n",
       "    </tr>\n",
       "    <tr>\n",
       "      <th>' herbi'</th>\n",
       "      <td>60</td>\n",
       "    </tr>\n",
       "    <tr>\n",
       "      <th>'forage'</th>\n",
       "      <td>58</td>\n",
       "    </tr>\n",
       "    <tr>\n",
       "      <th>' ferment'</th>\n",
       "      <td>56</td>\n",
       "    </tr>\n",
       "    <tr>\n",
       "      <th>'harvest'</th>\n",
       "      <td>56</td>\n",
       "    </tr>\n",
       "    <tr>\n",
       "      <th>' swine'</th>\n",
       "      <td>50</td>\n",
       "    </tr>\n",
       "    <tr>\n",
       "      <th>' fruit'</th>\n",
       "      <td>50</td>\n",
       "    </tr>\n",
       "    <tr>\n",
       "      <th>' rumina'</th>\n",
       "      <td>50</td>\n",
       "    </tr>\n",
       "    <tr>\n",
       "      <th>' irrigat'</th>\n",
       "      <td>48</td>\n",
       "    </tr>\n",
       "    <tr>\n",
       "      <th>' restaurant'</th>\n",
       "      <td>48</td>\n",
       "    </tr>\n",
       "    <tr>\n",
       "      <th>' carcass'</th>\n",
       "      <td>48</td>\n",
       "    </tr>\n",
       "    <tr>\n",
       "      <th>'gastro'</th>\n",
       "      <td>46</td>\n",
       "    </tr>\n",
       "  </tbody>\n",
       "</table>\n",
       "</div>"
      ],
      "text/plain": [
       "                       Keyword\n",
       "'agri'                    1710\n",
       "'land'                    1310\n",
       "' animal'                 1248\n",
       "'food'                     944\n",
       "' nutri'                   858\n",
       "' soil'                    588\n",
       "' metaboli'                386\n",
       "'crop'                     368\n",
       "' hospitality '            308\n",
       "' diet'                    244\n",
       "' protein'                 228\n",
       "'farm'                     184\n",
       "'breed'                    174\n",
       "' horticult'               166\n",
       "' contaminant'             150\n",
       "' meat'                    150\n",
       "' productivity '           134\n",
       "' cattle'                  130\n",
       "'management practice'      126\n",
       "' pest'                    122\n",
       "' rangeland'               120\n",
       "'geospatial'               116\n",
       "' fish'                    114\n",
       "'plant path'               110\n",
       "' rural '                   96\n",
       "' groundwater '             96\n",
       "' livestock '               94\n",
       "' beef'                     94\n",
       "' fiber'                    94\n",
       "' weed'                     92\n",
       "' herb'                     84\n",
       "'fungi'                     82\n",
       "' ranch'                    82\n",
       "' refrigerat'               78\n",
       "'biosystem'                 72\n",
       "'agro'                      68\n",
       "'digestion'                 60\n",
       "' pig'                      60\n",
       "'freez'                     60\n",
       "' herbi'                    60\n",
       "'forage'                    58\n",
       "' ferment'                  56\n",
       "'harvest'                   56\n",
       "' swine'                    50\n",
       "' fruit'                    50\n",
       "' rumina'                   50\n",
       "' irrigat'                  48\n",
       "' restaurant'               48\n",
       "' carcass'                  48\n",
       "'gastro'                    46"
      ]
     },
     "execution_count": 7,
     "metadata": {},
     "output_type": "execute_result"
    }
   ],
   "source": [
    "# frequency of top 50 keywords\n",
    "frequency_top50 = clean_data['Keyword'].value_counts().to_frame().head(50)\n",
    "frequency_top50"
   ]
  },
  {
   "cell_type": "code",
   "execution_count": 8,
   "metadata": {},
   "outputs": [
    {
     "data": {
      "text/html": [
       "<div>\n",
       "<style scoped>\n",
       "    .dataframe tbody tr th:only-of-type {\n",
       "        vertical-align: middle;\n",
       "    }\n",
       "\n",
       "    .dataframe tbody tr th {\n",
       "        vertical-align: top;\n",
       "    }\n",
       "\n",
       "    .dataframe thead th {\n",
       "        text-align: right;\n",
       "    }\n",
       "</style>\n",
       "<table border=\"1\" class=\"dataframe\">\n",
       "  <thead>\n",
       "    <tr style=\"text-align: right;\">\n",
       "      <th></th>\n",
       "      <th></th>\n",
       "      <th>Count</th>\n",
       "    </tr>\n",
       "    <tr>\n",
       "      <th>Department Name</th>\n",
       "      <th>Keyword</th>\n",
       "      <th></th>\n",
       "    </tr>\n",
       "  </thead>\n",
       "  <tbody>\n",
       "    <tr>\n",
       "      <th>Accounting (ACCT)</th>\n",
       "      <th>'agri'</th>\n",
       "      <td>4</td>\n",
       "    </tr>\n",
       "    <tr>\n",
       "      <th>African American Studies (AFAM)</th>\n",
       "      <th>'land'</th>\n",
       "      <td>2</td>\n",
       "    </tr>\n",
       "    <tr>\n",
       "      <th rowspan=\"2\" valign=\"top\">Ag International (AGIN)</th>\n",
       "      <th>'agri'</th>\n",
       "      <td>54</td>\n",
       "    </tr>\n",
       "    <tr>\n",
       "      <th>'food'</th>\n",
       "      <td>26</td>\n",
       "    </tr>\n",
       "    <tr>\n",
       "      <th>Agricultural Communications (AGCM)</th>\n",
       "      <th>'agri'</th>\n",
       "      <td>224</td>\n",
       "    </tr>\n",
       "    <tr>\n",
       "      <th>...</th>\n",
       "      <th>...</th>\n",
       "      <td>...</td>\n",
       "    </tr>\n",
       "    <tr>\n",
       "      <th rowspan=\"5\" valign=\"top\">Veterinary Medicine (VMED)</th>\n",
       "      <th>'breed'</th>\n",
       "      <td>18</td>\n",
       "    </tr>\n",
       "    <tr>\n",
       "      <th>'crop'</th>\n",
       "      <td>4</td>\n",
       "    </tr>\n",
       "    <tr>\n",
       "      <th>'food'</th>\n",
       "      <td>56</td>\n",
       "    </tr>\n",
       "    <tr>\n",
       "      <th>'fungi'</th>\n",
       "      <td>8</td>\n",
       "    </tr>\n",
       "    <tr>\n",
       "      <th>'gastro'</th>\n",
       "      <td>8</td>\n",
       "    </tr>\n",
       "  </tbody>\n",
       "</table>\n",
       "<p>447 rows × 1 columns</p>\n",
       "</div>"
      ],
      "text/plain": [
       "                                             Count\n",
       "Department Name                    Keyword        \n",
       "Accounting (ACCT)                  'agri'        4\n",
       "African American Studies (AFAM)    'land'        2\n",
       "Ag International (AGIN)            'agri'       54\n",
       "                                   'food'       26\n",
       "Agricultural Communications (AGCM) 'agri'      224\n",
       "...                                            ...\n",
       "Veterinary Medicine (VMED)         'breed'      18\n",
       "                                   'crop'        4\n",
       "                                   'food'       56\n",
       "                                   'fungi'       8\n",
       "                                   'gastro'      8\n",
       "\n",
       "[447 rows x 1 columns]"
      ]
     },
     "execution_count": 8,
     "metadata": {},
     "output_type": "execute_result"
    }
   ],
   "source": [
    "# frequency of top 50 keywords in each department\n",
    "by_department = clean_data[clean_data['Keyword'].isin(frequency_top50.index)].groupby(['Department Name','Keyword']).count()\n",
    "frequency_in_department = by_department.loc[:,['Course Catalogue Number']].rename(columns={'Course Catalogue Number':'Count'})\n",
    "frequency_in_department"
   ]
  },
  {
   "cell_type": "code",
   "execution_count": 9,
   "metadata": {
    "scrolled": false
   },
   "outputs": [
    {
     "data": {
      "text/html": [
       "<div>\n",
       "<style scoped>\n",
       "    .dataframe tbody tr th:only-of-type {\n",
       "        vertical-align: middle;\n",
       "    }\n",
       "\n",
       "    .dataframe tbody tr th {\n",
       "        vertical-align: top;\n",
       "    }\n",
       "\n",
       "    .dataframe thead th {\n",
       "        text-align: right;\n",
       "    }\n",
       "</style>\n",
       "<table border=\"1\" class=\"dataframe\">\n",
       "  <thead>\n",
       "    <tr style=\"text-align: right;\">\n",
       "      <th></th>\n",
       "      <th>Keyword</th>\n",
       "      <th>Count</th>\n",
       "    </tr>\n",
       "    <tr>\n",
       "      <th>Department Name</th>\n",
       "      <th></th>\n",
       "      <th></th>\n",
       "    </tr>\n",
       "  </thead>\n",
       "  <tbody>\n",
       "    <tr>\n",
       "      <th>Accounting (ACCT)</th>\n",
       "      <td>'agri'</td>\n",
       "      <td>4</td>\n",
       "    </tr>\n",
       "    <tr>\n",
       "      <th>African American Studies (AFAM)</th>\n",
       "      <td>'land'</td>\n",
       "      <td>2</td>\n",
       "    </tr>\n",
       "    <tr>\n",
       "      <th>Ag International (AGIN)</th>\n",
       "      <td>'agri'</td>\n",
       "      <td>54</td>\n",
       "    </tr>\n",
       "    <tr>\n",
       "      <th>Agricultural Communications (AGCM)</th>\n",
       "      <td>'agri'</td>\n",
       "      <td>224</td>\n",
       "    </tr>\n",
       "    <tr>\n",
       "      <th>Agricultural Economics (AGEC)</th>\n",
       "      <td>'agri'</td>\n",
       "      <td>424</td>\n",
       "    </tr>\n",
       "    <tr>\n",
       "      <th>...</th>\n",
       "      <td>...</td>\n",
       "      <td>...</td>\n",
       "    </tr>\n",
       "    <tr>\n",
       "      <th>Theatre (TH)</th>\n",
       "      <td>'land'</td>\n",
       "      <td>6</td>\n",
       "    </tr>\n",
       "    <tr>\n",
       "      <th>University (UNIV)</th>\n",
       "      <td>' oat'</td>\n",
       "      <td>4</td>\n",
       "    </tr>\n",
       "    <tr>\n",
       "      <th>Veterinary Biomedical Sciences (VBSC)</th>\n",
       "      <td>' animal'</td>\n",
       "      <td>68</td>\n",
       "    </tr>\n",
       "    <tr>\n",
       "      <th>Veterinary Clinical Sciences (VCS)</th>\n",
       "      <td>' animal'</td>\n",
       "      <td>126</td>\n",
       "    </tr>\n",
       "    <tr>\n",
       "      <th>Veterinary Medicine (VMED)</th>\n",
       "      <td>' animal'</td>\n",
       "      <td>260</td>\n",
       "    </tr>\n",
       "  </tbody>\n",
       "</table>\n",
       "<p>112 rows × 2 columns</p>\n",
       "</div>"
      ],
      "text/plain": [
       "                                         Keyword  Count\n",
       "Department Name                                        \n",
       "Accounting (ACCT)                         'agri'      4\n",
       "African American Studies (AFAM)           'land'      2\n",
       "Ag International (AGIN)                   'agri'     54\n",
       "Agricultural Communications (AGCM)        'agri'    224\n",
       "Agricultural Economics (AGEC)             'agri'    424\n",
       "...                                          ...    ...\n",
       "Theatre (TH)                              'land'      6\n",
       "University (UNIV)                         ' oat'      4\n",
       "Veterinary Biomedical Sciences (VBSC)  ' animal'     68\n",
       "Veterinary Clinical Sciences (VCS)     ' animal'    126\n",
       "Veterinary Medicine (VMED)             ' animal'    260\n",
       "\n",
       "[112 rows x 2 columns]"
      ]
     },
     "execution_count": 9,
     "metadata": {},
     "output_type": "execute_result"
    }
   ],
   "source": [
    "# top keyword in each department\n",
    "by_department_fullkeywords = clean_data.groupby(['Department Name','Keyword']).count().loc[:,['Course Catalogue Number']].rename(columns={'Course Catalogue Number':'Count'})\n",
    "by_department_fullkeywords_reset = by_department_fullkeywords.reset_index()\n",
    "top_key_dep = by_department_fullkeywords_reset.sort_values('Count').groupby('Department Name').last()\n",
    "top_key_dep"
   ]
  },
  {
   "cell_type": "code",
   "execution_count": 10,
   "metadata": {},
   "outputs": [
    {
     "data": {
      "text/html": [
       "<div>\n",
       "<style scoped>\n",
       "    .dataframe tbody tr th:only-of-type {\n",
       "        vertical-align: middle;\n",
       "    }\n",
       "\n",
       "    .dataframe tbody tr th {\n",
       "        vertical-align: top;\n",
       "    }\n",
       "\n",
       "    .dataframe thead th {\n",
       "        text-align: right;\n",
       "    }\n",
       "</style>\n",
       "<table border=\"1\" class=\"dataframe\">\n",
       "  <thead>\n",
       "    <tr style=\"text-align: right;\">\n",
       "      <th></th>\n",
       "      <th>Count</th>\n",
       "    </tr>\n",
       "    <tr>\n",
       "      <th>Department Name</th>\n",
       "      <th></th>\n",
       "    </tr>\n",
       "  </thead>\n",
       "  <tbody>\n",
       "    <tr>\n",
       "      <th>Animal Science (ANSI)</th>\n",
       "      <td>1744</td>\n",
       "    </tr>\n",
       "    <tr>\n",
       "      <th>Nutritional Sciences (NSCI)</th>\n",
       "      <td>1232</td>\n",
       "    </tr>\n",
       "    <tr>\n",
       "      <th>Horticulture (HORT)</th>\n",
       "      <td>692</td>\n",
       "    </tr>\n",
       "  </tbody>\n",
       "</table>\n",
       "</div>"
      ],
      "text/plain": [
       "                             Count\n",
       "Department Name                   \n",
       "Animal Science (ANSI)         1744\n",
       "Nutritional Sciences (NSCI)   1232\n",
       "Horticulture (HORT)            692"
      ]
     },
     "execution_count": 10,
     "metadata": {},
     "output_type": "execute_result"
    }
   ],
   "source": [
    "#distribution of top 10 \n",
    "top3_department = by_department_fullkeywords_reset.groupby('Department Name').sum().sort_values('Count',ascending=False).head(3)\n",
    "top3_department\n"
   ]
  },
  {
   "cell_type": "code",
   "execution_count": 15,
   "metadata": {},
   "outputs": [
    {
     "data": {
      "image/png": "[encoded data removed]",
      "text/plain": [
       "<Figure size 432x288 with 1 Axes>"
      ]
     },
     "metadata": {
      "needs_background": "light"
     },
     "output_type": "display_data"
    }
   ],
   "source": [
    "\n",
    "# ANSI\n",
    "plt.figure\n",
    "Animal_Science = by_department_fullkeywords_reset[by_department_fullkeywords_reset['Department Name']=='Animal Science (ANSI)'].sort_values('Count',ascending=False).head(5)\n",
    "sns.barplot(x='Keyword',y='Count' ,data=Animal_Science)\n",
    "plt.title('Animal Science');"
   ]
  },
  {
   "cell_type": "code",
   "execution_count": 16,
   "metadata": {},
   "outputs": [
    {
     "data": {
      "image/png": "[encoded data removed]",
      "text/plain": [
       "<Figure size 432x288 with 1 Axes>"
      ]
     },
     "metadata": {
      "needs_background": "light"
     },
     "output_type": "display_data"
    }
   ],
   "source": [
    "# NSCI\n",
    "plt.figure\n",
    "NSCI = by_department_fullkeywords_reset[by_department_fullkeywords_reset['Department Name']=='Nutritional Sciences (NSCI)'].sort_values('Count',ascending=False).head(5)\n",
    "sns.barplot(x='Keyword',y='Count' ,data=NSCI)\n",
    "plt.title('Nutritional Sciences');"
   ]
  },
  {
   "cell_type": "code",
   "execution_count": 17,
   "metadata": {},
   "outputs": [
    {
     "data": {
      "image/png": "[encoded data removed]",
      "text/plain": [
       "<Figure size 432x288 with 1 Axes>"
      ]
     },
     "metadata": {
      "needs_background": "light"
     },
     "output_type": "display_data"
    }
   ],
   "source": [
    "\n",
    "# HORT\n",
    "plt.figure\n",
    "HORT = by_department_fullkeywords_reset[by_department_fullkeywords_reset['Department Name']=='Horticulture (HORT)'].sort_values('Count',ascending=False).head(5)\n",
    "sns.barplot(x='Keyword',y='Count' ,data=HORT)\n",
    "plt.title('Horticulture (HORT)');"
   ]
  },
  {
   "cell_type": "code",
   "execution_count": 14,
   "metadata": {},
   "outputs": [],
   "source": [
    "# export\n",
    "writer = pd.ExcelWriter('/Users/xiaoqisun/Desktop/Seven/Discovery Progam/EDA/Oklahoma State University EDA result.xlsx', engine='xlsxwriter')\n",
    "\n",
    "frequency_top50.to_excel(writer, sheet_name='top 50 keywords')\n",
    "frequency_in_department.to_excel(writer, sheet_name='keywords in dep')\n",
    "top_key_dep.to_excel(writer, sheet_name='top keyword in dep')\n",
    "\n",
    "writer.save()"
   ]
  },
  {
   "cell_type": "code",
   "execution_count": null,
   "metadata": {},
   "outputs": [],
   "source": []
  }
 ],
 "metadata": {
  "history": [
   {
    "code": "import Pandas as pd\nimport Numpy as np",
    "id": "0f56f3c3567f4dc49e9ba9e6e31cba7c",
    "idx": 0,
    "time": "2020-11-14T22:22:10.382Z",
    "type": "execution"
   },
   {
    "id": "0f56f3c3567f4dc49e9ba9e6e31cba7c",
    "time": "2020-11-14T22:22:10.501Z",
    "type": "completion"
   },
   {
    "code": "import pandas as pd\nimport Numpy as np",
    "id": "0f56f3c3567f4dc49e9ba9e6e31cba7c",
    "idx": 0,
    "time": "2020-11-14T22:22:13.384Z",
    "type": "execution"
   },
   {
    "id": "0f56f3c3567f4dc49e9ba9e6e31cba7c",
    "time": "2020-11-14T22:22:13.833Z",
    "type": "completion"
   },
   {
    "code": "import pandas as pd\nimport numpy as np",
    "id": "0f56f3c3567f4dc49e9ba9e6e31cba7c",
    "idx": 0,
    "time": "2020-11-14T22:22:16.714Z",
    "type": "execution"
   },
   {
    "id": "0f56f3c3567f4dc49e9ba9e6e31cba7c",
    "time": "2020-11-14T22:22:16.776Z",
    "type": "completion"
   },
   {
    "code": "pd.read_csv('Oklahoma_State_University Courses 2017-21 Webscraped(with keyword).csv')",
    "id": "5e84dbae4ee44db289e0dee6277ad98e",
    "idx": 1,
    "time": "2020-11-14T22:22:24.831Z",
    "type": "execution"
   },
   {
    "id": "5e84dbae4ee44db289e0dee6277ad98e",
    "time": "2020-11-14T22:22:25.127Z",
    "type": "completion"
   },
   {
    "code": "data = pd.read_csv('Oklahoma_State_University 2017-21 Webscraped.csv')",
    "id": "5e84dbae4ee44db289e0dee6277ad98e",
    "idx": 1,
    "time": "2020-11-14T22:23:49.960Z",
    "type": "execution"
   },
   {
    "id": "5e84dbae4ee44db289e0dee6277ad98e",
    "time": "2020-11-14T22:23:50.072Z",
    "type": "completion"
   },
   {
    "code": "data = pd.read_csv('Oklahoma_State_University 2017-21 Webscraped.csv')\ndata",
    "id": "5e84dbae4ee44db289e0dee6277ad98e",
    "idx": 1,
    "time": "2020-11-14T22:23:52.964Z",
    "type": "execution"
   },
   {
    "id": "5e84dbae4ee44db289e0dee6277ad98e",
    "time": "2020-11-14T22:23:53.101Z",
    "type": "completion"
   },
   {
    "code": "data.explode('Keyword')",
    "id": "a5e7a5439d804d788376e8e70ef2cb7e",
    "idx": 2,
    "time": "2020-11-14T22:24:18.783Z",
    "type": "execution"
   },
   {
    "id": "a5e7a5439d804d788376e8e70ef2cb7e",
    "time": "2020-11-14T22:24:18.949Z",
    "type": "completion"
   },
   {
    "code": "more_than_one = data['Keyword'].apply(lambda x: 1 if len(x))",
    "id": "a74ad49f882c46088fa4efa9834908bb",
    "idx": 2,
    "time": "2020-11-14T22:26:10.928Z",
    "type": "execution"
   },
   {
    "id": "a74ad49f882c46088fa4efa9834908bb",
    "time": "2020-11-14T22:26:11.013Z",
    "type": "completion"
   },
   {
    "code": "more_than_one = data['Keyword'].apply(lambda x: 1 if len(x)>1)",
    "id": "a74ad49f882c46088fa4efa9834908bb",
    "idx": 2,
    "time": "2020-11-14T22:26:30.505Z",
    "type": "execution"
   },
   {
    "id": "a74ad49f882c46088fa4efa9834908bb",
    "time": "2020-11-14T22:26:30.761Z",
    "type": "completion"
   },
   {
    "code": "def f(x):\n    if len(x) > 1:\n        return 1\n    else:\n        return 0\n\n\nmore_than_one = data['Keyword'].apply(f)",
    "id": "a74ad49f882c46088fa4efa9834908bb",
    "idx": 2,
    "time": "2020-11-14T22:27:24.348Z",
    "type": "execution"
   },
   {
    "id": "a74ad49f882c46088fa4efa9834908bb",
    "time": "2020-11-14T22:27:24.424Z",
    "type": "completion"
   },
   {
    "code": "more_than_one",
    "id": "cf48b7362a9c420d88e4a626294190f9",
    "idx": 3,
    "time": "2020-11-14T22:27:28.405Z",
    "type": "execution"
   },
   {
    "id": "cf48b7362a9c420d88e4a626294190f9",
    "time": "2020-11-14T22:27:28.470Z",
    "type": "completion"
   },
   {
    "code": "data['Keyword'].loc[:,'Keyword']",
    "id": "cf48b7362a9c420d88e4a626294190f9",
    "idx": 2,
    "time": "2020-11-14T22:28:49.214Z",
    "type": "execution"
   },
   {
    "id": "cf48b7362a9c420d88e4a626294190f9",
    "time": "2020-11-14T22:28:49.339Z",
    "type": "completion"
   },
   {
    "code": "data.loc[:,'Keyword']",
    "id": "cf48b7362a9c420d88e4a626294190f9",
    "idx": 2,
    "time": "2020-11-14T22:28:57.480Z",
    "type": "execution"
   },
   {
    "id": "cf48b7362a9c420d88e4a626294190f9",
    "time": "2020-11-14T22:28:57.545Z",
    "type": "completion"
   },
   {
    "code": "data.loc[:,'Keyword'][0]",
    "id": "cf48b7362a9c420d88e4a626294190f9",
    "idx": 2,
    "time": "2020-11-14T22:29:05.106Z",
    "type": "execution"
   },
   {
    "id": "cf48b7362a9c420d88e4a626294190f9",
    "time": "2020-11-14T22:29:05.170Z",
    "type": "completion"
   },
   {
    "code": "type(data.loc[:,'Keyword'][0])",
    "id": "cf48b7362a9c420d88e4a626294190f9",
    "idx": 2,
    "time": "2020-11-14T22:29:10.375Z",
    "type": "execution"
   },
   {
    "id": "cf48b7362a9c420d88e4a626294190f9",
    "time": "2020-11-14T22:29:10.452Z",
    "type": "completion"
   },
   {
    "code": "data['Keyword'].apply(str.split(','))",
    "id": "cf48b7362a9c420d88e4a626294190f9",
    "idx": 2,
    "time": "2020-11-14T22:30:09.411Z",
    "type": "execution"
   },
   {
    "id": "cf48b7362a9c420d88e4a626294190f9",
    "time": "2020-11-14T22:30:09.738Z",
    "type": "completion"
   },
   {
    "code": "data['Keyword'].apply(lambda x: x.split(','))",
    "id": "cf48b7362a9c420d88e4a626294190f9",
    "idx": 2,
    "time": "2020-11-14T22:30:34.833Z",
    "type": "execution"
   },
   {
    "id": "cf48b7362a9c420d88e4a626294190f9",
    "time": "2020-11-14T22:30:34.906Z",
    "type": "completion"
   },
   {
    "code": "data['Keyword'].apply(lambda x: x[1:-1])",
    "id": "cf48b7362a9c420d88e4a626294190f9",
    "idx": 2,
    "time": "2020-11-14T22:31:08.472Z",
    "type": "execution"
   },
   {
    "id": "cf48b7362a9c420d88e4a626294190f9",
    "time": "2020-11-14T22:31:08.539Z",
    "type": "completion"
   },
   {
    "code": "data['Keyword'].apply(lambda x: x[1:-1].split(','))",
    "id": "cf48b7362a9c420d88e4a626294190f9",
    "idx": 2,
    "time": "2020-11-14T22:31:17.126Z",
    "type": "execution"
   },
   {
    "id": "cf48b7362a9c420d88e4a626294190f9",
    "time": "2020-11-14T22:31:17.255Z",
    "type": "completion"
   },
   {
    "code": "data['Keyword'] = data['Keyword'].apply(lambda x: x[1:-1].split(','))\ndata",
    "id": "cf48b7362a9c420d88e4a626294190f9",
    "idx": 3,
    "time": "2020-11-14T22:32:26.216Z",
    "type": "execution"
   },
   {
    "id": "cf48b7362a9c420d88e4a626294190f9",
    "time": "2020-11-14T22:32:26.316Z",
    "type": "completion"
   },
   {
    "code": "data.explode('Keyword')",
    "id": "c141f214e226400e956ffd2a3ca64057",
    "idx": 5,
    "time": "2020-11-14T22:32:47.344Z",
    "type": "execution"
   },
   {
    "id": "c141f214e226400e956ffd2a3ca64057",
    "time": "2020-11-14T22:32:47.465Z",
    "type": "completion"
   },
   {
    "code": "clean_data = data.explode('Keyword')",
    "id": "c141f214e226400e956ffd2a3ca64057",
    "idx": 5,
    "time": "2020-11-14T22:33:54.497Z",
    "type": "execution"
   },
   {
    "id": "c141f214e226400e956ffd2a3ca64057",
    "time": "2020-11-14T22:33:54.589Z",
    "type": "completion"
   },
   {
    "code": "clean_data.groupby('Keyword').count()",
    "id": "7d9dcf6a397543fc8859929e65f4ea42",
    "idx": 6,
    "time": "2020-11-14T22:34:27.304Z",
    "type": "execution"
   },
   {
    "id": "7d9dcf6a397543fc8859929e65f4ea42",
    "time": "2020-11-14T22:34:27.395Z",
    "type": "completion"
   },
   {
    "code": "clean_data['Keyword'].value_counts()",
    "id": "04b62fd5347245998e9a7806ef81fed0",
    "idx": 6,
    "time": "2020-11-14T22:35:18.694Z",
    "type": "execution"
   },
   {
    "id": "04b62fd5347245998e9a7806ef81fed0",
    "time": "2020-11-14T22:35:18.837Z",
    "type": "completion"
   },
   {
    "code": "clean_data['Keyword'].value_counts().to_frame()",
    "id": "04b62fd5347245998e9a7806ef81fed0",
    "idx": 6,
    "time": "2020-11-14T22:35:29.030Z",
    "type": "execution"
   },
   {
    "id": "04b62fd5347245998e9a7806ef81fed0",
    "time": "2020-11-14T22:35:29.115Z",
    "type": "completion"
   },
   {
    "code": "clean_data.groupby(['Department Name','Keyword']).count()",
    "id": "7d9dcf6a397543fc8859929e65f4ea42",
    "idx": 7,
    "time": "2020-11-14T22:39:24.600Z",
    "type": "execution"
   },
   {
    "id": "7d9dcf6a397543fc8859929e65f4ea42",
    "time": "2020-11-14T22:39:24.741Z",
    "type": "completion"
   },
   {
    "code": "clean_data[clean_data['Keyword'].isin(frequency_top50.index)].groupby(['Department Name','Keyword']).count()",
    "id": "7d9dcf6a397543fc8859929e65f4ea42",
    "idx": 7,
    "time": "2020-11-14T22:40:12.814Z",
    "type": "execution"
   },
   {
    "id": "7d9dcf6a397543fc8859929e65f4ea42",
    "time": "2020-11-14T22:40:12.941Z",
    "type": "completion"
   },
   {
    "code": "# frequency of top 50 keywords\nfrequency_top50 = clean_data['Keyword'].value_counts().to_frame().head(50)",
    "id": "04b62fd5347245998e9a7806ef81fed0",
    "idx": 6,
    "time": "2020-11-14T22:40:16.427Z",
    "type": "execution"
   },
   {
    "id": "04b62fd5347245998e9a7806ef81fed0",
    "time": "2020-11-14T22:40:16.726Z",
    "type": "completion"
   },
   {
    "code": "clean_data[clean_data['Keyword'].isin(frequency_top50.index)].groupby(['Department Name','Keyword']).count()",
    "id": "7d9dcf6a397543fc8859929e65f4ea42",
    "idx": 7,
    "time": "2020-11-14T22:40:19.742Z",
    "type": "execution"
   },
   {
    "id": "7d9dcf6a397543fc8859929e65f4ea42",
    "time": "2020-11-14T22:40:19.914Z",
    "type": "completion"
   },
   {
    "code": "clean_data[clean_data['Keyword'].isin(frequency_top50.index)]['Course Name'].groupby(['Department Name','Keyword']).count()",
    "id": "7d9dcf6a397543fc8859929e65f4ea42",
    "idx": 7,
    "time": "2020-11-14T22:40:49.128Z",
    "type": "execution"
   },
   {
    "id": "7d9dcf6a397543fc8859929e65f4ea42",
    "time": "2020-11-14T22:40:49.343Z",
    "type": "completion"
   },
   {
    "code": "clean_data[clean_data['Keyword'].isin(frequency_top50.index)].groupby(['Department Name','Keyword']).count().iloc[:,[['Course Name']]]",
    "id": "7d9dcf6a397543fc8859929e65f4ea42",
    "idx": 7,
    "time": "2020-11-14T22:41:12.342Z",
    "type": "execution"
   },
   {
    "id": "7d9dcf6a397543fc8859929e65f4ea42",
    "time": "2020-11-14T22:41:12.486Z",
    "type": "completion"
   },
   {
    "code": "clean_data[clean_data['Keyword'].isin(frequency_top50.index)].groupby(['Department Name','Keyword']).count().loc[:,[['Course Name']]]",
    "id": "7d9dcf6a397543fc8859929e65f4ea42",
    "idx": 7,
    "time": "2020-11-14T22:41:16.939Z",
    "type": "execution"
   },
   {
    "id": "7d9dcf6a397543fc8859929e65f4ea42",
    "time": "2020-11-14T22:41:17.160Z",
    "type": "completion"
   },
   {
    "code": "clean_data[clean_data['Keyword'].isin(frequency_top50.index)].groupby(['Department Name','Keyword']).count()",
    "id": "7d9dcf6a397543fc8859929e65f4ea42",
    "idx": 7,
    "time": "2020-11-14T22:41:27.349Z",
    "type": "execution"
   },
   {
    "id": "7d9dcf6a397543fc8859929e65f4ea42",
    "time": "2020-11-14T22:41:27.467Z",
    "type": "completion"
   },
   {
    "code": "by_department = clean_data[clean_data['Keyword'].isin(frequency_top50.index)].groupby(['Department Name','Keyword']).count()\nby_department.loc[:,['Course Catalogue Number']]",
    "id": "7d9dcf6a397543fc8859929e65f4ea42",
    "idx": 7,
    "time": "2020-11-14T22:42:02.657Z",
    "type": "execution"
   },
   {
    "id": "7d9dcf6a397543fc8859929e65f4ea42",
    "time": "2020-11-14T22:42:02.755Z",
    "type": "completion"
   },
   {
    "code": "# frequency of top 50 keywords in each department\nby_department = clean_data[clean_data['Keyword'].isin(frequency_top50.index)].groupby(['Department Name','Keyword']).count()\nfrequency_in_department = by_department.loc[:,['Course Catalogue Number']].rename(columns={'Course Catalogue Number':'Count'})\nfrequency_in_department",
    "id": "7d9dcf6a397543fc8859929e65f4ea42",
    "idx": 7,
    "time": "2020-11-14T22:43:19.483Z",
    "type": "execution"
   },
   {
    "id": "7d9dcf6a397543fc8859929e65f4ea42",
    "time": "2020-11-14T22:43:19.587Z",
    "type": "completion"
   },
   {
    "code": "frequency_in_department.reset_index()",
    "id": "6592ff246e574c8982fede445b045dc0",
    "idx": 8,
    "time": "2020-11-14T22:44:26.800Z",
    "type": "execution"
   },
   {
    "id": "6592ff246e574c8982fede445b045dc0",
    "time": "2020-11-14T22:44:26.878Z",
    "type": "completion"
   },
   {
    "code": "clean_data.head()",
    "id": "6bdec113fa8c460bb85f390908ca2f87",
    "idx": 8,
    "time": "2020-11-14T22:45:32.325Z",
    "type": "execution"
   },
   {
    "id": "6bdec113fa8c460bb85f390908ca2f87",
    "time": "2020-11-14T22:45:32.404Z",
    "type": "completion"
   },
   {
    "code": "frequency_in_department.head()",
    "id": "6bdec113fa8c460bb85f390908ca2f87",
    "idx": 8,
    "time": "2020-11-14T22:45:58.185Z",
    "type": "execution"
   },
   {
    "id": "6bdec113fa8c460bb85f390908ca2f87",
    "time": "2020-11-14T22:45:58.255Z",
    "type": "completion"
   },
   {
    "code": "# top keywords in each department\nby_department_fullkeywords = clean_data.groupby(['Department Name','Keyword']).count()\n\nby_department_fullkeywords",
    "id": "2c412c383adc4b9b8e8c838c3de2b397",
    "idx": 8,
    "time": "2020-11-14T22:47:19.203Z",
    "type": "execution"
   },
   {
    "id": "2c412c383adc4b9b8e8c838c3de2b397",
    "time": "2020-11-14T22:47:19.329Z",
    "type": "completion"
   },
   {
    "code": "# top keywords in each department\nby_department_fullkeywords = clean_data.groupby(['Department Name','Keyword']).count().loc[:,['Course Catalogue Number']].rename(columns={'Course Catalogue Number':'Count'})\n\nby_department_fullkeywords",
    "id": "2c412c383adc4b9b8e8c838c3de2b397",
    "idx": 8,
    "time": "2020-11-14T22:47:55.376Z",
    "type": "execution"
   },
   {
    "id": "2c412c383adc4b9b8e8c838c3de2b397",
    "time": "2020-11-14T22:47:55.485Z",
    "type": "completion"
   },
   {
    "code": "# top keywords in each department\nby_department_fullkeywords = clean_data.groupby(['Department Name','Keyword']).count().loc[:,['Course Catalogue Number']].rename(columns={'Course Catalogue Number':'Count'})\n\nby_department_fullkeywords.reset_index().groupby('Department Name').max()",
    "id": "2c412c383adc4b9b8e8c838c3de2b397",
    "idx": 8,
    "time": "2020-11-14T22:48:59.655Z",
    "type": "execution"
   },
   {
    "id": "2c412c383adc4b9b8e8c838c3de2b397",
    "time": "2020-11-14T22:48:59.777Z",
    "type": "completion"
   },
   {
    "code": "# top keywords in each department\nby_department_fullkeywords = clean_data.groupby(['Department Name','Keyword']).count().loc[:,['Course Catalogue Number']].rename(columns={'Course Catalogue Number':'Count'})\nby_department_fullkeywords\n#by_department_fullkeywords.reset_index().groupby('Department Name').max()",
    "id": "2c412c383adc4b9b8e8c838c3de2b397",
    "idx": 8,
    "time": "2020-11-14T22:49:59.697Z",
    "type": "execution"
   },
   {
    "id": "2c412c383adc4b9b8e8c838c3de2b397",
    "time": "2020-11-14T22:49:59.796Z",
    "type": "completion"
   },
   {
    "code": "# top keywords in each department\nby_department_fullkeywords = clean_data.groupby(['Department Name','Keyword']).count().loc[:,['Course Catalogue Number']].rename(columns={'Course Catalogue Number':'Count'})\nby_department_fullkeywords.query(\"Department Name== VCS\")\n#by_department_fullkeywords.reset_index().groupby('Department Name').max()",
    "id": "2c412c383adc4b9b8e8c838c3de2b397",
    "idx": 8,
    "time": "2020-11-14T22:50:22.447Z",
    "type": "execution"
   },
   {
    "id": "2c412c383adc4b9b8e8c838c3de2b397",
    "time": "2020-11-14T22:50:22.543Z",
    "type": "completion"
   },
   {
    "code": "# top keywords in each department\nby_department_fullkeywords = clean_data.groupby(['Department Name','Keyword']).count().loc[:,['Course Catalogue Number']].rename(columns={'Course Catalogue Number':'Count'})\nby_department_fullkeywords.query(\"Department Name = VCS\")\n#by_department_fullkeywords.reset_index().groupby('Department Name').max()",
    "id": "2c412c383adc4b9b8e8c838c3de2b397",
    "idx": 8,
    "time": "2020-11-14T22:50:28.004Z",
    "type": "execution"
   },
   {
    "id": "2c412c383adc4b9b8e8c838c3de2b397",
    "time": "2020-11-14T22:50:28.087Z",
    "type": "completion"
   },
   {
    "code": "# top keywords in each department\nby_department_fullkeywords = clean_data.groupby(['Department Name','Keyword']).count().loc[:,['Course Catalogue Number']].rename(columns={'Course Catalogue Number':'Count'})\nby_department_fullkeywords[by_department_fullkeywords['Department Name']=='VCS']\n#by_department_fullkeywords.reset_index().groupby('Department Name').max()",
    "id": "2c412c383adc4b9b8e8c838c3de2b397",
    "idx": 8,
    "time": "2020-11-14T22:50:45.134Z",
    "type": "execution"
   },
   {
    "id": "2c412c383adc4b9b8e8c838c3de2b397",
    "time": "2020-11-14T22:50:45.285Z",
    "type": "completion"
   },
   {
    "code": "# top keywords in each department\nby_department_fullkeywords = clean_data.groupby(['Department Name','Keyword']).count().loc[:,['Course Catalogue Number']].rename(columns={'Course Catalogue Number':'Count'})\nby_department_fullkeywords#[by_department_fullkeywords['Department Name']=='VCS']\n#by_department_fullkeywords.reset_index().groupby('Department Name').max()",
    "id": "2c412c383adc4b9b8e8c838c3de2b397",
    "idx": 8,
    "time": "2020-11-14T22:50:54.836Z",
    "type": "execution"
   },
   {
    "id": "2c412c383adc4b9b8e8c838c3de2b397",
    "time": "2020-11-14T22:50:54.934Z",
    "type": "completion"
   },
   {
    "code": "# top keywords in each department\nby_department_fullkeywords = clean_data.groupby(['Department Name','Keyword']).count().loc[:,['Course Catalogue Number']].rename(columns={'Course Catalogue Number':'Count'})\nby_department_fullkeywords.reset_index()[by_department_fullkeywords['Department Name']=='VCS']\n#by_department_fullkeywords.reset_index().groupby('Department Name').max()",
    "id": "2c412c383adc4b9b8e8c838c3de2b397",
    "idx": 8,
    "time": "2020-11-14T22:51:12.246Z",
    "type": "execution"
   },
   {
    "id": "2c412c383adc4b9b8e8c838c3de2b397",
    "time": "2020-11-14T22:51:12.435Z",
    "type": "completion"
   },
   {
    "code": "# top keywords in each department\nby_department_fullkeywords = clean_data.groupby(['Department Name','Keyword']).count().loc[:,['Course Catalogue Number']].rename(columns={'Course Catalogue Number':'Count'})\nby_department_fullkeywords[by_department_fullkeywords.reset_index()['Department Name']=='VCS']\n#by_department_fullkeywords.reset_index().groupby('Department Name').max()",
    "id": "2c412c383adc4b9b8e8c838c3de2b397",
    "idx": 8,
    "time": "2020-11-14T22:51:24.526Z",
    "type": "execution"
   },
   {
    "id": "2c412c383adc4b9b8e8c838c3de2b397",
    "time": "2020-11-14T22:51:24.668Z",
    "type": "completion"
   },
   {
    "code": "# top keywords in each department\nby_department_fullkeywords = clean_data.groupby(['Department Name','Keyword']).count().loc[:,['Course Catalogue Number']].rename(columns={'Course Catalogue Number':'Count'})\nby_department_fullkeywords_reset = by_department_fullkeywords.reset_index()\nby_department_fullkeywords_reset[by_department_fullkeywords_reset['Department Name']=='VCS']\n#by_department_fullkeywords.reset_index().groupby('Department Name').max()",
    "id": "2c412c383adc4b9b8e8c838c3de2b397",
    "idx": 8,
    "time": "2020-11-14T22:52:01.699Z",
    "type": "execution"
   },
   {
    "id": "2c412c383adc4b9b8e8c838c3de2b397",
    "time": "2020-11-14T22:52:01.797Z",
    "type": "completion"
   },
   {
    "code": "# top keywords in each department\nby_department_fullkeywords = clean_data.groupby(['Department Name','Keyword']).count().loc[:,['Course Catalogue Number']].rename(columns={'Course Catalogue Number':'Count'})\nby_department_fullkeywords_reset = by_department_fullkeywords.reset_index()\nby_department_fullkeywords_reset.sort_value('Count').groupby('Department Name').last()",
    "id": "2c412c383adc4b9b8e8c838c3de2b397",
    "idx": 8,
    "time": "2020-11-14T22:53:30.196Z",
    "type": "execution"
   },
   {
    "id": "2c412c383adc4b9b8e8c838c3de2b397",
    "time": "2020-11-14T22:53:30.318Z",
    "type": "completion"
   },
   {
    "code": "# top keywords in each department\nby_department_fullkeywords = clean_data.groupby(['Department Name','Keyword']).count().loc[:,['Course Catalogue Number']].rename(columns={'Course Catalogue Number':'Count'})\nby_department_fullkeywords_reset = by_department_fullkeywords.reset_index()\nby_department_fullkeywords_reset.sort_values('Count').groupby('Department Name').last()",
    "id": "2c412c383adc4b9b8e8c838c3de2b397",
    "idx": 8,
    "time": "2020-11-14T22:53:33.470Z",
    "type": "execution"
   },
   {
    "id": "2c412c383adc4b9b8e8c838c3de2b397",
    "time": "2020-11-14T22:53:33.603Z",
    "type": "completion"
   },
   {
    "code": "by_department_fullkeywords_reset",
    "id": "f74ad37e590747cc8dd3e42a84530975",
    "idx": 9,
    "time": "2020-11-14T22:53:53.163Z",
    "type": "execution"
   },
   {
    "id": "f74ad37e590747cc8dd3e42a84530975",
    "time": "2020-11-14T22:53:53.245Z",
    "type": "completion"
   },
   {
    "code": "by_department_fullkeywords_reset[by_department_fullkeywords_reset['Department Name']=='VBSC']",
    "id": "f74ad37e590747cc8dd3e42a84530975",
    "idx": 9,
    "time": "2020-11-14T22:54:27.395Z",
    "type": "execution"
   },
   {
    "id": "f74ad37e590747cc8dd3e42a84530975",
    "time": "2020-11-14T22:54:27.474Z",
    "type": "completion"
   },
   {
    "code": "clean_data.head(1)",
    "id": "3d225de3c86e4b30826fc99fa51fbb98",
    "idx": 9,
    "time": "2020-11-14T22:59:36.674Z",
    "type": "execution"
   },
   {
    "id": "3d225de3c86e4b30826fc99fa51fbb98",
    "time": "2020-11-14T22:59:36.771Z",
    "type": "completion"
   },
   {
    "code": "by_department_fullkeywords_reset.head(1)",
    "id": "3d225de3c86e4b30826fc99fa51fbb98",
    "idx": 9,
    "time": "2020-11-14T22:59:47.763Z",
    "type": "execution"
   },
   {
    "id": "3d225de3c86e4b30826fc99fa51fbb98",
    "time": "2020-11-14T22:59:47.836Z",
    "type": "completion"
   },
   {
    "code": "#distribution of top 10 \nby_department_fullkeywords_reset.groupby('Department Name').sum()",
    "id": "97ecc06c396a445380a69b7b0f8809a0",
    "idx": 10,
    "time": "2020-11-14T23:00:15.176Z",
    "type": "execution"
   },
   {
    "id": "97ecc06c396a445380a69b7b0f8809a0",
    "time": "2020-11-14T23:00:15.256Z",
    "type": "completion"
   },
   {
    "code": "#distribution of top 10 \ntop3_department = by_department_fullkeywords_reset.groupby('Department Name').sum().sort_values('Count').last(3)\ntop3_department",
    "id": "97ecc06c396a445380a69b7b0f8809a0",
    "idx": 10,
    "time": "2020-11-14T23:00:47.188Z",
    "type": "execution"
   },
   {
    "id": "97ecc06c396a445380a69b7b0f8809a0",
    "time": "2020-11-14T23:00:47.266Z",
    "type": "completion"
   },
   {
    "code": "#distribution of top 10 \ntop3_department = by_department_fullkeywords_reset.groupby('Department Name').sum().sort_values('Count')\ntop3_department",
    "id": "97ecc06c396a445380a69b7b0f8809a0",
    "idx": 10,
    "time": "2020-11-14T23:00:58.806Z",
    "type": "execution"
   },
   {
    "id": "97ecc06c396a445380a69b7b0f8809a0",
    "time": "2020-11-14T23:00:58.878Z",
    "type": "completion"
   },
   {
    "code": "#distribution of top 10 \ntop3_department = by_department_fullkeywords_reset.groupby('Department Name').sum().sort_values('Count').tail(3)\ntop3_department",
    "id": "97ecc06c396a445380a69b7b0f8809a0",
    "idx": 10,
    "time": "2020-11-14T23:01:04.943Z",
    "type": "execution"
   },
   {
    "id": "97ecc06c396a445380a69b7b0f8809a0",
    "time": "2020-11-14T23:01:05.019Z",
    "type": "completion"
   },
   {
    "code": "#distribution of top 10 \ntop3_department = by_department_fullkeywords_reset.groupby('Department Name').sum().sort_values('Count',Ascending=False).head(3)\ntop3_department",
    "id": "97ecc06c396a445380a69b7b0f8809a0",
    "idx": 10,
    "time": "2020-11-14T23:01:20.420Z",
    "type": "execution"
   },
   {
    "id": "97ecc06c396a445380a69b7b0f8809a0",
    "time": "2020-11-14T23:01:20.493Z",
    "type": "completion"
   },
   {
    "code": "#distribution of top 10 \ntop3_department = by_department_fullkeywords_reset.groupby('Department Name').sum().sort_values('Count',ascending=False).head(3)\ntop3_department",
    "id": "97ecc06c396a445380a69b7b0f8809a0",
    "idx": 10,
    "time": "2020-11-14T23:01:26.152Z",
    "type": "execution"
   },
   {
    "id": "97ecc06c396a445380a69b7b0f8809a0",
    "time": "2020-11-14T23:01:26.225Z",
    "type": "completion"
   },
   {
    "code": "by_department_fullkeywords_reset.head()",
    "id": "3d225de3c86e4b30826fc99fa51fbb98",
    "idx": 9,
    "time": "2020-11-14T23:02:09.345Z",
    "type": "execution"
   },
   {
    "id": "3d225de3c86e4b30826fc99fa51fbb98",
    "time": "2020-11-14T23:02:09.420Z",
    "type": "completion"
   },
   {
    "code": "by_department_fullkeywords_reset.head(10)",
    "id": "3d225de3c86e4b30826fc99fa51fbb98",
    "idx": 9,
    "time": "2020-11-14T23:02:24.628Z",
    "type": "execution"
   },
   {
    "id": "3d225de3c86e4b30826fc99fa51fbb98",
    "time": "2020-11-14T23:02:24.715Z",
    "type": "completion"
   },
   {
    "code": "import pandas as pd\nimport numpy as np\nimport matplotlib.pyplot as plt\nimport seaborn as sns\n%matplotlib inline\n\n",
    "id": "0f56f3c3567f4dc49e9ba9e6e31cba7c",
    "idx": 0,
    "time": "2020-11-14T23:04:03.491Z",
    "type": "execution"
   },
   {
    "id": "0f56f3c3567f4dc49e9ba9e6e31cba7c",
    "time": "2020-11-14T23:04:04.406Z",
    "type": "completion"
   },
   {
    "code": "#distribution of top 10 \ntop3_department = by_department_fullkeywords_reset.groupby('Department Name').sum().sort_values('Count',ascending=False).head(3)\ntop3_department\n\n# ANSI\nANSI = by_department_fullkeywords_reset[by_department_fullkeywords_reset['Department Name']='ANSI']\nsns.barplot(ANSI)\n# NSCI\n\n\n# NREM",
    "id": "97ecc06c396a445380a69b7b0f8809a0",
    "idx": 10,
    "time": "2020-11-14T23:04:21.265Z",
    "type": "execution"
   },
   {
    "id": "97ecc06c396a445380a69b7b0f8809a0",
    "time": "2020-11-14T23:04:21.338Z",
    "type": "completion"
   },
   {
    "code": "#distribution of top 10 \ntop3_department = by_department_fullkeywords_reset.groupby('Department Name').sum().sort_values('Count',ascending=False).head(3)\ntop3_department\n\n# ANSI\nANSI = by_department_fullkeywords_reset[by_department_fullkeywords_reset['Department Name']=='ANSI']\nsns.barplot(ANSI)\n# NSCI\n\n\n# NREM",
    "id": "97ecc06c396a445380a69b7b0f8809a0",
    "idx": 10,
    "time": "2020-11-14T23:04:25.275Z",
    "type": "execution"
   },
   {
    "id": "97ecc06c396a445380a69b7b0f8809a0",
    "time": "2020-11-14T23:04:25.445Z",
    "type": "completion"
   },
   {
    "code": "#distribution of top 10 \ntop3_department = by_department_fullkeywords_reset.groupby('Department Name').sum().sort_values('Count',ascending=False).head(3)\ntop3_department\n\n# ANSI\nANSI = by_department_fullkeywords_reset[by_department_fullkeywords_reset['Department Name']=='ANSI']\nsns.barplot(x='Keyword',y='Count' ,data=ANSI)\n# NSCI\n\n\n# NREM",
    "id": "97ecc06c396a445380a69b7b0f8809a0",
    "idx": 10,
    "time": "2020-11-14T23:05:51.652Z",
    "type": "execution"
   },
   {
    "id": "97ecc06c396a445380a69b7b0f8809a0",
    "time": "2020-11-14T23:05:52.775Z",
    "type": "completion"
   },
   {
    "code": "#distribution of top 10 \ntop3_department = by_department_fullkeywords_reset.groupby('Department Name').sum().sort_values('Count',ascending=False).head(3)\ntop3_department\n\n# ANSI\nANSI = by_department_fullkeywords_reset[by_department_fullkeywords_reset['Department Name']=='ANSI']\nsns.barplot(x='Keyword',y='Count' ,data=ANSI)\nplt.xtick(rot=90)\n# NSCI\n\n\n# NREM",
    "id": "97ecc06c396a445380a69b7b0f8809a0",
    "idx": 10,
    "time": "2020-11-14T23:07:09.120Z",
    "type": "execution"
   },
   {
    "id": "97ecc06c396a445380a69b7b0f8809a0",
    "time": "2020-11-14T23:07:10.297Z",
    "type": "completion"
   },
   {
    "code": "#distribution of top 10 \ntop3_department = by_department_fullkeywords_reset.groupby('Department Name').sum().sort_values('Count',ascending=False).head(3)\ntop3_department\n\n# ANSI\nANSI = by_department_fullkeywords_reset[by_department_fullkeywords_reset['Department Name']=='ANSI']\nsns.barplot(x='Keyword',y='Count' ,data=ANSI)\nplt.xticks(rot=90)\n# NSCI\n\n\n# NREM",
    "id": "97ecc06c396a445380a69b7b0f8809a0",
    "idx": 10,
    "time": "2020-11-14T23:07:45.788Z",
    "type": "execution"
   },
   {
    "id": "97ecc06c396a445380a69b7b0f8809a0",
    "time": "2020-11-14T23:07:47.010Z",
    "type": "completion"
   },
   {
    "code": "#distribution of top 10 \ntop3_department = by_department_fullkeywords_reset.groupby('Department Name').sum().sort_values('Count',ascending=False).head(3)\ntop3_department\n\n# ANSI\nANSI = by_department_fullkeywords_reset[by_department_fullkeywords_reset['Department Name']=='ANSI']\nsns.barplot(x='Keyword',y='Count' ,data=ANSI)\nplt.xticks(rotation=90)\n# NSCI\n\n\n# NREM",
    "id": "97ecc06c396a445380a69b7b0f8809a0",
    "idx": 10,
    "time": "2020-11-14T23:07:57.259Z",
    "type": "execution"
   },
   {
    "id": "97ecc06c396a445380a69b7b0f8809a0",
    "time": "2020-11-14T23:07:58.488Z",
    "type": "completion"
   },
   {
    "code": "#distribution of top 10 \ntop3_department = by_department_fullkeywords_reset.groupby('Department Name').sum().sort_values('Count',ascending=False).head(3)\ntop3_department\n\n# ANSI\nplt.figure(10,10)\nANSI = by_department_fullkeywords_reset[by_department_fullkeywords_reset['Department Name']=='ANSI']\nsns.barplot(x='Keyword',y='Count' ,data=ANSI)\nplt.xticks(rotation=90);\n# NSCI\n\n\n# NREM",
    "id": "97ecc06c396a445380a69b7b0f8809a0",
    "idx": 10,
    "time": "2020-11-14T23:08:38.695Z",
    "type": "execution"
   },
   {
    "id": "97ecc06c396a445380a69b7b0f8809a0",
    "time": "2020-11-14T23:08:38.819Z",
    "type": "completion"
   },
   {
    "code": "#distribution of top 10 \ntop3_department = by_department_fullkeywords_reset.groupby('Department Name').sum().sort_values('Count',ascending=False).head(3)\ntop3_department\n\n# ANSI\nplt.figure(figsize=(20,10))\nANSI = by_department_fullkeywords_reset[by_department_fullkeywords_reset['Department Name']=='ANSI']\nsns.barplot(x='Keyword',y='Count' ,data=ANSI)\nplt.xticks(rotation=90);\n# NSCI\n\n\n# NREM",
    "id": "97ecc06c396a445380a69b7b0f8809a0",
    "idx": 10,
    "time": "2020-11-14T23:09:01.117Z",
    "type": "execution"
   },
   {
    "id": "97ecc06c396a445380a69b7b0f8809a0",
    "time": "2020-11-14T23:09:02.531Z",
    "type": "completion"
   },
   {
    "code": "#distribution of top 10 \ntop3_department = by_department_fullkeywords_reset.groupby('Department Name').sum().sort_values('Count',ascending=False).head(3)\ntop3_department\n\n# ANSI\nplt.figure(figsize=(20,10))\nANSI = by_department_fullkeywords_reset[by_department_fullkeywords_reset['Department Name']=='ANSI'].sort_values('Count',ascending=False).head(5)\nsns.barplot(x='Keyword',y='Count' ,data=ANSI)\nplt.xticks(rotation=90);\n# NSCI\n\n\n# NREM",
    "id": "97ecc06c396a445380a69b7b0f8809a0",
    "idx": 10,
    "time": "2020-11-14T23:10:38.967Z",
    "type": "execution"
   },
   {
    "id": "97ecc06c396a445380a69b7b0f8809a0",
    "time": "2020-11-14T23:10:39.437Z",
    "type": "completion"
   },
   {
    "code": "#distribution of top 10 \ntop3_department = by_department_fullkeywords_reset.groupby('Department Name').sum().sort_values('Count',ascending=False).head(3)\ntop3_department\n\n# ANSI\nplt.figure(figsize=(20,10))\nANSI = by_department_fullkeywords_reset[by_department_fullkeywords_reset['Department Name']=='ANSI'].sort_values('Count',ascending=False).head(10)\nsns.barplot(x='Keyword',y='Count' ,data=ANSI)\nplt.xticks(rotation=90);\n# NSCI\n\n\n# NREM",
    "id": "97ecc06c396a445380a69b7b0f8809a0",
    "idx": 10,
    "time": "2020-11-14T23:10:48.689Z",
    "type": "execution"
   },
   {
    "id": "97ecc06c396a445380a69b7b0f8809a0",
    "time": "2020-11-14T23:10:49.209Z",
    "type": "completion"
   },
   {
    "code": "#distribution of top 10 \ntop3_department = by_department_fullkeywords_reset.groupby('Department Name').sum().sort_values('Count',ascending=False).head(3)\ntop3_department\n\n# ANSI\nplt.figure(figsize=(20,10))\nANSI = by_department_fullkeywords_reset[by_department_fullkeywords_reset['Department Name']=='ANSI'].sort_values('Count',ascending=False).head(5)\nsns.barplot(x='Keyword',y='Count' ,data=ANSI)\nplt.xticks(rotation=90);\n# NSCI\n\n\n# NREM",
    "id": "97ecc06c396a445380a69b7b0f8809a0",
    "idx": 10,
    "time": "2020-11-14T23:11:39.470Z",
    "type": "execution"
   },
   {
    "id": "97ecc06c396a445380a69b7b0f8809a0",
    "time": "2020-11-14T23:11:39.966Z",
    "type": "completion"
   },
   {
    "code": "#distribution of top 10 \ntop3_department = by_department_fullkeywords_reset.groupby('Department Name').sum().sort_values('Count',ascending=False).head(3)\ntop3_department\n\n# ANSI\nplt.figure(figsize=(20,10))\nANSI = by_department_fullkeywords_reset[by_department_fullkeywords_reset['Department Name']=='ANSI'].sort_values('Count',ascending=False).head(5)\nsns.barplot(x='Keyword',y='Count' ,data=ANSI)\nplt.xticks(rotation=60);\n# NSCI\n\n\n# NREM",
    "id": "97ecc06c396a445380a69b7b0f8809a0",
    "idx": 10,
    "time": "2020-11-14T23:11:51.618Z",
    "type": "execution"
   },
   {
    "id": "97ecc06c396a445380a69b7b0f8809a0",
    "time": "2020-11-14T23:11:52.231Z",
    "type": "completion"
   },
   {
    "code": "#distribution of top 10 \ntop3_department = by_department_fullkeywords_reset.groupby('Department Name').sum().sort_values('Count',ascending=False).head(3)\ntop3_department\n\n# ANSI\nplt.figure(figsize=(20,10))\nANSI = by_department_fullkeywords_reset[by_department_fullkeywords_reset['Department Name']=='ANSI'].sort_values('Count',ascending=False).head(5)\nsns.barplot(x='Keyword',y='Count' ,data=ANSI)\nplt.xticks(rotation=45);\n\n# NSCI\n\n\n# NREM",
    "id": "97ecc06c396a445380a69b7b0f8809a0",
    "idx": 10,
    "time": "2020-11-14T23:12:01.633Z",
    "type": "execution"
   },
   {
    "id": "97ecc06c396a445380a69b7b0f8809a0",
    "time": "2020-11-14T23:12:02.256Z",
    "type": "completion"
   },
   {
    "code": "#distribution of top 10 \ntop3_department = by_department_fullkeywords_reset.groupby('Department Name').sum().sort_values('Count',ascending=False).head(3)\ntop3_department\n\n# ANSI\nplt.figure(figsize=(20,10))\nANSI = by_department_fullkeywords_reset[by_department_fullkeywords_reset['Department Name']=='ANSI'].sort_values('Count',ascending=False).head(5)\nsns.barplot(x='Keyword',y='Count' ,data=ANSI)\nplt.xticks(rotation=0);\n\n# NSCI\n\n\n# NREM",
    "id": "97ecc06c396a445380a69b7b0f8809a0",
    "idx": 10,
    "time": "2020-11-14T23:12:09.210Z",
    "type": "execution"
   },
   {
    "id": "97ecc06c396a445380a69b7b0f8809a0",
    "time": "2020-11-14T23:12:09.786Z",
    "type": "completion"
   },
   {
    "code": "#distribution of top 10 \ntop3_department = by_department_fullkeywords_reset.groupby('Department Name').sum().sort_values('Count',ascending=False).head(3)\ntop3_department\n\n# ANSI\nplt.figure(figsize=(20,10))\nANSI = by_department_fullkeywords_reset[by_department_fullkeywords_reset['Department Name']=='ANSI'].sort_values('Count',ascending=False).head(5)\nsns.barplot(x='Keyword',y='Count' ,data=ANSI)\nplt.xticks(rotation=0);\n\n# NSCI\nplt.figure(figsize=(20,10))\nNSCI = by_department_fullkeywords_reset[by_department_fullkeywords_reset['Department Name']=='NSCI'].sort_values('Count',ascending=False).head(5)\nsns.barplot(x='Keyword',y='Count' ,data=NSCI)\nplt.xticks(rotation=0);\n\n# NREM\nplt.figure(figsize=(20,10))\nNREM = by_department_fullkeywords_reset[by_department_fullkeywords_reset['Department Name']=='NREM'].sort_values('Count',ascending=False).head(5)\nsns.barplot(x='Keyword',y='Count' ,data=NREM)\nplt.xticks(rotation=0);",
    "id": "97ecc06c396a445380a69b7b0f8809a0",
    "idx": 10,
    "time": "2020-11-14T23:12:55.217Z",
    "type": "execution"
   },
   {
    "id": "97ecc06c396a445380a69b7b0f8809a0",
    "time": "2020-11-14T23:12:56.399Z",
    "type": "completion"
   },
   {
    "code": "\n# NREM\nplt.figure(figsize=(20,10))\nNREM = by_department_fullkeywords_reset[by_department_fullkeywords_reset['Department Name']=='NREM'].sort_values('Count',ascending=False).head(5)\nsns.barplot(x='Keyword',y='Count' ,data=NREM)\nplt.title('NREM')\nplt.xticks(rotation=0);",
    "id": "ca97227b4b7e4e8c822532b938e4fbca",
    "idx": 12,
    "time": "2020-11-14T23:14:08.410Z",
    "type": "execution"
   },
   {
    "id": "ca97227b4b7e4e8c822532b938e4fbca",
    "time": "2020-11-14T23:14:08.876Z",
    "type": "completion"
   },
   {
    "code": "NREM",
    "id": "13265a55e90c4ebb8bbc2475c904b548",
    "idx": 13,
    "time": "2020-11-14T23:14:13.521Z",
    "type": "execution"
   },
   {
    "id": "13265a55e90c4ebb8bbc2475c904b548",
    "time": "2020-11-14T23:14:13.608Z",
    "type": "completion"
   },
   {
    "code": "by_department_fullkeywords_reset[by_department_fullkeywords_reset['Department Name']=='NREM']",
    "id": "f7a9fbaa2a6a412898fd9e4b754b2d4d",
    "idx": 14,
    "time": "2020-11-14T23:14:54.068Z",
    "type": "execution"
   },
   {
    "id": "f7a9fbaa2a6a412898fd9e4b754b2d4d",
    "time": "2020-11-14T23:14:54.158Z",
    "type": "completion"
   },
   {
    "code": "clean_data",
    "id": "1b69d6c15a7744ff841178411d8c4d3c",
    "idx": 14,
    "time": "2020-11-14T23:17:05.207Z",
    "type": "execution"
   },
   {
    "id": "1b69d6c15a7744ff841178411d8c4d3c",
    "time": "2020-11-14T23:17:05.336Z",
    "type": "completion"
   },
   {
    "code": "clean_data.head()",
    "id": "1b69d6c15a7744ff841178411d8c4d3c",
    "idx": 14,
    "time": "2020-11-14T23:17:11.966Z",
    "type": "execution"
   },
   {
    "id": "1b69d6c15a7744ff841178411d8c4d3c",
    "time": "2020-11-14T23:17:12.044Z",
    "type": "completion"
   },
   {
    "code": "clean_data[clean_data['Department Name']=='NREM']",
    "id": "f7a9fbaa2a6a412898fd9e4b754b2d4d",
    "idx": 15,
    "time": "2020-11-14T23:17:21.111Z",
    "type": "execution"
   },
   {
    "id": "f7a9fbaa2a6a412898fd9e4b754b2d4d",
    "time": "2020-11-14T23:17:21.233Z",
    "type": "completion"
   },
   {
    "code": "clean_data[clean_data['Department Name']=='NREM']['Keyword'].value_counts()",
    "id": "f7a9fbaa2a6a412898fd9e4b754b2d4d",
    "idx": 15,
    "time": "2020-11-14T23:17:42.868Z",
    "type": "execution"
   },
   {
    "id": "f7a9fbaa2a6a412898fd9e4b754b2d4d",
    "time": "2020-11-14T23:17:42.959Z",
    "type": "completion"
   },
   {
    "code": "data['Keyword'] = data['Keyword'].apply(lambda x: x[1:-1].split(', '))\ndata",
    "id": "cf48b7362a9c420d88e4a626294190f9",
    "idx": 2,
    "time": "2020-11-14T23:18:41.822Z",
    "type": "execution"
   },
   {
    "id": "cf48b7362a9c420d88e4a626294190f9",
    "time": "2020-11-14T23:18:41.947Z",
    "type": "completion"
   },
   {
    "code": "data = pd.read_csv('Oklahoma_State_University 2017-21 Webscraped.csv')\ndata",
    "id": "5e84dbae4ee44db289e0dee6277ad98e",
    "idx": 1,
    "time": "2020-11-14T23:19:00.907Z",
    "type": "execution"
   },
   {
    "id": "5e84dbae4ee44db289e0dee6277ad98e",
    "time": "2020-11-14T23:19:01.092Z",
    "type": "completion"
   },
   {
    "code": "data['Keyword'] = data['Keyword'].apply(lambda x: x[1:-1].split(', '))\ndata",
    "id": "cf48b7362a9c420d88e4a626294190f9",
    "idx": 2,
    "time": "2020-11-14T23:19:01.689Z",
    "type": "execution"
   },
   {
    "id": "cf48b7362a9c420d88e4a626294190f9",
    "time": "2020-11-14T23:19:01.802Z",
    "type": "completion"
   },
   {
    "code": "clean_data = data.explode('Keyword')",
    "id": "c141f214e226400e956ffd2a3ca64057",
    "idx": 3,
    "time": "2020-11-14T23:19:03.527Z",
    "type": "execution"
   },
   {
    "id": "c141f214e226400e956ffd2a3ca64057",
    "time": "2020-11-14T23:19:03.615Z",
    "type": "completion"
   },
   {
    "code": "# frequency of top 50 keywords\nfrequency_top50 = clean_data['Keyword'].value_counts().to_frame().head(50)",
    "id": "04b62fd5347245998e9a7806ef81fed0",
    "idx": 4,
    "time": "2020-11-14T23:19:03.720Z",
    "type": "execution"
   },
   {
    "id": "04b62fd5347245998e9a7806ef81fed0",
    "time": "2020-11-14T23:19:03.787Z",
    "type": "completion"
   },
   {
    "code": "# frequency of top 50 keywords in each department\nby_department = clean_data[clean_data['Keyword'].isin(frequency_top50.index)].groupby(['Department Name','Keyword']).count()\nfrequency_in_department = by_department.loc[:,['Course Catalogue Number']].rename(columns={'Course Catalogue Number':'Count'})\nfrequency_in_department",
    "id": "7d9dcf6a397543fc8859929e65f4ea42",
    "idx": 5,
    "time": "2020-11-14T23:19:03.897Z",
    "type": "execution"
   },
   {
    "id": "7d9dcf6a397543fc8859929e65f4ea42",
    "time": "2020-11-14T23:19:04.008Z",
    "type": "completion"
   },
   {
    "code": "# top keyword in each department\nby_department_fullkeywords = clean_data.groupby(['Department Name','Keyword']).count().loc[:,['Course Catalogue Number']].rename(columns={'Course Catalogue Number':'Count'})\nby_department_fullkeywords_reset = by_department_fullkeywords.reset_index()\nby_department_fullkeywords_reset.sort_values('Count').groupby('Department Name').last()",
    "id": "2c412c383adc4b9b8e8c838c3de2b397",
    "idx": 6,
    "time": "2020-11-14T23:19:04.083Z",
    "type": "execution"
   },
   {
    "id": "2c412c383adc4b9b8e8c838c3de2b397",
    "time": "2020-11-14T23:19:04.213Z",
    "type": "completion"
   },
   {
    "code": "by_department_fullkeywords_reset.head(10)",
    "id": "3d225de3c86e4b30826fc99fa51fbb98",
    "idx": 7,
    "time": "2020-11-14T23:19:04.272Z",
    "type": "execution"
   },
   {
    "id": "3d225de3c86e4b30826fc99fa51fbb98",
    "time": "2020-11-14T23:19:04.346Z",
    "type": "completion"
   },
   {
    "code": "#distribution of top 10 \ntop3_department = by_department_fullkeywords_reset.groupby('Department Name').sum().sort_values('Count',ascending=False).head(3)\ntop3_department\n\n# ANSI\nplt.figure(figsize=(20,10))\nANSI = by_department_fullkeywords_reset[by_department_fullkeywords_reset['Department Name']=='ANSI'].sort_values('Count',ascending=False).head(5)\nsns.barplot(x='Keyword',y='Count' ,data=ANSI)\nplt.title('ANSI')\nplt.xticks(rotation=0);\n",
    "id": "97ecc06c396a445380a69b7b0f8809a0",
    "idx": 8,
    "time": "2020-11-14T23:19:04.449Z",
    "type": "execution"
   },
   {
    "code": "\n# NSCI\nplt.figure(figsize=(20,10))\nNSCI = by_department_fullkeywords_reset[by_department_fullkeywords_reset['Department Name']=='NSCI'].sort_values('Count',ascending=False).head(5)\nsns.barplot(x='Keyword',y='Count' ,data=NSCI)\nplt.title('NSCI')\nplt.xticks(rotation=0);\n",
    "id": "15b019ee6a3f435ebe656a2df87fe1a9",
    "idx": 9,
    "time": "2020-11-14T23:19:04.645Z",
    "type": "execution"
   },
   {
    "id": "97ecc06c396a445380a69b7b0f8809a0",
    "time": "2020-11-14T23:19:04.938Z",
    "type": "completion"
   },
   {
    "code": "\n# NREM\nplt.figure(figsize=(20,10))\nNREM = by_department_fullkeywords_reset[by_department_fullkeywords_reset['Department Name']=='NREM'].sort_values('Count',ascending=False).head(5)\nsns.barplot(x='Keyword',y='Count' ,data=NREM)\nplt.title('NREM')\nplt.xticks(rotation=0);",
    "id": "ca97227b4b7e4e8c822532b938e4fbca",
    "idx": 10,
    "time": "2020-11-14T23:19:05.286Z",
    "type": "execution"
   },
   {
    "id": "15b019ee6a3f435ebe656a2df87fe1a9",
    "time": "2020-11-14T23:19:05.331Z",
    "type": "completion"
   },
   {
    "id": "ca97227b4b7e4e8c822532b938e4fbca",
    "time": "2020-11-14T23:19:05.761Z",
    "type": "completion"
   },
   {
    "code": "NREM",
    "id": "13265a55e90c4ebb8bbc2475c904b548",
    "idx": 11,
    "time": "2020-11-14T23:19:07.448Z",
    "type": "execution"
   },
   {
    "id": "13265a55e90c4ebb8bbc2475c904b548",
    "time": "2020-11-14T23:19:07.518Z",
    "type": "completion"
   },
   {
    "code": "clean_data.head()",
    "id": "1b69d6c15a7744ff841178411d8c4d3c",
    "idx": 12,
    "time": "2020-11-14T23:19:08.033Z",
    "type": "execution"
   },
   {
    "id": "1b69d6c15a7744ff841178411d8c4d3c",
    "time": "2020-11-14T23:19:08.124Z",
    "type": "completion"
   },
   {
    "code": "clean_data[clean_data['Department Name']=='NREM']['Keyword'].value_counts()",
    "id": "f7a9fbaa2a6a412898fd9e4b754b2d4d",
    "idx": 13,
    "time": "2020-11-14T23:19:08.986Z",
    "type": "execution"
   },
   {
    "id": "f7a9fbaa2a6a412898fd9e4b754b2d4d",
    "time": "2020-11-14T23:19:09.053Z",
    "type": "completion"
   },
   {
    "code": "data = pd.read_csv('Oklahoma_State_University 2017-21 Webscraped.csv')",
    "id": "5e84dbae4ee44db289e0dee6277ad98e",
    "idx": 1,
    "time": "2020-11-14T23:20:03.717Z",
    "type": "execution"
   },
   {
    "id": "5e84dbae4ee44db289e0dee6277ad98e",
    "time": "2020-11-14T23:20:03.848Z",
    "type": "completion"
   },
   {
    "code": "# top keyword in each department\nby_department_fullkeywords = clean_data.groupby(['Department Name','Keyword']).count().loc[:,['Course Catalogue Number']].rename(columns={'Course Catalogue Number':'Count'})\nby_department_fullkeywords_reset = by_department_fullkeywords.reset_index()\nby_department_fullkeywords_reset.sort_values('Count').groupby('Department Name').last()",
    "id": "2c412c383adc4b9b8e8c838c3de2b397",
    "idx": 4,
    "time": "2020-11-14T23:39:48.200Z",
    "type": "execution"
   },
   {
    "id": "2c412c383adc4b9b8e8c838c3de2b397",
    "time": "2020-11-14T23:39:48.353Z",
    "type": "completion"
   },
   {
    "code": "# frequency of top 50 keywords\nfrequency_top50 = clean_data['Keyword'].value_counts().to_frame().head(50)\nfrequency_top50",
    "id": "04b62fd5347245998e9a7806ef81fed0",
    "idx": 2,
    "time": "2020-11-14T23:40:13.594Z",
    "type": "execution"
   },
   {
    "id": "04b62fd5347245998e9a7806ef81fed0",
    "time": "2020-11-14T23:40:13.725Z",
    "type": "completion"
   },
   {
    "code": "# frequency of top 50 keywords\nfrequency_top50 = clean_data['Keyword'].value_counts().to_frame().head(50)\nfrequency_top50.head()",
    "id": "04b62fd5347245998e9a7806ef81fed0",
    "idx": 2,
    "time": "2020-11-14T23:41:07.374Z",
    "type": "execution"
   },
   {
    "id": "04b62fd5347245998e9a7806ef81fed0",
    "time": "2020-11-14T23:41:07.456Z",
    "type": "completion"
   },
   {
    "code": "# frequency of top 50 keywords in each department\nby_department = clean_data[clean_data['Keyword'].isin(frequency_top50.index)].groupby(['Department Name','Keyword']).count()\nfrequency_in_department = by_department.loc[:,['Course Catalogue Number']].rename(columns={'Course Catalogue Number':'Count'})\nfrequency_in_department.head()",
    "id": "7d9dcf6a397543fc8859929e65f4ea42",
    "idx": 3,
    "time": "2020-11-14T23:41:15.302Z",
    "type": "execution"
   },
   {
    "id": "7d9dcf6a397543fc8859929e65f4ea42",
    "time": "2020-11-14T23:41:15.395Z",
    "type": "completion"
   },
   {
    "code": "#distribution of top 10 \ntop3_department = by_department_fullkeywords_reset.groupby('Department Name').sum().sort_values('Count',ascending=False).head(3)\ntop3_department\n\n# ANSI\nplt.figure\nANSI = by_department_fullkeywords_reset[by_department_fullkeywords_reset['Department Name']=='ANSI'].sort_values('Count',ascending=False).head(5)\nsns.barplot(x='Keyword',y='Count' ,data=ANSI)\nplt.title('ANSI')\nplt.xticks(rotation=0);\n",
    "id": "97ecc06c396a445380a69b7b0f8809a0",
    "idx": 5,
    "time": "2020-11-14T23:41:55.565Z",
    "type": "execution"
   },
   {
    "id": "97ecc06c396a445380a69b7b0f8809a0",
    "time": "2020-11-14T23:41:55.853Z",
    "type": "completion"
   },
   {
    "code": "\n# NSCI\nplt.figure(figsize=(20,10))\nNSCI = by_department_fullkeywords_reset[by_department_fullkeywords_reset['Department Name']=='NSCI'].sort_values('Count',ascending=False).head(5)\nsns.barplot(x='Keyword',y='Count' ,data=NSCI)\nplt.title('NSCI')\nplt.xticks(rotation=0);\n",
    "id": "15b019ee6a3f435ebe656a2df87fe1a9",
    "idx": 6,
    "time": "2020-11-14T23:41:59.373Z",
    "type": "execution"
   },
   {
    "id": "15b019ee6a3f435ebe656a2df87fe1a9",
    "time": "2020-11-14T23:41:59.964Z",
    "type": "completion"
   },
   {
    "code": "\n# NREM\nplt.figure(figsize=(20,10))\nNREM = by_department_fullkeywords_reset[by_department_fullkeywords_reset['Department Name']=='NREM'].sort_values('Count',ascending=False).head(5)\nsns.barplot(x='Keyword',y='Count' ,data=NREM)\nplt.title('NREM')\nplt.xticks(rotation=0);",
    "id": "ca97227b4b7e4e8c822532b938e4fbca",
    "idx": 7,
    "time": "2020-11-14T23:41:59.973Z",
    "type": "execution"
   },
   {
    "id": "ca97227b4b7e4e8c822532b938e4fbca",
    "time": "2020-11-14T23:42:00.579Z",
    "type": "completion"
   },
   {
    "code": "\n# NSCI\nplt.figure\nNSCI = by_department_fullkeywords_reset[by_department_fullkeywords_reset['Department Name']=='NSCI'].sort_values('Count',ascending=False).head(5)\nsns.barplot(x='Keyword',y='Count' ,data=NSCI)\nplt.title('NSCI')\nplt.xticks(rotation=0);\n",
    "id": "15b019ee6a3f435ebe656a2df87fe1a9",
    "idx": 6,
    "time": "2020-11-14T23:42:11.351Z",
    "type": "execution"
   },
   {
    "id": "15b019ee6a3f435ebe656a2df87fe1a9",
    "time": "2020-11-14T23:42:11.592Z",
    "type": "completion"
   },
   {
    "code": "\n# NREM\nplt.figure\nNREM = by_department_fullkeywords_reset[by_department_fullkeywords_reset['Department Name']=='NREM'].sort_values('Count',ascending=False).head(5)\nsns.barplot(x='Keyword',y='Count' ,data=NREM)\nplt.title('NREM')\nplt.xticks(rotation=0);",
    "id": "ca97227b4b7e4e8c822532b938e4fbca",
    "idx": 7,
    "time": "2020-11-14T23:42:12.092Z",
    "type": "execution"
   },
   {
    "id": "ca97227b4b7e4e8c822532b938e4fbca",
    "time": "2020-11-14T23:42:12.328Z",
    "type": "completion"
   }
  ],
  "kernelspec": {
   "display_name": "Python 3",
   "language": "python",
   "name": "python3"
  },
  "language_info": {
   "codemirror_mode": {
    "name": "ipython",
    "version": 3
   },
   "file_extension": ".py",
   "mimetype": "text/x-python",
   "name": "python",
   "nbconvert_exporter": "python",
   "pygments_lexer": "ipython3",
   "version": "3.7.6"
  }
 },
 "nbformat": 4,
 "nbformat_minor": 4
}
