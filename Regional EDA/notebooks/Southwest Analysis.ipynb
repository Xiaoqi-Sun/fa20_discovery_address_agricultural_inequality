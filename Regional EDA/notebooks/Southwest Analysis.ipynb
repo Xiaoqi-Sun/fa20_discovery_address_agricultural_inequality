{
 "cells": [
  {
   "cell_type": "code",
   "execution_count": 1,
   "metadata": {},
   "outputs": [],
   "source": [
    "import pandas as pd\n",
    "import numpy as np\n",
    "import matplotlib.pyplot as plt\n",
    "import seaborn as sns\n",
    "import plotly.express as px\n",
    "%matplotlib inline"
   ]
  },
  {
   "cell_type": "code",
   "execution_count": 38,
   "metadata": {},
   "outputs": [],
   "source": [
    "# df1 = pd.read_csv('University of Arkansas Courses 2016-2020.csv')\n",
    "# df2 = pd.read_csv('Auburn.csv')\n",
    "# df3 = pd.read_csv('North_Carolina_State_University_Sample.csv')\n",
    "df1 = pd.read_csv('Prairie_View_A&M_University 2016-20 Webscraped.csv')\n",
    "df2 = pd.read_csv('New Mexico State University Courses 2016-2020.csv')\n",
    "df3 = pd.read_csv('Texas_A&M_University 2016-20 Webscraped.csv')"
   ]
  },
  {
   "cell_type": "code",
   "execution_count": 39,
   "metadata": {},
   "outputs": [
    {
     "data": {
      "text/html": [
       "<div>\n",
       "<style scoped>\n",
       "    .dataframe tbody tr th:only-of-type {\n",
       "        vertical-align: middle;\n",
       "    }\n",
       "\n",
       "    .dataframe tbody tr th {\n",
       "        vertical-align: top;\n",
       "    }\n",
       "\n",
       "    .dataframe thead th {\n",
       "        text-align: right;\n",
       "    }\n",
       "</style>\n",
       "<table border=\"1\" class=\"dataframe\">\n",
       "  <thead>\n",
       "    <tr style=\"text-align: right;\">\n",
       "      <th></th>\n",
       "      <th>Course Catalog Number</th>\n",
       "      <th>Department</th>\n",
       "      <th>Course Name</th>\n",
       "      <th>Description</th>\n",
       "      <th>Graduate/Undergraduate</th>\n",
       "      <th>Lab</th>\n",
       "      <th>Year</th>\n",
       "      <th>Keywords</th>\n",
       "    </tr>\n",
       "  </thead>\n",
       "  <tbody>\n",
       "    <tr>\n",
       "      <th>0</th>\n",
       "      <td>A EN 478</td>\n",
       "      <td>A EN-AGRICULTURAL ENGINEERING (A EN)</td>\n",
       "      <td>Irrigation and Drainage Engineering</td>\n",
       "      <td>Design and operation of surface and sprinkler ...</td>\n",
       "      <td>Undergraduate</td>\n",
       "      <td>False</td>\n",
       "      <td>2018-2019</td>\n",
       "      <td>[' irrigat', ' sprinkler']</td>\n",
       "    </tr>\n",
       "    <tr>\n",
       "      <th>1</th>\n",
       "      <td>ACES 101</td>\n",
       "      <td>ACES-AGRI, CONSUMER &amp; ENV SCIE (ACES)</td>\n",
       "      <td>Agricultural Leadership Development</td>\n",
       "      <td>This course will introduce the student to skil...</td>\n",
       "      <td>Undergraduate</td>\n",
       "      <td>True</td>\n",
       "      <td>2018-2019</td>\n",
       "      <td>['agri']</td>\n",
       "    </tr>\n",
       "    <tr>\n",
       "      <th>2</th>\n",
       "      <td>ACES 201</td>\n",
       "      <td>ACES-AGRI, CONSUMER &amp; ENV SCIE (ACES)</td>\n",
       "      <td>Agricultural Leadership Development</td>\n",
       "      <td>This course will introduce the student to skil...</td>\n",
       "      <td>Undergraduate</td>\n",
       "      <td>True</td>\n",
       "      <td>2018-2019</td>\n",
       "      <td>['agri']</td>\n",
       "    </tr>\n",
       "    <tr>\n",
       "      <th>3</th>\n",
       "      <td>ACES 301</td>\n",
       "      <td>ACES-AGRI, CONSUMER &amp; ENV SCIE (ACES)</td>\n",
       "      <td>Agricultural Leadership Development</td>\n",
       "      <td>This course will introduce the student to skil...</td>\n",
       "      <td>Undergraduate</td>\n",
       "      <td>True</td>\n",
       "      <td>2018-2019</td>\n",
       "      <td>['agri']</td>\n",
       "    </tr>\n",
       "    <tr>\n",
       "      <th>4</th>\n",
       "      <td>ACES 401</td>\n",
       "      <td>ACES-AGRI, CONSUMER &amp; ENV SCIE (ACES)</td>\n",
       "      <td>Agricultural Leadership Development</td>\n",
       "      <td>This course will introduce the student to skil...</td>\n",
       "      <td>Undergraduate</td>\n",
       "      <td>True</td>\n",
       "      <td>2018-2019</td>\n",
       "      <td>['agri']</td>\n",
       "    </tr>\n",
       "    <tr>\n",
       "      <th>...</th>\n",
       "      <td>...</td>\n",
       "      <td>...</td>\n",
       "      <td>...</td>\n",
       "      <td>...</td>\n",
       "      <td>...</td>\n",
       "      <td>...</td>\n",
       "      <td>...</td>\n",
       "      <td>...</td>\n",
       "    </tr>\n",
       "    <tr>\n",
       "      <th>1948</th>\n",
       "      <td>WSAM 470</td>\n",
       "      <td>WSAM-WATER SCIENCE &amp; MGT</td>\n",
       "      <td>Environmental Impacts of Land Use and Contami...</td>\n",
       "      <td>The course will cover the integrated assessmen...</td>\n",
       "      <td>Undergraduate</td>\n",
       "      <td>False</td>\n",
       "      <td>2019-2020</td>\n",
       "      <td>[' contaminant', 'land', ' soil']</td>\n",
       "    </tr>\n",
       "    <tr>\n",
       "      <th>1949</th>\n",
       "      <td>WSAM 551</td>\n",
       "      <td>WSAM-WATER SCIENCE &amp; MGT</td>\n",
       "      <td>Earth Data Retrieval</td>\n",
       "      <td>This course covers topics related to identifyi...</td>\n",
       "      <td>Graduate</td>\n",
       "      <td>False</td>\n",
       "      <td>2019-2020</td>\n",
       "      <td>['land']</td>\n",
       "    </tr>\n",
       "    <tr>\n",
       "      <th>1950</th>\n",
       "      <td>WSAM 575</td>\n",
       "      <td>WSAM-WATER SCIENCE &amp; MGT</td>\n",
       "      <td>Climate Studies, Water and Society</td>\n",
       "      <td>The course provides a brief description of the...</td>\n",
       "      <td>Graduate</td>\n",
       "      <td>True</td>\n",
       "      <td>2019-2020</td>\n",
       "      <td>['agri']</td>\n",
       "    </tr>\n",
       "    <tr>\n",
       "      <th>1951</th>\n",
       "      <td>WSAM 585</td>\n",
       "      <td>WSAM-WATER SCIENCE &amp; MGT</td>\n",
       "      <td>Land Cover Analysis for Natural Resources</td>\n",
       "      <td>This course is designed to help students under...</td>\n",
       "      <td>Graduate</td>\n",
       "      <td>False</td>\n",
       "      <td>2019-2020</td>\n",
       "      <td>[' animal', 'land']</td>\n",
       "    </tr>\n",
       "    <tr>\n",
       "      <th>1952</th>\n",
       "      <td>WSAM 589</td>\n",
       "      <td>WSAM-WATER SCIENCE &amp; MGT</td>\n",
       "      <td>Landscape Hydrology Modeling</td>\n",
       "      <td>Understand the landscape scale of hydrologic c...</td>\n",
       "      <td>Graduate</td>\n",
       "      <td>True</td>\n",
       "      <td>2019-2020</td>\n",
       "      <td>['hydrologic cycle', 'land']</td>\n",
       "    </tr>\n",
       "  </tbody>\n",
       "</table>\n",
       "<p>1953 rows × 8 columns</p>\n",
       "</div>"
      ],
      "text/plain": [
       "     Course Catalog Number                             Department  \\\n",
       "0                 A EN 478   A EN-AGRICULTURAL ENGINEERING (A EN)   \n",
       "1                 ACES 101  ACES-AGRI, CONSUMER & ENV SCIE (ACES)   \n",
       "2                 ACES 201  ACES-AGRI, CONSUMER & ENV SCIE (ACES)   \n",
       "3                 ACES 301  ACES-AGRI, CONSUMER & ENV SCIE (ACES)   \n",
       "4                 ACES 401  ACES-AGRI, CONSUMER & ENV SCIE (ACES)   \n",
       "...                    ...                                    ...   \n",
       "1948              WSAM 470               WSAM-WATER SCIENCE & MGT   \n",
       "1949              WSAM 551               WSAM-WATER SCIENCE & MGT   \n",
       "1950              WSAM 575               WSAM-WATER SCIENCE & MGT   \n",
       "1951              WSAM 585               WSAM-WATER SCIENCE & MGT   \n",
       "1952              WSAM 589               WSAM-WATER SCIENCE & MGT   \n",
       "\n",
       "                                            Course Name  \\\n",
       "0                   Irrigation and Drainage Engineering   \n",
       "1                   Agricultural Leadership Development   \n",
       "2                   Agricultural Leadership Development   \n",
       "3                   Agricultural Leadership Development   \n",
       "4                   Agricultural Leadership Development   \n",
       "...                                                 ...   \n",
       "1948   Environmental Impacts of Land Use and Contami...   \n",
       "1949                               Earth Data Retrieval   \n",
       "1950                 Climate Studies, Water and Society   \n",
       "1951          Land Cover Analysis for Natural Resources   \n",
       "1952                       Landscape Hydrology Modeling   \n",
       "\n",
       "                                            Description  \\\n",
       "0     Design and operation of surface and sprinkler ...   \n",
       "1     This course will introduce the student to skil...   \n",
       "2     This course will introduce the student to skil...   \n",
       "3     This course will introduce the student to skil...   \n",
       "4     This course will introduce the student to skil...   \n",
       "...                                                 ...   \n",
       "1948  The course will cover the integrated assessmen...   \n",
       "1949  This course covers topics related to identifyi...   \n",
       "1950  The course provides a brief description of the...   \n",
       "1951  This course is designed to help students under...   \n",
       "1952  Understand the landscape scale of hydrologic c...   \n",
       "\n",
       "     Graduate/Undergraduate    Lab       Year  \\\n",
       "0             Undergraduate  False  2018-2019   \n",
       "1             Undergraduate   True  2018-2019   \n",
       "2             Undergraduate   True  2018-2019   \n",
       "3             Undergraduate   True  2018-2019   \n",
       "4             Undergraduate   True  2018-2019   \n",
       "...                     ...    ...        ...   \n",
       "1948          Undergraduate  False  2019-2020   \n",
       "1949               Graduate  False  2019-2020   \n",
       "1950               Graduate   True  2019-2020   \n",
       "1951               Graduate  False  2019-2020   \n",
       "1952               Graduate   True  2019-2020   \n",
       "\n",
       "                               Keywords  \n",
       "0            [' irrigat', ' sprinkler']  \n",
       "1                              ['agri']  \n",
       "2                              ['agri']  \n",
       "3                              ['agri']  \n",
       "4                              ['agri']  \n",
       "...                                 ...  \n",
       "1948  [' contaminant', 'land', ' soil']  \n",
       "1949                           ['land']  \n",
       "1950                           ['agri']  \n",
       "1951                [' animal', 'land']  \n",
       "1952       ['hydrologic cycle', 'land']  \n",
       "\n",
       "[1953 rows x 8 columns]"
      ]
     },
     "execution_count": 39,
     "metadata": {},
     "output_type": "execute_result"
    }
   ],
   "source": [
    "df2"
   ]
  },
  {
   "cell_type": "code",
   "execution_count": 40,
   "metadata": {},
   "outputs": [],
   "source": [
    "df1 = df1.iloc[:,[0,7]]\n",
    "df2 = df2.iloc[:,[1,7]]\n",
    "df3 = df3.iloc[:,[0,7]]"
   ]
  },
  {
   "cell_type": "code",
   "execution_count": 41,
   "metadata": {},
   "outputs": [
    {
     "name": "stderr",
     "output_type": "stream",
     "text": [
      "/Users/AlWu/opt/anaconda3/lib/python3.7/site-packages/ipykernel_launcher.py:2: SettingWithCopyWarning:\n",
      "\n",
      "\n",
      "A value is trying to be set on a copy of a slice from a DataFrame.\n",
      "Try using .loc[row_indexer,col_indexer] = value instead\n",
      "\n",
      "See the caveats in the documentation: https://pandas.pydata.org/pandas-docs/stable/user_guide/indexing.html#returning-a-view-versus-a-copy\n",
      "\n"
     ]
    }
   ],
   "source": [
    "df1['University Name'] = ['Prairie View A&M University' for x in range(len(df1))]\n",
    "df2['University Name'] = ['New Mexico State University' for x in range(len(df2))]\n",
    "df3['University Name'] = ['Texas A&M University' for x in range(len(df3))]"
   ]
  },
  {
   "cell_type": "code",
   "execution_count": 42,
   "metadata": {},
   "outputs": [
    {
     "data": {
      "text/html": [
       "<div>\n",
       "<style scoped>\n",
       "    .dataframe tbody tr th:only-of-type {\n",
       "        vertical-align: middle;\n",
       "    }\n",
       "\n",
       "    .dataframe tbody tr th {\n",
       "        vertical-align: top;\n",
       "    }\n",
       "\n",
       "    .dataframe thead th {\n",
       "        text-align: right;\n",
       "    }\n",
       "</style>\n",
       "<table border=\"1\" class=\"dataframe\">\n",
       "  <thead>\n",
       "    <tr style=\"text-align: right;\">\n",
       "      <th></th>\n",
       "      <th>Department</th>\n",
       "      <th>Keywords</th>\n",
       "      <th>University Name</th>\n",
       "    </tr>\n",
       "  </thead>\n",
       "  <tbody>\n",
       "    <tr>\n",
       "      <th>0</th>\n",
       "      <td>Ag and Human Resources (AGHR)</td>\n",
       "      <td>['food', 'land']</td>\n",
       "      <td>Prairie View A&amp;M University</td>\n",
       "    </tr>\n",
       "    <tr>\n",
       "      <th>1</th>\n",
       "      <td>Ag and Human Resources (AGHR)</td>\n",
       "      <td>['agri']</td>\n",
       "      <td>Prairie View A&amp;M University</td>\n",
       "    </tr>\n",
       "    <tr>\n",
       "      <th>2</th>\n",
       "      <td>Ag and Human Resources (AGHR)</td>\n",
       "      <td>['agri']</td>\n",
       "      <td>Prairie View A&amp;M University</td>\n",
       "    </tr>\n",
       "    <tr>\n",
       "      <th>3</th>\n",
       "      <td>Ag and Human Resources (AGHR)</td>\n",
       "      <td>['agri', 'food']</td>\n",
       "      <td>Prairie View A&amp;M University</td>\n",
       "    </tr>\n",
       "    <tr>\n",
       "      <th>4</th>\n",
       "      <td>Ag and Human Resources (AGHR)</td>\n",
       "      <td>['agri', 'food']</td>\n",
       "      <td>Prairie View A&amp;M University</td>\n",
       "    </tr>\n",
       "    <tr>\n",
       "      <th>...</th>\n",
       "      <td>...</td>\n",
       "      <td>...</td>\n",
       "      <td>...</td>\n",
       "    </tr>\n",
       "    <tr>\n",
       "      <th>6585</th>\n",
       "      <td>WFSC-Wildlife &amp; Fisheries Sci (WFSC)</td>\n",
       "      <td>[' fish']</td>\n",
       "      <td>Texas A&amp;M University</td>\n",
       "    </tr>\n",
       "    <tr>\n",
       "      <th>6586</th>\n",
       "      <td>WFSC-Wildlife &amp; Fisheries Sci (WFSC)</td>\n",
       "      <td>[' fish']</td>\n",
       "      <td>Texas A&amp;M University</td>\n",
       "    </tr>\n",
       "    <tr>\n",
       "      <th>6587</th>\n",
       "      <td>WFSC-Wildlife &amp; Fisheries Sci (WFSC)</td>\n",
       "      <td>[' fish']</td>\n",
       "      <td>Texas A&amp;M University</td>\n",
       "    </tr>\n",
       "    <tr>\n",
       "      <th>6588</th>\n",
       "      <td>WFSC-Wildlife &amp; Fisheries Sci (WFSC)</td>\n",
       "      <td>[' fish']</td>\n",
       "      <td>Texas A&amp;M University</td>\n",
       "    </tr>\n",
       "    <tr>\n",
       "      <th>6589</th>\n",
       "      <td>WGST - Women's &amp;Gender Studies (WGST)</td>\n",
       "      <td>[' amendment']</td>\n",
       "      <td>Texas A&amp;M University</td>\n",
       "    </tr>\n",
       "  </tbody>\n",
       "</table>\n",
       "<p>9424 rows × 3 columns</p>\n",
       "</div>"
      ],
      "text/plain": [
       "                                 Department          Keywords  \\\n",
       "0             Ag and Human Resources (AGHR)  ['food', 'land']   \n",
       "1             Ag and Human Resources (AGHR)          ['agri']   \n",
       "2             Ag and Human Resources (AGHR)          ['agri']   \n",
       "3             Ag and Human Resources (AGHR)  ['agri', 'food']   \n",
       "4             Ag and Human Resources (AGHR)  ['agri', 'food']   \n",
       "...                                     ...               ...   \n",
       "6585   WFSC-Wildlife & Fisheries Sci (WFSC)         [' fish']   \n",
       "6586   WFSC-Wildlife & Fisheries Sci (WFSC)         [' fish']   \n",
       "6587   WFSC-Wildlife & Fisheries Sci (WFSC)         [' fish']   \n",
       "6588   WFSC-Wildlife & Fisheries Sci (WFSC)         [' fish']   \n",
       "6589  WGST - Women's &Gender Studies (WGST)    [' amendment']   \n",
       "\n",
       "                  University Name  \n",
       "0     Prairie View A&M University  \n",
       "1     Prairie View A&M University  \n",
       "2     Prairie View A&M University  \n",
       "3     Prairie View A&M University  \n",
       "4     Prairie View A&M University  \n",
       "...                           ...  \n",
       "6585         Texas A&M University  \n",
       "6586         Texas A&M University  \n",
       "6587         Texas A&M University  \n",
       "6588         Texas A&M University  \n",
       "6589         Texas A&M University  \n",
       "\n",
       "[9424 rows x 3 columns]"
      ]
     },
     "execution_count": 42,
     "metadata": {},
     "output_type": "execute_result"
    }
   ],
   "source": [
    "full = df1.append(df2).append(df3)\n",
    "full"
   ]
  },
  {
   "cell_type": "code",
   "execution_count": 43,
   "metadata": {},
   "outputs": [
    {
     "data": {
      "text/html": [
       "<div>\n",
       "<style scoped>\n",
       "    .dataframe tbody tr th:only-of-type {\n",
       "        vertical-align: middle;\n",
       "    }\n",
       "\n",
       "    .dataframe tbody tr th {\n",
       "        vertical-align: top;\n",
       "    }\n",
       "\n",
       "    .dataframe thead th {\n",
       "        text-align: right;\n",
       "    }\n",
       "</style>\n",
       "<table border=\"1\" class=\"dataframe\">\n",
       "  <thead>\n",
       "    <tr style=\"text-align: right;\">\n",
       "      <th></th>\n",
       "      <th>Department</th>\n",
       "      <th>Keywords</th>\n",
       "      <th>University Name</th>\n",
       "    </tr>\n",
       "  </thead>\n",
       "  <tbody>\n",
       "    <tr>\n",
       "      <th>0</th>\n",
       "      <td>Ag and Human Resources (AGHR)</td>\n",
       "      <td>'food'</td>\n",
       "      <td>Prairie View A&amp;M University</td>\n",
       "    </tr>\n",
       "    <tr>\n",
       "      <th>0</th>\n",
       "      <td>Ag and Human Resources (AGHR)</td>\n",
       "      <td>'land'</td>\n",
       "      <td>Prairie View A&amp;M University</td>\n",
       "    </tr>\n",
       "    <tr>\n",
       "      <th>1</th>\n",
       "      <td>Ag and Human Resources (AGHR)</td>\n",
       "      <td>'agri'</td>\n",
       "      <td>Prairie View A&amp;M University</td>\n",
       "    </tr>\n",
       "    <tr>\n",
       "      <th>2</th>\n",
       "      <td>Ag and Human Resources (AGHR)</td>\n",
       "      <td>'agri'</td>\n",
       "      <td>Prairie View A&amp;M University</td>\n",
       "    </tr>\n",
       "    <tr>\n",
       "      <th>3</th>\n",
       "      <td>Ag and Human Resources (AGHR)</td>\n",
       "      <td>'agri'</td>\n",
       "      <td>Prairie View A&amp;M University</td>\n",
       "    </tr>\n",
       "    <tr>\n",
       "      <th>...</th>\n",
       "      <td>...</td>\n",
       "      <td>...</td>\n",
       "      <td>...</td>\n",
       "    </tr>\n",
       "    <tr>\n",
       "      <th>6585</th>\n",
       "      <td>WFSC-Wildlife &amp; Fisheries Sci (WFSC)</td>\n",
       "      <td>' fish'</td>\n",
       "      <td>Texas A&amp;M University</td>\n",
       "    </tr>\n",
       "    <tr>\n",
       "      <th>6586</th>\n",
       "      <td>WFSC-Wildlife &amp; Fisheries Sci (WFSC)</td>\n",
       "      <td>' fish'</td>\n",
       "      <td>Texas A&amp;M University</td>\n",
       "    </tr>\n",
       "    <tr>\n",
       "      <th>6587</th>\n",
       "      <td>WFSC-Wildlife &amp; Fisheries Sci (WFSC)</td>\n",
       "      <td>' fish'</td>\n",
       "      <td>Texas A&amp;M University</td>\n",
       "    </tr>\n",
       "    <tr>\n",
       "      <th>6588</th>\n",
       "      <td>WFSC-Wildlife &amp; Fisheries Sci (WFSC)</td>\n",
       "      <td>' fish'</td>\n",
       "      <td>Texas A&amp;M University</td>\n",
       "    </tr>\n",
       "    <tr>\n",
       "      <th>6589</th>\n",
       "      <td>WGST - Women's &amp;Gender Studies (WGST)</td>\n",
       "      <td>' amendment'</td>\n",
       "      <td>Texas A&amp;M University</td>\n",
       "    </tr>\n",
       "  </tbody>\n",
       "</table>\n",
       "<p>16269 rows × 3 columns</p>\n",
       "</div>"
      ],
      "text/plain": [
       "                                 Department      Keywords  \\\n",
       "0             Ag and Human Resources (AGHR)        'food'   \n",
       "0             Ag and Human Resources (AGHR)        'land'   \n",
       "1             Ag and Human Resources (AGHR)        'agri'   \n",
       "2             Ag and Human Resources (AGHR)        'agri'   \n",
       "3             Ag and Human Resources (AGHR)        'agri'   \n",
       "...                                     ...           ...   \n",
       "6585   WFSC-Wildlife & Fisheries Sci (WFSC)       ' fish'   \n",
       "6586   WFSC-Wildlife & Fisheries Sci (WFSC)       ' fish'   \n",
       "6587   WFSC-Wildlife & Fisheries Sci (WFSC)       ' fish'   \n",
       "6588   WFSC-Wildlife & Fisheries Sci (WFSC)       ' fish'   \n",
       "6589  WGST - Women's &Gender Studies (WGST)  ' amendment'   \n",
       "\n",
       "                  University Name  \n",
       "0     Prairie View A&M University  \n",
       "0     Prairie View A&M University  \n",
       "1     Prairie View A&M University  \n",
       "2     Prairie View A&M University  \n",
       "3     Prairie View A&M University  \n",
       "...                           ...  \n",
       "6585         Texas A&M University  \n",
       "6586         Texas A&M University  \n",
       "6587         Texas A&M University  \n",
       "6588         Texas A&M University  \n",
       "6589         Texas A&M University  \n",
       "\n",
       "[16269 rows x 3 columns]"
      ]
     },
     "execution_count": 43,
     "metadata": {},
     "output_type": "execute_result"
    }
   ],
   "source": [
    "full['Keywords'] = full['Keywords'].apply(lambda x: x[1:-1].split(', '))\n",
    "full_exploded = full.explode('Keywords')\n",
    "full_exploded"
   ]
  },
  {
   "cell_type": "code",
   "execution_count": 44,
   "metadata": {},
   "outputs": [
    {
     "data": {
      "text/html": [
       "<div>\n",
       "<style scoped>\n",
       "    .dataframe tbody tr th:only-of-type {\n",
       "        vertical-align: middle;\n",
       "    }\n",
       "\n",
       "    .dataframe tbody tr th {\n",
       "        vertical-align: top;\n",
       "    }\n",
       "\n",
       "    .dataframe thead th {\n",
       "        text-align: right;\n",
       "    }\n",
       "</style>\n",
       "<table border=\"1\" class=\"dataframe\">\n",
       "  <thead>\n",
       "    <tr style=\"text-align: right;\">\n",
       "      <th></th>\n",
       "      <th>Keywords</th>\n",
       "    </tr>\n",
       "  </thead>\n",
       "  <tbody>\n",
       "    <tr>\n",
       "      <th>'agri'</th>\n",
       "      <td>2061</td>\n",
       "    </tr>\n",
       "    <tr>\n",
       "      <th>'land'</th>\n",
       "      <td>1506</td>\n",
       "    </tr>\n",
       "    <tr>\n",
       "      <th>'food'</th>\n",
       "      <td>1156</td>\n",
       "    </tr>\n",
       "    <tr>\n",
       "      <th>' animal'</th>\n",
       "      <td>1047</td>\n",
       "    </tr>\n",
       "    <tr>\n",
       "      <th>' nutri'</th>\n",
       "      <td>993</td>\n",
       "    </tr>\n",
       "    <tr>\n",
       "      <th>' soil'</th>\n",
       "      <td>546</td>\n",
       "    </tr>\n",
       "    <tr>\n",
       "      <th>'crop'</th>\n",
       "      <td>449</td>\n",
       "    </tr>\n",
       "    <tr>\n",
       "      <th>' fish'</th>\n",
       "      <td>348</td>\n",
       "    </tr>\n",
       "    <tr>\n",
       "      <th>' metaboli'</th>\n",
       "      <td>299</td>\n",
       "    </tr>\n",
       "    <tr>\n",
       "      <th>'farm'</th>\n",
       "      <td>255</td>\n",
       "    </tr>\n",
       "    <tr>\n",
       "      <th>' horticult'</th>\n",
       "      <td>247</td>\n",
       "    </tr>\n",
       "    <tr>\n",
       "      <th>'breed'</th>\n",
       "      <td>221</td>\n",
       "    </tr>\n",
       "    <tr>\n",
       "      <th>' pest'</th>\n",
       "      <td>199</td>\n",
       "    </tr>\n",
       "    <tr>\n",
       "      <th>' diet'</th>\n",
       "      <td>191</td>\n",
       "    </tr>\n",
       "    <tr>\n",
       "      <th>'agro'</th>\n",
       "      <td>190</td>\n",
       "    </tr>\n",
       "    <tr>\n",
       "      <th>' protein'</th>\n",
       "      <td>190</td>\n",
       "    </tr>\n",
       "    <tr>\n",
       "      <th>' fiber'</th>\n",
       "      <td>188</td>\n",
       "    </tr>\n",
       "    <tr>\n",
       "      <th>' poultry '</th>\n",
       "      <td>181</td>\n",
       "    </tr>\n",
       "    <tr>\n",
       "      <th>' rural '</th>\n",
       "      <td>154</td>\n",
       "    </tr>\n",
       "    <tr>\n",
       "      <th>'management practice'</th>\n",
       "      <td>143</td>\n",
       "    </tr>\n",
       "    <tr>\n",
       "      <th>' meat'</th>\n",
       "      <td>138</td>\n",
       "    </tr>\n",
       "    <tr>\n",
       "      <th>' livestock '</th>\n",
       "      <td>136</td>\n",
       "    </tr>\n",
       "    <tr>\n",
       "      <th>' cattle'</th>\n",
       "      <td>133</td>\n",
       "    </tr>\n",
       "    <tr>\n",
       "      <th>' rangeland'</th>\n",
       "      <td>125</td>\n",
       "    </tr>\n",
       "    <tr>\n",
       "      <th>' beef'</th>\n",
       "      <td>119</td>\n",
       "    </tr>\n",
       "    <tr>\n",
       "      <th>' carbohydrate'</th>\n",
       "      <td>117</td>\n",
       "    </tr>\n",
       "    <tr>\n",
       "      <th>'harvest'</th>\n",
       "      <td>110</td>\n",
       "    </tr>\n",
       "    <tr>\n",
       "      <th>' refrigerat'</th>\n",
       "      <td>104</td>\n",
       "    </tr>\n",
       "    <tr>\n",
       "      <th>' irrigat'</th>\n",
       "      <td>99</td>\n",
       "    </tr>\n",
       "    <tr>\n",
       "      <th>' contaminant'</th>\n",
       "      <td>94</td>\n",
       "    </tr>\n",
       "    <tr>\n",
       "      <th>' dairy '</th>\n",
       "      <td>90</td>\n",
       "    </tr>\n",
       "    <tr>\n",
       "      <th>' greenhouse'</th>\n",
       "      <td>85</td>\n",
       "    </tr>\n",
       "    <tr>\n",
       "      <th>' lipid'</th>\n",
       "      <td>84</td>\n",
       "    </tr>\n",
       "    <tr>\n",
       "      <th>'gastro'</th>\n",
       "      <td>81</td>\n",
       "    </tr>\n",
       "    <tr>\n",
       "      <th>' productivity '</th>\n",
       "      <td>80</td>\n",
       "    </tr>\n",
       "    <tr>\n",
       "      <th>' feeding '</th>\n",
       "      <td>79</td>\n",
       "    </tr>\n",
       "    <tr>\n",
       "      <th>'alcohol'</th>\n",
       "      <td>77</td>\n",
       "    </tr>\n",
       "    <tr>\n",
       "      <th>' swine'</th>\n",
       "      <td>73</td>\n",
       "    </tr>\n",
       "    <tr>\n",
       "      <th>' ranch'</th>\n",
       "      <td>69</td>\n",
       "    </tr>\n",
       "    <tr>\n",
       "      <th>' hospitality '</th>\n",
       "      <td>67</td>\n",
       "    </tr>\n",
       "    <tr>\n",
       "      <th>' plum'</th>\n",
       "      <td>66</td>\n",
       "    </tr>\n",
       "    <tr>\n",
       "      <th>' herb'</th>\n",
       "      <td>66</td>\n",
       "    </tr>\n",
       "    <tr>\n",
       "      <th>' slavery '</th>\n",
       "      <td>65</td>\n",
       "    </tr>\n",
       "    <tr>\n",
       "      <th>' root '</th>\n",
       "      <td>64</td>\n",
       "    </tr>\n",
       "    <tr>\n",
       "      <th>' weed'</th>\n",
       "      <td>62</td>\n",
       "    </tr>\n",
       "    <tr>\n",
       "      <th>' incubat'</th>\n",
       "      <td>60</td>\n",
       "    </tr>\n",
       "    <tr>\n",
       "      <th>'garden'</th>\n",
       "      <td>60</td>\n",
       "    </tr>\n",
       "    <tr>\n",
       "      <th>'botany'</th>\n",
       "      <td>59</td>\n",
       "    </tr>\n",
       "    <tr>\n",
       "      <th>' vegetable'</th>\n",
       "      <td>59</td>\n",
       "    </tr>\n",
       "    <tr>\n",
       "      <th>' fruit'</th>\n",
       "      <td>57</td>\n",
       "    </tr>\n",
       "  </tbody>\n",
       "</table>\n",
       "</div>"
      ],
      "text/plain": [
       "                       Keywords\n",
       "'agri'                     2061\n",
       "'land'                     1506\n",
       "'food'                     1156\n",
       "' animal'                  1047\n",
       "' nutri'                    993\n",
       "' soil'                     546\n",
       "'crop'                      449\n",
       "' fish'                     348\n",
       "' metaboli'                 299\n",
       "'farm'                      255\n",
       "' horticult'                247\n",
       "'breed'                     221\n",
       "' pest'                     199\n",
       "' diet'                     191\n",
       "'agro'                      190\n",
       "' protein'                  190\n",
       "' fiber'                    188\n",
       "' poultry '                 181\n",
       "' rural '                   154\n",
       "'management practice'       143\n",
       "' meat'                     138\n",
       "' livestock '               136\n",
       "' cattle'                   133\n",
       "' rangeland'                125\n",
       "' beef'                     119\n",
       "' carbohydrate'             117\n",
       "'harvest'                   110\n",
       "' refrigerat'               104\n",
       "' irrigat'                   99\n",
       "' contaminant'               94\n",
       "' dairy '                    90\n",
       "' greenhouse'                85\n",
       "' lipid'                     84\n",
       "'gastro'                     81\n",
       "' productivity '             80\n",
       "' feeding '                  79\n",
       "'alcohol'                    77\n",
       "' swine'                     73\n",
       "' ranch'                     69\n",
       "' hospitality '              67\n",
       "' plum'                      66\n",
       "' herb'                      66\n",
       "' slavery '                  65\n",
       "' root '                     64\n",
       "' weed'                      62\n",
       "' incubat'                   60\n",
       "'garden'                     60\n",
       "'botany'                     59\n",
       "' vegetable'                 59\n",
       "' fruit'                     57"
      ]
     },
     "execution_count": 44,
     "metadata": {},
     "output_type": "execute_result"
    }
   ],
   "source": [
    "frequency_top50 = full_exploded['Keywords'].value_counts().to_frame().head(50)\n",
    "frequency_top50"
   ]
  },
  {
   "cell_type": "code",
   "execution_count": 45,
   "metadata": {},
   "outputs": [
    {
     "data": {
      "text/html": [
       "<div>\n",
       "<style scoped>\n",
       "    .dataframe tbody tr th:only-of-type {\n",
       "        vertical-align: middle;\n",
       "    }\n",
       "\n",
       "    .dataframe tbody tr th {\n",
       "        vertical-align: top;\n",
       "    }\n",
       "\n",
       "    .dataframe thead th {\n",
       "        text-align: right;\n",
       "    }\n",
       "</style>\n",
       "<table border=\"1\" class=\"dataframe\">\n",
       "  <thead>\n",
       "    <tr style=\"text-align: right;\">\n",
       "      <th></th>\n",
       "      <th></th>\n",
       "      <th>Department</th>\n",
       "    </tr>\n",
       "    <tr>\n",
       "      <th>Keywords</th>\n",
       "      <th>University Name</th>\n",
       "      <th></th>\n",
       "    </tr>\n",
       "  </thead>\n",
       "  <tbody>\n",
       "    <tr>\n",
       "      <th></th>\n",
       "      <th>Prairie View A&amp;M University</th>\n",
       "      <td>1</td>\n",
       "    </tr>\n",
       "    <tr>\n",
       "      <th>' FDA '</th>\n",
       "      <th>Texas A&amp;M University</th>\n",
       "      <td>24</td>\n",
       "    </tr>\n",
       "    <tr>\n",
       "      <th>' IPM '</th>\n",
       "      <th>Texas A&amp;M University</th>\n",
       "      <td>16</td>\n",
       "    </tr>\n",
       "    <tr>\n",
       "      <th rowspan=\"2\" valign=\"top\">' additives '</th>\n",
       "      <th>Prairie View A&amp;M University</th>\n",
       "      <td>4</td>\n",
       "    </tr>\n",
       "    <tr>\n",
       "      <th>Texas A&amp;M University</th>\n",
       "      <td>8</td>\n",
       "    </tr>\n",
       "    <tr>\n",
       "      <th rowspan=\"2\" valign=\"top\">' adult health '</th>\n",
       "      <th>New Mexico State University</th>\n",
       "      <td>3</td>\n",
       "    </tr>\n",
       "    <tr>\n",
       "      <th>Prairie View A&amp;M University</th>\n",
       "      <td>16</td>\n",
       "    </tr>\n",
       "    <tr>\n",
       "      <th>' african diaspora '</th>\n",
       "      <th>Texas A&amp;M University</th>\n",
       "      <td>48</td>\n",
       "    </tr>\n",
       "    <tr>\n",
       "      <th rowspan=\"2\" valign=\"top\">' agrarian '</th>\n",
       "      <th>New Mexico State University</th>\n",
       "      <td>6</td>\n",
       "    </tr>\n",
       "    <tr>\n",
       "      <th>Texas A&amp;M University</th>\n",
       "      <td>24</td>\n",
       "    </tr>\n",
       "    <tr>\n",
       "      <th rowspan=\"3\" valign=\"top\">' amendment'</th>\n",
       "      <th>New Mexico State University</th>\n",
       "      <td>5</td>\n",
       "    </tr>\n",
       "    <tr>\n",
       "      <th>Prairie View A&amp;M University</th>\n",
       "      <td>12</td>\n",
       "    </tr>\n",
       "    <tr>\n",
       "      <th>Texas A&amp;M University</th>\n",
       "      <td>36</td>\n",
       "    </tr>\n",
       "    <tr>\n",
       "      <th>' amino acid'</th>\n",
       "      <th>New Mexico State University</th>\n",
       "      <td>6</td>\n",
       "    </tr>\n",
       "    <tr>\n",
       "      <th rowspan=\"3\" valign=\"top\">' animal'</th>\n",
       "      <th>New Mexico State University</th>\n",
       "      <td>236</td>\n",
       "    </tr>\n",
       "    <tr>\n",
       "      <th>Prairie View A&amp;M University</th>\n",
       "      <td>77</td>\n",
       "    </tr>\n",
       "    <tr>\n",
       "      <th>Texas A&amp;M University</th>\n",
       "      <td>734</td>\n",
       "    </tr>\n",
       "    <tr>\n",
       "      <th>' anthropogenic '</th>\n",
       "      <th>New Mexico State University</th>\n",
       "      <td>6</td>\n",
       "    </tr>\n",
       "    <tr>\n",
       "      <th>' apple'</th>\n",
       "      <th>Prairie View A&amp;M University</th>\n",
       "      <td>17</td>\n",
       "    </tr>\n",
       "    <tr>\n",
       "      <th>' aquaculture'</th>\n",
       "      <th>Texas A&amp;M University</th>\n",
       "      <td>36</td>\n",
       "    </tr>\n",
       "    <tr>\n",
       "      <th rowspan=\"2\" valign=\"top\">' aquifer '</th>\n",
       "      <th>New Mexico State University</th>\n",
       "      <td>9</td>\n",
       "    </tr>\n",
       "    <tr>\n",
       "      <th>Texas A&amp;M University</th>\n",
       "      <td>20</td>\n",
       "    </tr>\n",
       "    <tr>\n",
       "      <th>' artificial insemination '</th>\n",
       "      <th>Texas A&amp;M University</th>\n",
       "      <td>8</td>\n",
       "    </tr>\n",
       "    <tr>\n",
       "      <th>' autecolog'</th>\n",
       "      <th>Texas A&amp;M University</th>\n",
       "      <td>8</td>\n",
       "    </tr>\n",
       "    <tr>\n",
       "      <th rowspan=\"2\" valign=\"top\">' avian '</th>\n",
       "      <th>New Mexico State University</th>\n",
       "      <td>6</td>\n",
       "    </tr>\n",
       "    <tr>\n",
       "      <th>Texas A&amp;M University</th>\n",
       "      <td>48</td>\n",
       "    </tr>\n",
       "    <tr>\n",
       "      <th rowspan=\"2\" valign=\"top\">' baking '</th>\n",
       "      <th>New Mexico State University</th>\n",
       "      <td>12</td>\n",
       "    </tr>\n",
       "    <tr>\n",
       "      <th>Texas A&amp;M University</th>\n",
       "      <td>8</td>\n",
       "    </tr>\n",
       "    <tr>\n",
       "      <th>' banana'</th>\n",
       "      <th>Texas A&amp;M University</th>\n",
       "      <td>8</td>\n",
       "    </tr>\n",
       "    <tr>\n",
       "      <th>' bee '</th>\n",
       "      <th>Texas A&amp;M University</th>\n",
       "      <td>8</td>\n",
       "    </tr>\n",
       "    <tr>\n",
       "      <th rowspan=\"3\" valign=\"top\">' beef'</th>\n",
       "      <th>New Mexico State University</th>\n",
       "      <td>15</td>\n",
       "    </tr>\n",
       "    <tr>\n",
       "      <th>Prairie View A&amp;M University</th>\n",
       "      <td>16</td>\n",
       "    </tr>\n",
       "    <tr>\n",
       "      <th>Texas A&amp;M University</th>\n",
       "      <td>88</td>\n",
       "    </tr>\n",
       "    <tr>\n",
       "      <th rowspan=\"2\" valign=\"top\">' beer'</th>\n",
       "      <th>New Mexico State University</th>\n",
       "      <td>12</td>\n",
       "    </tr>\n",
       "    <tr>\n",
       "      <th>Texas A&amp;M University</th>\n",
       "      <td>8</td>\n",
       "    </tr>\n",
       "    <tr>\n",
       "      <th>' bees '</th>\n",
       "      <th>Texas A&amp;M University</th>\n",
       "      <td>16</td>\n",
       "    </tr>\n",
       "    <tr>\n",
       "      <th>' beet'</th>\n",
       "      <th>Prairie View A&amp;M University</th>\n",
       "      <td>4</td>\n",
       "    </tr>\n",
       "    <tr>\n",
       "      <th>' brew'</th>\n",
       "      <th>New Mexico State University</th>\n",
       "      <td>13</td>\n",
       "    </tr>\n",
       "    <tr>\n",
       "      <th rowspan=\"3\" valign=\"top\">' carbohydrate'</th>\n",
       "      <th>New Mexico State University</th>\n",
       "      <td>15</td>\n",
       "    </tr>\n",
       "    <tr>\n",
       "      <th>Prairie View A&amp;M University</th>\n",
       "      <td>16</td>\n",
       "    </tr>\n",
       "    <tr>\n",
       "      <th>Texas A&amp;M University</th>\n",
       "      <td>86</td>\n",
       "    </tr>\n",
       "    <tr>\n",
       "      <th rowspan=\"2\" valign=\"top\">' carcass'</th>\n",
       "      <th>New Mexico State University</th>\n",
       "      <td>3</td>\n",
       "    </tr>\n",
       "    <tr>\n",
       "      <th>Texas A&amp;M University</th>\n",
       "      <td>32</td>\n",
       "    </tr>\n",
       "    <tr>\n",
       "      <th rowspan=\"3\" valign=\"top\">' cattle'</th>\n",
       "      <th>New Mexico State University</th>\n",
       "      <td>17</td>\n",
       "    </tr>\n",
       "    <tr>\n",
       "      <th>Prairie View A&amp;M University</th>\n",
       "      <td>24</td>\n",
       "    </tr>\n",
       "    <tr>\n",
       "      <th>Texas A&amp;M University</th>\n",
       "      <td>92</td>\n",
       "    </tr>\n",
       "    <tr>\n",
       "      <th rowspan=\"3\" valign=\"top\">' cereal'</th>\n",
       "      <th>New Mexico State University</th>\n",
       "      <td>3</td>\n",
       "    </tr>\n",
       "    <tr>\n",
       "      <th>Prairie View A&amp;M University</th>\n",
       "      <td>1</td>\n",
       "    </tr>\n",
       "    <tr>\n",
       "      <th>Texas A&amp;M University</th>\n",
       "      <td>8</td>\n",
       "    </tr>\n",
       "    <tr>\n",
       "      <th>' chef '</th>\n",
       "      <th>New Mexico State University</th>\n",
       "      <td>3</td>\n",
       "    </tr>\n",
       "  </tbody>\n",
       "</table>\n",
       "</div>"
      ],
      "text/plain": [
       "                                                         Department\n",
       "Keywords                    University Name                        \n",
       "                            Prairie View A&M University           1\n",
       "' FDA '                     Texas A&M University                 24\n",
       "' IPM '                     Texas A&M University                 16\n",
       "' additives '               Prairie View A&M University           4\n",
       "                            Texas A&M University                  8\n",
       "' adult health '            New Mexico State University           3\n",
       "                            Prairie View A&M University          16\n",
       "' african diaspora '        Texas A&M University                 48\n",
       "' agrarian '                New Mexico State University           6\n",
       "                            Texas A&M University                 24\n",
       "' amendment'                New Mexico State University           5\n",
       "                            Prairie View A&M University          12\n",
       "                            Texas A&M University                 36\n",
       "' amino acid'               New Mexico State University           6\n",
       "' animal'                   New Mexico State University         236\n",
       "                            Prairie View A&M University          77\n",
       "                            Texas A&M University                734\n",
       "' anthropogenic '           New Mexico State University           6\n",
       "' apple'                    Prairie View A&M University          17\n",
       "' aquaculture'              Texas A&M University                 36\n",
       "' aquifer '                 New Mexico State University           9\n",
       "                            Texas A&M University                 20\n",
       "' artificial insemination ' Texas A&M University                  8\n",
       "' autecolog'                Texas A&M University                  8\n",
       "' avian '                   New Mexico State University           6\n",
       "                            Texas A&M University                 48\n",
       "' baking '                  New Mexico State University          12\n",
       "                            Texas A&M University                  8\n",
       "' banana'                   Texas A&M University                  8\n",
       "' bee '                     Texas A&M University                  8\n",
       "' beef'                     New Mexico State University          15\n",
       "                            Prairie View A&M University          16\n",
       "                            Texas A&M University                 88\n",
       "' beer'                     New Mexico State University          12\n",
       "                            Texas A&M University                  8\n",
       "' bees '                    Texas A&M University                 16\n",
       "' beet'                     Prairie View A&M University           4\n",
       "' brew'                     New Mexico State University          13\n",
       "' carbohydrate'             New Mexico State University          15\n",
       "                            Prairie View A&M University          16\n",
       "                            Texas A&M University                 86\n",
       "' carcass'                  New Mexico State University           3\n",
       "                            Texas A&M University                 32\n",
       "' cattle'                   New Mexico State University          17\n",
       "                            Prairie View A&M University          24\n",
       "                            Texas A&M University                 92\n",
       "' cereal'                   New Mexico State University           3\n",
       "                            Prairie View A&M University           1\n",
       "                            Texas A&M University                  8\n",
       "' chef '                    New Mexico State University           3"
      ]
     },
     "execution_count": 45,
     "metadata": {},
     "output_type": "execute_result"
    }
   ],
   "source": [
    "frequency_top50_with_uni = full_exploded.groupby([\"Keywords\", \"University Name\"]).count().head(50)\n",
    "frequency_top50_with_uni"
   ]
  },
  {
   "cell_type": "code",
   "execution_count": 46,
   "metadata": {},
   "outputs": [
    {
     "data": {
      "text/html": [
       "<div>\n",
       "<style scoped>\n",
       "    .dataframe tbody tr th:only-of-type {\n",
       "        vertical-align: middle;\n",
       "    }\n",
       "\n",
       "    .dataframe tbody tr th {\n",
       "        vertical-align: top;\n",
       "    }\n",
       "\n",
       "    .dataframe thead th {\n",
       "        text-align: right;\n",
       "    }\n",
       "</style>\n",
       "<table border=\"1\" class=\"dataframe\">\n",
       "  <thead>\n",
       "    <tr style=\"text-align: right;\">\n",
       "      <th></th>\n",
       "      <th>Keywords</th>\n",
       "      <th>University Name</th>\n",
       "      <th>Count</th>\n",
       "      <th>Total Count</th>\n",
       "      <th>Percentage</th>\n",
       "    </tr>\n",
       "  </thead>\n",
       "  <tbody>\n",
       "    <tr>\n",
       "      <th>0</th>\n",
       "      <td></td>\n",
       "      <td>Prairie View A&amp;M University</td>\n",
       "      <td>1</td>\n",
       "      <td>1</td>\n",
       "      <td>100.000000</td>\n",
       "    </tr>\n",
       "    <tr>\n",
       "      <th>1</th>\n",
       "      <td>' FDA '</td>\n",
       "      <td>Texas A&amp;M University</td>\n",
       "      <td>24</td>\n",
       "      <td>24</td>\n",
       "      <td>100.000000</td>\n",
       "    </tr>\n",
       "    <tr>\n",
       "      <th>2</th>\n",
       "      <td>' IPM '</td>\n",
       "      <td>Texas A&amp;M University</td>\n",
       "      <td>16</td>\n",
       "      <td>16</td>\n",
       "      <td>100.000000</td>\n",
       "    </tr>\n",
       "    <tr>\n",
       "      <th>3</th>\n",
       "      <td>' additives '</td>\n",
       "      <td>Prairie View A&amp;M University</td>\n",
       "      <td>4</td>\n",
       "      <td>12</td>\n",
       "      <td>33.333333</td>\n",
       "    </tr>\n",
       "    <tr>\n",
       "      <th>4</th>\n",
       "      <td>' additives '</td>\n",
       "      <td>Texas A&amp;M University</td>\n",
       "      <td>8</td>\n",
       "      <td>12</td>\n",
       "      <td>66.666667</td>\n",
       "    </tr>\n",
       "    <tr>\n",
       "      <th>5</th>\n",
       "      <td>' adult health '</td>\n",
       "      <td>New Mexico State University</td>\n",
       "      <td>3</td>\n",
       "      <td>19</td>\n",
       "      <td>15.789474</td>\n",
       "    </tr>\n",
       "    <tr>\n",
       "      <th>6</th>\n",
       "      <td>' adult health '</td>\n",
       "      <td>Prairie View A&amp;M University</td>\n",
       "      <td>16</td>\n",
       "      <td>19</td>\n",
       "      <td>84.210526</td>\n",
       "    </tr>\n",
       "    <tr>\n",
       "      <th>7</th>\n",
       "      <td>' african diaspora '</td>\n",
       "      <td>Texas A&amp;M University</td>\n",
       "      <td>48</td>\n",
       "      <td>48</td>\n",
       "      <td>100.000000</td>\n",
       "    </tr>\n",
       "    <tr>\n",
       "      <th>8</th>\n",
       "      <td>' agrarian '</td>\n",
       "      <td>New Mexico State University</td>\n",
       "      <td>6</td>\n",
       "      <td>30</td>\n",
       "      <td>20.000000</td>\n",
       "    </tr>\n",
       "    <tr>\n",
       "      <th>9</th>\n",
       "      <td>' agrarian '</td>\n",
       "      <td>Texas A&amp;M University</td>\n",
       "      <td>24</td>\n",
       "      <td>30</td>\n",
       "      <td>80.000000</td>\n",
       "    </tr>\n",
       "    <tr>\n",
       "      <th>11</th>\n",
       "      <td>' amendment'</td>\n",
       "      <td>Prairie View A&amp;M University</td>\n",
       "      <td>12</td>\n",
       "      <td>53</td>\n",
       "      <td>22.641509</td>\n",
       "    </tr>\n",
       "    <tr>\n",
       "      <th>12</th>\n",
       "      <td>' amendment'</td>\n",
       "      <td>Texas A&amp;M University</td>\n",
       "      <td>36</td>\n",
       "      <td>53</td>\n",
       "      <td>67.924528</td>\n",
       "    </tr>\n",
       "    <tr>\n",
       "      <th>10</th>\n",
       "      <td>' amendment'</td>\n",
       "      <td>New Mexico State University</td>\n",
       "      <td>5</td>\n",
       "      <td>53</td>\n",
       "      <td>9.433962</td>\n",
       "    </tr>\n",
       "    <tr>\n",
       "      <th>13</th>\n",
       "      <td>' amino acid'</td>\n",
       "      <td>New Mexico State University</td>\n",
       "      <td>6</td>\n",
       "      <td>6</td>\n",
       "      <td>100.000000</td>\n",
       "    </tr>\n",
       "    <tr>\n",
       "      <th>14</th>\n",
       "      <td>' animal'</td>\n",
       "      <td>New Mexico State University</td>\n",
       "      <td>236</td>\n",
       "      <td>1047</td>\n",
       "      <td>22.540592</td>\n",
       "    </tr>\n",
       "    <tr>\n",
       "      <th>15</th>\n",
       "      <td>' animal'</td>\n",
       "      <td>Prairie View A&amp;M University</td>\n",
       "      <td>77</td>\n",
       "      <td>1047</td>\n",
       "      <td>7.354346</td>\n",
       "    </tr>\n",
       "    <tr>\n",
       "      <th>16</th>\n",
       "      <td>' animal'</td>\n",
       "      <td>Texas A&amp;M University</td>\n",
       "      <td>734</td>\n",
       "      <td>1047</td>\n",
       "      <td>70.105062</td>\n",
       "    </tr>\n",
       "    <tr>\n",
       "      <th>17</th>\n",
       "      <td>' anthropogenic '</td>\n",
       "      <td>New Mexico State University</td>\n",
       "      <td>6</td>\n",
       "      <td>6</td>\n",
       "      <td>100.000000</td>\n",
       "    </tr>\n",
       "    <tr>\n",
       "      <th>18</th>\n",
       "      <td>' apple'</td>\n",
       "      <td>Prairie View A&amp;M University</td>\n",
       "      <td>17</td>\n",
       "      <td>17</td>\n",
       "      <td>100.000000</td>\n",
       "    </tr>\n",
       "    <tr>\n",
       "      <th>19</th>\n",
       "      <td>' aquaculture'</td>\n",
       "      <td>Texas A&amp;M University</td>\n",
       "      <td>36</td>\n",
       "      <td>36</td>\n",
       "      <td>100.000000</td>\n",
       "    </tr>\n",
       "    <tr>\n",
       "      <th>20</th>\n",
       "      <td>' aquifer '</td>\n",
       "      <td>New Mexico State University</td>\n",
       "      <td>9</td>\n",
       "      <td>29</td>\n",
       "      <td>31.034483</td>\n",
       "    </tr>\n",
       "    <tr>\n",
       "      <th>21</th>\n",
       "      <td>' aquifer '</td>\n",
       "      <td>Texas A&amp;M University</td>\n",
       "      <td>20</td>\n",
       "      <td>29</td>\n",
       "      <td>68.965517</td>\n",
       "    </tr>\n",
       "    <tr>\n",
       "      <th>22</th>\n",
       "      <td>' artificial insemination '</td>\n",
       "      <td>Texas A&amp;M University</td>\n",
       "      <td>8</td>\n",
       "      <td>8</td>\n",
       "      <td>100.000000</td>\n",
       "    </tr>\n",
       "    <tr>\n",
       "      <th>23</th>\n",
       "      <td>' autecolog'</td>\n",
       "      <td>Texas A&amp;M University</td>\n",
       "      <td>8</td>\n",
       "      <td>8</td>\n",
       "      <td>100.000000</td>\n",
       "    </tr>\n",
       "    <tr>\n",
       "      <th>25</th>\n",
       "      <td>' avian '</td>\n",
       "      <td>Texas A&amp;M University</td>\n",
       "      <td>48</td>\n",
       "      <td>54</td>\n",
       "      <td>88.888889</td>\n",
       "    </tr>\n",
       "    <tr>\n",
       "      <th>24</th>\n",
       "      <td>' avian '</td>\n",
       "      <td>New Mexico State University</td>\n",
       "      <td>6</td>\n",
       "      <td>54</td>\n",
       "      <td>11.111111</td>\n",
       "    </tr>\n",
       "    <tr>\n",
       "      <th>26</th>\n",
       "      <td>' baking '</td>\n",
       "      <td>New Mexico State University</td>\n",
       "      <td>12</td>\n",
       "      <td>20</td>\n",
       "      <td>60.000000</td>\n",
       "    </tr>\n",
       "    <tr>\n",
       "      <th>27</th>\n",
       "      <td>' baking '</td>\n",
       "      <td>Texas A&amp;M University</td>\n",
       "      <td>8</td>\n",
       "      <td>20</td>\n",
       "      <td>40.000000</td>\n",
       "    </tr>\n",
       "    <tr>\n",
       "      <th>28</th>\n",
       "      <td>' banana'</td>\n",
       "      <td>Texas A&amp;M University</td>\n",
       "      <td>8</td>\n",
       "      <td>8</td>\n",
       "      <td>100.000000</td>\n",
       "    </tr>\n",
       "    <tr>\n",
       "      <th>29</th>\n",
       "      <td>' bee '</td>\n",
       "      <td>Texas A&amp;M University</td>\n",
       "      <td>8</td>\n",
       "      <td>8</td>\n",
       "      <td>100.000000</td>\n",
       "    </tr>\n",
       "    <tr>\n",
       "      <th>30</th>\n",
       "      <td>' beef'</td>\n",
       "      <td>New Mexico State University</td>\n",
       "      <td>15</td>\n",
       "      <td>119</td>\n",
       "      <td>12.605042</td>\n",
       "    </tr>\n",
       "    <tr>\n",
       "      <th>31</th>\n",
       "      <td>' beef'</td>\n",
       "      <td>Prairie View A&amp;M University</td>\n",
       "      <td>16</td>\n",
       "      <td>119</td>\n",
       "      <td>13.445378</td>\n",
       "    </tr>\n",
       "    <tr>\n",
       "      <th>32</th>\n",
       "      <td>' beef'</td>\n",
       "      <td>Texas A&amp;M University</td>\n",
       "      <td>88</td>\n",
       "      <td>119</td>\n",
       "      <td>73.949580</td>\n",
       "    </tr>\n",
       "    <tr>\n",
       "      <th>33</th>\n",
       "      <td>' beer'</td>\n",
       "      <td>New Mexico State University</td>\n",
       "      <td>12</td>\n",
       "      <td>20</td>\n",
       "      <td>60.000000</td>\n",
       "    </tr>\n",
       "    <tr>\n",
       "      <th>34</th>\n",
       "      <td>' beer'</td>\n",
       "      <td>Texas A&amp;M University</td>\n",
       "      <td>8</td>\n",
       "      <td>20</td>\n",
       "      <td>40.000000</td>\n",
       "    </tr>\n",
       "    <tr>\n",
       "      <th>35</th>\n",
       "      <td>' bees '</td>\n",
       "      <td>Texas A&amp;M University</td>\n",
       "      <td>16</td>\n",
       "      <td>16</td>\n",
       "      <td>100.000000</td>\n",
       "    </tr>\n",
       "    <tr>\n",
       "      <th>36</th>\n",
       "      <td>' beet'</td>\n",
       "      <td>Prairie View A&amp;M University</td>\n",
       "      <td>4</td>\n",
       "      <td>4</td>\n",
       "      <td>100.000000</td>\n",
       "    </tr>\n",
       "    <tr>\n",
       "      <th>37</th>\n",
       "      <td>' brew'</td>\n",
       "      <td>New Mexico State University</td>\n",
       "      <td>13</td>\n",
       "      <td>13</td>\n",
       "      <td>100.000000</td>\n",
       "    </tr>\n",
       "    <tr>\n",
       "      <th>38</th>\n",
       "      <td>' carbohydrate'</td>\n",
       "      <td>New Mexico State University</td>\n",
       "      <td>15</td>\n",
       "      <td>117</td>\n",
       "      <td>12.820513</td>\n",
       "    </tr>\n",
       "    <tr>\n",
       "      <th>39</th>\n",
       "      <td>' carbohydrate'</td>\n",
       "      <td>Prairie View A&amp;M University</td>\n",
       "      <td>16</td>\n",
       "      <td>117</td>\n",
       "      <td>13.675214</td>\n",
       "    </tr>\n",
       "    <tr>\n",
       "      <th>40</th>\n",
       "      <td>' carbohydrate'</td>\n",
       "      <td>Texas A&amp;M University</td>\n",
       "      <td>86</td>\n",
       "      <td>117</td>\n",
       "      <td>73.504274</td>\n",
       "    </tr>\n",
       "    <tr>\n",
       "      <th>41</th>\n",
       "      <td>' carcass'</td>\n",
       "      <td>New Mexico State University</td>\n",
       "      <td>3</td>\n",
       "      <td>35</td>\n",
       "      <td>8.571429</td>\n",
       "    </tr>\n",
       "    <tr>\n",
       "      <th>42</th>\n",
       "      <td>' carcass'</td>\n",
       "      <td>Texas A&amp;M University</td>\n",
       "      <td>32</td>\n",
       "      <td>35</td>\n",
       "      <td>91.428571</td>\n",
       "    </tr>\n",
       "    <tr>\n",
       "      <th>43</th>\n",
       "      <td>' cattle'</td>\n",
       "      <td>New Mexico State University</td>\n",
       "      <td>17</td>\n",
       "      <td>133</td>\n",
       "      <td>12.781955</td>\n",
       "    </tr>\n",
       "    <tr>\n",
       "      <th>44</th>\n",
       "      <td>' cattle'</td>\n",
       "      <td>Prairie View A&amp;M University</td>\n",
       "      <td>24</td>\n",
       "      <td>133</td>\n",
       "      <td>18.045113</td>\n",
       "    </tr>\n",
       "    <tr>\n",
       "      <th>45</th>\n",
       "      <td>' cattle'</td>\n",
       "      <td>Texas A&amp;M University</td>\n",
       "      <td>92</td>\n",
       "      <td>133</td>\n",
       "      <td>69.172932</td>\n",
       "    </tr>\n",
       "    <tr>\n",
       "      <th>46</th>\n",
       "      <td>' cereal'</td>\n",
       "      <td>New Mexico State University</td>\n",
       "      <td>3</td>\n",
       "      <td>12</td>\n",
       "      <td>25.000000</td>\n",
       "    </tr>\n",
       "    <tr>\n",
       "      <th>47</th>\n",
       "      <td>' cereal'</td>\n",
       "      <td>Prairie View A&amp;M University</td>\n",
       "      <td>1</td>\n",
       "      <td>12</td>\n",
       "      <td>8.333333</td>\n",
       "    </tr>\n",
       "    <tr>\n",
       "      <th>48</th>\n",
       "      <td>' cereal'</td>\n",
       "      <td>Texas A&amp;M University</td>\n",
       "      <td>8</td>\n",
       "      <td>12</td>\n",
       "      <td>66.666667</td>\n",
       "    </tr>\n",
       "    <tr>\n",
       "      <th>49</th>\n",
       "      <td>' chef '</td>\n",
       "      <td>New Mexico State University</td>\n",
       "      <td>3</td>\n",
       "      <td>3</td>\n",
       "      <td>100.000000</td>\n",
       "    </tr>\n",
       "  </tbody>\n",
       "</table>\n",
       "</div>"
      ],
      "text/plain": [
       "                       Keywords              University Name  Count  \\\n",
       "0                                Prairie View A&M University      1   \n",
       "1                       ' FDA '         Texas A&M University     24   \n",
       "2                       ' IPM '         Texas A&M University     16   \n",
       "3                 ' additives '  Prairie View A&M University      4   \n",
       "4                 ' additives '         Texas A&M University      8   \n",
       "5              ' adult health '  New Mexico State University      3   \n",
       "6              ' adult health '  Prairie View A&M University     16   \n",
       "7          ' african diaspora '         Texas A&M University     48   \n",
       "8                  ' agrarian '  New Mexico State University      6   \n",
       "9                  ' agrarian '         Texas A&M University     24   \n",
       "11                 ' amendment'  Prairie View A&M University     12   \n",
       "12                 ' amendment'         Texas A&M University     36   \n",
       "10                 ' amendment'  New Mexico State University      5   \n",
       "13                ' amino acid'  New Mexico State University      6   \n",
       "14                    ' animal'  New Mexico State University    236   \n",
       "15                    ' animal'  Prairie View A&M University     77   \n",
       "16                    ' animal'         Texas A&M University    734   \n",
       "17            ' anthropogenic '  New Mexico State University      6   \n",
       "18                     ' apple'  Prairie View A&M University     17   \n",
       "19               ' aquaculture'         Texas A&M University     36   \n",
       "20                  ' aquifer '  New Mexico State University      9   \n",
       "21                  ' aquifer '         Texas A&M University     20   \n",
       "22  ' artificial insemination '         Texas A&M University      8   \n",
       "23                 ' autecolog'         Texas A&M University      8   \n",
       "25                    ' avian '         Texas A&M University     48   \n",
       "24                    ' avian '  New Mexico State University      6   \n",
       "26                   ' baking '  New Mexico State University     12   \n",
       "27                   ' baking '         Texas A&M University      8   \n",
       "28                    ' banana'         Texas A&M University      8   \n",
       "29                      ' bee '         Texas A&M University      8   \n",
       "30                      ' beef'  New Mexico State University     15   \n",
       "31                      ' beef'  Prairie View A&M University     16   \n",
       "32                      ' beef'         Texas A&M University     88   \n",
       "33                      ' beer'  New Mexico State University     12   \n",
       "34                      ' beer'         Texas A&M University      8   \n",
       "35                     ' bees '         Texas A&M University     16   \n",
       "36                      ' beet'  Prairie View A&M University      4   \n",
       "37                      ' brew'  New Mexico State University     13   \n",
       "38              ' carbohydrate'  New Mexico State University     15   \n",
       "39              ' carbohydrate'  Prairie View A&M University     16   \n",
       "40              ' carbohydrate'         Texas A&M University     86   \n",
       "41                   ' carcass'  New Mexico State University      3   \n",
       "42                   ' carcass'         Texas A&M University     32   \n",
       "43                    ' cattle'  New Mexico State University     17   \n",
       "44                    ' cattle'  Prairie View A&M University     24   \n",
       "45                    ' cattle'         Texas A&M University     92   \n",
       "46                    ' cereal'  New Mexico State University      3   \n",
       "47                    ' cereal'  Prairie View A&M University      1   \n",
       "48                    ' cereal'         Texas A&M University      8   \n",
       "49                     ' chef '  New Mexico State University      3   \n",
       "\n",
       "    Total Count  Percentage  \n",
       "0             1  100.000000  \n",
       "1            24  100.000000  \n",
       "2            16  100.000000  \n",
       "3            12   33.333333  \n",
       "4            12   66.666667  \n",
       "5            19   15.789474  \n",
       "6            19   84.210526  \n",
       "7            48  100.000000  \n",
       "8            30   20.000000  \n",
       "9            30   80.000000  \n",
       "11           53   22.641509  \n",
       "12           53   67.924528  \n",
       "10           53    9.433962  \n",
       "13            6  100.000000  \n",
       "14         1047   22.540592  \n",
       "15         1047    7.354346  \n",
       "16         1047   70.105062  \n",
       "17            6  100.000000  \n",
       "18           17  100.000000  \n",
       "19           36  100.000000  \n",
       "20           29   31.034483  \n",
       "21           29   68.965517  \n",
       "22            8  100.000000  \n",
       "23            8  100.000000  \n",
       "25           54   88.888889  \n",
       "24           54   11.111111  \n",
       "26           20   60.000000  \n",
       "27           20   40.000000  \n",
       "28            8  100.000000  \n",
       "29            8  100.000000  \n",
       "30          119   12.605042  \n",
       "31          119   13.445378  \n",
       "32          119   73.949580  \n",
       "33           20   60.000000  \n",
       "34           20   40.000000  \n",
       "35           16  100.000000  \n",
       "36            4  100.000000  \n",
       "37           13  100.000000  \n",
       "38          117   12.820513  \n",
       "39          117   13.675214  \n",
       "40          117   73.504274  \n",
       "41           35    8.571429  \n",
       "42           35   91.428571  \n",
       "43          133   12.781955  \n",
       "44          133   18.045113  \n",
       "45          133   69.172932  \n",
       "46           12   25.000000  \n",
       "47           12    8.333333  \n",
       "48           12   66.666667  \n",
       "49            3  100.000000  "
      ]
     },
     "execution_count": 46,
     "metadata": {},
     "output_type": "execute_result"
    }
   ],
   "source": [
    "total_col = frequency_top50_with_uni.groupby('Keywords').sum().rename(columns = {'Department':'Total Count'})\n",
    "with_total_count = frequency_top50_with_uni.reset_index().merge(total_col, left_on = 'Keywords', right_on = 'Keywords', how = 'left')\n",
    "with_total_count['Percentage'] = with_total_count[\"Department\"] / with_total_count['Total Count'] * 100\n",
    "with_total_count = with_total_count.rename(columns = {'Department':'Count'})\n",
    "with_total_count.sort_values('Keywords')"
   ]
  },
  {
   "cell_type": "code",
   "execution_count": 51,
   "metadata": {},
   "outputs": [
    {
     "data": {
      "application/vnd.plotly.v1+json": {
       "config": {
        "plotlyServerURL": "https://plot.ly"
       },
       "data": [
        {
         "alignmentgroup": "True",
         "hovertemplate": "University Name=Prairie View A&M University<br>Keywords=%{x}<br>Count=%{y}<extra></extra>",
         "legendgroup": "Prairie View A&M University",
         "marker": {
          "color": "#636efa"
         },
         "name": "Prairie View A&M University",
         "offsetgroup": "Prairie View A&M University",
         "orientation": "v",
         "showlegend": true,
         "textposition": "auto",
         "type": "bar",
         "x": [
          "",
          "' additives '",
          "' adult health '",
          "' amendment'",
          "' animal'",
          "' apple'",
          "' beef'",
          "' beet'",
          "' carbohydrate'",
          "' cattle'",
          "' cereal'"
         ],
         "xaxis": "x",
         "y": [
          1,
          4,
          16,
          12,
          77,
          17,
          16,
          4,
          16,
          24,
          1
         ],
         "yaxis": "y"
        },
        {
         "alignmentgroup": "True",
         "hovertemplate": "University Name=Texas A&M University<br>Keywords=%{x}<br>Count=%{y}<extra></extra>",
         "legendgroup": "Texas A&M University",
         "marker": {
          "color": "#EF553B"
         },
         "name": "Texas A&M University",
         "offsetgroup": "Texas A&M University",
         "orientation": "v",
         "showlegend": true,
         "textposition": "auto",
         "type": "bar",
         "x": [
          "' FDA '",
          "' IPM '",
          "' additives '",
          "' african diaspora '",
          "' agrarian '",
          "' amendment'",
          "' animal'",
          "' aquaculture'",
          "' aquifer '",
          "' artificial insemination '",
          "' autecolog'",
          "' avian '",
          "' baking '",
          "' banana'",
          "' bee '",
          "' beef'",
          "' beer'",
          "' bees '",
          "' carbohydrate'",
          "' carcass'",
          "' cattle'",
          "' cereal'"
         ],
         "xaxis": "x",
         "y": [
          24,
          16,
          8,
          48,
          24,
          36,
          734,
          36,
          20,
          8,
          8,
          48,
          8,
          8,
          8,
          88,
          8,
          16,
          86,
          32,
          92,
          8
         ],
         "yaxis": "y"
        },
        {
         "alignmentgroup": "True",
         "hovertemplate": "University Name=New Mexico State University<br>Keywords=%{x}<br>Count=%{y}<extra></extra>",
         "legendgroup": "New Mexico State University",
         "marker": {
          "color": "#00cc96"
         },
         "name": "New Mexico State University",
         "offsetgroup": "New Mexico State University",
         "orientation": "v",
         "showlegend": true,
         "textposition": "auto",
         "type": "bar",
         "x": [
          "' adult health '",
          "' agrarian '",
          "' amendment'",
          "' amino acid'",
          "' animal'",
          "' anthropogenic '",
          "' aquifer '",
          "' avian '",
          "' baking '",
          "' beef'",
          "' beer'",
          "' brew'",
          "' carbohydrate'",
          "' carcass'",
          "' cattle'",
          "' cereal'",
          "' chef '"
         ],
         "xaxis": "x",
         "y": [
          3,
          6,
          5,
          6,
          236,
          6,
          9,
          6,
          12,
          15,
          12,
          13,
          15,
          3,
          17,
          3,
          3
         ],
         "yaxis": "y"
        }
       ],
       "layout": {
        "barmode": "relative",
        "legend": {
         "title": {
          "text": "University Name"
         },
         "tracegroupgap": 0
        },
        "template": {
         "data": {
          "bar": [
           {
            "error_x": {
             "color": "#2a3f5f"
            },
            "error_y": {
             "color": "#2a3f5f"
            },
            "marker": {
             "line": {
              "color": "#E5ECF6",
              "width": 0.5
             }
            },
            "type": "bar"
           }
          ],
          "barpolar": [
           {
            "marker": {
             "line": {
              "color": "#E5ECF6",
              "width": 0.5
             }
            },
            "type": "barpolar"
           }
          ],
          "carpet": [
           {
            "aaxis": {
             "endlinecolor": "#2a3f5f",
             "gridcolor": "white",
             "linecolor": "white",
             "minorgridcolor": "white",
             "startlinecolor": "#2a3f5f"
            },
            "baxis": {
             "endlinecolor": "#2a3f5f",
             "gridcolor": "white",
             "linecolor": "white",
             "minorgridcolor": "white",
             "startlinecolor": "#2a3f5f"
            },
            "type": "carpet"
           }
          ],
          "choropleth": [
           {
            "colorbar": {
             "outlinewidth": 0,
             "ticks": ""
            },
            "type": "choropleth"
           }
          ],
          "contour": [
           {
            "colorbar": {
             "outlinewidth": 0,
             "ticks": ""
            },
            "colorscale": [
             [
              0,
              "#0d0887"
             ],
             [
              0.1111111111111111,
              "#46039f"
             ],
             [
              0.2222222222222222,
              "#7201a8"
             ],
             [
              0.3333333333333333,
              "#9c179e"
             ],
             [
              0.4444444444444444,
              "#bd3786"
             ],
             [
              0.5555555555555556,
              "#d8576b"
             ],
             [
              0.6666666666666666,
              "#ed7953"
             ],
             [
              0.7777777777777778,
              "#fb9f3a"
             ],
             [
              0.8888888888888888,
              "#fdca26"
             ],
             [
              1,
              "#f0f921"
             ]
            ],
            "type": "contour"
           }
          ],
          "contourcarpet": [
           {
            "colorbar": {
             "outlinewidth": 0,
             "ticks": ""
            },
            "type": "contourcarpet"
           }
          ],
          "heatmap": [
           {
            "colorbar": {
             "outlinewidth": 0,
             "ticks": ""
            },
            "colorscale": [
             [
              0,
              "#0d0887"
             ],
             [
              0.1111111111111111,
              "#46039f"
             ],
             [
              0.2222222222222222,
              "#7201a8"
             ],
             [
              0.3333333333333333,
              "#9c179e"
             ],
             [
              0.4444444444444444,
              "#bd3786"
             ],
             [
              0.5555555555555556,
              "#d8576b"
             ],
             [
              0.6666666666666666,
              "#ed7953"
             ],
             [
              0.7777777777777778,
              "#fb9f3a"
             ],
             [
              0.8888888888888888,
              "#fdca26"
             ],
             [
              1,
              "#f0f921"
             ]
            ],
            "type": "heatmap"
           }
          ],
          "heatmapgl": [
           {
            "colorbar": {
             "outlinewidth": 0,
             "ticks": ""
            },
            "colorscale": [
             [
              0,
              "#0d0887"
             ],
             [
              0.1111111111111111,
              "#46039f"
             ],
             [
              0.2222222222222222,
              "#7201a8"
             ],
             [
              0.3333333333333333,
              "#9c179e"
             ],
             [
              0.4444444444444444,
              "#bd3786"
             ],
             [
              0.5555555555555556,
              "#d8576b"
             ],
             [
              0.6666666666666666,
              "#ed7953"
             ],
             [
              0.7777777777777778,
              "#fb9f3a"
             ],
             [
              0.8888888888888888,
              "#fdca26"
             ],
             [
              1,
              "#f0f921"
             ]
            ],
            "type": "heatmapgl"
           }
          ],
          "histogram": [
           {
            "marker": {
             "colorbar": {
              "outlinewidth": 0,
              "ticks": ""
             }
            },
            "type": "histogram"
           }
          ],
          "histogram2d": [
           {
            "colorbar": {
             "outlinewidth": 0,
             "ticks": ""
            },
            "colorscale": [
             [
              0,
              "#0d0887"
             ],
             [
              0.1111111111111111,
              "#46039f"
             ],
             [
              0.2222222222222222,
              "#7201a8"
             ],
             [
              0.3333333333333333,
              "#9c179e"
             ],
             [
              0.4444444444444444,
              "#bd3786"
             ],
             [
              0.5555555555555556,
              "#d8576b"
             ],
             [
              0.6666666666666666,
              "#ed7953"
             ],
             [
              0.7777777777777778,
              "#fb9f3a"
             ],
             [
              0.8888888888888888,
              "#fdca26"
             ],
             [
              1,
              "#f0f921"
             ]
            ],
            "type": "histogram2d"
           }
          ],
          "histogram2dcontour": [
           {
            "colorbar": {
             "outlinewidth": 0,
             "ticks": ""
            },
            "colorscale": [
             [
              0,
              "#0d0887"
             ],
             [
              0.1111111111111111,
              "#46039f"
             ],
             [
              0.2222222222222222,
              "#7201a8"
             ],
             [
              0.3333333333333333,
              "#9c179e"
             ],
             [
              0.4444444444444444,
              "#bd3786"
             ],
             [
              0.5555555555555556,
              "#d8576b"
             ],
             [
              0.6666666666666666,
              "#ed7953"
             ],
             [
              0.7777777777777778,
              "#fb9f3a"
             ],
             [
              0.8888888888888888,
              "#fdca26"
             ],
             [
              1,
              "#f0f921"
             ]
            ],
            "type": "histogram2dcontour"
           }
          ],
          "mesh3d": [
           {
            "colorbar": {
             "outlinewidth": 0,
             "ticks": ""
            },
            "type": "mesh3d"
           }
          ],
          "parcoords": [
           {
            "line": {
             "colorbar": {
              "outlinewidth": 0,
              "ticks": ""
             }
            },
            "type": "parcoords"
           }
          ],
          "pie": [
           {
            "automargin": true,
            "type": "pie"
           }
          ],
          "scatter": [
           {
            "marker": {
             "colorbar": {
              "outlinewidth": 0,
              "ticks": ""
             }
            },
            "type": "scatter"
           }
          ],
          "scatter3d": [
           {
            "line": {
             "colorbar": {
              "outlinewidth": 0,
              "ticks": ""
             }
            },
            "marker": {
             "colorbar": {
              "outlinewidth": 0,
              "ticks": ""
             }
            },
            "type": "scatter3d"
           }
          ],
          "scattercarpet": [
           {
            "marker": {
             "colorbar": {
              "outlinewidth": 0,
              "ticks": ""
             }
            },
            "type": "scattercarpet"
           }
          ],
          "scattergeo": [
           {
            "marker": {
             "colorbar": {
              "outlinewidth": 0,
              "ticks": ""
             }
            },
            "type": "scattergeo"
           }
          ],
          "scattergl": [
           {
            "marker": {
             "colorbar": {
              "outlinewidth": 0,
              "ticks": ""
             }
            },
            "type": "scattergl"
           }
          ],
          "scattermapbox": [
           {
            "marker": {
             "colorbar": {
              "outlinewidth": 0,
              "ticks": ""
             }
            },
            "type": "scattermapbox"
           }
          ],
          "scatterpolar": [
           {
            "marker": {
             "colorbar": {
              "outlinewidth": 0,
              "ticks": ""
             }
            },
            "type": "scatterpolar"
           }
          ],
          "scatterpolargl": [
           {
            "marker": {
             "colorbar": {
              "outlinewidth": 0,
              "ticks": ""
             }
            },
            "type": "scatterpolargl"
           }
          ],
          "scatterternary": [
           {
            "marker": {
             "colorbar": {
              "outlinewidth": 0,
              "ticks": ""
             }
            },
            "type": "scatterternary"
           }
          ],
          "surface": [
           {
            "colorbar": {
             "outlinewidth": 0,
             "ticks": ""
            },
            "colorscale": [
             [
              0,
              "#0d0887"
             ],
             [
              0.1111111111111111,
              "#46039f"
             ],
             [
              0.2222222222222222,
              "#7201a8"
             ],
             [
              0.3333333333333333,
              "#9c179e"
             ],
             [
              0.4444444444444444,
              "#bd3786"
             ],
             [
              0.5555555555555556,
              "#d8576b"
             ],
             [
              0.6666666666666666,
              "#ed7953"
             ],
             [
              0.7777777777777778,
              "#fb9f3a"
             ],
             [
              0.8888888888888888,
              "#fdca26"
             ],
             [
              1,
              "#f0f921"
             ]
            ],
            "type": "surface"
           }
          ],
          "table": [
           {
            "cells": {
             "fill": {
              "color": "#EBF0F8"
             },
             "line": {
              "color": "white"
             }
            },
            "header": {
             "fill": {
              "color": "#C8D4E3"
             },
             "line": {
              "color": "white"
             }
            },
            "type": "table"
           }
          ]
         },
         "layout": {
          "annotationdefaults": {
           "arrowcolor": "#2a3f5f",
           "arrowhead": 0,
           "arrowwidth": 1
          },
          "coloraxis": {
           "colorbar": {
            "outlinewidth": 0,
            "ticks": ""
           }
          },
          "colorscale": {
           "diverging": [
            [
             0,
             "#8e0152"
            ],
            [
             0.1,
             "#c51b7d"
            ],
            [
             0.2,
             "#de77ae"
            ],
            [
             0.3,
             "#f1b6da"
            ],
            [
             0.4,
             "#fde0ef"
            ],
            [
             0.5,
             "#f7f7f7"
            ],
            [
             0.6,
             "#e6f5d0"
            ],
            [
             0.7,
             "#b8e186"
            ],
            [
             0.8,
             "#7fbc41"
            ],
            [
             0.9,
             "#4d9221"
            ],
            [
             1,
             "#276419"
            ]
           ],
           "sequential": [
            [
             0,
             "#0d0887"
            ],
            [
             0.1111111111111111,
             "#46039f"
            ],
            [
             0.2222222222222222,
             "#7201a8"
            ],
            [
             0.3333333333333333,
             "#9c179e"
            ],
            [
             0.4444444444444444,
             "#bd3786"
            ],
            [
             0.5555555555555556,
             "#d8576b"
            ],
            [
             0.6666666666666666,
             "#ed7953"
            ],
            [
             0.7777777777777778,
             "#fb9f3a"
            ],
            [
             0.8888888888888888,
             "#fdca26"
            ],
            [
             1,
             "#f0f921"
            ]
           ],
           "sequentialminus": [
            [
             0,
             "#0d0887"
            ],
            [
             0.1111111111111111,
             "#46039f"
            ],
            [
             0.2222222222222222,
             "#7201a8"
            ],
            [
             0.3333333333333333,
             "#9c179e"
            ],
            [
             0.4444444444444444,
             "#bd3786"
            ],
            [
             0.5555555555555556,
             "#d8576b"
            ],
            [
             0.6666666666666666,
             "#ed7953"
            ],
            [
             0.7777777777777778,
             "#fb9f3a"
            ],
            [
             0.8888888888888888,
             "#fdca26"
            ],
            [
             1,
             "#f0f921"
            ]
           ]
          },
          "colorway": [
           "#636efa",
           "#EF553B",
           "#00cc96",
           "#ab63fa",
           "#FFA15A",
           "#19d3f3",
           "#FF6692",
           "#B6E880",
           "#FF97FF",
           "#FECB52"
          ],
          "font": {
           "color": "#2a3f5f"
          },
          "geo": {
           "bgcolor": "white",
           "lakecolor": "white",
           "landcolor": "#E5ECF6",
           "showlakes": true,
           "showland": true,
           "subunitcolor": "white"
          },
          "hoverlabel": {
           "align": "left"
          },
          "hovermode": "closest",
          "mapbox": {
           "style": "light"
          },
          "paper_bgcolor": "white",
          "plot_bgcolor": "#E5ECF6",
          "polar": {
           "angularaxis": {
            "gridcolor": "white",
            "linecolor": "white",
            "ticks": ""
           },
           "bgcolor": "#E5ECF6",
           "radialaxis": {
            "gridcolor": "white",
            "linecolor": "white",
            "ticks": ""
           }
          },
          "scene": {
           "xaxis": {
            "backgroundcolor": "#E5ECF6",
            "gridcolor": "white",
            "gridwidth": 2,
            "linecolor": "white",
            "showbackground": true,
            "ticks": "",
            "zerolinecolor": "white"
           },
           "yaxis": {
            "backgroundcolor": "#E5ECF6",
            "gridcolor": "white",
            "gridwidth": 2,
            "linecolor": "white",
            "showbackground": true,
            "ticks": "",
            "zerolinecolor": "white"
           },
           "zaxis": {
            "backgroundcolor": "#E5ECF6",
            "gridcolor": "white",
            "gridwidth": 2,
            "linecolor": "white",
            "showbackground": true,
            "ticks": "",
            "zerolinecolor": "white"
           }
          },
          "shapedefaults": {
           "line": {
            "color": "#2a3f5f"
           }
          },
          "ternary": {
           "aaxis": {
            "gridcolor": "white",
            "linecolor": "white",
            "ticks": ""
           },
           "baxis": {
            "gridcolor": "white",
            "linecolor": "white",
            "ticks": ""
           },
           "bgcolor": "#E5ECF6",
           "caxis": {
            "gridcolor": "white",
            "linecolor": "white",
            "ticks": ""
           }
          },
          "title": {
           "x": 0.05
          },
          "xaxis": {
           "automargin": true,
           "gridcolor": "white",
           "linecolor": "white",
           "ticks": "",
           "title": {
            "standoff": 15
           },
           "zerolinecolor": "white",
           "zerolinewidth": 2
          },
          "yaxis": {
           "automargin": true,
           "gridcolor": "white",
           "linecolor": "white",
           "ticks": "",
           "title": {
            "standoff": 15
           },
           "zerolinecolor": "white",
           "zerolinewidth": 2
          }
         }
        },
        "title": {
         "text": "Southwest Region"
        },
        "xaxis": {
         "anchor": "y",
         "domain": [
          0,
          1
         ],
         "title": {
          "text": "Keywords"
         }
        },
        "yaxis": {
         "anchor": "x",
         "domain": [
          0,
          1
         ],
         "title": {
          "text": "Count"
         }
        }
       }
      },
      "text/html": [
       "<div>                            <div id=\"aff40344-7bc4-4043-ae60-4994d218247d\" class=\"plotly-graph-div\" style=\"height:525px; width:100%;\"></div>            <script type=\"text/javascript\">                require([\"plotly\"], function(Plotly) {                    window.PLOTLYENV=window.PLOTLYENV || {};                                    if (document.getElementById(\"aff40344-7bc4-4043-ae60-4994d218247d\")) {                    Plotly.newPlot(                        \"aff40344-7bc4-4043-ae60-4994d218247d\",                        [{\"alignmentgroup\": \"True\", \"hovertemplate\": \"University Name=Prairie View A&M University<br>Keywords=%{x}<br>Count=%{y}<extra></extra>\", \"legendgroup\": \"Prairie View A&M University\", \"marker\": {\"color\": \"#636efa\"}, \"name\": \"Prairie View A&M University\", \"offsetgroup\": \"Prairie View A&M University\", \"orientation\": \"v\", \"showlegend\": true, \"textposition\": \"auto\", \"type\": \"bar\", \"x\": [\"\", \"' additives '\", \"' adult health '\", \"' amendment'\", \"' animal'\", \"' apple'\", \"' beef'\", \"' beet'\", \"' carbohydrate'\", \"' cattle'\", \"' cereal'\"], \"xaxis\": \"x\", \"y\": [1, 4, 16, 12, 77, 17, 16, 4, 16, 24, 1], \"yaxis\": \"y\"}, {\"alignmentgroup\": \"True\", \"hovertemplate\": \"University Name=Texas A&M University<br>Keywords=%{x}<br>Count=%{y}<extra></extra>\", \"legendgroup\": \"Texas A&M University\", \"marker\": {\"color\": \"#EF553B\"}, \"name\": \"Texas A&M University\", \"offsetgroup\": \"Texas A&M University\", \"orientation\": \"v\", \"showlegend\": true, \"textposition\": \"auto\", \"type\": \"bar\", \"x\": [\"' FDA '\", \"' IPM '\", \"' additives '\", \"' african diaspora '\", \"' agrarian '\", \"' amendment'\", \"' animal'\", \"' aquaculture'\", \"' aquifer '\", \"' artificial insemination '\", \"' autecolog'\", \"' avian '\", \"' baking '\", \"' banana'\", \"' bee '\", \"' beef'\", \"' beer'\", \"' bees '\", \"' carbohydrate'\", \"' carcass'\", \"' cattle'\", \"' cereal'\"], \"xaxis\": \"x\", \"y\": [24, 16, 8, 48, 24, 36, 734, 36, 20, 8, 8, 48, 8, 8, 8, 88, 8, 16, 86, 32, 92, 8], \"yaxis\": \"y\"}, {\"alignmentgroup\": \"True\", \"hovertemplate\": \"University Name=New Mexico State University<br>Keywords=%{x}<br>Count=%{y}<extra></extra>\", \"legendgroup\": \"New Mexico State University\", \"marker\": {\"color\": \"#00cc96\"}, \"name\": \"New Mexico State University\", \"offsetgroup\": \"New Mexico State University\", \"orientation\": \"v\", \"showlegend\": true, \"textposition\": \"auto\", \"type\": \"bar\", \"x\": [\"' adult health '\", \"' agrarian '\", \"' amendment'\", \"' amino acid'\", \"' animal'\", \"' anthropogenic '\", \"' aquifer '\", \"' avian '\", \"' baking '\", \"' beef'\", \"' beer'\", \"' brew'\", \"' carbohydrate'\", \"' carcass'\", \"' cattle'\", \"' cereal'\", \"' chef '\"], \"xaxis\": \"x\", \"y\": [3, 6, 5, 6, 236, 6, 9, 6, 12, 15, 12, 13, 15, 3, 17, 3, 3], \"yaxis\": \"y\"}],                        {\"barmode\": \"relative\", \"legend\": {\"title\": {\"text\": \"University Name\"}, \"tracegroupgap\": 0}, \"template\": {\"data\": {\"bar\": [{\"error_x\": {\"color\": \"#2a3f5f\"}, \"error_y\": {\"color\": \"#2a3f5f\"}, \"marker\": {\"line\": {\"color\": \"#E5ECF6\", \"width\": 0.5}}, \"type\": \"bar\"}], \"barpolar\": [{\"marker\": {\"line\": {\"color\": \"#E5ECF6\", \"width\": 0.5}}, \"type\": \"barpolar\"}], \"carpet\": [{\"aaxis\": {\"endlinecolor\": \"#2a3f5f\", \"gridcolor\": \"white\", \"linecolor\": \"white\", \"minorgridcolor\": \"white\", \"startlinecolor\": \"#2a3f5f\"}, \"baxis\": {\"endlinecolor\": \"#2a3f5f\", \"gridcolor\": \"white\", \"linecolor\": \"white\", \"minorgridcolor\": \"white\", \"startlinecolor\": \"#2a3f5f\"}, \"type\": \"carpet\"}], \"choropleth\": [{\"colorbar\": {\"outlinewidth\": 0, \"ticks\": \"\"}, \"type\": \"choropleth\"}], \"contour\": [{\"colorbar\": {\"outlinewidth\": 0, \"ticks\": \"\"}, \"colorscale\": [[0.0, \"#0d0887\"], [0.1111111111111111, \"#46039f\"], [0.2222222222222222, \"#7201a8\"], [0.3333333333333333, \"#9c179e\"], [0.4444444444444444, \"#bd3786\"], [0.5555555555555556, \"#d8576b\"], [0.6666666666666666, \"#ed7953\"], [0.7777777777777778, \"#fb9f3a\"], [0.8888888888888888, \"#fdca26\"], [1.0, \"#f0f921\"]], \"type\": \"contour\"}], \"contourcarpet\": [{\"colorbar\": {\"outlinewidth\": 0, \"ticks\": \"\"}, \"type\": \"contourcarpet\"}], \"heatmap\": [{\"colorbar\": {\"outlinewidth\": 0, \"ticks\": \"\"}, \"colorscale\": [[0.0, \"#0d0887\"], [0.1111111111111111, \"#46039f\"], [0.2222222222222222, \"#7201a8\"], [0.3333333333333333, \"#9c179e\"], [0.4444444444444444, \"#bd3786\"], [0.5555555555555556, \"#d8576b\"], [0.6666666666666666, \"#ed7953\"], [0.7777777777777778, \"#fb9f3a\"], [0.8888888888888888, \"#fdca26\"], [1.0, \"#f0f921\"]], \"type\": \"heatmap\"}], \"heatmapgl\": [{\"colorbar\": {\"outlinewidth\": 0, \"ticks\": \"\"}, \"colorscale\": [[0.0, \"#0d0887\"], [0.1111111111111111, \"#46039f\"], [0.2222222222222222, \"#7201a8\"], [0.3333333333333333, \"#9c179e\"], [0.4444444444444444, \"#bd3786\"], [0.5555555555555556, \"#d8576b\"], [0.6666666666666666, \"#ed7953\"], [0.7777777777777778, \"#fb9f3a\"], [0.8888888888888888, \"#fdca26\"], [1.0, \"#f0f921\"]], \"type\": \"heatmapgl\"}], \"histogram\": [{\"marker\": {\"colorbar\": {\"outlinewidth\": 0, \"ticks\": \"\"}}, \"type\": \"histogram\"}], \"histogram2d\": [{\"colorbar\": {\"outlinewidth\": 0, \"ticks\": \"\"}, \"colorscale\": [[0.0, \"#0d0887\"], [0.1111111111111111, \"#46039f\"], [0.2222222222222222, \"#7201a8\"], [0.3333333333333333, \"#9c179e\"], [0.4444444444444444, \"#bd3786\"], [0.5555555555555556, \"#d8576b\"], [0.6666666666666666, \"#ed7953\"], [0.7777777777777778, \"#fb9f3a\"], [0.8888888888888888, \"#fdca26\"], [1.0, \"#f0f921\"]], \"type\": \"histogram2d\"}], \"histogram2dcontour\": [{\"colorbar\": {\"outlinewidth\": 0, \"ticks\": \"\"}, \"colorscale\": [[0.0, \"#0d0887\"], [0.1111111111111111, \"#46039f\"], [0.2222222222222222, \"#7201a8\"], [0.3333333333333333, \"#9c179e\"], [0.4444444444444444, \"#bd3786\"], [0.5555555555555556, \"#d8576b\"], [0.6666666666666666, \"#ed7953\"], [0.7777777777777778, \"#fb9f3a\"], [0.8888888888888888, \"#fdca26\"], [1.0, \"#f0f921\"]], \"type\": \"histogram2dcontour\"}], \"mesh3d\": [{\"colorbar\": {\"outlinewidth\": 0, \"ticks\": \"\"}, \"type\": \"mesh3d\"}], \"parcoords\": [{\"line\": {\"colorbar\": {\"outlinewidth\": 0, \"ticks\": \"\"}}, \"type\": \"parcoords\"}], \"pie\": [{\"automargin\": true, \"type\": \"pie\"}], \"scatter\": [{\"marker\": {\"colorbar\": {\"outlinewidth\": 0, \"ticks\": \"\"}}, \"type\": \"scatter\"}], \"scatter3d\": [{\"line\": {\"colorbar\": {\"outlinewidth\": 0, \"ticks\": \"\"}}, \"marker\": {\"colorbar\": {\"outlinewidth\": 0, \"ticks\": \"\"}}, \"type\": \"scatter3d\"}], \"scattercarpet\": [{\"marker\": {\"colorbar\": {\"outlinewidth\": 0, \"ticks\": \"\"}}, \"type\": \"scattercarpet\"}], \"scattergeo\": [{\"marker\": {\"colorbar\": {\"outlinewidth\": 0, \"ticks\": \"\"}}, \"type\": \"scattergeo\"}], \"scattergl\": [{\"marker\": {\"colorbar\": {\"outlinewidth\": 0, \"ticks\": \"\"}}, \"type\": \"scattergl\"}], \"scattermapbox\": [{\"marker\": {\"colorbar\": {\"outlinewidth\": 0, \"ticks\": \"\"}}, \"type\": \"scattermapbox\"}], \"scatterpolar\": [{\"marker\": {\"colorbar\": {\"outlinewidth\": 0, \"ticks\": \"\"}}, \"type\": \"scatterpolar\"}], \"scatterpolargl\": [{\"marker\": {\"colorbar\": {\"outlinewidth\": 0, \"ticks\": \"\"}}, \"type\": \"scatterpolargl\"}], \"scatterternary\": [{\"marker\": {\"colorbar\": {\"outlinewidth\": 0, \"ticks\": \"\"}}, \"type\": \"scatterternary\"}], \"surface\": [{\"colorbar\": {\"outlinewidth\": 0, \"ticks\": \"\"}, \"colorscale\": [[0.0, \"#0d0887\"], [0.1111111111111111, \"#46039f\"], [0.2222222222222222, \"#7201a8\"], [0.3333333333333333, \"#9c179e\"], [0.4444444444444444, \"#bd3786\"], [0.5555555555555556, \"#d8576b\"], [0.6666666666666666, \"#ed7953\"], [0.7777777777777778, \"#fb9f3a\"], [0.8888888888888888, \"#fdca26\"], [1.0, \"#f0f921\"]], \"type\": \"surface\"}], \"table\": [{\"cells\": {\"fill\": {\"color\": \"#EBF0F8\"}, \"line\": {\"color\": \"white\"}}, \"header\": {\"fill\": {\"color\": \"#C8D4E3\"}, \"line\": {\"color\": \"white\"}}, \"type\": \"table\"}]}, \"layout\": {\"annotationdefaults\": {\"arrowcolor\": \"#2a3f5f\", \"arrowhead\": 0, \"arrowwidth\": 1}, \"coloraxis\": {\"colorbar\": {\"outlinewidth\": 0, \"ticks\": \"\"}}, \"colorscale\": {\"diverging\": [[0, \"#8e0152\"], [0.1, \"#c51b7d\"], [0.2, \"#de77ae\"], [0.3, \"#f1b6da\"], [0.4, \"#fde0ef\"], [0.5, \"#f7f7f7\"], [0.6, \"#e6f5d0\"], [0.7, \"#b8e186\"], [0.8, \"#7fbc41\"], [0.9, \"#4d9221\"], [1, \"#276419\"]], \"sequential\": [[0.0, \"#0d0887\"], [0.1111111111111111, \"#46039f\"], [0.2222222222222222, \"#7201a8\"], [0.3333333333333333, \"#9c179e\"], [0.4444444444444444, \"#bd3786\"], [0.5555555555555556, \"#d8576b\"], [0.6666666666666666, \"#ed7953\"], [0.7777777777777778, \"#fb9f3a\"], [0.8888888888888888, \"#fdca26\"], [1.0, \"#f0f921\"]], \"sequentialminus\": [[0.0, \"#0d0887\"], [0.1111111111111111, \"#46039f\"], [0.2222222222222222, \"#7201a8\"], [0.3333333333333333, \"#9c179e\"], [0.4444444444444444, \"#bd3786\"], [0.5555555555555556, \"#d8576b\"], [0.6666666666666666, \"#ed7953\"], [0.7777777777777778, \"#fb9f3a\"], [0.8888888888888888, \"#fdca26\"], [1.0, \"#f0f921\"]]}, \"colorway\": [\"#636efa\", \"#EF553B\", \"#00cc96\", \"#ab63fa\", \"#FFA15A\", \"#19d3f3\", \"#FF6692\", \"#B6E880\", \"#FF97FF\", \"#FECB52\"], \"font\": {\"color\": \"#2a3f5f\"}, \"geo\": {\"bgcolor\": \"white\", \"lakecolor\": \"white\", \"landcolor\": \"#E5ECF6\", \"showlakes\": true, \"showland\": true, \"subunitcolor\": \"white\"}, \"hoverlabel\": {\"align\": \"left\"}, \"hovermode\": \"closest\", \"mapbox\": {\"style\": \"light\"}, \"paper_bgcolor\": \"white\", \"plot_bgcolor\": \"#E5ECF6\", \"polar\": {\"angularaxis\": {\"gridcolor\": \"white\", \"linecolor\": \"white\", \"ticks\": \"\"}, \"bgcolor\": \"#E5ECF6\", \"radialaxis\": {\"gridcolor\": \"white\", \"linecolor\": \"white\", \"ticks\": \"\"}}, \"scene\": {\"xaxis\": {\"backgroundcolor\": \"#E5ECF6\", \"gridcolor\": \"white\", \"gridwidth\": 2, \"linecolor\": \"white\", \"showbackground\": true, \"ticks\": \"\", \"zerolinecolor\": \"white\"}, \"yaxis\": {\"backgroundcolor\": \"#E5ECF6\", \"gridcolor\": \"white\", \"gridwidth\": 2, \"linecolor\": \"white\", \"showbackground\": true, \"ticks\": \"\", \"zerolinecolor\": \"white\"}, \"zaxis\": {\"backgroundcolor\": \"#E5ECF6\", \"gridcolor\": \"white\", \"gridwidth\": 2, \"linecolor\": \"white\", \"showbackground\": true, \"ticks\": \"\", \"zerolinecolor\": \"white\"}}, \"shapedefaults\": {\"line\": {\"color\": \"#2a3f5f\"}}, \"ternary\": {\"aaxis\": {\"gridcolor\": \"white\", \"linecolor\": \"white\", \"ticks\": \"\"}, \"baxis\": {\"gridcolor\": \"white\", \"linecolor\": \"white\", \"ticks\": \"\"}, \"bgcolor\": \"#E5ECF6\", \"caxis\": {\"gridcolor\": \"white\", \"linecolor\": \"white\", \"ticks\": \"\"}}, \"title\": {\"x\": 0.05}, \"xaxis\": {\"automargin\": true, \"gridcolor\": \"white\", \"linecolor\": \"white\", \"ticks\": \"\", \"title\": {\"standoff\": 15}, \"zerolinecolor\": \"white\", \"zerolinewidth\": 2}, \"yaxis\": {\"automargin\": true, \"gridcolor\": \"white\", \"linecolor\": \"white\", \"ticks\": \"\", \"title\": {\"standoff\": 15}, \"zerolinecolor\": \"white\", \"zerolinewidth\": 2}}}, \"title\": {\"text\": \"Southwest Region\"}, \"xaxis\": {\"anchor\": \"y\", \"domain\": [0.0, 1.0], \"title\": {\"text\": \"Keywords\"}}, \"yaxis\": {\"anchor\": \"x\", \"domain\": [0.0, 1.0], \"title\": {\"text\": \"Count\"}}},                        {\"responsive\": true}                    ).then(function(){\n",
       "                            \n",
       "var gd = document.getElementById('aff40344-7bc4-4043-ae60-4994d218247d');\n",
       "var x = new MutationObserver(function (mutations, observer) {{\n",
       "        var display = window.getComputedStyle(gd).display;\n",
       "        if (!display || display === 'none') {{\n",
       "            console.log([gd, 'removed!']);\n",
       "            Plotly.purge(gd);\n",
       "            observer.disconnect();\n",
       "        }}\n",
       "}});\n",
       "\n",
       "// Listen for the removal of the full notebook cells\n",
       "var notebookContainer = gd.closest('#notebook-container');\n",
       "if (notebookContainer) {{\n",
       "    x.observe(notebookContainer, {childList: true});\n",
       "}}\n",
       "\n",
       "// Listen for the clearing of the current output cell\n",
       "var outputEl = gd.closest('.output');\n",
       "if (outputEl) {{\n",
       "    x.observe(outputEl, {childList: true});\n",
       "}}\n",
       "\n",
       "                        })                };                });            </script>        </div>"
      ]
     },
     "metadata": {},
     "output_type": "display_data"
    }
   ],
   "source": [
    "fig = px.bar(with_total_count, x=\"Keywords\", y=\"Count\",color = 'University Name', title=\"Southwest Region\")\n",
    "fig.show()"
   ]
  },
  {
   "cell_type": "code",
   "execution_count": 50,
   "metadata": {},
   "outputs": [],
   "source": [
    "with pd.ExcelWriter('Southwest_EDA.xlsx') as writer:\n",
    "    frequency_top50.to_excel(writer, sheet_name='Top 50 keywords')\n",
    "    frequency_top50_with_uni.to_excel(writer, sheet_name='Top 50 keywords in each school')\n",
    "    with_total_count.to_excel(writer, sheet_name='Percentage of word among region')"
   ]
  },
  {
   "cell_type": "code",
   "execution_count": null,
   "metadata": {},
   "outputs": [],
   "source": []
  }
 ],
 "metadata": {
  "kernelspec": {
   "display_name": "Python 3",
   "language": "python",
   "name": "python3"
  },
  "language_info": {
   "codemirror_mode": {
    "name": "ipython",
    "version": 3
   },
   "file_extension": ".py",
   "mimetype": "text/x-python",
   "name": "python",
   "nbconvert_exporter": "python",
   "pygments_lexer": "ipython3",
   "version": "3.7.7"
  }
 },
 "nbformat": 4,
 "nbformat_minor": 2
}
